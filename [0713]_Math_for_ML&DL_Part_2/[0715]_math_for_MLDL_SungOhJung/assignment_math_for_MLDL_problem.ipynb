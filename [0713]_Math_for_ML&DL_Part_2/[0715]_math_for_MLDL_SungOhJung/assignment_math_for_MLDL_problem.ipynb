{
 "cells": [
  {
   "cell_type": "markdown",
   "metadata": {},
   "source": [
    "#### 2023-2 DSL 정규세션 과제\n",
    "##### ML/DL을 위한 수학 1, 2\n",
    " - 작성자 : 서연우, 김서진\n",
    " - 과제 제출 기한 : 2023.07.22 (토) 11:59\n",
    " ---"
   ]
  },
  {
   "cell_type": "markdown",
   "metadata": {},
   "source": [
    "\n",
    "- 이름 : 정성오\n",
    "- 기수 : 10기"
   ]
  },
  {
   "cell_type": "markdown",
   "metadata": {},
   "source": [
    "##### Q1. 아래 행렬 A를 보고 물음에 답하세요. (과정은 수기로 작성 후 pdf로 업로드해주세요.)"
   ]
  },
  {
   "cell_type": "code",
   "execution_count": 2,
   "metadata": {},
   "outputs": [
    {
     "name": "stdout",
     "output_type": "stream",
     "text": [
      "[[1 0 1]\n",
      " [0 2 3]\n",
      " [0 0 3]]\n"
     ]
    }
   ],
   "source": [
    "import numpy as np\n",
    "\n",
    "A = np.array([[1, 0, 1],\n",
    "              [0, 2, 3],\n",
    "              [0, 0, 3]])\n",
    "\n",
    "print(A)"
   ]
  },
  {
   "cell_type": "markdown",
   "metadata": {},
   "source": [
    "(1) 다음 행렬의 determinant를 구하고, 기하학적으로 어떤 의미를 갖는지 서술하시오."
   ]
  },
  {
   "cell_type": "markdown",
   "metadata": {},
   "source": [
    "(2) A의 eigenvalue, eigenvector를 각각 찾고 각각의 의미를 서술하시오."
   ]
  },
  {
   "cell_type": "markdown",
   "metadata": {},
   "source": [
    "##### Q2. Matrix B 에 대해 diagonalization을 시행하고 그 과정을 서술하시오."
   ]
  },
  {
   "cell_type": "code",
   "execution_count": 3,
   "metadata": {},
   "outputs": [
    {
     "name": "stdout",
     "output_type": "stream",
     "text": [
      "[[0 0 0]\n",
      " [0 0 0]\n",
      " [3 0 1]]\n"
     ]
    }
   ],
   "source": [
    "B = np.array([[0, 0, 0],\n",
    "              [0, 0, 0],\n",
    "              [3, 0, 1]])\n",
    "\n",
    "print(B)"
   ]
  },
  {
   "cell_type": "markdown",
   "metadata": {},
   "source": [
    "##### Q3. 아래 문제를 읽고 해결하시오.\n",
    "메일 시스템에서 스팸 필터링을 담당하는 베이즈 필터가 있습니다. 이 필터는 메일이 스팸일 확률을 계산하기 위해 베이즈 정리를 사용합니다. 베이즈 필터는 다음의 약률을 알고 있습니다:\n",
    "- 메일 시스템에 도착하는 메일 중 스팸 메일의 비율(p(Spam))은 20%입니다.\n",
    "- 스팸 메일 중에서 '당첨'이라는 단어를 포항하는 비율(P('당첨' | Spam))은 50% 입니다.\n",
    "- 스팸이 아닌 정상 메일 중에서 '당첨'이라는 단어를 포함하는 비율(P('당첨' | Not Spam))은 1%입니다.\n",
    "\n",
    "어느 날, 메일 시스템에 '당첨'이라는 단어를 포함하는 메일이 도착했습니다. 이 메일이 스팸일 확률을 베이즈 정리를 이용하여 계산하십시오"
   ]
  },
  {
   "cell_type": "markdown",
   "metadata": {},
   "source": [
    "##### Q4. 야구 경기에서 타자가 스윙을 치는 경우, 그 결과는 안타와 아웃 두가지 중 하나가 될 수 있습니다. (홈런도 안타로 간주합니다.) 이 때, 타자의 스윙 결과를 예측하는 모델을 만들고자 이전 타자들의 기록을 수집했습니다. 그 결과는 hit.csv의 결과와 같습니다. 아래 3문제를 hit.csv의 결과를 바탕으로 해결해주세요. (계산 결과는 소수점 셋째자리까지 반올림하여 표현해주세요.)\n"
   ]
  },
  {
   "cell_type": "markdown",
   "metadata": {},
   "source": [
    "(1) 스윙 결과의 분포는 어떤 분포의 일종입니다. 이 분포가 어떤 분포인지 말하고, 해당 분포의 엔트로피를 코드로 작성해 계산하여 그 값을 plot으로 그려주세요. \n",
    "###간단하게, 앞면과 뒷면이 나올 확률이 같은 동전을 던졌을 때, 앞면이 나올 확률에 대한 엔트로피를 plot으로 그려주세요."
   ]
  },
  {
   "cell_type": "markdown",
   "metadata": {},
   "source": [
    "정답: 베르누이 분포<br>\n",
    "X: 타자의 스윙 결과 (0: out, 1: hit)<br>\n",
    "$X \\sim Bern(\\theta)$<br>\n",
    "$$H[X] = -p(1)\\ln(p(1)) - p(0)\\ln(p(0))$$\n",
    "$$= -\\theta\\ln\\theta - (1-\\theta)ln(1-\\theta)$$\n"
   ]
  },
  {
   "cell_type": "code",
   "execution_count": 17,
   "metadata": {},
   "outputs": [
    {
     "data": {
      "image/png": "[encoded data removed]",
      "text/plain": [
       "<Figure size 640x480 with 1 Axes>"
      ]
     },
     "metadata": {},
     "output_type": "display_data"
    }
   ],
   "source": [
    "# 엔트로피를 코드로 계산하고 이를 시각화하기\n",
    "import matplotlib.pyplot as plt\n",
    "\n",
    "ps = np.linspace(0,1,100)\n",
    "entropy = -ps*np.log(ps+1e-10) - (1-ps)*np.log(1-ps+1e-10)\n",
    "\n",
    "plt.figure()\n",
    "plt.plot(ps,entropy)\n",
    "plt.xlabel(\"p\")\n",
    "plt.ylabel('entropy')\n",
    "plt.show()\n"
   ]
  },
  {
   "cell_type": "markdown",
   "metadata": {},
   "source": [
    "(2) hit.csv의 엔트로피를 코드를 사용하지 말고 손으로 계산하세요.(과정은 수기로 작성 후 pdf로 업로드해주세요.)"
   ]
  },
  {
   "cell_type": "code",
   "execution_count": 19,
   "metadata": {},
   "outputs": [
    {
     "data": {
      "text/html": [
       "<div>\n",
       "<style scoped>\n",
       "    .dataframe tbody tr th:only-of-type {\n",
       "        vertical-align: middle;\n",
       "    }\n",
       "\n",
       "    .dataframe tbody tr th {\n",
       "        vertical-align: top;\n",
       "    }\n",
       "\n",
       "    .dataframe thead th {\n",
       "        text-align: right;\n",
       "    }\n",
       "</style>\n",
       "<table border=\"1\" class=\"dataframe\">\n",
       "  <thead>\n",
       "    <tr style=\"text-align: right;\">\n",
       "      <th></th>\n",
       "      <th>스윙 결과</th>\n",
       "    </tr>\n",
       "    <tr>\n",
       "      <th>타자</th>\n",
       "      <th></th>\n",
       "    </tr>\n",
       "  </thead>\n",
       "  <tbody>\n",
       "    <tr>\n",
       "      <th>1</th>\n",
       "      <td>Hit</td>\n",
       "    </tr>\n",
       "    <tr>\n",
       "      <th>2</th>\n",
       "      <td>Hit</td>\n",
       "    </tr>\n",
       "    <tr>\n",
       "      <th>3</th>\n",
       "      <td>Out</td>\n",
       "    </tr>\n",
       "    <tr>\n",
       "      <th>4</th>\n",
       "      <td>Hit</td>\n",
       "    </tr>\n",
       "    <tr>\n",
       "      <th>5</th>\n",
       "      <td>Out</td>\n",
       "    </tr>\n",
       "    <tr>\n",
       "      <th>6</th>\n",
       "      <td>Hit</td>\n",
       "    </tr>\n",
       "    <tr>\n",
       "      <th>7</th>\n",
       "      <td>Hit</td>\n",
       "    </tr>\n",
       "    <tr>\n",
       "      <th>8</th>\n",
       "      <td>Out</td>\n",
       "    </tr>\n",
       "    <tr>\n",
       "      <th>9</th>\n",
       "      <td>Out</td>\n",
       "    </tr>\n",
       "    <tr>\n",
       "      <th>10</th>\n",
       "      <td>Hit</td>\n",
       "    </tr>\n",
       "    <tr>\n",
       "      <th>11</th>\n",
       "      <td>Hit</td>\n",
       "    </tr>\n",
       "    <tr>\n",
       "      <th>12</th>\n",
       "      <td>Hit</td>\n",
       "    </tr>\n",
       "    <tr>\n",
       "      <th>13</th>\n",
       "      <td>Out</td>\n",
       "    </tr>\n",
       "    <tr>\n",
       "      <th>14</th>\n",
       "      <td>Out</td>\n",
       "    </tr>\n",
       "    <tr>\n",
       "      <th>15</th>\n",
       "      <td>Hit</td>\n",
       "    </tr>\n",
       "  </tbody>\n",
       "</table>\n",
       "</div>"
      ],
      "text/plain": [
       "   스윙 결과\n",
       "타자      \n",
       "1    Hit\n",
       "2    Hit\n",
       "3    Out\n",
       "4    Hit\n",
       "5    Out\n",
       "6    Hit\n",
       "7    Hit\n",
       "8    Out\n",
       "9    Out\n",
       "10   Hit\n",
       "11   Hit\n",
       "12   Hit\n",
       "13   Out\n",
       "14   Out\n",
       "15   Hit"
      ]
     },
     "execution_count": 19,
     "metadata": {},
     "output_type": "execute_result"
    }
   ],
   "source": [
    "import pandas as pd\n",
    "# 디렉토리 설정하여 데이터 로드\n",
    "hit = pd.read_csv(r'C:\\Users\\sjung\\Desktop\\Data_Science_Lab\\정규세션\\20230713_머신러닝_딥러닝을_위한_수학2\\[230715]_assignment_Math_for_MLDL\\hit.csv', index_col=0)\n",
    "hit"
   ]
  },
  {
   "cell_type": "code",
   "execution_count": 21,
   "metadata": {},
   "outputs": [
    {
     "data": {
      "text/plain": [
       "0.6730116670092565"
      ]
     },
     "execution_count": 21,
     "metadata": {},
     "output_type": "execute_result"
    }
   ],
   "source": [
    "p = 9/15\n",
    "-p*np.log(p) - (1-p)*np.log(1-p)"
   ]
  },
  {
   "cell_type": "markdown",
   "metadata": {},
   "source": [
    "(3) 계산하던 중, 다른 팀의 타자 기록을 얻게 되었습니다. 이 기록을 hit_other.csv에 저장해두었습니다. 첫번째 팀에 대해, 첫번째 팀과 두번째 팀의 스윙 결과 데이터 분포의 차이를 손으로 계산하세요. (과정은 수기로 작성 후 pdf로 업로드해주세요.)"
   ]
  },
  {
   "cell_type": "code",
   "execution_count": 20,
   "metadata": {},
   "outputs": [
    {
     "data": {
      "text/html": [
       "<div>\n",
       "<style scoped>\n",
       "    .dataframe tbody tr th:only-of-type {\n",
       "        vertical-align: middle;\n",
       "    }\n",
       "\n",
       "    .dataframe tbody tr th {\n",
       "        vertical-align: top;\n",
       "    }\n",
       "\n",
       "    .dataframe thead th {\n",
       "        text-align: right;\n",
       "    }\n",
       "</style>\n",
       "<table border=\"1\" class=\"dataframe\">\n",
       "  <thead>\n",
       "    <tr style=\"text-align: right;\">\n",
       "      <th></th>\n",
       "      <th>스윙 결과</th>\n",
       "    </tr>\n",
       "    <tr>\n",
       "      <th>타자</th>\n",
       "      <th></th>\n",
       "    </tr>\n",
       "  </thead>\n",
       "  <tbody>\n",
       "    <tr>\n",
       "      <th>1</th>\n",
       "      <td>Out</td>\n",
       "    </tr>\n",
       "    <tr>\n",
       "      <th>2</th>\n",
       "      <td>Hit</td>\n",
       "    </tr>\n",
       "    <tr>\n",
       "      <th>3</th>\n",
       "      <td>Out</td>\n",
       "    </tr>\n",
       "    <tr>\n",
       "      <th>4</th>\n",
       "      <td>Out</td>\n",
       "    </tr>\n",
       "    <tr>\n",
       "      <th>5</th>\n",
       "      <td>Out</td>\n",
       "    </tr>\n",
       "    <tr>\n",
       "      <th>6</th>\n",
       "      <td>Hit</td>\n",
       "    </tr>\n",
       "    <tr>\n",
       "      <th>7</th>\n",
       "      <td>Hit</td>\n",
       "    </tr>\n",
       "    <tr>\n",
       "      <th>8</th>\n",
       "      <td>Out</td>\n",
       "    </tr>\n",
       "    <tr>\n",
       "      <th>9</th>\n",
       "      <td>Out</td>\n",
       "    </tr>\n",
       "    <tr>\n",
       "      <th>10</th>\n",
       "      <td>Out</td>\n",
       "    </tr>\n",
       "    <tr>\n",
       "      <th>11</th>\n",
       "      <td>Hit</td>\n",
       "    </tr>\n",
       "    <tr>\n",
       "      <th>12</th>\n",
       "      <td>Out</td>\n",
       "    </tr>\n",
       "    <tr>\n",
       "      <th>13</th>\n",
       "      <td>Out</td>\n",
       "    </tr>\n",
       "    <tr>\n",
       "      <th>14</th>\n",
       "      <td>Out</td>\n",
       "    </tr>\n",
       "    <tr>\n",
       "      <th>15</th>\n",
       "      <td>Out</td>\n",
       "    </tr>\n",
       "  </tbody>\n",
       "</table>\n",
       "</div>"
      ],
      "text/plain": [
       "   스윙 결과\n",
       "타자      \n",
       "1    Out\n",
       "2    Hit\n",
       "3    Out\n",
       "4    Out\n",
       "5    Out\n",
       "6    Hit\n",
       "7    Hit\n",
       "8    Out\n",
       "9    Out\n",
       "10   Out\n",
       "11   Hit\n",
       "12   Out\n",
       "13   Out\n",
       "14   Out\n",
       "15   Out"
      ]
     },
     "execution_count": 20,
     "metadata": {},
     "output_type": "execute_result"
    }
   ],
   "source": [
    "# 디렉토리 설정하여 데이터 로드\n",
    "hit_other = pd.read_csv(r'C:\\Users\\sjung\\Desktop\\Data_Science_Lab\\정규세션\\20230713_머신러닝_딥러닝을_위한_수학2\\[230715]_assignment_Math_for_MLDL\\hit_other.csv', index_col=0)\n",
    "hit_other"
   ]
  },
  {
   "cell_type": "code",
   "execution_count": 22,
   "metadata": {},
   "outputs": [
    {
     "data": {
      "text/plain": [
       "0.48655812972979723"
      ]
     },
     "execution_count": 22,
     "metadata": {},
     "output_type": "execute_result"
    }
   ],
   "source": [
    "p1 = 9/15\n",
    "p2 = 4/15\n",
    "p1*np.log(p1/p2)\n"
   ]
  },
  {
   "cell_type": "markdown",
   "metadata": {},
   "source": [
    "##### Q4. Logistic Regression의 Convex optimization 과정을 서술해주세요. (과정은 수기로 작성 후 pdf로 업로드해주세요.)"
   ]
  }
 ],
 "metadata": {
  "kernelspec": {
   "display_name": "Python 3",
   "language": "python",
   "name": "python3"
  },
  "language_info": {
   "codemirror_mode": {
    "name": "ipython",
    "version": 3
   },
   "file_extension": ".py",
   "mimetype": "text/x-python",
   "name": "python",
   "nbconvert_exporter": "python",
   "pygments_lexer": "ipython3",
   "version": "3.10.9"
  },
  "orig_nbformat": 4
 },
 "nbformat": 4,
 "nbformat_minor": 2
}
