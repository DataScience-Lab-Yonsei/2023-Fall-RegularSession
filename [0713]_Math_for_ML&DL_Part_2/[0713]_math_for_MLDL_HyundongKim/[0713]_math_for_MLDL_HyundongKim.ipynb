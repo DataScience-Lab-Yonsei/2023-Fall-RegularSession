{
  "cells": [
    {
      "cell_type": "markdown",
      "metadata": {
        "id": "Fx0bvA88nGJ8"
      },
      "source": [
        "#### 2023-2 DSL 정규세션 과제\n",
        "##### ML/DL을 위한 수학 1, 2\n",
        " - 작성자 : 서연우, 김서진\n",
        " - 과제 제출 기한 : 2023.07.22 (토) 11:59\n",
        " ---"
      ]
    },
    {
      "cell_type": "markdown",
      "metadata": {
        "id": "uKCsVM5qnGKA"
      },
      "source": [
        "\n",
        "- 이름 : 김현동\n",
        "- 기수 : 9기"
      ]
    },
    {
      "cell_type": "markdown",
      "metadata": {
        "id": "KQzVlG9YnGKA"
      },
      "source": [
        "##### Q1. 아래 행렬 A를 보고 물음에 답하세요. (과정은 수기로 작성 후 pdf로 업로드해주세요.)"
      ]
    },
    {
      "cell_type": "code",
      "execution_count": null,
      "metadata": {
        "id": "37YhTbPunGKA",
        "outputId": "3d205c35-1292-4a6b-996a-73a8f51f771d"
      },
      "outputs": [
        {
          "name": "stdout",
          "output_type": "stream",
          "text": [
            "[[1 0 1]\n",
            " [0 2 3]\n",
            " [0 0 3]]\n"
          ]
        }
      ],
      "source": [
        "import numpy as np\n",
        "\n",
        "A = np.array([[1, 0, 1],\n",
        "              [0, 2, 3],\n",
        "              [0, 0, 3]])\n",
        "\n",
        "print(A)"
      ]
    },
    {
      "cell_type": "markdown",
      "metadata": {
        "id": "j3GgAhAnnGKC"
      },
      "source": [
        "(1) 다음 행렬의 determinant를 구하고, 기하학적으로 어떤 의미를 갖는지 서술하시오."
      ]
    },
    {
      "cell_type": "markdown",
      "metadata": {
        "id": "9YQIPOrVnGKC"
      },
      "source": [
        "(2) A의 eigenvalue, eigenvector를 각각 찾고 각각의 의미를 서술하시오."
      ]
    },
    {
      "cell_type": "markdown",
      "metadata": {
        "id": "O220fWITnGKD"
      },
      "source": [
        "##### Q2. Matrix B 에 대해 diagonalization을 시행하고 그 과정을 서술하시오."
      ]
    },
    {
      "cell_type": "code",
      "execution_count": null,
      "metadata": {
        "id": "gyk87OGNnGKD",
        "outputId": "b619a179-237c-4e3b-f27d-15e5b932fded"
      },
      "outputs": [
        {
          "name": "stdout",
          "output_type": "stream",
          "text": [
            "[[0 0 0]\n",
            " [0 0 0]\n",
            " [3 0 1]]\n"
          ]
        }
      ],
      "source": [
        "B = np.array([[0, 0, 0],\n",
        "              [0, 0, 0],\n",
        "              [3, 0, 1]])\n",
        "\n",
        "print(B)"
      ]
    },
    {
      "cell_type": "markdown",
      "metadata": {
        "id": "47UswF8qnGKD"
      },
      "source": [
        "##### Q3. 아래 문제를 읽고 해결하시오.\n",
        "메일 시스템에서 스팸 필터링을 담당하는 베이즈 필터가 있습니다. 이 필터는 메일이 스팸일 확률을 계산하기 위해 베이즈 정리를 사용합니다. 베이즈 필터는 다음의 약률을 알고 있습니다:\n",
        "- 메일 시스템에 도착하는 메일 중 스팸 메일의 비율(p(Spam))은 20%입니다.\n",
        "- 스팸 메일 중에서 '당첨'이라는 단어를 포항하는 비율(P('당첨' | Spam))은 50% 입니다.\n",
        "- 스팸이 아닌 정상 메일 중에서 '당첨'이라는 단어를 포함하는 비율(P('당첨' | Not Spam))은 1%입니다.\n",
        "\n",
        "어느 날, 메일 시스템에 '당첨'이라는 단어를 포함하는 메일이 도착했습니다. 이 메일이 스팸일 확률을 베이즈 정리를 이용하여 계산하십시오"
      ]
    },
    {
      "cell_type": "markdown",
      "metadata": {
        "id": "4LOLHPIRnGKE"
      },
      "source": [
        "##### Q4. 야구 경기에서 타자가 스윙을 치는 경우, 그 결과는 안타와 아웃 두가지 중 하나가 될 수 있습니다. (홈런도 안타로 간주합니다.) 이 때, 타자의 스윙 결과를 예측하는 모델을 만들고자 이전 타자들의 기록을 수집했습니다. 그 결과는 hit.csv의 결과와 같습니다. 아래 3문제를 hit.csv의 결과를 바탕으로 해결해주세요. (계산 결과는 소수점 셋째자리까지 반올림하여 표현해주세요.)\n"
      ]
    },
    {
      "cell_type": "markdown",
      "metadata": {
        "id": "aopOsd1znGKE"
      },
      "source": [
        "(1) 스윙 결과의 분포는 어떤 분포의 일종입니다. 이 분포가 어떤 분포인지 말하고, 해당 분포의 엔트로피를 코드로 작성해 계산하여 그 값을 plot으로 그려주세요.\n",
        "###간단하게, 앞면과 뒷면이 나올 확률이 같은 동전을 던졌을 때, 앞면이 나올 확률에 대한 엔트로피를 plot으로 그려주세요."
      ]
    },
    {
      "cell_type": "code",
      "source": [
        "from google.colab import drive\n",
        "drive.mount('/content/drive')"
      ],
      "metadata": {
        "colab": {
          "base_uri": "https://localhost:8080/"
        },
        "id": "vlaz-9bjQgQq",
        "outputId": "2826bb2b-4cd4-4beb-bb3a-3d2ffef25f32"
      },
      "execution_count": 1,
      "outputs": [
        {
          "output_type": "stream",
          "name": "stdout",
          "text": [
            "Mounted at /content/drive\n"
          ]
        }
      ]
    },
    {
      "cell_type": "code",
      "execution_count": null,
      "metadata": {
        "id": "OSvpxx1pnGKE"
      },
      "outputs": [],
      "source": [
        "# 엔트로피를 코드로 계산하고 이를 시각화하기"
      ]
    },
    {
      "cell_type": "code",
      "source": [
        "import numpy as np\n",
        "import matplotlib.pyplot as plt\n",
        "\n",
        "def entropy(p):\n",
        "    q = 1 - p\n",
        "    if p == 0 or q == 0:\n",
        "        return 0\n",
        "    else:\n",
        "        return -p * np.log2(p) - q * np.log2(q)\n",
        "\n",
        "# 앞면이 나올 확률 범위\n",
        "p_values = np.linspace(0, 1, 100)\n",
        "\n",
        "# 엔트로피 계산\n",
        "entropies = [entropy(p) for p in p_values]\n",
        "\n",
        "# 그래프 그리기\n",
        "plt.plot(p_values, entropies)\n",
        "plt.xlabel('Probability of Head')\n",
        "plt.ylabel('Entropy')\n",
        "plt.title('Entropy of Coin Tossing')\n",
        "plt.grid(True)\n",
        "plt.show()"
      ],
      "metadata": {
        "colab": {
          "base_uri": "https://localhost:8080/",
          "height": 472
        },
        "id": "xPTcNfgjQ6tD",
        "outputId": "d546bd21-8a86-40ba-b8bd-1375929ff920"
      },
      "execution_count": 8,
      "outputs": [
        {
          "output_type": "display_data",
          "data": {
            "text/plain": [
              "<Figure size 640x480 with 1 Axes>"
            ],
            "image/png": "[encoded data removed]"
          },
          "metadata": {}
        }
      ]
    },
    {
      "cell_type": "markdown",
      "metadata": {
        "id": "3AudjFB3nGKE"
      },
      "source": [
        "(2) hit.csv의 엔트로피를 코드를 사용하지 말고 손으로 계산하세요.(과정은 수기로 작성 후 pdf로 업로드해주세요.)"
      ]
    },
    {
      "cell_type": "code",
      "execution_count": 5,
      "metadata": {
        "colab": {
          "base_uri": "https://localhost:8080/",
          "height": 892
        },
        "id": "0lhkK4LFnGKF",
        "outputId": "044d42a4-1455-426a-b457-92ba21e711bf"
      },
      "outputs": [
        {
          "output_type": "execute_result",
          "data": {
            "text/plain": [
              "   스윙 결과\n",
              "타자      \n",
              "1    Hit\n",
              "2    Hit\n",
              "3    Out\n",
              "4    Hit\n",
              "5    Out\n",
              "6    Hit\n",
              "7    Hit\n",
              "8    Out\n",
              "9    Out\n",
              "10   Hit\n",
              "11   Hit\n",
              "12   Hit\n",
              "13   Out\n",
              "14   Out\n",
              "15   Hit"
            ],
            "text/html": [
              "\n",
              "\n",
              "  <div id=\"df-15648bc4-6983-4f5b-bfe6-f6352329e9fb\">\n",
              "    <div class=\"colab-df-container\">\n",
              "      <div>\n",
              "<style scoped>\n",
              "    .dataframe tbody tr th:only-of-type {\n",
              "        vertical-align: middle;\n",
              "    }\n",
              "\n",
              "    .dataframe tbody tr th {\n",
              "        vertical-align: top;\n",
              "    }\n",
              "\n",
              "    .dataframe thead th {\n",
              "        text-align: right;\n",
              "    }\n",
              "</style>\n",
              "<table border=\"1\" class=\"dataframe\">\n",
              "  <thead>\n",
              "    <tr style=\"text-align: right;\">\n",
              "      <th></th>\n",
              "      <th>스윙 결과</th>\n",
              "    </tr>\n",
              "    <tr>\n",
              "      <th>타자</th>\n",
              "      <th></th>\n",
              "    </tr>\n",
              "  </thead>\n",
              "  <tbody>\n",
              "    <tr>\n",
              "      <th>1</th>\n",
              "      <td>Hit</td>\n",
              "    </tr>\n",
              "    <tr>\n",
              "      <th>2</th>\n",
              "      <td>Hit</td>\n",
              "    </tr>\n",
              "    <tr>\n",
              "      <th>3</th>\n",
              "      <td>Out</td>\n",
              "    </tr>\n",
              "    <tr>\n",
              "      <th>4</th>\n",
              "      <td>Hit</td>\n",
              "    </tr>\n",
              "    <tr>\n",
              "      <th>5</th>\n",
              "      <td>Out</td>\n",
              "    </tr>\n",
              "    <tr>\n",
              "      <th>6</th>\n",
              "      <td>Hit</td>\n",
              "    </tr>\n",
              "    <tr>\n",
              "      <th>7</th>\n",
              "      <td>Hit</td>\n",
              "    </tr>\n",
              "    <tr>\n",
              "      <th>8</th>\n",
              "      <td>Out</td>\n",
              "    </tr>\n",
              "    <tr>\n",
              "      <th>9</th>\n",
              "      <td>Out</td>\n",
              "    </tr>\n",
              "    <tr>\n",
              "      <th>10</th>\n",
              "      <td>Hit</td>\n",
              "    </tr>\n",
              "    <tr>\n",
              "      <th>11</th>\n",
              "      <td>Hit</td>\n",
              "    </tr>\n",
              "    <tr>\n",
              "      <th>12</th>\n",
              "      <td>Hit</td>\n",
              "    </tr>\n",
              "    <tr>\n",
              "      <th>13</th>\n",
              "      <td>Out</td>\n",
              "    </tr>\n",
              "    <tr>\n",
              "      <th>14</th>\n",
              "      <td>Out</td>\n",
              "    </tr>\n",
              "    <tr>\n",
              "      <th>15</th>\n",
              "      <td>Hit</td>\n",
              "    </tr>\n",
              "  </tbody>\n",
              "</table>\n",
              "</div>\n",
              "      <button class=\"colab-df-convert\" onclick=\"convertToInteractive('df-15648bc4-6983-4f5b-bfe6-f6352329e9fb')\"\n",
              "              title=\"Convert this dataframe to an interactive table.\"\n",
              "              style=\"display:none;\">\n",
              "\n",
              "  <svg xmlns=\"http://www.w3.org/2000/svg\" height=\"24px\"viewBox=\"0 0 24 24\"\n",
              "       width=\"24px\">\n",
              "    <path d=\"M0 0h24v24H0V0z\" fill=\"none\"/>\n",
              "    <path d=\"M18.56 5.44l.94 2.06.94-2.06 2.06-.94-2.06-.94-.94-2.06-.94 2.06-2.06.94zm-11 1L8.5 8.5l.94-2.06 2.06-.94-2.06-.94L8.5 2.5l-.94 2.06-2.06.94zm10 10l.94 2.06.94-2.06 2.06-.94-2.06-.94-.94-2.06-.94 2.06-2.06.94z\"/><path d=\"M17.41 7.96l-1.37-1.37c-.4-.4-.92-.59-1.43-.59-.52 0-1.04.2-1.43.59L10.3 9.45l-7.72 7.72c-.78.78-.78 2.05 0 2.83L4 21.41c.39.39.9.59 1.41.59.51 0 1.02-.2 1.41-.59l7.78-7.78 2.81-2.81c.8-.78.8-2.07 0-2.86zM5.41 20L4 18.59l7.72-7.72 1.47 1.35L5.41 20z\"/>\n",
              "  </svg>\n",
              "      </button>\n",
              "\n",
              "\n",
              "\n",
              "    <div id=\"df-da0c0acd-dbb9-4f6b-b5a6-b14c4f1b9b13\">\n",
              "      <button class=\"colab-df-quickchart\" onclick=\"quickchart('df-da0c0acd-dbb9-4f6b-b5a6-b14c4f1b9b13')\"\n",
              "              title=\"Suggest charts.\"\n",
              "              style=\"display:none;\">\n",
              "\n",
              "<svg xmlns=\"http://www.w3.org/2000/svg\" height=\"24px\"viewBox=\"0 0 24 24\"\n",
              "     width=\"24px\">\n",
              "    <g>\n",
              "        <path d=\"M19 3H5c-1.1 0-2 .9-2 2v14c0 1.1.9 2 2 2h14c1.1 0 2-.9 2-2V5c0-1.1-.9-2-2-2zM9 17H7v-7h2v7zm4 0h-2V7h2v10zm4 0h-2v-4h2v4z\"/>\n",
              "    </g>\n",
              "</svg>\n",
              "      </button>\n",
              "    </div>\n",
              "\n",
              "<style>\n",
              "  .colab-df-quickchart {\n",
              "    background-color: #E8F0FE;\n",
              "    border: none;\n",
              "    border-radius: 50%;\n",
              "    cursor: pointer;\n",
              "    display: none;\n",
              "    fill: #1967D2;\n",
              "    height: 32px;\n",
              "    padding: 0 0 0 0;\n",
              "    width: 32px;\n",
              "  }\n",
              "\n",
              "  .colab-df-quickchart:hover {\n",
              "    background-color: #E2EBFA;\n",
              "    box-shadow: 0px 1px 2px rgba(60, 64, 67, 0.3), 0px 1px 3px 1px rgba(60, 64, 67, 0.15);\n",
              "    fill: #174EA6;\n",
              "  }\n",
              "\n",
              "  [theme=dark] .colab-df-quickchart {\n",
              "    background-color: #3B4455;\n",
              "    fill: #D2E3FC;\n",
              "  }\n",
              "\n",
              "  [theme=dark] .colab-df-quickchart:hover {\n",
              "    background-color: #434B5C;\n",
              "    box-shadow: 0px 1px 3px 1px rgba(0, 0, 0, 0.15);\n",
              "    filter: drop-shadow(0px 1px 2px rgba(0, 0, 0, 0.3));\n",
              "    fill: #FFFFFF;\n",
              "  }\n",
              "</style>\n",
              "\n",
              "    <script>\n",
              "      async function quickchart(key) {\n",
              "        const containerElement = document.querySelector('#' + key);\n",
              "        const charts = await google.colab.kernel.invokeFunction(\n",
              "            'suggestCharts', [key], {});\n",
              "      }\n",
              "    </script>\n",
              "\n",
              "      <script>\n",
              "\n",
              "function displayQuickchartButton(domScope) {\n",
              "  let quickchartButtonEl =\n",
              "    domScope.querySelector('#df-da0c0acd-dbb9-4f6b-b5a6-b14c4f1b9b13 button.colab-df-quickchart');\n",
              "  quickchartButtonEl.style.display =\n",
              "    google.colab.kernel.accessAllowed ? 'block' : 'none';\n",
              "}\n",
              "\n",
              "        displayQuickchartButton(document);\n",
              "      </script>\n",
              "      <style>\n",
              "    .colab-df-container {\n",
              "      display:flex;\n",
              "      flex-wrap:wrap;\n",
              "      gap: 12px;\n",
              "    }\n",
              "\n",
              "    .colab-df-convert {\n",
              "      background-color: #E8F0FE;\n",
              "      border: none;\n",
              "      border-radius: 50%;\n",
              "      cursor: pointer;\n",
              "      display: none;\n",
              "      fill: #1967D2;\n",
              "      height: 32px;\n",
              "      padding: 0 0 0 0;\n",
              "      width: 32px;\n",
              "    }\n",
              "\n",
              "    .colab-df-convert:hover {\n",
              "      background-color: #E2EBFA;\n",
              "      box-shadow: 0px 1px 2px rgba(60, 64, 67, 0.3), 0px 1px 3px 1px rgba(60, 64, 67, 0.15);\n",
              "      fill: #174EA6;\n",
              "    }\n",
              "\n",
              "    [theme=dark] .colab-df-convert {\n",
              "      background-color: #3B4455;\n",
              "      fill: #D2E3FC;\n",
              "    }\n",
              "\n",
              "    [theme=dark] .colab-df-convert:hover {\n",
              "      background-color: #434B5C;\n",
              "      box-shadow: 0px 1px 3px 1px rgba(0, 0, 0, 0.15);\n",
              "      filter: drop-shadow(0px 1px 2px rgba(0, 0, 0, 0.3));\n",
              "      fill: #FFFFFF;\n",
              "    }\n",
              "  </style>\n",
              "\n",
              "      <script>\n",
              "        const buttonEl =\n",
              "          document.querySelector('#df-15648bc4-6983-4f5b-bfe6-f6352329e9fb button.colab-df-convert');\n",
              "        buttonEl.style.display =\n",
              "          google.colab.kernel.accessAllowed ? 'block' : 'none';\n",
              "\n",
              "        async function convertToInteractive(key) {\n",
              "          const element = document.querySelector('#df-15648bc4-6983-4f5b-bfe6-f6352329e9fb');\n",
              "          const dataTable =\n",
              "            await google.colab.kernel.invokeFunction('convertToInteractive',\n",
              "                                                     [key], {});\n",
              "          if (!dataTable) return;\n",
              "\n",
              "          const docLinkHtml = 'Like what you see? Visit the ' +\n",
              "            '<a target=\"_blank\" href=https://colab.research.google.com/notebooks/data_table.ipynb>data table notebook</a>'\n",
              "            + ' to learn more about interactive tables.';\n",
              "          element.innerHTML = '';\n",
              "          dataTable['output_type'] = 'display_data';\n",
              "          await google.colab.output.renderOutput(dataTable, element);\n",
              "          const docLink = document.createElement('div');\n",
              "          docLink.innerHTML = docLinkHtml;\n",
              "          element.appendChild(docLink);\n",
              "        }\n",
              "      </script>\n",
              "    </div>\n",
              "  </div>\n"
            ]
          },
          "metadata": {},
          "execution_count": 5
        },
        {
          "output_type": "stream",
          "name": "stderr",
          "text": [
            "/usr/local/lib/python3.10/dist-packages/google/colab/_quickchart_lib.py:25: UserWarning: Glyph 49828 (\\N{HANGUL SYLLABLE SEU}) missing from current font.\n",
            "  plt.savefig(f, bbox_inches='tight')\n",
            "/usr/local/lib/python3.10/dist-packages/google/colab/_quickchart_lib.py:25: UserWarning: Glyph 50969 (\\N{HANGUL SYLLABLE WING}) missing from current font.\n",
            "  plt.savefig(f, bbox_inches='tight')\n",
            "/usr/local/lib/python3.10/dist-packages/google/colab/_quickchart_lib.py:25: UserWarning: Glyph 44208 (\\N{HANGUL SYLLABLE GYEOL}) missing from current font.\n",
            "  plt.savefig(f, bbox_inches='tight')\n",
            "/usr/local/lib/python3.10/dist-packages/google/colab/_quickchart_lib.py:25: UserWarning: Glyph 44284 (\\N{HANGUL SYLLABLE GWA}) missing from current font.\n",
            "  plt.savefig(f, bbox_inches='tight')\n"
          ]
        },
        {
          "output_type": "display_data",
          "data": {
            "text/plain": [
              "<google.colab._quickchart_helpers.SectionTitle at 0x788379759270>"
            ],
            "text/html": [
              "<h4 class=\"colab-quickchart-section-title\">Categorical distributions</h4>\n",
              "<style>\n",
              "  .colab-quickchart-section-title {\n",
              "      clear: both;\n",
              "  }\n",
              "</style>"
            ]
          },
          "metadata": {}
        },
        {
          "output_type": "display_data",
          "data": {
            "text/plain": [
              "import numpy as np\n",
              "from google.colab import autoviz\n",
              "df_8104212785036351367 = autoviz.get_registered_df('df_8104212785036351367')\n",
              "\n",
              "def categorical_histogram(df, colname, figsize=(2, 1.2), mpl_palette_name='Dark2'):\n",
              "  from matplotlib import pyplot as plt\n",
              "  import seaborn as sns\n",
              "  _, ax = plt.subplots(figsize=figsize)\n",
              "  bars = df[colname].value_counts()\n",
              "  plt.barh(bars.index, bars.values, color=sns.palettes.mpl_palette(mpl_palette_name))\n",
              "  plt.title(colname)\n",
              "  ax.spines[['top', 'right',]].set_visible(False)\n",
              "  return autoviz.MplChart.from_current_mpl_state()\n",
              "\n",
              "chart = categorical_histogram(df_8104212785036351367, *['스윙 결과'], **{})\n",
              "chart"
            ],
            "text/html": [
              "      <div class=\"colab-quickchart-chart-with-code\" id=\"chart-f1557a23-c98b-497d-b285-8165571a0c2b\">\n",
              "        <img src=\"data:image/png;base64,iVBORw0KGgoAAAANSUhEUgAAAMwAAACWCAYAAACSN2djAAAAOXRFWHRTb2Z0d2FyZQBNYXRwbG90\n",
              "bGliIHZlcnNpb24zLjcuMSwgaHR0cHM6Ly9tYXRwbG90bGliLm9yZy/bCgiHAAAACXBIWXMAAA9h\n",
              "AAAPYQGoP6dpAAAJbElEQVR4nO3da0hU+x7G8cdjNXTTjpUyh7ycMe2qM5qKFYeMQ+yie72oV+ZW\n",
              "urwI6hBdhDRTyKiMoqBBsOxGVFQWiEG9kISCjDIpCOwy6gkrTzXTTUcd/+dFNO3VTNZvq7OWu+cD\n",
              "A3vW+s/Mz7X9NjNelkFKKQUi+il/03sAooGEwRAJMBgiAQZDJMBgiAQYDJEAgyESYDBEAgyGSIDB\n",
              "EAkM0nsA+qq8vBxFRUUYO3asZntrayvy8vIAoMf9WVlZmu0OhwOpqamIjY3VbHe73bBarSgoKOhx\n",
              "f3l5ed98YH8hDMZg/H3i//ET90f7vzV//nyf/Q6HAwUFBT+1n7T4koxIgMEQCTAYIgEGQyTAYIgE\n",
              "GAyRAIMhEmAwRAL8xqXBFBUVwW63a7Z9+53+nvZ/q7KyEunp6ZptX76T/zP7SSuIZ40h+nl8SUYk\n",
              "wGCIBBgMkQCDIRJgMEQChg/m4MGDeo9A5GX4YBobG/UegcjL8MEQGQmDIRIw/Hf6f58ShNxUdq23\n",
              "+HKP3iMYAj8TiQQYDJEAgyESYDBEAgyGSIDBEAkwGCIBBkMkwGCIBBgMkQCDIRJgMEQCDIZIgMEQ\n",
              "CYiD6ejowNatWzF+/HhMmjQJCQkJOH78+A9v53Q6sXv37j81JJFRiE8Vm5WVBbfbjfv372P48OFw\n",
              "OByYN28eurq6kJOT893bfQlm27ZtvRqYSE+iZ5iGhgZUVFSgtLQUw4cPBwDExMSgpKQEO3fuRHV1\n",
              "NWw2m3f9gwcPEBMTAwBYt24d3r9/D5vNhpSUlD77AIgCSfQMc+/ePcTFxWH06NGa7dOnT0dzczNa\n",
              "W1u/e1u73Q6bzYa6urrvrnG73XC73Zptnm7JhET9y1Bv+ouLixEaGqq51P9P76mIvhIFk5SUhIaG\n",
              "Brx+/Vqz/datW4iMjITZbIbH8/V3v9vb20XD5ObmwuVyaS6JY0R3QdSvRMHExcVh4cKFWLNmDT59\n",
              "+gQAcDgc2LRpE/Ly8mCxWNDY2Oh9aXby5EnvbUNCQtDW1oaOjo7v3r/JZEJISIjmEmyo50D61Ym/\n",
              "SnbixAls374dCQkJGDJkCIKDg7F582ZkZ2cDALZs2YK0tDRERERg3rx53tuFhYUhMzMTiYmJGDFi\n",
              "BO7cudN3HwVRgPA0S/RTeJqlz/iZSCTAYIgEGAyRAIMhEmAwRAIMhkiAwRAJMBgiAQZDJMBgiAQY\n",
              "DJEAgyESYDBEAuIf7w+0v//2H8Tv36/3GEQA+AxDJMJgiAQYDJEAgyESYDBEAgyGSIDBEAkwGCIB\n",
              "BkMkYPjzko34LRWjVv5b7zHoL+K/v/fubxTxGYZIgMEQCTAYIgEGQyTAYIgEGAyRAIMhEmAwRAIM\n",
              "hkiAwRAJMBgiAQZDJMBgiAQYDJFAr4OJiYlBXV2dZltGRgYqKiqQn5+P06dPAwCqq6tx9erV3j4c\n",
              "ka769cyXhYWF3v+urq6G0+nE3Llz+/MhifpVvwaTlZUFm82GjIwM2O12eDweVFdXY9myZcjPz/dZ\n",
              "73a74Xa7tRs9hv79NvrF9EkwK1aswNChQ73XHz9+rNlvs9mwbt06OJ1OHDhw4Lv3U1xcjJ07d2q2\n",
              "Dbb8oy9GJOoTffKm/+zZs6irq/NeUlJS/tT95ObmwuVyaS5D/mnuixGJ+oShzt5vMplgMpm0G4OD\n",
              "9BmGyI+AfVk5JCQELpcrUA9H1C8CFszSpUtRV1cHm82m+eoZ0UDC0yzRL4WnWSIKIAZDJMBgiAQY\n",
              "DJEAgyESYDBEAgyGSIDBEAkwGCIBBkMkwGCIBBgMkQCDIRIw1C+Q+bNmyr+wv5c/YUrUV/gMQyTA\n",
              "YIgEGAyRgKHfw7jdblRVVcHj8SA4OFjvcfzyeDy4ffs20tLSOGMvGGHG6OhobNiwocc1hv4V5Xfv\n",
              "3iE0NBQulwshISF6j+MXZ+wbA2FGgC/JiEQYDJEAgyESMHQwJpMJO3bs8D0bpoFwxr4xEGYEDP6m\n",
              "n8hoDP0MQ2Q0DIZIgMEQCRgimIaGBsyYMQPx8fFITU3Fw4cP/a4rKytDXFwcYmNjsXr1anR2dgZk\n",
              "vvb2dixZsgTx8fGwWq2YM2eOzx+NAgCHw4Hg4GDYbDbv5cmTJwGZEfj890YnTJjgfeyzZ8/6XafX\n",
              "cXz9+rXm2MTHx2PQoEF48+aNZp3ex7FHygBmz56tjh07ppRS6vz58yolJcVnzdOnT5XZbFYtLS2q\n",
              "u7tbLVy4UB0+fDgg87W1tanKykrV3d2tlFLq0KFDatasWT7rnj17pkJDQwMykz/R0dHq3r17Pa7R\n",
              "8zh+a+/evWrBggU+2/U+jj3RPZiXL1+qkSNHqs7OTqWUUt3d3SoiIkI1NDRo1u3Zs0etXbvWe72y\n",
              "slLNnDkzoLN+UVtbq6Kjo3226/0/+meCMdJxnDhxorp06ZLPdr2PY090f0nW3NwMs9mMQYM+/xxo\n",
              "UFAQoqKi0NTUpFnX1NSE6Oho7/WYmBifNYFy8OBBLF682O++jx8/IjU1FcnJySgsLITH4wnobJmZ\n",
              "mUhISEBOTg5aW1t99hvlON68eRNv377FggUL/O7X+zh+j+7BDDS7du3C48ePUVxc7LPPbDbj+fPn\n",
              "qK2txfXr11FTU4OSkpKAzXbjxg3U19fj7t27GDNmDFatWhWwx5YqKytDZmam9x/KP9L7OPZE92Ai\n",
              "IyPR0tKCrq4uAIBSCk1NTYiKitKsi4qKQmNjo/e6w+HwWdPf9u3bh4sXL6KqqgrDhg3z2W8ymRAe\n",
              "Hg4ACAsLQ3Z2NmpqagI235fjMXjwYGzcuNHvYxvhOH748AHnzp1Ddna23/16H8ee6B5MeHg4kpOT\n",
              "cerUKQDAhQsXMG7cOIwfP16zbvny5bhy5QpevHgBpRTsdjtWrlwZsDn379+PM2fO4Nq1axg1apTf\n",
              "Na9evfJ+xcntduPixYtISkoKyHwfP36E0+n0Xj9z5ozfx9b7OAKf/+q21WrFxIkT/e7X8zj+kM7v\n",
              "oZRSSj169Eilp6eruLg4NW3aNFVfX6+UUionJ0ddvnzZu660tFRZLBZlsVhUdna26ujoCMh8zc3N\n",
              "CoCyWCzKarUqq9Wq0tLSlFJK5eXlqSNHjiillLpw4YKaMmWKSkxMVJMnT1br169X7e3tAZnxyZMn\n",
              "ymazqYSEBDV16lS1aNEi9ezZM6WUcY7jF9OnT1dHjx7VbDPKcfwR/iwZkYDuL8mIBhIGQyTAYIgE\n",
              "GAyRAIMhEmAwRAIMhkiAwRAJMBgiAQZDJMBgiAT+D4l1mvDE/E3IAAAAAElFTkSuQmCC\n",
              "\">\n",
              "        \n",
              "      </div>\n",
              "      <script></script>\n",
              "      <script type=\"text/javascript\">\n",
              "        (() => {\n",
              "          const chartElement = document.getElementById(\"chart-f1557a23-c98b-497d-b285-8165571a0c2b\");\n",
              "          async function getCodeForChartHandler(event) {\n",
              "            const chartCodeResponse =  await google.colab.kernel.invokeFunction(\n",
              "                'getCodeForChart', [\"chart-f1557a23-c98b-497d-b285-8165571a0c2b\"], {});\n",
              "            const responseJson = chartCodeResponse.data['application/json'];\n",
              "            await google.colab.notebook.addCell(responseJson.code, 'code');\n",
              "          }\n",
              "          chartElement.onclick = getCodeForChartHandler;\n",
              "        })();\n",
              "      </script>\n",
              "      <style>\n",
              "        .colab-quickchart-chart-with-code  {\n",
              "            display: block;\n",
              "            float: left;\n",
              "            border: 1px solid transparent;\n",
              "        }\n",
              "\n",
              "        .colab-quickchart-chart-with-code:hover {\n",
              "            cursor: pointer;\n",
              "            border: 1px solid #aaa;\n",
              "        }\n",
              "      </style>"
            ]
          },
          "metadata": {}
        }
      ],
      "source": [
        "import pandas as pd\n",
        "# 디렉토리 설정하여 데이터 로드\n",
        "hit = pd.read_csv('/content/drive/MyDrive/DSL/2023-2/기초세션/[230715]_assignment_Math_for_MLDL/hit.csv', index_col=0)\n",
        "hit"
      ]
    },
    {
      "cell_type": "markdown",
      "metadata": {
        "id": "eg7TNgO8nGKF"
      },
      "source": [
        "(3) 계산하던 중, 다른 팀의 타자 기록을 얻게 되었습니다. 이 기록을 hit_other.csv에 저장해두었습니다. 첫번째 팀에 대해, 첫번째 팀과 두번째 팀의 스윙 결과 데이터 분포의 차이를 손으로 계산하세요. (과정은 수기로 작성 후 pdf로 업로드해주세요.)"
      ]
    },
    {
      "cell_type": "code",
      "execution_count": 6,
      "metadata": {
        "colab": {
          "base_uri": "https://localhost:8080/",
          "height": 1000
        },
        "id": "b-KyOqsRnGKF",
        "outputId": "5ebca2d6-4107-4982-e2cc-34beb2699d4a"
      },
      "outputs": [
        {
          "output_type": "execute_result",
          "data": {
            "text/plain": [
              "   스윙 결과\n",
              "타자      \n",
              "1    Out\n",
              "2    Hit\n",
              "3    Out\n",
              "4    Out\n",
              "5    Out\n",
              "6    Hit\n",
              "7    Hit\n",
              "8    Out\n",
              "9    Out\n",
              "10   Out\n",
              "11   Hit\n",
              "12   Out\n",
              "13   Out\n",
              "14   Out\n",
              "15   Out"
            ],
            "text/html": [
              "\n",
              "\n",
              "  <div id=\"df-23bb6dc8-e328-444b-ac9e-68ea10a8d13f\">\n",
              "    <div class=\"colab-df-container\">\n",
              "      <div>\n",
              "<style scoped>\n",
              "    .dataframe tbody tr th:only-of-type {\n",
              "        vertical-align: middle;\n",
              "    }\n",
              "\n",
              "    .dataframe tbody tr th {\n",
              "        vertical-align: top;\n",
              "    }\n",
              "\n",
              "    .dataframe thead th {\n",
              "        text-align: right;\n",
              "    }\n",
              "</style>\n",
              "<table border=\"1\" class=\"dataframe\">\n",
              "  <thead>\n",
              "    <tr style=\"text-align: right;\">\n",
              "      <th></th>\n",
              "      <th>스윙 결과</th>\n",
              "    </tr>\n",
              "    <tr>\n",
              "      <th>타자</th>\n",
              "      <th></th>\n",
              "    </tr>\n",
              "  </thead>\n",
              "  <tbody>\n",
              "    <tr>\n",
              "      <th>1</th>\n",
              "      <td>Out</td>\n",
              "    </tr>\n",
              "    <tr>\n",
              "      <th>2</th>\n",
              "      <td>Hit</td>\n",
              "    </tr>\n",
              "    <tr>\n",
              "      <th>3</th>\n",
              "      <td>Out</td>\n",
              "    </tr>\n",
              "    <tr>\n",
              "      <th>4</th>\n",
              "      <td>Out</td>\n",
              "    </tr>\n",
              "    <tr>\n",
              "      <th>5</th>\n",
              "      <td>Out</td>\n",
              "    </tr>\n",
              "    <tr>\n",
              "      <th>6</th>\n",
              "      <td>Hit</td>\n",
              "    </tr>\n",
              "    <tr>\n",
              "      <th>7</th>\n",
              "      <td>Hit</td>\n",
              "    </tr>\n",
              "    <tr>\n",
              "      <th>8</th>\n",
              "      <td>Out</td>\n",
              "    </tr>\n",
              "    <tr>\n",
              "      <th>9</th>\n",
              "      <td>Out</td>\n",
              "    </tr>\n",
              "    <tr>\n",
              "      <th>10</th>\n",
              "      <td>Out</td>\n",
              "    </tr>\n",
              "    <tr>\n",
              "      <th>11</th>\n",
              "      <td>Hit</td>\n",
              "    </tr>\n",
              "    <tr>\n",
              "      <th>12</th>\n",
              "      <td>Out</td>\n",
              "    </tr>\n",
              "    <tr>\n",
              "      <th>13</th>\n",
              "      <td>Out</td>\n",
              "    </tr>\n",
              "    <tr>\n",
              "      <th>14</th>\n",
              "      <td>Out</td>\n",
              "    </tr>\n",
              "    <tr>\n",
              "      <th>15</th>\n",
              "      <td>Out</td>\n",
              "    </tr>\n",
              "  </tbody>\n",
              "</table>\n",
              "</div>\n",
              "      <button class=\"colab-df-convert\" onclick=\"convertToInteractive('df-23bb6dc8-e328-444b-ac9e-68ea10a8d13f')\"\n",
              "              title=\"Convert this dataframe to an interactive table.\"\n",
              "              style=\"display:none;\">\n",
              "\n",
              "  <svg xmlns=\"http://www.w3.org/2000/svg\" height=\"24px\"viewBox=\"0 0 24 24\"\n",
              "       width=\"24px\">\n",
              "    <path d=\"M0 0h24v24H0V0z\" fill=\"none\"/>\n",
              "    <path d=\"M18.56 5.44l.94 2.06.94-2.06 2.06-.94-2.06-.94-.94-2.06-.94 2.06-2.06.94zm-11 1L8.5 8.5l.94-2.06 2.06-.94-2.06-.94L8.5 2.5l-.94 2.06-2.06.94zm10 10l.94 2.06.94-2.06 2.06-.94-2.06-.94-.94-2.06-.94 2.06-2.06.94z\"/><path d=\"M17.41 7.96l-1.37-1.37c-.4-.4-.92-.59-1.43-.59-.52 0-1.04.2-1.43.59L10.3 9.45l-7.72 7.72c-.78.78-.78 2.05 0 2.83L4 21.41c.39.39.9.59 1.41.59.51 0 1.02-.2 1.41-.59l7.78-7.78 2.81-2.81c.8-.78.8-2.07 0-2.86zM5.41 20L4 18.59l7.72-7.72 1.47 1.35L5.41 20z\"/>\n",
              "  </svg>\n",
              "      </button>\n",
              "\n",
              "\n",
              "\n",
              "    <div id=\"df-5708db31-b664-41c8-978d-7f45ffe05a67\">\n",
              "      <button class=\"colab-df-quickchart\" onclick=\"quickchart('df-5708db31-b664-41c8-978d-7f45ffe05a67')\"\n",
              "              title=\"Suggest charts.\"\n",
              "              style=\"display:none;\">\n",
              "\n",
              "<svg xmlns=\"http://www.w3.org/2000/svg\" height=\"24px\"viewBox=\"0 0 24 24\"\n",
              "     width=\"24px\">\n",
              "    <g>\n",
              "        <path d=\"M19 3H5c-1.1 0-2 .9-2 2v14c0 1.1.9 2 2 2h14c1.1 0 2-.9 2-2V5c0-1.1-.9-2-2-2zM9 17H7v-7h2v7zm4 0h-2V7h2v10zm4 0h-2v-4h2v4z\"/>\n",
              "    </g>\n",
              "</svg>\n",
              "      </button>\n",
              "    </div>\n",
              "\n",
              "<style>\n",
              "  .colab-df-quickchart {\n",
              "    background-color: #E8F0FE;\n",
              "    border: none;\n",
              "    border-radius: 50%;\n",
              "    cursor: pointer;\n",
              "    display: none;\n",
              "    fill: #1967D2;\n",
              "    height: 32px;\n",
              "    padding: 0 0 0 0;\n",
              "    width: 32px;\n",
              "  }\n",
              "\n",
              "  .colab-df-quickchart:hover {\n",
              "    background-color: #E2EBFA;\n",
              "    box-shadow: 0px 1px 2px rgba(60, 64, 67, 0.3), 0px 1px 3px 1px rgba(60, 64, 67, 0.15);\n",
              "    fill: #174EA6;\n",
              "  }\n",
              "\n",
              "  [theme=dark] .colab-df-quickchart {\n",
              "    background-color: #3B4455;\n",
              "    fill: #D2E3FC;\n",
              "  }\n",
              "\n",
              "  [theme=dark] .colab-df-quickchart:hover {\n",
              "    background-color: #434B5C;\n",
              "    box-shadow: 0px 1px 3px 1px rgba(0, 0, 0, 0.15);\n",
              "    filter: drop-shadow(0px 1px 2px rgba(0, 0, 0, 0.3));\n",
              "    fill: #FFFFFF;\n",
              "  }\n",
              "</style>\n",
              "\n",
              "    <script>\n",
              "      async function quickchart(key) {\n",
              "        const containerElement = document.querySelector('#' + key);\n",
              "        const charts = await google.colab.kernel.invokeFunction(\n",
              "            'suggestCharts', [key], {});\n",
              "      }\n",
              "    </script>\n",
              "\n",
              "      <script>\n",
              "\n",
              "function displayQuickchartButton(domScope) {\n",
              "  let quickchartButtonEl =\n",
              "    domScope.querySelector('#df-5708db31-b664-41c8-978d-7f45ffe05a67 button.colab-df-quickchart');\n",
              "  quickchartButtonEl.style.display =\n",
              "    google.colab.kernel.accessAllowed ? 'block' : 'none';\n",
              "}\n",
              "\n",
              "        displayQuickchartButton(document);\n",
              "      </script>\n",
              "      <style>\n",
              "    .colab-df-container {\n",
              "      display:flex;\n",
              "      flex-wrap:wrap;\n",
              "      gap: 12px;\n",
              "    }\n",
              "\n",
              "    .colab-df-convert {\n",
              "      background-color: #E8F0FE;\n",
              "      border: none;\n",
              "      border-radius: 50%;\n",
              "      cursor: pointer;\n",
              "      display: none;\n",
              "      fill: #1967D2;\n",
              "      height: 32px;\n",
              "      padding: 0 0 0 0;\n",
              "      width: 32px;\n",
              "    }\n",
              "\n",
              "    .colab-df-convert:hover {\n",
              "      background-color: #E2EBFA;\n",
              "      box-shadow: 0px 1px 2px rgba(60, 64, 67, 0.3), 0px 1px 3px 1px rgba(60, 64, 67, 0.15);\n",
              "      fill: #174EA6;\n",
              "    }\n",
              "\n",
              "    [theme=dark] .colab-df-convert {\n",
              "      background-color: #3B4455;\n",
              "      fill: #D2E3FC;\n",
              "    }\n",
              "\n",
              "    [theme=dark] .colab-df-convert:hover {\n",
              "      background-color: #434B5C;\n",
              "      box-shadow: 0px 1px 3px 1px rgba(0, 0, 0, 0.15);\n",
              "      filter: drop-shadow(0px 1px 2px rgba(0, 0, 0, 0.3));\n",
              "      fill: #FFFFFF;\n",
              "    }\n",
              "  </style>\n",
              "\n",
              "      <script>\n",
              "        const buttonEl =\n",
              "          document.querySelector('#df-23bb6dc8-e328-444b-ac9e-68ea10a8d13f button.colab-df-convert');\n",
              "        buttonEl.style.display =\n",
              "          google.colab.kernel.accessAllowed ? 'block' : 'none';\n",
              "\n",
              "        async function convertToInteractive(key) {\n",
              "          const element = document.querySelector('#df-23bb6dc8-e328-444b-ac9e-68ea10a8d13f');\n",
              "          const dataTable =\n",
              "            await google.colab.kernel.invokeFunction('convertToInteractive',\n",
              "                                                     [key], {});\n",
              "          if (!dataTable) return;\n",
              "\n",
              "          const docLinkHtml = 'Like what you see? Visit the ' +\n",
              "            '<a target=\"_blank\" href=https://colab.research.google.com/notebooks/data_table.ipynb>data table notebook</a>'\n",
              "            + ' to learn more about interactive tables.';\n",
              "          element.innerHTML = '';\n",
              "          dataTable['output_type'] = 'display_data';\n",
              "          await google.colab.output.renderOutput(dataTable, element);\n",
              "          const docLink = document.createElement('div');\n",
              "          docLink.innerHTML = docLinkHtml;\n",
              "          element.appendChild(docLink);\n",
              "        }\n",
              "      </script>\n",
              "    </div>\n",
              "  </div>\n"
            ]
          },
          "metadata": {},
          "execution_count": 6
        },
        {
          "output_type": "stream",
          "name": "stderr",
          "text": [
            "/usr/local/lib/python3.10/dist-packages/google/colab/_quickchart_lib.py:25: UserWarning: Glyph 49828 (\\N{HANGUL SYLLABLE SEU}) missing from current font.\n",
            "  plt.savefig(f, bbox_inches='tight')\n",
            "/usr/local/lib/python3.10/dist-packages/google/colab/_quickchart_lib.py:25: UserWarning: Glyph 50969 (\\N{HANGUL SYLLABLE WING}) missing from current font.\n",
            "  plt.savefig(f, bbox_inches='tight')\n",
            "/usr/local/lib/python3.10/dist-packages/google/colab/_quickchart_lib.py:25: UserWarning: Glyph 44208 (\\N{HANGUL SYLLABLE GYEOL}) missing from current font.\n",
            "  plt.savefig(f, bbox_inches='tight')\n",
            "/usr/local/lib/python3.10/dist-packages/google/colab/_quickchart_lib.py:25: UserWarning: Glyph 44284 (\\N{HANGUL SYLLABLE GWA}) missing from current font.\n",
            "  plt.savefig(f, bbox_inches='tight')\n"
          ]
        },
        {
          "output_type": "display_data",
          "data": {
            "text/plain": [
              "<google.colab._quickchart_helpers.SectionTitle at 0x78838109cb50>"
            ],
            "text/html": [
              "<h4 class=\"colab-quickchart-section-title\">Categorical distributions</h4>\n",
              "<style>\n",
              "  .colab-quickchart-section-title {\n",
              "      clear: both;\n",
              "  }\n",
              "</style>"
            ]
          },
          "metadata": {}
        },
        {
          "output_type": "display_data",
          "data": {
            "text/plain": [
              "import numpy as np\n",
              "from google.colab import autoviz\n",
              "df_1856994226181684443 = autoviz.get_registered_df('df_1856994226181684443')\n",
              "\n",
              "def categorical_histogram(df, colname, figsize=(2, 1.2), mpl_palette_name='Dark2'):\n",
              "  from matplotlib import pyplot as plt\n",
              "  import seaborn as sns\n",
              "  _, ax = plt.subplots(figsize=figsize)\n",
              "  bars = df[colname].value_counts()\n",
              "  plt.barh(bars.index, bars.values, color=sns.palettes.mpl_palette(mpl_palette_name))\n",
              "  plt.title(colname)\n",
              "  ax.spines[['top', 'right',]].set_visible(False)\n",
              "  return autoviz.MplChart.from_current_mpl_state()\n",
              "\n",
              "chart = categorical_histogram(df_1856994226181684443, *['스윙 결과'], **{})\n",
              "chart"
            ],
            "text/html": [
              "      <div class=\"colab-quickchart-chart-with-code\" id=\"chart-53599f4d-63b6-4bd4-8732-e9d90a132239\">\n",
              "        <img src=\"data:image/png;base64,iVBORw0KGgoAAAANSUhEUgAAAMwAAACWCAYAAACSN2djAAAAOXRFWHRTb2Z0d2FyZQBNYXRwbG90\n",
              "bGliIHZlcnNpb24zLjcuMSwgaHR0cHM6Ly9tYXRwbG90bGliLm9yZy/bCgiHAAAACXBIWXMAAA9h\n",
              "AAAPYQGoP6dpAAAHYElEQVR4nO3dTUhUjR7H8Z9XawhT7+1FkVLnZhrxNHUsFQsuGHfxJFFQm56V\n",
              "+SSIq+oSvQhpmgvbFLWTNtkbIRG4iVpObYKInKQgmKJRL0RIMBq9jDmdu7g0PdP7P1/OKb8fGNBz\n",
              "nJm/h/PlzDgzxwzXdV0B+C5/83oA4GdCMIABwQAGBAMYEAxgQDCAAcEABgQDGBAMYEAwgEGW1wPg\n",
              "g56eHnV2dmrx4sVpy0dGRtTa2ipJX13f0NCQtjwWi6mqqkqlpaVpyxOJhNasWaP29vavru/p6Zma\n",
              "X+wXQjA+87kd/6877rfWf2zz5s2frI/FYmpvb/+u9UjHQzLAgGAAA4IBDAgGMCAYwIBgAAOCAQwI\n",
              "BjDghUuf6ezsVHd3d9qyj1/p/9r6j129elU1NTVpy96/kv8965Eug7PGAN+Ph2SAAcEABgQDGBAM\n",
              "YEAwgIHvgzl16pTXIwApvg9mcHDQ6xGAFN8HA/gJwQAGvn+l/8/fMtRS9et1Xd6T9HoE/IBfb08E\n",
              "phHBAAYEAxgQDGBAMIABwQAGBAMYEAxgQDCAAcEABgQDGBAMYEAwgAHBAAaTDiYYDCoSiaQtq62t\n",
              "VV9fn9ra2nTx4kVJUjgc1vXr1yd7d4CnpvVUsUePHk19HQ6HFY/HtWnTpum8S2BaTWswDQ0NchxH\n",
              "tbW16u7uVjKZVDgc1vbt29XW1jaddw1MiykJZseOHZo3b17q+0ePHqWtdxxHzc3NisfjOnny5Bdv\n",
              "J5FIKJFIpC1LvpuKCYGpMSXB9Pb2ynGc1Pe1tbU/dDtdXV3q6OhIW7Zm0SQGA6aYr/5K1tLSotHR\n",
              "0bTLaoKBj8zY/4fJzc395jnGAoGAAoFA2rJMXyWN2W7Gdsdt27YpEonIcZy0v54BPxNOs+QRTrP0\n",
              "c/r19kRgGhEMYEAwgAHBAAYEAxgQDGBAMIABwQAGBAMYEAxgQDCAAcEABgQDGMzY52F+1D9+/4/K\n",
              "T5zwegxAEkcYwIRgAAOCAQwIBjAgGMCAYAADggEMCAYwIBjAwPfnJZv/e5X+/se/vR4Dv4j//nls\n",
              "UtfnCAMYEAxgQDCAAcEABgQDGBAMYEAwgAHBAAYEAxgQDGBAMIABwQAGBAMYEAxgYA5mfHxcBw8e\n",
              "1PLly7Vy5UqFQiGdPXv2m9eLx+M6dmxyb60GvGY+82VDQ4MSiYTu3bun7OxsxWIx1dXVaWJiQo2N\n",
              "jV+83vtgDh06NKmBAS+ZjjDRaFR9fX06ffq0srOzJUnBYFDHjx9XR0eHwuGwHMdJ/fz9+/cVDAYl\n",
              "Sc3NzXrx4oUcx1FlZeVnbz+RSGhsbCztoqSvP9+GWcYUTH9/v8rKyrRw4cK05evXr9fw8LBGRka+\n",
              "eN3u7m7l5OQoEonozp07n/2Zrq4u5eXlpV3Gnzy1jAhMK1896W9padHo6GjaZe4/C70eC0gxPYep\n",
              "qKhQNBrV8+fP044yt27dUlFRkQoLC5VMJlPL37x5YxomEAgoEAikL8zMMN0GMJ1MR5iysjJt2bJF\n",
              "TU1NevXqlSQpFotp3759am1t1bJlyzQ4OJh6aHb+/PnUdXNzc/X69WuNj49P4fjAzDL/lezcuXM6\n",
              "fPiwQqGQ5s6dq8zMTO3fv1+7du2SJB04cEDV1dUqKChQXV1d6noLFixQfX29Vq9erfnz53/xeQzg\n",
              "Z5xmCbMKp1kCZhDBAAYEAxgQDGBAMIABwQAGBAMYEAxgQDCAAcEABgQDGBAMYEAwgIH57f0zrem3\n",
              "f+nEJN9hCkwVjjCAAcEABgQDGPj6OUwikdC1a9eUTCaVmZnp9TieSiaTun37tqqrq9kW07QtSkpK\n",
              "tGfPnq/+jK8/ojw2Nqa8vDyNjo4qNzfX63E8xbb4wMttwUMywIBgAAOCAQx8HUwgENCRI0c+PRvm\n",
              "LMS2+MDLbeHrJ/2A3/j6CAP4DcEABgQDGPg2mGg0qg0bNqi8vFxVVVV68OCB1yN5JhgMasWKFXIc\n",
              "R47jqLe31+uRZszu3bsVDAaVkZGhSCSSWu7Z/uH61MaNG90zZ864ruu6ly9fdisrK70dyEMlJSVu\n",
              "f3+/12N44saNG+7w8PAn28Cr/cOXwTx79szNyclx375967qu6757984tKChwo9Gox5N5YzYH895f\n",
              "t4GX+4cvH5INDw+rsLBQWVn/f29oRkaGiouLNTQ05PFk3qmvr1coFFJjY+NX/5fobODl/uHLYJDu\n",
              "5s2bGhgY0N27d7Vo0SLt3LnT65FmLV++vb+oqEhPnz7VxMSEsrKy5LquhoaGVFxc7PVonnj/e8+Z\n",
              "M0d79+5VeXm5xxN5y8v9w5dHmPz8fK1du1YXLlyQJF25ckVLly7V8uXLPZ5s5r18+VLxeDz1/aVL\n",
              "l1RRUeHdQD7g6f4x7c+SftDDhw/dmpoat6yszF23bp07MDDg9UieePz4ses4jhsKhdxVq1a5W7du\n",
              "dZ88eeL1WDOmqanJXbJkiZuZmenm5+e7paWlrut6t3/wXjLAwJcPyQC/IhjAgGAAA4IBDAgGMCAY\n",
              "wIBgAAOCAQwIBjAgGMCAYACD/wHVBTda0jS+owAAAABJRU5ErkJggg==\n",
              "\">\n",
              "        \n",
              "      </div>\n",
              "      <script></script>\n",
              "      <script type=\"text/javascript\">\n",
              "        (() => {\n",
              "          const chartElement = document.getElementById(\"chart-53599f4d-63b6-4bd4-8732-e9d90a132239\");\n",
              "          async function getCodeForChartHandler(event) {\n",
              "            const chartCodeResponse =  await google.colab.kernel.invokeFunction(\n",
              "                'getCodeForChart', [\"chart-53599f4d-63b6-4bd4-8732-e9d90a132239\"], {});\n",
              "            const responseJson = chartCodeResponse.data['application/json'];\n",
              "            await google.colab.notebook.addCell(responseJson.code, 'code');\n",
              "          }\n",
              "          chartElement.onclick = getCodeForChartHandler;\n",
              "        })();\n",
              "      </script>\n",
              "      <style>\n",
              "        .colab-quickchart-chart-with-code  {\n",
              "            display: block;\n",
              "            float: left;\n",
              "            border: 1px solid transparent;\n",
              "        }\n",
              "\n",
              "        .colab-quickchart-chart-with-code:hover {\n",
              "            cursor: pointer;\n",
              "            border: 1px solid #aaa;\n",
              "        }\n",
              "      </style>"
            ]
          },
          "metadata": {}
        },
        {
          "output_type": "stream",
          "name": "stderr",
          "text": [
            "/usr/local/lib/python3.10/dist-packages/google/colab/_quickchart_lib.py:25: UserWarning: Glyph 49828 (\\N{HANGUL SYLLABLE SEU}) missing from current font.\n",
            "  plt.savefig(f, bbox_inches='tight')\n",
            "/usr/local/lib/python3.10/dist-packages/google/colab/_quickchart_lib.py:25: UserWarning: Glyph 50969 (\\N{HANGUL SYLLABLE WING}) missing from current font.\n",
            "  plt.savefig(f, bbox_inches='tight')\n",
            "/usr/local/lib/python3.10/dist-packages/google/colab/_quickchart_lib.py:25: UserWarning: Glyph 44208 (\\N{HANGUL SYLLABLE GYEOL}) missing from current font.\n",
            "  plt.savefig(f, bbox_inches='tight')\n",
            "/usr/local/lib/python3.10/dist-packages/google/colab/_quickchart_lib.py:25: UserWarning: Glyph 44284 (\\N{HANGUL SYLLABLE GWA}) missing from current font.\n",
            "  plt.savefig(f, bbox_inches='tight')\n"
          ]
        },
        {
          "output_type": "display_data",
          "data": {
            "text/plain": [
              "<google.colab._quickchart_helpers.SectionTitle at 0x7883798e9a50>"
            ],
            "text/html": [
              "<h4 class=\"colab-quickchart-section-title\">Categorical distributions</h4>\n",
              "<style>\n",
              "  .colab-quickchart-section-title {\n",
              "      clear: both;\n",
              "  }\n",
              "</style>"
            ]
          },
          "metadata": {}
        },
        {
          "output_type": "display_data",
          "data": {
            "text/plain": [
              "import numpy as np\n",
              "from google.colab import autoviz\n",
              "df_1856994226181684443 = autoviz.get_registered_df('df_1856994226181684443')\n",
              "\n",
              "def categorical_histogram(df, colname, figsize=(2, 1.2), mpl_palette_name='Dark2'):\n",
              "  from matplotlib import pyplot as plt\n",
              "  import seaborn as sns\n",
              "  _, ax = plt.subplots(figsize=figsize)\n",
              "  bars = df[colname].value_counts()\n",
              "  plt.barh(bars.index, bars.values, color=sns.palettes.mpl_palette(mpl_palette_name))\n",
              "  plt.title(colname)\n",
              "  ax.spines[['top', 'right',]].set_visible(False)\n",
              "  return autoviz.MplChart.from_current_mpl_state()\n",
              "\n",
              "chart = categorical_histogram(df_1856994226181684443, *['스윙 결과'], **{})\n",
              "chart"
            ],
            "text/html": [
              "      <div class=\"colab-quickchart-chart-with-code\" id=\"chart-62ede3ca-2d90-468b-81cf-4763638f4348\">\n",
              "        <img src=\"data:image/png;base64,iVBORw0KGgoAAAANSUhEUgAAAMwAAACWCAYAAACSN2djAAAAOXRFWHRTb2Z0d2FyZQBNYXRwbG90\n",
              "bGliIHZlcnNpb24zLjcuMSwgaHR0cHM6Ly9tYXRwbG90bGliLm9yZy/bCgiHAAAACXBIWXMAAA9h\n",
              "AAAPYQGoP6dpAAAHYElEQVR4nO3dTUhUjR7H8Z9XawhT7+1FkVLnZhrxNHUsFQsuGHfxJFFQm56V\n",
              "+SSIq+oSvQhpmgvbFLWTNtkbIRG4iVpObYKInKQgmKJRL0RIMBq9jDmdu7g0PdP7P1/OKb8fGNBz\n",
              "nJm/h/PlzDgzxwzXdV0B+C5/83oA4GdCMIABwQAGBAMYEAxgQDCAAcEABgQDGBAMYEAwgEGW1wPg\n",
              "g56eHnV2dmrx4sVpy0dGRtTa2ipJX13f0NCQtjwWi6mqqkqlpaVpyxOJhNasWaP29vavru/p6Zma\n",
              "X+wXQjA+87kd/6877rfWf2zz5s2frI/FYmpvb/+u9UjHQzLAgGAAA4IBDAgGMCAYwIBgAAOCAQwI\n",
              "BjDghUuf6ezsVHd3d9qyj1/p/9r6j129elU1NTVpy96/kv8965Eug7PGAN+Ph2SAAcEABgQDGBAM\n",
              "YEAwgIHvgzl16pTXIwApvg9mcHDQ6xGAFN8HA/gJwQAGvn+l/8/fMtRS9et1Xd6T9HoE/IBfb08E\n",
              "phHBAAYEAxgQDGBAMIABwQAGBAMYEAxgQDCAAcEABgQDGBAMYEAwgAHBAAaTDiYYDCoSiaQtq62t\n",
              "VV9fn9ra2nTx4kVJUjgc1vXr1yd7d4CnpvVUsUePHk19HQ6HFY/HtWnTpum8S2BaTWswDQ0NchxH\n",
              "tbW16u7uVjKZVDgc1vbt29XW1jaddw1MiykJZseOHZo3b17q+0ePHqWtdxxHzc3NisfjOnny5Bdv\n",
              "J5FIKJFIpC1LvpuKCYGpMSXB9Pb2ynGc1Pe1tbU/dDtdXV3q6OhIW7Zm0SQGA6aYr/5K1tLSotHR\n",
              "0bTLaoKBj8zY/4fJzc395jnGAoGAAoFA2rJMXyWN2W7Gdsdt27YpEonIcZy0v54BPxNOs+QRTrP0\n",
              "c/r19kRgGhEMYEAwgAHBAAYEAxgQDGBAMIABwQAGBAMYEAxgQDCAAcEABgQDGMzY52F+1D9+/4/K\n",
              "T5zwegxAEkcYwIRgAAOCAQwIBjAgGMCAYAADggEMCAYwIBjAwPfnJZv/e5X+/se/vR4Dv4j//nls\n",
              "UtfnCAMYEAxgQDCAAcEABgQDGBAMYEAwgAHBAAYEAxgQDGBAMIABwQAGBAMYEAxgYA5mfHxcBw8e\n",
              "1PLly7Vy5UqFQiGdPXv2m9eLx+M6dmxyb60GvGY+82VDQ4MSiYTu3bun7OxsxWIx1dXVaWJiQo2N\n",
              "jV+83vtgDh06NKmBAS+ZjjDRaFR9fX06ffq0srOzJUnBYFDHjx9XR0eHwuGwHMdJ/fz9+/cVDAYl\n",
              "Sc3NzXrx4oUcx1FlZeVnbz+RSGhsbCztoqSvP9+GWcYUTH9/v8rKyrRw4cK05evXr9fw8LBGRka+\n",
              "eN3u7m7l5OQoEonozp07n/2Zrq4u5eXlpV3Gnzy1jAhMK1896W9padHo6GjaZe4/C70eC0gxPYep\n",
              "qKhQNBrV8+fP044yt27dUlFRkQoLC5VMJlPL37x5YxomEAgoEAikL8zMMN0GMJ1MR5iysjJt2bJF\n",
              "TU1NevXqlSQpFotp3759am1t1bJlyzQ4OJh6aHb+/PnUdXNzc/X69WuNj49P4fjAzDL/lezcuXM6\n",
              "fPiwQqGQ5s6dq8zMTO3fv1+7du2SJB04cEDV1dUqKChQXV1d6noLFixQfX29Vq9erfnz53/xeQzg\n",
              "Z5xmCbMKp1kCZhDBAAYEAxgQDGBAMIABwQAGBAMYEAxgQDCAAcEABgQDGBAMYEAwgIH57f0zrem3\n",
              "f+nEJN9hCkwVjjCAAcEABgQDGPj6OUwikdC1a9eUTCaVmZnp9TieSiaTun37tqqrq9kW07QtSkpK\n",
              "tGfPnq/+jK8/ojw2Nqa8vDyNjo4qNzfX63E8xbb4wMttwUMywIBgAAOCAQx8HUwgENCRI0c+PRvm\n",
              "LMS2+MDLbeHrJ/2A3/j6CAP4DcEABgQDGPg2mGg0qg0bNqi8vFxVVVV68OCB1yN5JhgMasWKFXIc\n",
              "R47jqLe31+uRZszu3bsVDAaVkZGhSCSSWu7Z/uH61MaNG90zZ864ruu6ly9fdisrK70dyEMlJSVu\n",
              "f3+/12N44saNG+7w8PAn28Cr/cOXwTx79szNyclx375967qu6757984tKChwo9Gox5N5YzYH895f\n",
              "t4GX+4cvH5INDw+rsLBQWVn/f29oRkaGiouLNTQ05PFk3qmvr1coFFJjY+NX/5fobODl/uHLYJDu\n",
              "5s2bGhgY0N27d7Vo0SLt3LnT65FmLV++vb+oqEhPnz7VxMSEsrKy5LquhoaGVFxc7PVonnj/e8+Z\n",
              "M0d79+5VeXm5xxN5y8v9w5dHmPz8fK1du1YXLlyQJF25ckVLly7V8uXLPZ5s5r18+VLxeDz1/aVL\n",
              "l1RRUeHdQD7g6f4x7c+SftDDhw/dmpoat6yszF23bp07MDDg9UieePz4ses4jhsKhdxVq1a5W7du\n",
              "dZ88eeL1WDOmqanJXbJkiZuZmenm5+e7paWlrut6t3/wXjLAwJcPyQC/IhjAgGAAA4IBDAgGMCAY\n",
              "wIBgAAOCAQwIBjAgGMCAYACD/wHVBTda0jS+owAAAABJRU5ErkJggg==\n",
              "\">\n",
              "        \n",
              "      </div>\n",
              "      <script></script>\n",
              "      <script type=\"text/javascript\">\n",
              "        (() => {\n",
              "          const chartElement = document.getElementById(\"chart-62ede3ca-2d90-468b-81cf-4763638f4348\");\n",
              "          async function getCodeForChartHandler(event) {\n",
              "            const chartCodeResponse =  await google.colab.kernel.invokeFunction(\n",
              "                'getCodeForChart', [\"chart-62ede3ca-2d90-468b-81cf-4763638f4348\"], {});\n",
              "            const responseJson = chartCodeResponse.data['application/json'];\n",
              "            await google.colab.notebook.addCell(responseJson.code, 'code');\n",
              "          }\n",
              "          chartElement.onclick = getCodeForChartHandler;\n",
              "        })();\n",
              "      </script>\n",
              "      <style>\n",
              "        .colab-quickchart-chart-with-code  {\n",
              "            display: block;\n",
              "            float: left;\n",
              "            border: 1px solid transparent;\n",
              "        }\n",
              "\n",
              "        .colab-quickchart-chart-with-code:hover {\n",
              "            cursor: pointer;\n",
              "            border: 1px solid #aaa;\n",
              "        }\n",
              "      </style>"
            ]
          },
          "metadata": {}
        },
        {
          "output_type": "stream",
          "name": "stdout",
          "text": [
            "Error: Runtime no longer has a reference to this dataframe, please re-run this cell and try again.\n"
          ]
        }
      ],
      "source": [
        "# 디렉토리 설정하여 데이터 로드\n",
        "hit_other = pd.read_csv('/content/drive/MyDrive/DSL/2023-2/기초세션/[230715]_assignment_Math_for_MLDL/hit_other.csv', index_col=0)\n",
        "hit_other"
      ]
    },
    {
      "cell_type": "markdown",
      "metadata": {
        "id": "moQ0We9pnGKF"
      },
      "source": [
        "##### Q4. Logistic Regression의 Convex optimization 과정을 서술해주세요. (과정은 수기로 작성 후 pdf로 업로드해주세요.)"
      ]
    }
  ],
  "metadata": {
    "kernelspec": {
      "display_name": "Python 3",
      "language": "python",
      "name": "python3"
    },
    "language_info": {
      "codemirror_mode": {
        "name": "ipython",
        "version": 3
      },
      "file_extension": ".py",
      "mimetype": "text/x-python",
      "name": "python",
      "nbconvert_exporter": "python",
      "pygments_lexer": "ipython3",
      "version": "3.8.5"
    },
    "orig_nbformat": 4,
    "colab": {
      "provenance": []
    }
  },
  "nbformat": 4,
  "nbformat_minor": 0
}