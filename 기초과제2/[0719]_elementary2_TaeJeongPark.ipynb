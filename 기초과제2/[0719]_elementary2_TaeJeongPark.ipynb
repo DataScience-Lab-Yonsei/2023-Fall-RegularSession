{
 "cells": [
  {
   "cell_type": "code",
   "execution_count": 1,
   "id": "c44597b8",
   "metadata": {},
   "outputs": [],
   "source": [
    "import pandas as pd\n",
    "import numpy as np"
   ]
  },
  {
   "cell_type": "markdown",
   "id": "18ee2474",
   "metadata": {},
   "source": [
    "### **1. 2016 presidential election in US**"
   ]
  },
  {
   "cell_type": "markdown",
   "id": "7c40d438",
   "metadata": {},
   "source": [
    "https://elections.huffingtonpost.com/2016/forecast/president"
   ]
  },
  {
   "cell_type": "markdown",
   "id": "7329074b",
   "metadata": {},
   "source": [
    "#### **1-1.** 자료 A와 자료 B를 각각 ‘pres’, ‘polls’라는 이름의 개체(DataFrame)로 저장하시오."
   ]
  },
  {
   "cell_type": "code",
   "execution_count": 2,
   "id": "519dee59",
   "metadata": {},
   "outputs": [],
   "source": [
    "# 자료 A / turnout_2016 : 각 주의 카운티별 개표 결과\n",
    "pres = pd.read_csv('/Users/bagtaejeong/Desktop/DSL/정규세션/기초과제/기초과제2/elementary2_dataset/turnout_2016.csv')\n",
    "\n",
    "# 자료 B / polls_huffington : 미국 언론사 HuggingtonPost 여론조사 결과\n",
    "polls = pd.read_csv('/Users/bagtaejeong/Desktop/DSL/정규세션/기초과제/기초과제2/elementary2_dataset/polls_huffington.csv')"
   ]
  },
  {
   "cell_type": "markdown",
   "id": "e9be3ca2",
   "metadata": {},
   "source": [
    "#### **1-2.** 자료 A에서 집계된 대선 후보의 이름을 확인하고, 몇 명의 후보가 집계되었는지 파악하시오."
   ]
  },
  {
   "cell_type": "code",
   "execution_count": 3,
   "id": "06adaad4",
   "metadata": {},
   "outputs": [
    {
     "name": "stdout",
     "output_type": "stream",
     "text": [
      "집계된 출마 후보 =  ['Donald Trump', 'Hillary Clinton', 'Gary Johnson', 'Jill Stein', 'Evan McMullin', 'Darrell Castle', 'Gloria La Riva', 'Rocky De La Fuente', ' None of these candidates', 'Richard Duncan', 'Dan Vacek', 'Alyson Kennedy', 'Mike Smith', 'Chris Keniston', 'Lynn Kahn', 'Jim Hedges', 'Monica Moorehead', 'Peter Skewes', 'Emidio Soltysik', 'Scott Copeland', 'Rocky Giordani', 'Tom Hoefling', 'Laurence Kotlikoff', 'Kyle Kopitke', 'Joseph Maldonado', 'Michael Maturen', 'Princess Jacob', 'Ryan Scott', 'Rod Silva', 'Jerry White', 'Bradford Lyttle', 'Frank Atwood']\n",
      "집계된 출마 후보 수 = 31\n"
     ]
    }
   ],
   "source": [
    "cand = pres['cand'].unique().tolist()\n",
    "print(f'집계된 출마 후보 =  {cand}')\n",
    "\n",
    "cand_pres = len(pres['cand'].unique()) - 1 # None of these candidates\n",
    "print(f'집계된 출마 후보 수 = {cand_pres}')"
   ]
  },
  {
   "cell_type": "markdown",
   "id": "e5244352",
   "metadata": {},
   "source": [
    "#### **1-3.** 자료 A로 다음의 조건을 만족하는 새로운 개체(DataFrame) ‘results’를 만드시오.\n",
    "● 각 주에서의 클린턴 후보 득표율과 트럼프 후보 득표율을 저장 <br>\n",
    "● 총 열 개수는 3개가 되어야 함 - 열 이름 : State, Clinton, Trump <br>\n",
    "● 총 행 개수는 워싱턴 D.C.를 포함하여 51개가 되어야 함 <br>"
   ]
  },
  {
   "cell_type": "code",
   "execution_count": 4,
   "id": "34f61224",
   "metadata": {},
   "outputs": [],
   "source": [
    "# 전처리\n",
    "query_pres = pres.query('county.isna() & fips != \"US\" & (cand == \"Donald Trump\" or cand == \"Hillary Clinton\")')"
   ]
  },
  {
   "cell_type": "code",
   "execution_count": 5,
   "id": "69ed794f",
   "metadata": {},
   "outputs": [
    {
     "data": {
      "text/html": [
       "<div>\n",
       "<style scoped>\n",
       "    .dataframe tbody tr th:only-of-type {\n",
       "        vertical-align: middle;\n",
       "    }\n",
       "\n",
       "    .dataframe tbody tr th {\n",
       "        vertical-align: top;\n",
       "    }\n",
       "\n",
       "    .dataframe thead th {\n",
       "        text-align: right;\n",
       "    }\n",
       "</style>\n",
       "<table border=\"1\" class=\"dataframe\">\n",
       "  <thead>\n",
       "    <tr style=\"text-align: right;\">\n",
       "      <th></th>\n",
       "      <th>State</th>\n",
       "      <th>Clinton</th>\n",
       "      <th>Trump</th>\n",
       "    </tr>\n",
       "  </thead>\n",
       "  <tbody>\n",
       "    <tr>\n",
       "      <th>0</th>\n",
       "      <td>Washington D.C.</td>\n",
       "      <td>0.928466</td>\n",
       "      <td>0.041221</td>\n",
       "    </tr>\n",
       "    <tr>\n",
       "      <th>1</th>\n",
       "      <td>Alabama</td>\n",
       "      <td>0.345538</td>\n",
       "      <td>0.628884</td>\n",
       "    </tr>\n",
       "    <tr>\n",
       "      <th>2</th>\n",
       "      <td>Alaska</td>\n",
       "      <td>0.377176</td>\n",
       "      <td>0.528878</td>\n",
       "    </tr>\n",
       "    <tr>\n",
       "      <th>3</th>\n",
       "      <td>Arizona</td>\n",
       "      <td>0.453871</td>\n",
       "      <td>0.495031</td>\n",
       "    </tr>\n",
       "    <tr>\n",
       "      <th>4</th>\n",
       "      <td>Arkansas</td>\n",
       "      <td>0.337643</td>\n",
       "      <td>0.604363</td>\n",
       "    </tr>\n",
       "    <tr>\n",
       "      <th>5</th>\n",
       "      <td>California</td>\n",
       "      <td>0.615885</td>\n",
       "      <td>0.327598</td>\n",
       "    </tr>\n",
       "    <tr>\n",
       "      <th>6</th>\n",
       "      <td>Colorado</td>\n",
       "      <td>0.472746</td>\n",
       "      <td>0.443593</td>\n",
       "    </tr>\n",
       "    <tr>\n",
       "      <th>7</th>\n",
       "      <td>Connecticut</td>\n",
       "      <td>0.544755</td>\n",
       "      <td>0.411610</td>\n",
       "    </tr>\n",
       "    <tr>\n",
       "      <th>8</th>\n",
       "      <td>Delaware</td>\n",
       "      <td>0.533550</td>\n",
       "      <td>0.419226</td>\n",
       "    </tr>\n",
       "    <tr>\n",
       "      <th>9</th>\n",
       "      <td>Florida</td>\n",
       "      <td>0.477881</td>\n",
       "      <td>0.490640</td>\n",
       "    </tr>\n",
       "    <tr>\n",
       "      <th>10</th>\n",
       "      <td>Georgia</td>\n",
       "      <td>0.455955</td>\n",
       "      <td>0.513361</td>\n",
       "    </tr>\n",
       "    <tr>\n",
       "      <th>11</th>\n",
       "      <td>Hawaii</td>\n",
       "      <td>0.622228</td>\n",
       "      <td>0.300391</td>\n",
       "    </tr>\n",
       "    <tr>\n",
       "      <th>12</th>\n",
       "      <td>Idaho</td>\n",
       "      <td>0.275599</td>\n",
       "      <td>0.591657</td>\n",
       "    </tr>\n",
       "    <tr>\n",
       "      <th>13</th>\n",
       "      <td>Illinois</td>\n",
       "      <td>0.554027</td>\n",
       "      <td>0.394133</td>\n",
       "    </tr>\n",
       "    <tr>\n",
       "      <th>14</th>\n",
       "      <td>Indiana</td>\n",
       "      <td>0.379112</td>\n",
       "      <td>0.571713</td>\n",
       "    </tr>\n",
       "    <tr>\n",
       "      <th>15</th>\n",
       "      <td>Iowa</td>\n",
       "      <td>0.421802</td>\n",
       "      <td>0.517813</td>\n",
       "    </tr>\n",
       "    <tr>\n",
       "      <th>16</th>\n",
       "      <td>Kansas</td>\n",
       "      <td>0.361584</td>\n",
       "      <td>0.571863</td>\n",
       "    </tr>\n",
       "    <tr>\n",
       "      <th>17</th>\n",
       "      <td>Kentucky</td>\n",
       "      <td>0.326948</td>\n",
       "      <td>0.625442</td>\n",
       "    </tr>\n",
       "    <tr>\n",
       "      <th>18</th>\n",
       "      <td>Louisiana</td>\n",
       "      <td>0.384437</td>\n",
       "      <td>0.580947</td>\n",
       "    </tr>\n",
       "    <tr>\n",
       "      <th>19</th>\n",
       "      <td>Maine</td>\n",
       "      <td>0.478556</td>\n",
       "      <td>0.451538</td>\n",
       "    </tr>\n",
       "    <tr>\n",
       "      <th>20</th>\n",
       "      <td>Maryland</td>\n",
       "      <td>0.605345</td>\n",
       "      <td>0.353053</td>\n",
       "    </tr>\n",
       "    <tr>\n",
       "      <th>21</th>\n",
       "      <td>Massachusetts</td>\n",
       "      <td>0.607999</td>\n",
       "      <td>0.335157</td>\n",
       "    </tr>\n",
       "    <tr>\n",
       "      <th>22</th>\n",
       "      <td>Michigan</td>\n",
       "      <td>0.473436</td>\n",
       "      <td>0.475860</td>\n",
       "    </tr>\n",
       "    <tr>\n",
       "      <th>23</th>\n",
       "      <td>Minnesota</td>\n",
       "      <td>0.468617</td>\n",
       "      <td>0.453603</td>\n",
       "    </tr>\n",
       "    <tr>\n",
       "      <th>24</th>\n",
       "      <td>Mississippi</td>\n",
       "      <td>0.397254</td>\n",
       "      <td>0.583375</td>\n",
       "    </tr>\n",
       "    <tr>\n",
       "      <th>25</th>\n",
       "      <td>Missouri</td>\n",
       "      <td>0.380127</td>\n",
       "      <td>0.571422</td>\n",
       "    </tr>\n",
       "    <tr>\n",
       "      <th>26</th>\n",
       "      <td>Montana</td>\n",
       "      <td>0.359756</td>\n",
       "      <td>0.565069</td>\n",
       "    </tr>\n",
       "    <tr>\n",
       "      <th>27</th>\n",
       "      <td>Nebraska</td>\n",
       "      <td>0.339927</td>\n",
       "      <td>0.603024</td>\n",
       "    </tr>\n",
       "    <tr>\n",
       "      <th>28</th>\n",
       "      <td>Nevada</td>\n",
       "      <td>0.478858</td>\n",
       "      <td>0.455319</td>\n",
       "    </tr>\n",
       "    <tr>\n",
       "      <th>29</th>\n",
       "      <td>New Hampshire</td>\n",
       "      <td>0.475973</td>\n",
       "      <td>0.472242</td>\n",
       "    </tr>\n",
       "    <tr>\n",
       "      <th>30</th>\n",
       "      <td>New Jersey</td>\n",
       "      <td>0.550154</td>\n",
       "      <td>0.417839</td>\n",
       "    </tr>\n",
       "    <tr>\n",
       "      <th>31</th>\n",
       "      <td>New Mexico</td>\n",
       "      <td>0.482637</td>\n",
       "      <td>0.400429</td>\n",
       "    </tr>\n",
       "    <tr>\n",
       "      <th>32</th>\n",
       "      <td>New York</td>\n",
       "      <td>0.588103</td>\n",
       "      <td>0.374752</td>\n",
       "    </tr>\n",
       "    <tr>\n",
       "      <th>33</th>\n",
       "      <td>North Carolina</td>\n",
       "      <td>0.467024</td>\n",
       "      <td>0.505372</td>\n",
       "    </tr>\n",
       "    <tr>\n",
       "      <th>34</th>\n",
       "      <td>North Dakota</td>\n",
       "      <td>0.277552</td>\n",
       "      <td>0.641405</td>\n",
       "    </tr>\n",
       "    <tr>\n",
       "      <th>35</th>\n",
       "      <td>Ohio</td>\n",
       "      <td>0.435085</td>\n",
       "      <td>0.520522</td>\n",
       "    </tr>\n",
       "    <tr>\n",
       "      <th>36</th>\n",
       "      <td>Oklahoma</td>\n",
       "      <td>0.289298</td>\n",
       "      <td>0.653272</td>\n",
       "    </tr>\n",
       "    <tr>\n",
       "      <th>37</th>\n",
       "      <td>Oregon</td>\n",
       "      <td>0.516778</td>\n",
       "      <td>0.410548</td>\n",
       "    </tr>\n",
       "    <tr>\n",
       "      <th>38</th>\n",
       "      <td>Pennsylvania</td>\n",
       "      <td>0.476491</td>\n",
       "      <td>0.487921</td>\n",
       "    </tr>\n",
       "    <tr>\n",
       "      <th>39</th>\n",
       "      <td>Rhode Island</td>\n",
       "      <td>0.554368</td>\n",
       "      <td>0.398017</td>\n",
       "    </tr>\n",
       "    <tr>\n",
       "      <th>40</th>\n",
       "      <td>South Carolina</td>\n",
       "      <td>0.407528</td>\n",
       "      <td>0.548641</td>\n",
       "    </tr>\n",
       "    <tr>\n",
       "      <th>41</th>\n",
       "      <td>South Dakota</td>\n",
       "      <td>0.317370</td>\n",
       "      <td>0.615330</td>\n",
       "    </tr>\n",
       "    <tr>\n",
       "      <th>42</th>\n",
       "      <td>Tennessee</td>\n",
       "      <td>0.348981</td>\n",
       "      <td>0.610700</td>\n",
       "    </tr>\n",
       "    <tr>\n",
       "      <th>43</th>\n",
       "      <td>Texas</td>\n",
       "      <td>0.434428</td>\n",
       "      <td>0.525830</td>\n",
       "    </tr>\n",
       "    <tr>\n",
       "      <th>44</th>\n",
       "      <td>Utah</td>\n",
       "      <td>0.278376</td>\n",
       "      <td>0.458991</td>\n",
       "    </tr>\n",
       "    <tr>\n",
       "      <th>45</th>\n",
       "      <td>Vermont</td>\n",
       "      <td>0.611431</td>\n",
       "      <td>0.326180</td>\n",
       "    </tr>\n",
       "    <tr>\n",
       "      <th>46</th>\n",
       "      <td>Virginia</td>\n",
       "      <td>0.498557</td>\n",
       "      <td>0.450261</td>\n",
       "    </tr>\n",
       "    <tr>\n",
       "      <th>47</th>\n",
       "      <td>Washington</td>\n",
       "      <td>0.544475</td>\n",
       "      <td>0.381725</td>\n",
       "    </tr>\n",
       "    <tr>\n",
       "      <th>48</th>\n",
       "      <td>West Virginia</td>\n",
       "      <td>0.264685</td>\n",
       "      <td>0.686501</td>\n",
       "    </tr>\n",
       "    <tr>\n",
       "      <th>49</th>\n",
       "      <td>Wisconsin</td>\n",
       "      <td>0.470095</td>\n",
       "      <td>0.477882</td>\n",
       "    </tr>\n",
       "    <tr>\n",
       "      <th>50</th>\n",
       "      <td>Wyoming</td>\n",
       "      <td>0.224928</td>\n",
       "      <td>0.700517</td>\n",
       "    </tr>\n",
       "  </tbody>\n",
       "</table>\n",
       "</div>"
      ],
      "text/plain": [
       "              State   Clinton     Trump\n",
       "0   Washington D.C.  0.928466  0.041221\n",
       "1           Alabama  0.345538  0.628884\n",
       "2            Alaska  0.377176  0.528878\n",
       "3           Arizona  0.453871  0.495031\n",
       "4          Arkansas  0.337643  0.604363\n",
       "5        California  0.615885  0.327598\n",
       "6          Colorado  0.472746  0.443593\n",
       "7       Connecticut  0.544755  0.411610\n",
       "8          Delaware  0.533550  0.419226\n",
       "9           Florida  0.477881  0.490640\n",
       "10          Georgia  0.455955  0.513361\n",
       "11           Hawaii  0.622228  0.300391\n",
       "12            Idaho  0.275599  0.591657\n",
       "13         Illinois  0.554027  0.394133\n",
       "14          Indiana  0.379112  0.571713\n",
       "15             Iowa  0.421802  0.517813\n",
       "16           Kansas  0.361584  0.571863\n",
       "17         Kentucky  0.326948  0.625442\n",
       "18        Louisiana  0.384437  0.580947\n",
       "19            Maine  0.478556  0.451538\n",
       "20         Maryland  0.605345  0.353053\n",
       "21    Massachusetts  0.607999  0.335157\n",
       "22         Michigan  0.473436  0.475860\n",
       "23        Minnesota  0.468617  0.453603\n",
       "24      Mississippi  0.397254  0.583375\n",
       "25         Missouri  0.380127  0.571422\n",
       "26          Montana  0.359756  0.565069\n",
       "27         Nebraska  0.339927  0.603024\n",
       "28           Nevada  0.478858  0.455319\n",
       "29    New Hampshire  0.475973  0.472242\n",
       "30       New Jersey  0.550154  0.417839\n",
       "31       New Mexico  0.482637  0.400429\n",
       "32         New York  0.588103  0.374752\n",
       "33   North Carolina  0.467024  0.505372\n",
       "34     North Dakota  0.277552  0.641405\n",
       "35             Ohio  0.435085  0.520522\n",
       "36         Oklahoma  0.289298  0.653272\n",
       "37           Oregon  0.516778  0.410548\n",
       "38     Pennsylvania  0.476491  0.487921\n",
       "39     Rhode Island  0.554368  0.398017\n",
       "40   South Carolina  0.407528  0.548641\n",
       "41     South Dakota  0.317370  0.615330\n",
       "42        Tennessee  0.348981  0.610700\n",
       "43            Texas  0.434428  0.525830\n",
       "44             Utah  0.278376  0.458991\n",
       "45          Vermont  0.611431  0.326180\n",
       "46         Virginia  0.498557  0.450261\n",
       "47       Washington  0.544475  0.381725\n",
       "48    West Virginia  0.264685  0.686501\n",
       "49        Wisconsin  0.470095  0.477882\n",
       "50          Wyoming  0.224928  0.700517"
      ]
     },
     "execution_count": 5,
     "metadata": {},
     "output_type": "execute_result"
    }
   ],
   "source": [
    "pivot_pres = query_pres.pivot(index = 'state.name', columns = 'cand', values = 'pct').reset_index().rename_axis(None, axis = 1)\n",
    "results = pivot_pres.rename(columns = {'state.name':'State', 'Donald Trump':'Trump', 'Hillary Clinton':'Clinton'})[['State','Clinton','Trump']]\n",
    "results.iloc[0,0] = 'Washington D.C.'\n",
    "results"
   ]
  },
  {
   "cell_type": "markdown",
   "id": "1c67486c",
   "metadata": {},
   "source": [
    "#### **1-4.** 다음의 조건을 만족하는 새로운 개체(DataFrame) ‘CL’ 및 ‘TR’을 만드시오.\n",
    "● CL : 클린턴 후보의 자료, TR : 트럼프 후보의 자료 <br>\n",
    "● 50개 주 각각에서 후보의 실제 득표율, 예측 득표율, 표본 수를 저장 <br>\n",
    "● 예측 득표율의 경우, 선거일 기준 가장 최근의 날짜에 집계된 결과만 활용(누적된 결과이므로) <br>\n",
    "● 총 열 개수는 4개가 되어야 함 - 열 이름 : State, Real, Prediction, Sample_size <br>\n",
    "● 총 행 개수는 워싱턴 D.C.를 포함하여 51개가 되어야 함 <br>"
   ]
  },
  {
   "cell_type": "code",
   "execution_count": 6,
   "id": "8ce93394",
   "metadata": {},
   "outputs": [],
   "source": [
    "# polls"
   ]
  },
  {
   "cell_type": "code",
   "execution_count": 7,
   "id": "fff7e104",
   "metadata": {},
   "outputs": [],
   "source": [
    "# polls 데이터 전처리 : CL\n",
    "CL_polls = polls.loc[:, ['state','Clinton','days_to_election', 'sample_size']]\n",
    "CL_polls = CL_polls.groupby('state').apply(lambda x : x.loc[x['days_to_election'].idxmin()]) #idxmax()\n",
    "\n",
    "del CL_polls['state']\n",
    "CL_polls.reset_index(inplace = True)\n",
    "CL_polls['state'] = CL_polls['state'].str.title()\n",
    "\n",
    "del CL_polls['days_to_election']\n",
    "CL_polls['state'] = CL_polls['state'].str.replace('-', ' ').replace('Dc','Washington D.C.')"
   ]
  },
  {
   "cell_type": "code",
   "execution_count": 8,
   "id": "138ecfa4",
   "metadata": {
    "scrolled": true
   },
   "outputs": [],
   "source": [
    "# polls 데이터 전처리 : TR\n",
    "TR_polls = polls.loc[:, ['state','Trump','days_to_election', 'sample_size']]\n",
    "TR_polls = TR_polls.groupby('state').apply(lambda x : x.loc[x['days_to_election'].idxmin()]) #idxmax()\n",
    "\n",
    "del TR_polls['state']\n",
    "TR_polls.reset_index(inplace = True)\n",
    "TR_polls['state'] = TR_polls['state'].str.title()\n",
    "\n",
    "del TR_polls['days_to_election']\n",
    "TR_polls['state'] = TR_polls['state'].str.replace('-', ' ').replace('Dc','Washington D.C.')"
   ]
  },
  {
   "cell_type": "code",
   "execution_count": 9,
   "id": "c08a271d",
   "metadata": {},
   "outputs": [],
   "source": [
    "# df merge \n",
    "# results 열 수정 State -> state Clinton -> Real CL, Trump -> Real TR\n",
    "results.rename(columns = {'State':'state', 'Clinton':'Real CL', 'Trump':'Real TR'}, inplace = True)\n",
    "CL_results = results.iloc[:,:2]\n",
    "TR_results = results.iloc[:,[0,2]]\n",
    "\n",
    "# State 기준 병합 / 열이름: State, Real, Prediction, Sample_size\n",
    "pre_CL = CL_results.merge(CL_polls, on='state', how = 'outer')\n",
    "CL = pre_CL.rename(columns = {'state':'State', 'Clinton':'Prediction CL','sample_size':'Sample_size'})\n",
    "\n",
    "pre_TR = TR_results.merge(TR_polls, on='state', how = 'outer')\n",
    "TR = pre_TR.rename(columns = {'state':'State', 'Trump':'Prediction TR','sample_size':'Sample_size'})"
   ]
  },
  {
   "cell_type": "code",
   "execution_count": 10,
   "id": "45517499",
   "metadata": {},
   "outputs": [
    {
     "data": {
      "text/html": [
       "<div>\n",
       "<style scoped>\n",
       "    .dataframe tbody tr th:only-of-type {\n",
       "        vertical-align: middle;\n",
       "    }\n",
       "\n",
       "    .dataframe tbody tr th {\n",
       "        vertical-align: top;\n",
       "    }\n",
       "\n",
       "    .dataframe thead th {\n",
       "        text-align: right;\n",
       "    }\n",
       "</style>\n",
       "<table border=\"1\" class=\"dataframe\">\n",
       "  <thead>\n",
       "    <tr style=\"text-align: right;\">\n",
       "      <th></th>\n",
       "      <th>State</th>\n",
       "      <th>Real TR</th>\n",
       "      <th>Prediction TR</th>\n",
       "      <th>Sample_size</th>\n",
       "    </tr>\n",
       "  </thead>\n",
       "  <tbody>\n",
       "    <tr>\n",
       "      <th>0</th>\n",
       "      <td>Washington D.C.</td>\n",
       "      <td>0.041221</td>\n",
       "      <td>0.07</td>\n",
       "      <td>310.0</td>\n",
       "    </tr>\n",
       "    <tr>\n",
       "      <th>1</th>\n",
       "      <td>Alabama</td>\n",
       "      <td>0.628884</td>\n",
       "      <td>0.55</td>\n",
       "      <td>1131.0</td>\n",
       "    </tr>\n",
       "    <tr>\n",
       "      <th>2</th>\n",
       "      <td>Alaska</td>\n",
       "      <td>0.528878</td>\n",
       "      <td>0.48</td>\n",
       "      <td>409.0</td>\n",
       "    </tr>\n",
       "    <tr>\n",
       "      <th>3</th>\n",
       "      <td>Arizona</td>\n",
       "      <td>0.495031</td>\n",
       "      <td>0.43</td>\n",
       "      <td>392.0</td>\n",
       "    </tr>\n",
       "    <tr>\n",
       "      <th>4</th>\n",
       "      <td>Arkansas</td>\n",
       "      <td>0.604363</td>\n",
       "      <td>0.56</td>\n",
       "      <td>930.0</td>\n",
       "    </tr>\n",
       "  </tbody>\n",
       "</table>\n",
       "</div>"
      ],
      "text/plain": [
       "             State   Real TR  Prediction TR  Sample_size\n",
       "0  Washington D.C.  0.041221           0.07        310.0\n",
       "1          Alabama  0.628884           0.55       1131.0\n",
       "2           Alaska  0.528878           0.48        409.0\n",
       "3          Arizona  0.495031           0.43        392.0\n",
       "4         Arkansas  0.604363           0.56        930.0"
      ]
     },
     "execution_count": 10,
     "metadata": {},
     "output_type": "execute_result"
    }
   ],
   "source": [
    "# 결과 확인\n",
    "TR.head()\n",
    "# CL.head()"
   ]
  },
  {
   "cell_type": "markdown",
   "id": "27e29d94",
   "metadata": {},
   "source": [
    "#### **1-5.** 후보별 득표율의 예측오차 분포를 히스토그램으로 시각화하시오."
   ]
  },
  {
   "cell_type": "code",
   "execution_count": 11,
   "id": "60c4146f",
   "metadata": {},
   "outputs": [],
   "source": [
    "import matplotlib.pyplot as plt\n",
    "import seaborn as sns"
   ]
  },
  {
   "cell_type": "markdown",
   "id": "04a1ec2c",
   "metadata": {},
   "source": [
    "##### 1) Clinton"
   ]
  },
  {
   "cell_type": "code",
   "execution_count": 12,
   "id": "dae77b80",
   "metadata": {},
   "outputs": [],
   "source": [
    "# # matplotlib\n",
    "# # Bias_C : Clinton 후보의 예측오차\n",
    "# Bias_C = CL['Prediction CL'] - CL['Real CL']\n",
    "# plt.hist(Bias_C)\n",
    "# plt.show()"
   ]
  },
  {
   "cell_type": "code",
   "execution_count": 13,
   "id": "f3b75b7f",
   "metadata": {},
   "outputs": [
    {
     "data": {
      "image/png": "[encoded data removed]",
      "text/plain": [
       "<Figure size 640x480 with 1 Axes>"
      ]
     },
     "metadata": {},
     "output_type": "display_data"
    }
   ],
   "source": [
    "# seaborn\n",
    "Bias_C = CL['Prediction CL'] - CL['Real CL']\n",
    "sns.histplot(x = Bias_C, color = '#B483FF')\n",
    "plt.show()"
   ]
  },
  {
   "cell_type": "markdown",
   "id": "ee75884b",
   "metadata": {},
   "source": [
    "##### 2) Trump"
   ]
  },
  {
   "cell_type": "code",
   "execution_count": 14,
   "id": "1b3efc1b",
   "metadata": {},
   "outputs": [],
   "source": [
    "# # Bias_T : Trump 후보의 예측오차\n",
    "# Bias_T = TR['Prediction TR'] - TR['Real TR']\n",
    "# plt.hist(Bias_T)\n",
    "# plt.show()"
   ]
  },
  {
   "cell_type": "code",
   "execution_count": 15,
   "id": "ceaa2169",
   "metadata": {},
   "outputs": [
    {
     "data": {
      "image/png": "[encoded data removed]",
      "text/plain": [
       "<Figure size 640x480 with 1 Axes>"
      ]
     },
     "metadata": {},
     "output_type": "display_data"
    }
   ],
   "source": [
    "# seaborn\n",
    "Bias_T = TR['Prediction TR'] - TR['Real TR']\n",
    "sns.histplot(x = Bias_T, color = '#B483FF')\n",
    "plt.show()"
   ]
  },
  {
   "cell_type": "markdown",
   "id": "e14f59c0",
   "metadata": {},
   "source": [
    "#### **1-6.** ‘CL’과 ‘TR’에 각각 표준오차를 담은 ‘SE’라는 열(column)을 추가하시오.\n"
   ]
  },
  {
   "cell_type": "code",
   "execution_count": 16,
   "id": "4ef36180",
   "metadata": {},
   "outputs": [],
   "source": [
    "TR['SE'] = ((TR['Prediction TR']*(1 - TR['Prediction TR']))/TR['Sample_size'])**0.5\n",
    "CL['SE'] = ((CL['Prediction CL']*(1 - CL['Prediction CL']))/CL['Sample_size'])**0.5"
   ]
  },
  {
   "cell_type": "code",
   "execution_count": 17,
   "id": "1e85dc48",
   "metadata": {},
   "outputs": [
    {
     "data": {
      "text/html": [
       "<div>\n",
       "<style scoped>\n",
       "    .dataframe tbody tr th:only-of-type {\n",
       "        vertical-align: middle;\n",
       "    }\n",
       "\n",
       "    .dataframe tbody tr th {\n",
       "        vertical-align: top;\n",
       "    }\n",
       "\n",
       "    .dataframe thead th {\n",
       "        text-align: right;\n",
       "    }\n",
       "</style>\n",
       "<table border=\"1\" class=\"dataframe\">\n",
       "  <thead>\n",
       "    <tr style=\"text-align: right;\">\n",
       "      <th></th>\n",
       "      <th>State</th>\n",
       "      <th>Real CL</th>\n",
       "      <th>Prediction CL</th>\n",
       "      <th>Sample_size</th>\n",
       "      <th>SE</th>\n",
       "    </tr>\n",
       "  </thead>\n",
       "  <tbody>\n",
       "    <tr>\n",
       "      <th>0</th>\n",
       "      <td>Washington D.C.</td>\n",
       "      <td>0.928466</td>\n",
       "      <td>0.85</td>\n",
       "      <td>310.0</td>\n",
       "      <td>0.020280</td>\n",
       "    </tr>\n",
       "    <tr>\n",
       "      <th>1</th>\n",
       "      <td>Alabama</td>\n",
       "      <td>0.345538</td>\n",
       "      <td>0.36</td>\n",
       "      <td>1131.0</td>\n",
       "      <td>0.014273</td>\n",
       "    </tr>\n",
       "    <tr>\n",
       "      <th>2</th>\n",
       "      <td>Alaska</td>\n",
       "      <td>0.377176</td>\n",
       "      <td>0.31</td>\n",
       "      <td>409.0</td>\n",
       "      <td>0.022869</td>\n",
       "    </tr>\n",
       "    <tr>\n",
       "      <th>3</th>\n",
       "      <td>Arizona</td>\n",
       "      <td>0.453871</td>\n",
       "      <td>0.41</td>\n",
       "      <td>392.0</td>\n",
       "      <td>0.024841</td>\n",
       "    </tr>\n",
       "    <tr>\n",
       "      <th>4</th>\n",
       "      <td>Arkansas</td>\n",
       "      <td>0.337643</td>\n",
       "      <td>0.32</td>\n",
       "      <td>930.0</td>\n",
       "      <td>0.015296</td>\n",
       "    </tr>\n",
       "  </tbody>\n",
       "</table>\n",
       "</div>"
      ],
      "text/plain": [
       "             State   Real CL  Prediction CL  Sample_size        SE\n",
       "0  Washington D.C.  0.928466           0.85        310.0  0.020280\n",
       "1          Alabama  0.345538           0.36       1131.0  0.014273\n",
       "2           Alaska  0.377176           0.31        409.0  0.022869\n",
       "3          Arizona  0.453871           0.41        392.0  0.024841\n",
       "4         Arkansas  0.337643           0.32        930.0  0.015296"
      ]
     },
     "execution_count": 17,
     "metadata": {},
     "output_type": "execute_result"
    }
   ],
   "source": [
    "# 결과 확인\n",
    "# TR.head()\n",
    "CL.head()"
   ]
  },
  {
   "cell_type": "markdown",
   "id": "ec4b7044",
   "metadata": {},
   "source": [
    "#### **1-7.** ‘CL’과 ‘TR’에 각각 근사신뢰구간(approximate confidence interval)의 하한과 상한을 나타내는 열(column) ‘lower’과 ‘upper’를 추가하시오(유의수준 5%)."
   ]
  },
  {
   "cell_type": "code",
   "execution_count": 18,
   "id": "8091fcc7",
   "metadata": {},
   "outputs": [],
   "source": [
    "# 분위수값 구하는 방법\n",
    "from scipy.stats import norm\n",
    "Z = norm(loc = 0, scale = 1) # 표준정규분포를 따르는 확률변수 만들기\n",
    "z = Z.ppf(0.975) # 유의수준 5%"
   ]
  },
  {
   "cell_type": "code",
   "execution_count": 19,
   "id": "7729ce60",
   "metadata": {},
   "outputs": [],
   "source": [
    "TR['lower'] = TR['Prediction TR'] - z*TR['SE']\n",
    "TR['upper'] = TR['Prediction TR'] + z*TR['SE']\n",
    "\n",
    "CL['lower'] = CL['Prediction CL'] - z*CL['SE']\n",
    "CL['upper'] = CL['Prediction CL'] + z*CL['SE']"
   ]
  },
  {
   "cell_type": "code",
   "execution_count": 20,
   "id": "2b403e69",
   "metadata": {},
   "outputs": [
    {
     "data": {
      "text/html": [
       "<div>\n",
       "<style scoped>\n",
       "    .dataframe tbody tr th:only-of-type {\n",
       "        vertical-align: middle;\n",
       "    }\n",
       "\n",
       "    .dataframe tbody tr th {\n",
       "        vertical-align: top;\n",
       "    }\n",
       "\n",
       "    .dataframe thead th {\n",
       "        text-align: right;\n",
       "    }\n",
       "</style>\n",
       "<table border=\"1\" class=\"dataframe\">\n",
       "  <thead>\n",
       "    <tr style=\"text-align: right;\">\n",
       "      <th></th>\n",
       "      <th>State</th>\n",
       "      <th>Real TR</th>\n",
       "      <th>Prediction TR</th>\n",
       "      <th>Sample_size</th>\n",
       "      <th>SE</th>\n",
       "      <th>lower</th>\n",
       "      <th>upper</th>\n",
       "    </tr>\n",
       "  </thead>\n",
       "  <tbody>\n",
       "    <tr>\n",
       "      <th>0</th>\n",
       "      <td>Washington D.C.</td>\n",
       "      <td>0.041221</td>\n",
       "      <td>0.07</td>\n",
       "      <td>310.0</td>\n",
       "      <td>0.014491</td>\n",
       "      <td>0.041597</td>\n",
       "      <td>0.098403</td>\n",
       "    </tr>\n",
       "    <tr>\n",
       "      <th>1</th>\n",
       "      <td>Alabama</td>\n",
       "      <td>0.628884</td>\n",
       "      <td>0.55</td>\n",
       "      <td>1131.0</td>\n",
       "      <td>0.014793</td>\n",
       "      <td>0.521006</td>\n",
       "      <td>0.578994</td>\n",
       "    </tr>\n",
       "    <tr>\n",
       "      <th>2</th>\n",
       "      <td>Alaska</td>\n",
       "      <td>0.528878</td>\n",
       "      <td>0.48</td>\n",
       "      <td>409.0</td>\n",
       "      <td>0.024704</td>\n",
       "      <td>0.431582</td>\n",
       "      <td>0.528418</td>\n",
       "    </tr>\n",
       "    <tr>\n",
       "      <th>3</th>\n",
       "      <td>Arizona</td>\n",
       "      <td>0.495031</td>\n",
       "      <td>0.43</td>\n",
       "      <td>392.0</td>\n",
       "      <td>0.025005</td>\n",
       "      <td>0.380991</td>\n",
       "      <td>0.479009</td>\n",
       "    </tr>\n",
       "    <tr>\n",
       "      <th>4</th>\n",
       "      <td>Arkansas</td>\n",
       "      <td>0.604363</td>\n",
       "      <td>0.56</td>\n",
       "      <td>930.0</td>\n",
       "      <td>0.016277</td>\n",
       "      <td>0.528097</td>\n",
       "      <td>0.591903</td>\n",
       "    </tr>\n",
       "  </tbody>\n",
       "</table>\n",
       "</div>"
      ],
      "text/plain": [
       "             State   Real TR  Prediction TR  Sample_size        SE     lower  \\\n",
       "0  Washington D.C.  0.041221           0.07        310.0  0.014491  0.041597   \n",
       "1          Alabama  0.628884           0.55       1131.0  0.014793  0.521006   \n",
       "2           Alaska  0.528878           0.48        409.0  0.024704  0.431582   \n",
       "3          Arizona  0.495031           0.43        392.0  0.025005  0.380991   \n",
       "4         Arkansas  0.604363           0.56        930.0  0.016277  0.528097   \n",
       "\n",
       "      upper  \n",
       "0  0.098403  \n",
       "1  0.578994  \n",
       "2  0.528418  \n",
       "3  0.479009  \n",
       "4  0.591903  "
      ]
     },
     "execution_count": 20,
     "metadata": {},
     "output_type": "execute_result"
    }
   ],
   "source": [
    "# 결과 확인\n",
    "TR.head()\n",
    "# CL.head()"
   ]
  },
  {
   "cell_type": "markdown",
   "id": "0edb0f40",
   "metadata": {},
   "source": [
    "#### **1-8.** 클린턴 후보와 트럼프 후보 각각의 여론조사 신뢰수준을 구하시오."
   ]
  },
  {
   "cell_type": "markdown",
   "id": "0a5a5cd1",
   "metadata": {},
   "source": [
    "##### 1) Clinton"
   ]
  },
  {
   "cell_type": "code",
   "execution_count": 21,
   "id": "36c9875a",
   "metadata": {},
   "outputs": [
    {
     "data": {
      "text/plain": [
       "0.6078431372549019"
      ]
     },
     "execution_count": 21,
     "metadata": {},
     "output_type": "execute_result"
    }
   ],
   "source": [
    "CL['CI'] = (CL['Real CL'] >= CL['lower']) & (CL['Real CL'] <= CL['upper'])\n",
    "\n",
    "# Clinton 신뢰수준\n",
    "CL['CI'].mean()\n",
    "\n",
    "# 95% 신뢰수준으로 추정했는데, 실제로는 61%"
   ]
  },
  {
   "cell_type": "markdown",
   "id": "c4516099",
   "metadata": {},
   "source": [
    "##### 2) Trump"
   ]
  },
  {
   "cell_type": "code",
   "execution_count": 22,
   "id": "ec916bda",
   "metadata": {},
   "outputs": [
    {
     "data": {
      "text/plain": [
       "0.21568627450980393"
      ]
     },
     "execution_count": 22,
     "metadata": {},
     "output_type": "execute_result"
    }
   ],
   "source": [
    "TR['CI'] = (TR['Real TR'] >= TR['lower']) & (TR['Real TR'] <= TR['upper'])\n",
    "\n",
    "# Trump 신뢰수준\n",
    "TR['CI'].mean()\n",
    "\n",
    "# 95% 신뢰수준으로 추정했는데, 실제로는 22%"
   ]
  },
  {
   "cell_type": "markdown",
   "id": "ba0e83bf",
   "metadata": {},
   "source": [
    "#### **1-9.** ✎ 왜 이런 결과가 나왔다고 생각하십니까? 개인의 생각을 자유롭게 서술하시오.\n",
    "참고1 : https://www.vox.com/policy-and-politics/2020/11/10/21551766/election-polls-results-wrong-david-shor\n",
    "\n",
    "참고2 : https://m.dongascience.com/news.php?idx=21722\n",
    "\n",
    "\"연구팀은 여론조사가 이뤄지던 사전 선거운동 기간 내의 오차 변화도 살폈다. 선거 200일 전부터 이뤄진 여론조사 결과와 최종 선거 결과 사이의 오차를 살펴본 결과, 예상대로 오차는 본선거에 가까워질수록 줄어들었다. 즉 정확도가 향상됐다. 선거 150일 전까지 4%대를 유지하던 오차는 50일 전에 3%대로 떨어졌고, 선거 전날에는 2% 대에 떨어졌다. 총선과 대선 사이에서는 대선의 등락이 훨씬 컸다. 대선은 200일 전에 6%에 달하던 오류율이 선거 전날 3% 대로 떨어졌다. 총선은 1940년대에도 3% 대의 오차를 보여 안정적이었다.\"(밑에서 2번째 문단)"
   ]
  },
  {
   "cell_type": "markdown",
   "id": "8dd093dc",
   "metadata": {},
   "source": [
    "여론조사와 본선거의 결과가 다른 이유는 크게 2가지가 있을 것이다.\n",
    "\n",
    "첫번째는 표본이 대표성을 가지지 못한 경우이다. 참고1을 보면 미국의 경우, 여론조사에 응답한 집단과 그렇지 않은 집단에 유의한 차이가 있다고 밝히고 있다. 따라서 조사를 진행할 때 이런 차이를 반영해서 가중치를 계산해줘야 하는데 이런 차이를 사전에 인식하지 못하면 편향된 결과가 나오게 되는 것이다.\n",
    "\n",
    "두번째는 본선거와 여론조사 사이의 기간이 먼 경우이다. 참고2를 보면 여론조사에서 본선거사이의 기간이 멀어질수록 정확도가 떨어진다고 했다. TR과 CL 데이터의 경우 days_to_election의 mean값으로 그 기간을 확인할 수 있는데, 구해보면 3.8일이다. 이는 참고2에 따르면 본선거로부터 50일, 100일 이상 떨어진 것이 아니므로 기간이 멀어서 여론조사와 본 선거의 결과가 다르다고 말하긴 어려울 것이다.\n",
    "실제로 1-4의 idxmin() 코드를 idxmax()로 바꿔서 돌려보면 본선거로부터 약 281일정도 떨어진 여론조사의 신뢰수준을 볼 수 있다. 결과는 Clinton의 경우 61% -> 49%, Trump의 경우 22% -> 0.09%로 기존 idxmin()에 비해 정확도가 더 떨어진 것을 확인할 수 있다.\n",
    "\n",
    "즉 2가지 요인 중 2번째에는 해당이 되지 않으므로 해당 여론조사는 표본이 대표성을 가지지 못했기 때문에 결과가 달라진 것으로 볼 수 있다."
   ]
  },
  {
   "cell_type": "code",
   "execution_count": 23,
   "id": "fbf2ca7b",
   "metadata": {},
   "outputs": [],
   "source": [
    "# 여론조사와 실제 선거 사이의 기간 구해보기 => days_to_election mean 값 구해보기\n",
    "# 1-4번 코드에서 del TR(CL)['days_to_election'] 코드만 주석 처리 후 실행한 코드 \n",
    "\n",
    "# polls 데이터 전처리 : CL\n",
    "CL_polls = polls.loc[:, ['state','Clinton','days_to_election', 'sample_size']]\n",
    "CL_polls = CL_polls.groupby('state').apply(lambda x : x.loc[x['days_to_election'].idxmin()]) # idxmax()\n",
    "\n",
    "del CL_polls['state']\n",
    "CL_polls.reset_index(inplace = True)\n",
    "CL_polls['state'] = CL_polls['state'].str.title()\n",
    "\n",
    "# del CL_polls['days_to_election'] 달라진 부분(1)\n",
    "CL_polls['state'] = CL_polls['state'].str.replace('-', ' ').replace('Dc','Washington D.C.')\n",
    "\n",
    "# polls 데이터 전처리 : TR\n",
    "TR_polls = polls.loc[:, ['state','Trump','days_to_election', 'sample_size']]\n",
    "TR_polls = TR_polls.groupby('state').apply(lambda x : x.loc[x['days_to_election'].idxmin()]) # idxmax()\n",
    "\n",
    "del TR_polls['state']\n",
    "TR_polls.reset_index(inplace = True)\n",
    "TR_polls['state'] = TR_polls['state'].str.title()\n",
    "\n",
    "# del TR_polls['days_to_election'] 달라진 부분(2)\n",
    "TR_polls['state'] = TR_polls['state'].str.replace('-', ' ').replace('Dc','Washington D.C.')\n",
    "\n",
    "# df merge \n",
    "# results 열 수정 State -> state Clinton -> Real CL, Trump -> Real TR\n",
    "results.rename(columns = {'State':'state', 'Clinton':'Real CL', 'Trump':'Real TR'}, inplace = True)\n",
    "CL_results = results.iloc[:,:2]\n",
    "TR_results = results.iloc[:,[0,2]]\n",
    "\n",
    "# State 기준 병합 / 열이름: State, Real, Prediction, Sample_size\n",
    "pre_CL = CL_results.merge(CL_polls, on='state', how = 'outer')\n",
    "CL = pre_CL.rename(columns = {'state':'State', 'Clinton':'Prediction CL','sample_size':'Sample_size'})\n",
    "\n",
    "pre_TR = TR_results.merge(TR_polls, on='state', how = 'outer')\n",
    "TR = pre_TR.rename(columns = {'state':'State', 'Trump':'Prediction TR','sample_size':'Sample_size'})"
   ]
  },
  {
   "cell_type": "code",
   "execution_count": 24,
   "id": "c12c4355",
   "metadata": {},
   "outputs": [
    {
     "name": "stdout",
     "output_type": "stream",
     "text": [
      "Trump의 여론조사와 선거 사이 기간 : 3.843137254901961\n",
      "Clinton의 여론조사와 선거 사이 기간 : 3.843137254901961\n"
     ]
    }
   ],
   "source": [
    "TR_dayelection_mean = TR['days_to_election'].mean()\n",
    "CL_dayelection_mean = CL['days_to_election'].mean()\n",
    "\n",
    "print(f'Trump의 여론조사와 선거 사이 기간 : {TR_dayelection_mean}')\n",
    "print(f'Clinton의 여론조사와 선거 사이 기간 : {CL_dayelection_mean}')"
   ]
  }
 ],
 "metadata": {
  "kernelspec": {
   "display_name": "Python 3 (ipykernel)",
   "language": "python",
   "name": "python3"
  },
  "language_info": {
   "codemirror_mode": {
    "name": "ipython",
    "version": 3
   },
   "file_extension": ".py",
   "mimetype": "text/x-python",
   "name": "python",
   "nbconvert_exporter": "python",
   "pygments_lexer": "ipython3",
   "version": "3.11.1"
  }
 },
 "nbformat": 4,
 "nbformat_minor": 5
}
