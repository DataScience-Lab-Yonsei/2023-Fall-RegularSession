{
 "cells": [
  {
   "cell_type": "markdown",
   "metadata": {},
   "source": [
    "## **23-2 DSL 기초과제 2**\n",
    "기수 : 10기 <br>\n",
    "이름 : 연제명"
   ]
  },
  {
   "cell_type": "code",
   "execution_count": 1,
   "metadata": {},
   "outputs": [],
   "source": [
    "import numpy as np\n",
    "import pandas as pd\n",
    "from matplotlib import pyplot as plt"
   ]
  },
  {
   "cell_type": "markdown",
   "metadata": {},
   "source": [
    "### **1. 2016 presidential election in US**"
   ]
  },
  {
   "cell_type": "markdown",
   "metadata": {},
   "source": [
    "https://elections.huffingtonpost.com/2016/forecast/president"
   ]
  },
  {
   "cell_type": "markdown",
   "metadata": {},
   "source": [
    "#### **1-1.** 자료 A와 자료 B를 각각 ‘pres’, ‘polls’라는 이름의 개체(DataFrame)로 저장하시오."
   ]
  },
  {
   "cell_type": "code",
   "execution_count": 2,
   "metadata": {},
   "outputs": [
    {
     "data": {
      "text/html": [
       "<div>\n",
       "<style scoped>\n",
       "    .dataframe tbody tr th:only-of-type {\n",
       "        vertical-align: middle;\n",
       "    }\n",
       "\n",
       "    .dataframe tbody tr th {\n",
       "        vertical-align: top;\n",
       "    }\n",
       "\n",
       "    .dataframe thead th {\n",
       "        text-align: right;\n",
       "    }\n",
       "</style>\n",
       "<table border=\"1\" class=\"dataframe\">\n",
       "  <thead>\n",
       "    <tr style=\"text-align: right;\">\n",
       "      <th></th>\n",
       "      <th>county</th>\n",
       "      <th>fips</th>\n",
       "      <th>cand</th>\n",
       "      <th>st</th>\n",
       "      <th>pct_report</th>\n",
       "      <th>votes</th>\n",
       "      <th>total_votes</th>\n",
       "      <th>lead</th>\n",
       "      <th>pct</th>\n",
       "      <th>state.name</th>\n",
       "    </tr>\n",
       "  </thead>\n",
       "  <tbody>\n",
       "    <tr>\n",
       "      <th>0</th>\n",
       "      <td>NaN</td>\n",
       "      <td>US</td>\n",
       "      <td>Donald Trump</td>\n",
       "      <td>US</td>\n",
       "      <td>0.9968</td>\n",
       "      <td>61195258</td>\n",
       "      <td>130180957</td>\n",
       "      <td>Donald Trump</td>\n",
       "      <td>0.470078</td>\n",
       "      <td>NaN</td>\n",
       "    </tr>\n",
       "    <tr>\n",
       "      <th>1</th>\n",
       "      <td>NaN</td>\n",
       "      <td>US</td>\n",
       "      <td>Hillary Clinton</td>\n",
       "      <td>US</td>\n",
       "      <td>0.9968</td>\n",
       "      <td>62521739</td>\n",
       "      <td>130180957</td>\n",
       "      <td>Donald Trump</td>\n",
       "      <td>0.480268</td>\n",
       "      <td>NaN</td>\n",
       "    </tr>\n",
       "    <tr>\n",
       "      <th>2</th>\n",
       "      <td>NaN</td>\n",
       "      <td>US</td>\n",
       "      <td>Gary Johnson</td>\n",
       "      <td>US</td>\n",
       "      <td>0.9968</td>\n",
       "      <td>4274900</td>\n",
       "      <td>130180957</td>\n",
       "      <td>Donald Trump</td>\n",
       "      <td>0.032838</td>\n",
       "      <td>NaN</td>\n",
       "    </tr>\n",
       "    <tr>\n",
       "      <th>3</th>\n",
       "      <td>NaN</td>\n",
       "      <td>US</td>\n",
       "      <td>Jill Stein</td>\n",
       "      <td>US</td>\n",
       "      <td>0.9968</td>\n",
       "      <td>1316040</td>\n",
       "      <td>130180957</td>\n",
       "      <td>Donald Trump</td>\n",
       "      <td>0.010109</td>\n",
       "      <td>NaN</td>\n",
       "    </tr>\n",
       "    <tr>\n",
       "      <th>4</th>\n",
       "      <td>NaN</td>\n",
       "      <td>US</td>\n",
       "      <td>Evan McMullin</td>\n",
       "      <td>US</td>\n",
       "      <td>0.9968</td>\n",
       "      <td>469770</td>\n",
       "      <td>130180957</td>\n",
       "      <td>Donald Trump</td>\n",
       "      <td>0.003609</td>\n",
       "      <td>NaN</td>\n",
       "    </tr>\n",
       "  </tbody>\n",
       "</table>\n",
       "</div>"
      ],
      "text/plain": [
       "  county fips             cand  st  pct_report     votes  total_votes  \\\n",
       "0    NaN   US     Donald Trump  US      0.9968  61195258    130180957   \n",
       "1    NaN   US  Hillary Clinton  US      0.9968  62521739    130180957   \n",
       "2    NaN   US     Gary Johnson  US      0.9968   4274900    130180957   \n",
       "3    NaN   US       Jill Stein  US      0.9968   1316040    130180957   \n",
       "4    NaN   US    Evan McMullin  US      0.9968    469770    130180957   \n",
       "\n",
       "           lead       pct state.name  \n",
       "0  Donald Trump  0.470078        NaN  \n",
       "1  Donald Trump  0.480268        NaN  \n",
       "2  Donald Trump  0.032838        NaN  \n",
       "3  Donald Trump  0.010109        NaN  \n",
       "4  Donald Trump  0.003609        NaN  "
      ]
     },
     "execution_count": 2,
     "metadata": {},
     "output_type": "execute_result"
    }
   ],
   "source": [
    "pres = pd.read_csv('./elementary2_dataset/turnout_2016.csv')\n",
    "pres.head()"
   ]
  },
  {
   "cell_type": "code",
   "execution_count": 3,
   "metadata": {},
   "outputs": [
    {
     "data": {
      "text/html": [
       "<div>\n",
       "<style scoped>\n",
       "    .dataframe tbody tr th:only-of-type {\n",
       "        vertical-align: middle;\n",
       "    }\n",
       "\n",
       "    .dataframe tbody tr th {\n",
       "        vertical-align: top;\n",
       "    }\n",
       "\n",
       "    .dataframe thead th {\n",
       "        text-align: right;\n",
       "    }\n",
       "</style>\n",
       "<table border=\"1\" class=\"dataframe\">\n",
       "  <thead>\n",
       "    <tr style=\"text-align: right;\">\n",
       "      <th></th>\n",
       "      <th>Unnamed: 0</th>\n",
       "      <th>id</th>\n",
       "      <th>state</th>\n",
       "      <th>Clinton</th>\n",
       "      <th>Trump</th>\n",
       "      <th>Undecided</th>\n",
       "      <th>days_to_election</th>\n",
       "      <th>electoral_votes</th>\n",
       "      <th>sample_size</th>\n",
       "    </tr>\n",
       "  </thead>\n",
       "  <tbody>\n",
       "    <tr>\n",
       "      <th>0</th>\n",
       "      <td>1</td>\n",
       "      <td>1</td>\n",
       "      <td>alabama</td>\n",
       "      <td>0.36</td>\n",
       "      <td>0.55</td>\n",
       "      <td>0.02</td>\n",
       "      <td>4</td>\n",
       "      <td>9</td>\n",
       "      <td>1131.0</td>\n",
       "    </tr>\n",
       "    <tr>\n",
       "      <th>1</th>\n",
       "      <td>2</td>\n",
       "      <td>2</td>\n",
       "      <td>alabama</td>\n",
       "      <td>0.37</td>\n",
       "      <td>0.58</td>\n",
       "      <td>0.05</td>\n",
       "      <td>5</td>\n",
       "      <td>9</td>\n",
       "      <td>341.0</td>\n",
       "    </tr>\n",
       "    <tr>\n",
       "      <th>2</th>\n",
       "      <td>3</td>\n",
       "      <td>3</td>\n",
       "      <td>alabama</td>\n",
       "      <td>0.38</td>\n",
       "      <td>0.54</td>\n",
       "      <td>0.08</td>\n",
       "      <td>12</td>\n",
       "      <td>9</td>\n",
       "      <td>585.0</td>\n",
       "    </tr>\n",
       "    <tr>\n",
       "      <th>3</th>\n",
       "      <td>4</td>\n",
       "      <td>4</td>\n",
       "      <td>alabama</td>\n",
       "      <td>0.35</td>\n",
       "      <td>0.55</td>\n",
       "      <td>0.03</td>\n",
       "      <td>11</td>\n",
       "      <td>9</td>\n",
       "      <td>485.0</td>\n",
       "    </tr>\n",
       "    <tr>\n",
       "      <th>4</th>\n",
       "      <td>5</td>\n",
       "      <td>5</td>\n",
       "      <td>alabama</td>\n",
       "      <td>0.37</td>\n",
       "      <td>0.58</td>\n",
       "      <td>0.05</td>\n",
       "      <td>13</td>\n",
       "      <td>9</td>\n",
       "      <td>349.0</td>\n",
       "    </tr>\n",
       "  </tbody>\n",
       "</table>\n",
       "</div>"
      ],
      "text/plain": [
       "   Unnamed: 0  id    state  Clinton  Trump  Undecided  days_to_election  \\\n",
       "0           1   1  alabama     0.36   0.55       0.02                 4   \n",
       "1           2   2  alabama     0.37   0.58       0.05                 5   \n",
       "2           3   3  alabama     0.38   0.54       0.08                12   \n",
       "3           4   4  alabama     0.35   0.55       0.03                11   \n",
       "4           5   5  alabama     0.37   0.58       0.05                13   \n",
       "\n",
       "   electoral_votes  sample_size  \n",
       "0                9       1131.0  \n",
       "1                9        341.0  \n",
       "2                9        585.0  \n",
       "3                9        485.0  \n",
       "4                9        349.0  "
      ]
     },
     "execution_count": 3,
     "metadata": {},
     "output_type": "execute_result"
    }
   ],
   "source": [
    "polls = pd.read_csv('./elementary2_dataset/polls_huffington.csv')\n",
    "polls.head()"
   ]
  },
  {
   "cell_type": "markdown",
   "metadata": {},
   "source": [
    "#### **1-2.** 자료 A에서 집계된 대선 후보의 이름을 확인하고, 몇 명의 후보가 집계되었는지 파악하시오."
   ]
  },
  {
   "cell_type": "code",
   "execution_count": 5,
   "metadata": {
    "scrolled": true
   },
   "outputs": [
    {
     "name": "stdout",
     "output_type": "stream",
     "text": [
      "집계된 출마 후보 = ['Donald Trump' 'Hillary Clinton' 'Gary Johnson' 'Jill Stein'\n",
      " 'Evan McMullin' 'Darrell Castle' 'Gloria La Riva' 'Rocky De La Fuente'\n",
      " 'Richard Duncan' 'Dan Vacek' 'Alyson Kennedy' 'Mike Smith'\n",
      " 'Chris Keniston' 'Lynn Kahn' 'Jim Hedges' 'Monica Moorehead'\n",
      " 'Peter Skewes' 'Emidio Soltysik' 'Scott Copeland' 'Rocky Giordani'\n",
      " 'Tom Hoefling' 'Laurence Kotlikoff' 'Kyle Kopitke' 'Joseph Maldonado'\n",
      " 'Michael Maturen' 'Princess Jacob' 'Ryan Scott' 'Rod Silva' 'Jerry White'\n",
      " 'Bradford Lyttle' 'Frank Atwood']\n",
      "집계된 출마 후보 수 = 31\n"
     ]
    }
   ],
   "source": [
    "candidates = pres.loc[pres['cand'] != ' None of these candidates', 'cand'].unique()\n",
    "num_candidates = len(candidates)\n",
    "\n",
    "print(\"집계된 출마 후보 =\", candidates)\n",
    "print(\"집계된 출마 후보 수 =\", num_candidates)"
   ]
  },
  {
   "cell_type": "markdown",
   "metadata": {},
   "source": [
    "#### **1-3.** 자료 A로 다음의 조건을 만족하는 새로운 개체(DataFrame) ‘results’를 만드시오.\n",
    "● 각 주에서의 클린턴 후보 득표율과 트럼프 후보 득표율을 저장 <br>\n",
    "● 총 열 개수는 3개가 되어야 함 - 열 이름 : State, Clinton, Trump <br>\n",
    "● 총 행 개수는 워싱턴 D.C.를 포함하여 51개가 되어야 함 <br>"
   ]
  },
  {
   "cell_type": "code",
   "execution_count": 6,
   "metadata": {},
   "outputs": [
    {
     "data": {
      "text/plain": [
       "array(['AK', 'AL', 'AR', 'AZ', 'CA', 'CO', 'CT', 'DC', 'DE', 'FL', 'GA',\n",
       "       'HI', 'IA', 'ID', 'IL', 'IN', 'KS', 'KY', 'LA', 'MA', 'MD', 'ME',\n",
       "       'MI', 'MN', 'MO', 'MS', 'MT', 'NC', 'ND', 'NE', 'NH', 'NJ', 'NM',\n",
       "       'NV', 'NY', 'OH', 'OK', 'OR', 'PA', 'RI', 'SC', 'SD', 'TN', 'TX',\n",
       "       'US', 'UT', 'VA', 'VT', 'WA', 'WI', 'WV', 'WY'], dtype=object)"
      ]
     },
     "execution_count": 6,
     "metadata": {},
     "output_type": "execute_result"
    }
   ],
   "source": [
    "# 주 이름(줄임말) 확인\n",
    "np.unique(pres['st'])"
   ]
  },
  {
   "cell_type": "code",
   "execution_count": 7,
   "metadata": {},
   "outputs": [
    {
     "data": {
      "text/plain": [
       "array(['AK', 'AL', 'AR', 'AZ', 'CA', 'CO', 'CT', 'DC', 'DE', 'FL', 'GA',\n",
       "       'HI', 'IA', 'ID', 'IL', 'IN', 'KS', 'KY', 'LA', 'MA', 'MD', 'ME',\n",
       "       'MI', 'MN', 'MO', 'MS', 'MT', 'NC', 'ND', 'NE', 'NH', 'NJ', 'NM',\n",
       "       'NV', 'NY', 'OH', 'OK', 'OR', 'PA', 'RI', 'SC', 'SD', 'TN', 'TX',\n",
       "       'UT', 'VA', 'VT', 'WA', 'WI', 'WV', 'WY'], dtype=object)"
      ]
     },
     "execution_count": 7,
     "metadata": {},
     "output_type": "execute_result"
    }
   ],
   "source": [
    "# 'US' 제거하기(현 상황에서 필요하지 않음)\n",
    "statelist = np.unique(pres['st'])\n",
    "statelist = np.delete(statelist, -8)\n",
    "statelist"
   ]
  },
  {
   "cell_type": "code",
   "execution_count": 8,
   "metadata": {},
   "outputs": [
    {
     "data": {
      "text/html": [
       "<div>\n",
       "<style scoped>\n",
       "    .dataframe tbody tr th:only-of-type {\n",
       "        vertical-align: middle;\n",
       "    }\n",
       "\n",
       "    .dataframe tbody tr th {\n",
       "        vertical-align: top;\n",
       "    }\n",
       "\n",
       "    .dataframe thead th {\n",
       "        text-align: right;\n",
       "    }\n",
       "</style>\n",
       "<table border=\"1\" class=\"dataframe\">\n",
       "  <thead>\n",
       "    <tr style=\"text-align: right;\">\n",
       "      <th></th>\n",
       "      <th>State</th>\n",
       "      <th>Clinton</th>\n",
       "      <th>Trump</th>\n",
       "    </tr>\n",
       "  </thead>\n",
       "  <tbody>\n",
       "  </tbody>\n",
       "</table>\n",
       "</div>"
      ],
      "text/plain": [
       "Empty DataFrame\n",
       "Columns: [State, Clinton, Trump]\n",
       "Index: []"
      ]
     },
     "execution_count": 8,
     "metadata": {},
     "output_type": "execute_result"
    }
   ],
   "source": [
    "# 비어있는 데이터프레임 만들기\n",
    "columns=['State','Clinton','Trump']\n",
    "results = pd.DataFrame(columns=columns)\n",
    "results"
   ]
  },
  {
   "cell_type": "code",
   "execution_count": 9,
   "metadata": {},
   "outputs": [
    {
     "name": "stderr",
     "output_type": "stream",
     "text": [
      "C:\\Users\\Yon\\AppData\\Local\\Temp\\ipykernel_6796\\23171030.py:5: FutureWarning: The frame.append method is deprecated and will be removed from pandas in a future version. Use pandas.concat instead.\n",
      "  results = results.append(pd.DataFrame([[i,A.iloc[1]['pct'],A.iloc[0]['pct']]], columns=columns), ignore_index=True)\n",
      "C:\\Users\\Yon\\AppData\\Local\\Temp\\ipykernel_6796\\23171030.py:5: FutureWarning: The frame.append method is deprecated and will be removed from pandas in a future version. Use pandas.concat instead.\n",
      "  results = results.append(pd.DataFrame([[i,A.iloc[1]['pct'],A.iloc[0]['pct']]], columns=columns), ignore_index=True)\n",
      "C:\\Users\\Yon\\AppData\\Local\\Temp\\ipykernel_6796\\23171030.py:5: FutureWarning: The frame.append method is deprecated and will be removed from pandas in a future version. Use pandas.concat instead.\n",
      "  results = results.append(pd.DataFrame([[i,A.iloc[1]['pct'],A.iloc[0]['pct']]], columns=columns), ignore_index=True)\n",
      "C:\\Users\\Yon\\AppData\\Local\\Temp\\ipykernel_6796\\23171030.py:5: FutureWarning: The frame.append method is deprecated and will be removed from pandas in a future version. Use pandas.concat instead.\n",
      "  results = results.append(pd.DataFrame([[i,A.iloc[1]['pct'],A.iloc[0]['pct']]], columns=columns), ignore_index=True)\n",
      "C:\\Users\\Yon\\AppData\\Local\\Temp\\ipykernel_6796\\23171030.py:5: FutureWarning: The frame.append method is deprecated and will be removed from pandas in a future version. Use pandas.concat instead.\n",
      "  results = results.append(pd.DataFrame([[i,A.iloc[1]['pct'],A.iloc[0]['pct']]], columns=columns), ignore_index=True)\n",
      "C:\\Users\\Yon\\AppData\\Local\\Temp\\ipykernel_6796\\23171030.py:5: FutureWarning: The frame.append method is deprecated and will be removed from pandas in a future version. Use pandas.concat instead.\n",
      "  results = results.append(pd.DataFrame([[i,A.iloc[1]['pct'],A.iloc[0]['pct']]], columns=columns), ignore_index=True)\n",
      "C:\\Users\\Yon\\AppData\\Local\\Temp\\ipykernel_6796\\23171030.py:5: FutureWarning: The frame.append method is deprecated and will be removed from pandas in a future version. Use pandas.concat instead.\n",
      "  results = results.append(pd.DataFrame([[i,A.iloc[1]['pct'],A.iloc[0]['pct']]], columns=columns), ignore_index=True)\n",
      "C:\\Users\\Yon\\AppData\\Local\\Temp\\ipykernel_6796\\23171030.py:5: FutureWarning: The frame.append method is deprecated and will be removed from pandas in a future version. Use pandas.concat instead.\n",
      "  results = results.append(pd.DataFrame([[i,A.iloc[1]['pct'],A.iloc[0]['pct']]], columns=columns), ignore_index=True)\n",
      "C:\\Users\\Yon\\AppData\\Local\\Temp\\ipykernel_6796\\23171030.py:5: FutureWarning: The frame.append method is deprecated and will be removed from pandas in a future version. Use pandas.concat instead.\n",
      "  results = results.append(pd.DataFrame([[i,A.iloc[1]['pct'],A.iloc[0]['pct']]], columns=columns), ignore_index=True)\n",
      "C:\\Users\\Yon\\AppData\\Local\\Temp\\ipykernel_6796\\23171030.py:5: FutureWarning: The frame.append method is deprecated and will be removed from pandas in a future version. Use pandas.concat instead.\n",
      "  results = results.append(pd.DataFrame([[i,A.iloc[1]['pct'],A.iloc[0]['pct']]], columns=columns), ignore_index=True)\n",
      "C:\\Users\\Yon\\AppData\\Local\\Temp\\ipykernel_6796\\23171030.py:5: FutureWarning: The frame.append method is deprecated and will be removed from pandas in a future version. Use pandas.concat instead.\n",
      "  results = results.append(pd.DataFrame([[i,A.iloc[1]['pct'],A.iloc[0]['pct']]], columns=columns), ignore_index=True)\n",
      "C:\\Users\\Yon\\AppData\\Local\\Temp\\ipykernel_6796\\23171030.py:5: FutureWarning: The frame.append method is deprecated and will be removed from pandas in a future version. Use pandas.concat instead.\n",
      "  results = results.append(pd.DataFrame([[i,A.iloc[1]['pct'],A.iloc[0]['pct']]], columns=columns), ignore_index=True)\n",
      "C:\\Users\\Yon\\AppData\\Local\\Temp\\ipykernel_6796\\23171030.py:5: FutureWarning: The frame.append method is deprecated and will be removed from pandas in a future version. Use pandas.concat instead.\n",
      "  results = results.append(pd.DataFrame([[i,A.iloc[1]['pct'],A.iloc[0]['pct']]], columns=columns), ignore_index=True)\n",
      "C:\\Users\\Yon\\AppData\\Local\\Temp\\ipykernel_6796\\23171030.py:5: FutureWarning: The frame.append method is deprecated and will be removed from pandas in a future version. Use pandas.concat instead.\n",
      "  results = results.append(pd.DataFrame([[i,A.iloc[1]['pct'],A.iloc[0]['pct']]], columns=columns), ignore_index=True)\n",
      "C:\\Users\\Yon\\AppData\\Local\\Temp\\ipykernel_6796\\23171030.py:5: FutureWarning: The frame.append method is deprecated and will be removed from pandas in a future version. Use pandas.concat instead.\n",
      "  results = results.append(pd.DataFrame([[i,A.iloc[1]['pct'],A.iloc[0]['pct']]], columns=columns), ignore_index=True)\n",
      "C:\\Users\\Yon\\AppData\\Local\\Temp\\ipykernel_6796\\23171030.py:5: FutureWarning: The frame.append method is deprecated and will be removed from pandas in a future version. Use pandas.concat instead.\n",
      "  results = results.append(pd.DataFrame([[i,A.iloc[1]['pct'],A.iloc[0]['pct']]], columns=columns), ignore_index=True)\n",
      "C:\\Users\\Yon\\AppData\\Local\\Temp\\ipykernel_6796\\23171030.py:5: FutureWarning: The frame.append method is deprecated and will be removed from pandas in a future version. Use pandas.concat instead.\n",
      "  results = results.append(pd.DataFrame([[i,A.iloc[1]['pct'],A.iloc[0]['pct']]], columns=columns), ignore_index=True)\n",
      "C:\\Users\\Yon\\AppData\\Local\\Temp\\ipykernel_6796\\23171030.py:5: FutureWarning: The frame.append method is deprecated and will be removed from pandas in a future version. Use pandas.concat instead.\n",
      "  results = results.append(pd.DataFrame([[i,A.iloc[1]['pct'],A.iloc[0]['pct']]], columns=columns), ignore_index=True)\n",
      "C:\\Users\\Yon\\AppData\\Local\\Temp\\ipykernel_6796\\23171030.py:5: FutureWarning: The frame.append method is deprecated and will be removed from pandas in a future version. Use pandas.concat instead.\n",
      "  results = results.append(pd.DataFrame([[i,A.iloc[1]['pct'],A.iloc[0]['pct']]], columns=columns), ignore_index=True)\n",
      "C:\\Users\\Yon\\AppData\\Local\\Temp\\ipykernel_6796\\23171030.py:5: FutureWarning: The frame.append method is deprecated and will be removed from pandas in a future version. Use pandas.concat instead.\n",
      "  results = results.append(pd.DataFrame([[i,A.iloc[1]['pct'],A.iloc[0]['pct']]], columns=columns), ignore_index=True)\n",
      "C:\\Users\\Yon\\AppData\\Local\\Temp\\ipykernel_6796\\23171030.py:5: FutureWarning: The frame.append method is deprecated and will be removed from pandas in a future version. Use pandas.concat instead.\n",
      "  results = results.append(pd.DataFrame([[i,A.iloc[1]['pct'],A.iloc[0]['pct']]], columns=columns), ignore_index=True)\n",
      "C:\\Users\\Yon\\AppData\\Local\\Temp\\ipykernel_6796\\23171030.py:5: FutureWarning: The frame.append method is deprecated and will be removed from pandas in a future version. Use pandas.concat instead.\n",
      "  results = results.append(pd.DataFrame([[i,A.iloc[1]['pct'],A.iloc[0]['pct']]], columns=columns), ignore_index=True)\n",
      "C:\\Users\\Yon\\AppData\\Local\\Temp\\ipykernel_6796\\23171030.py:5: FutureWarning: The frame.append method is deprecated and will be removed from pandas in a future version. Use pandas.concat instead.\n",
      "  results = results.append(pd.DataFrame([[i,A.iloc[1]['pct'],A.iloc[0]['pct']]], columns=columns), ignore_index=True)\n",
      "C:\\Users\\Yon\\AppData\\Local\\Temp\\ipykernel_6796\\23171030.py:5: FutureWarning: The frame.append method is deprecated and will be removed from pandas in a future version. Use pandas.concat instead.\n",
      "  results = results.append(pd.DataFrame([[i,A.iloc[1]['pct'],A.iloc[0]['pct']]], columns=columns), ignore_index=True)\n",
      "C:\\Users\\Yon\\AppData\\Local\\Temp\\ipykernel_6796\\23171030.py:5: FutureWarning: The frame.append method is deprecated and will be removed from pandas in a future version. Use pandas.concat instead.\n",
      "  results = results.append(pd.DataFrame([[i,A.iloc[1]['pct'],A.iloc[0]['pct']]], columns=columns), ignore_index=True)\n",
      "C:\\Users\\Yon\\AppData\\Local\\Temp\\ipykernel_6796\\23171030.py:5: FutureWarning: The frame.append method is deprecated and will be removed from pandas in a future version. Use pandas.concat instead.\n",
      "  results = results.append(pd.DataFrame([[i,A.iloc[1]['pct'],A.iloc[0]['pct']]], columns=columns), ignore_index=True)\n",
      "C:\\Users\\Yon\\AppData\\Local\\Temp\\ipykernel_6796\\23171030.py:5: FutureWarning: The frame.append method is deprecated and will be removed from pandas in a future version. Use pandas.concat instead.\n",
      "  results = results.append(pd.DataFrame([[i,A.iloc[1]['pct'],A.iloc[0]['pct']]], columns=columns), ignore_index=True)\n",
      "C:\\Users\\Yon\\AppData\\Local\\Temp\\ipykernel_6796\\23171030.py:5: FutureWarning: The frame.append method is deprecated and will be removed from pandas in a future version. Use pandas.concat instead.\n",
      "  results = results.append(pd.DataFrame([[i,A.iloc[1]['pct'],A.iloc[0]['pct']]], columns=columns), ignore_index=True)\n",
      "C:\\Users\\Yon\\AppData\\Local\\Temp\\ipykernel_6796\\23171030.py:5: FutureWarning: The frame.append method is deprecated and will be removed from pandas in a future version. Use pandas.concat instead.\n",
      "  results = results.append(pd.DataFrame([[i,A.iloc[1]['pct'],A.iloc[0]['pct']]], columns=columns), ignore_index=True)\n",
      "C:\\Users\\Yon\\AppData\\Local\\Temp\\ipykernel_6796\\23171030.py:5: FutureWarning: The frame.append method is deprecated and will be removed from pandas in a future version. Use pandas.concat instead.\n",
      "  results = results.append(pd.DataFrame([[i,A.iloc[1]['pct'],A.iloc[0]['pct']]], columns=columns), ignore_index=True)\n",
      "C:\\Users\\Yon\\AppData\\Local\\Temp\\ipykernel_6796\\23171030.py:5: FutureWarning: The frame.append method is deprecated and will be removed from pandas in a future version. Use pandas.concat instead.\n",
      "  results = results.append(pd.DataFrame([[i,A.iloc[1]['pct'],A.iloc[0]['pct']]], columns=columns), ignore_index=True)\n",
      "C:\\Users\\Yon\\AppData\\Local\\Temp\\ipykernel_6796\\23171030.py:5: FutureWarning: The frame.append method is deprecated and will be removed from pandas in a future version. Use pandas.concat instead.\n",
      "  results = results.append(pd.DataFrame([[i,A.iloc[1]['pct'],A.iloc[0]['pct']]], columns=columns), ignore_index=True)\n",
      "C:\\Users\\Yon\\AppData\\Local\\Temp\\ipykernel_6796\\23171030.py:5: FutureWarning: The frame.append method is deprecated and will be removed from pandas in a future version. Use pandas.concat instead.\n",
      "  results = results.append(pd.DataFrame([[i,A.iloc[1]['pct'],A.iloc[0]['pct']]], columns=columns), ignore_index=True)\n",
      "C:\\Users\\Yon\\AppData\\Local\\Temp\\ipykernel_6796\\23171030.py:5: FutureWarning: The frame.append method is deprecated and will be removed from pandas in a future version. Use pandas.concat instead.\n",
      "  results = results.append(pd.DataFrame([[i,A.iloc[1]['pct'],A.iloc[0]['pct']]], columns=columns), ignore_index=True)\n",
      "C:\\Users\\Yon\\AppData\\Local\\Temp\\ipykernel_6796\\23171030.py:5: FutureWarning: The frame.append method is deprecated and will be removed from pandas in a future version. Use pandas.concat instead.\n",
      "  results = results.append(pd.DataFrame([[i,A.iloc[1]['pct'],A.iloc[0]['pct']]], columns=columns), ignore_index=True)\n",
      "C:\\Users\\Yon\\AppData\\Local\\Temp\\ipykernel_6796\\23171030.py:5: FutureWarning: The frame.append method is deprecated and will be removed from pandas in a future version. Use pandas.concat instead.\n",
      "  results = results.append(pd.DataFrame([[i,A.iloc[1]['pct'],A.iloc[0]['pct']]], columns=columns), ignore_index=True)\n",
      "C:\\Users\\Yon\\AppData\\Local\\Temp\\ipykernel_6796\\23171030.py:5: FutureWarning: The frame.append method is deprecated and will be removed from pandas in a future version. Use pandas.concat instead.\n",
      "  results = results.append(pd.DataFrame([[i,A.iloc[1]['pct'],A.iloc[0]['pct']]], columns=columns), ignore_index=True)\n",
      "C:\\Users\\Yon\\AppData\\Local\\Temp\\ipykernel_6796\\23171030.py:5: FutureWarning: The frame.append method is deprecated and will be removed from pandas in a future version. Use pandas.concat instead.\n",
      "  results = results.append(pd.DataFrame([[i,A.iloc[1]['pct'],A.iloc[0]['pct']]], columns=columns), ignore_index=True)\n",
      "C:\\Users\\Yon\\AppData\\Local\\Temp\\ipykernel_6796\\23171030.py:5: FutureWarning: The frame.append method is deprecated and will be removed from pandas in a future version. Use pandas.concat instead.\n",
      "  results = results.append(pd.DataFrame([[i,A.iloc[1]['pct'],A.iloc[0]['pct']]], columns=columns), ignore_index=True)\n"
     ]
    },
    {
     "name": "stderr",
     "output_type": "stream",
     "text": [
      "C:\\Users\\Yon\\AppData\\Local\\Temp\\ipykernel_6796\\23171030.py:5: FutureWarning: The frame.append method is deprecated and will be removed from pandas in a future version. Use pandas.concat instead.\n",
      "  results = results.append(pd.DataFrame([[i,A.iloc[1]['pct'],A.iloc[0]['pct']]], columns=columns), ignore_index=True)\n",
      "C:\\Users\\Yon\\AppData\\Local\\Temp\\ipykernel_6796\\23171030.py:5: FutureWarning: The frame.append method is deprecated and will be removed from pandas in a future version. Use pandas.concat instead.\n",
      "  results = results.append(pd.DataFrame([[i,A.iloc[1]['pct'],A.iloc[0]['pct']]], columns=columns), ignore_index=True)\n",
      "C:\\Users\\Yon\\AppData\\Local\\Temp\\ipykernel_6796\\23171030.py:5: FutureWarning: The frame.append method is deprecated and will be removed from pandas in a future version. Use pandas.concat instead.\n",
      "  results = results.append(pd.DataFrame([[i,A.iloc[1]['pct'],A.iloc[0]['pct']]], columns=columns), ignore_index=True)\n",
      "C:\\Users\\Yon\\AppData\\Local\\Temp\\ipykernel_6796\\23171030.py:5: FutureWarning: The frame.append method is deprecated and will be removed from pandas in a future version. Use pandas.concat instead.\n",
      "  results = results.append(pd.DataFrame([[i,A.iloc[1]['pct'],A.iloc[0]['pct']]], columns=columns), ignore_index=True)\n",
      "C:\\Users\\Yon\\AppData\\Local\\Temp\\ipykernel_6796\\23171030.py:5: FutureWarning: The frame.append method is deprecated and will be removed from pandas in a future version. Use pandas.concat instead.\n",
      "  results = results.append(pd.DataFrame([[i,A.iloc[1]['pct'],A.iloc[0]['pct']]], columns=columns), ignore_index=True)\n",
      "C:\\Users\\Yon\\AppData\\Local\\Temp\\ipykernel_6796\\23171030.py:5: FutureWarning: The frame.append method is deprecated and will be removed from pandas in a future version. Use pandas.concat instead.\n",
      "  results = results.append(pd.DataFrame([[i,A.iloc[1]['pct'],A.iloc[0]['pct']]], columns=columns), ignore_index=True)\n",
      "C:\\Users\\Yon\\AppData\\Local\\Temp\\ipykernel_6796\\23171030.py:5: FutureWarning: The frame.append method is deprecated and will be removed from pandas in a future version. Use pandas.concat instead.\n",
      "  results = results.append(pd.DataFrame([[i,A.iloc[1]['pct'],A.iloc[0]['pct']]], columns=columns), ignore_index=True)\n",
      "C:\\Users\\Yon\\AppData\\Local\\Temp\\ipykernel_6796\\23171030.py:5: FutureWarning: The frame.append method is deprecated and will be removed from pandas in a future version. Use pandas.concat instead.\n",
      "  results = results.append(pd.DataFrame([[i,A.iloc[1]['pct'],A.iloc[0]['pct']]], columns=columns), ignore_index=True)\n",
      "C:\\Users\\Yon\\AppData\\Local\\Temp\\ipykernel_6796\\23171030.py:5: FutureWarning: The frame.append method is deprecated and will be removed from pandas in a future version. Use pandas.concat instead.\n",
      "  results = results.append(pd.DataFrame([[i,A.iloc[1]['pct'],A.iloc[0]['pct']]], columns=columns), ignore_index=True)\n",
      "C:\\Users\\Yon\\AppData\\Local\\Temp\\ipykernel_6796\\23171030.py:5: FutureWarning: The frame.append method is deprecated and will be removed from pandas in a future version. Use pandas.concat instead.\n",
      "  results = results.append(pd.DataFrame([[i,A.iloc[1]['pct'],A.iloc[0]['pct']]], columns=columns), ignore_index=True)\n",
      "C:\\Users\\Yon\\AppData\\Local\\Temp\\ipykernel_6796\\23171030.py:5: FutureWarning: The frame.append method is deprecated and will be removed from pandas in a future version. Use pandas.concat instead.\n",
      "  results = results.append(pd.DataFrame([[i,A.iloc[1]['pct'],A.iloc[0]['pct']]], columns=columns), ignore_index=True)\n",
      "C:\\Users\\Yon\\AppData\\Local\\Temp\\ipykernel_6796\\23171030.py:5: FutureWarning: The frame.append method is deprecated and will be removed from pandas in a future version. Use pandas.concat instead.\n",
      "  results = results.append(pd.DataFrame([[i,A.iloc[1]['pct'],A.iloc[0]['pct']]], columns=columns), ignore_index=True)\n"
     ]
    }
   ],
   "source": [
    "# for문으로 행 순차적으로 채우기\n",
    "# 빈칸에는 알맞은 메소드가 들어가야 합니다.\n",
    "for i in statelist:\n",
    "    A = pres.loc[(pres['st']==i) & (pres['fips']==i)] # 또는 (pres['st']==i) & (pres['county'].isnull())\n",
    "    results = results.append(pd.DataFrame([[i,A.iloc[1]['pct'],A.iloc[0]['pct']]], columns=columns), ignore_index=True)   "
   ]
  },
  {
   "cell_type": "code",
   "execution_count": 10,
   "metadata": {},
   "outputs": [
    {
     "data": {
      "text/html": [
       "<div>\n",
       "<style scoped>\n",
       "    .dataframe tbody tr th:only-of-type {\n",
       "        vertical-align: middle;\n",
       "    }\n",
       "\n",
       "    .dataframe tbody tr th {\n",
       "        vertical-align: top;\n",
       "    }\n",
       "\n",
       "    .dataframe thead th {\n",
       "        text-align: right;\n",
       "    }\n",
       "</style>\n",
       "<table border=\"1\" class=\"dataframe\">\n",
       "  <thead>\n",
       "    <tr style=\"text-align: right;\">\n",
       "      <th></th>\n",
       "      <th>State</th>\n",
       "      <th>Clinton</th>\n",
       "      <th>Trump</th>\n",
       "    </tr>\n",
       "  </thead>\n",
       "  <tbody>\n",
       "    <tr>\n",
       "      <th>0</th>\n",
       "      <td>AK</td>\n",
       "      <td>0.377176</td>\n",
       "      <td>0.528878</td>\n",
       "    </tr>\n",
       "    <tr>\n",
       "      <th>1</th>\n",
       "      <td>AL</td>\n",
       "      <td>0.345538</td>\n",
       "      <td>0.628884</td>\n",
       "    </tr>\n",
       "    <tr>\n",
       "      <th>2</th>\n",
       "      <td>AR</td>\n",
       "      <td>0.337643</td>\n",
       "      <td>0.604363</td>\n",
       "    </tr>\n",
       "    <tr>\n",
       "      <th>3</th>\n",
       "      <td>AZ</td>\n",
       "      <td>0.453871</td>\n",
       "      <td>0.495031</td>\n",
       "    </tr>\n",
       "    <tr>\n",
       "      <th>4</th>\n",
       "      <td>CA</td>\n",
       "      <td>0.327598</td>\n",
       "      <td>0.615885</td>\n",
       "    </tr>\n",
       "    <tr>\n",
       "      <th>5</th>\n",
       "      <td>CO</td>\n",
       "      <td>0.443593</td>\n",
       "      <td>0.472746</td>\n",
       "    </tr>\n",
       "    <tr>\n",
       "      <th>6</th>\n",
       "      <td>CT</td>\n",
       "      <td>0.411610</td>\n",
       "      <td>0.544755</td>\n",
       "    </tr>\n",
       "    <tr>\n",
       "      <th>7</th>\n",
       "      <td>DC</td>\n",
       "      <td>0.041221</td>\n",
       "      <td>0.928466</td>\n",
       "    </tr>\n",
       "    <tr>\n",
       "      <th>8</th>\n",
       "      <td>DE</td>\n",
       "      <td>0.419226</td>\n",
       "      <td>0.533550</td>\n",
       "    </tr>\n",
       "    <tr>\n",
       "      <th>9</th>\n",
       "      <td>FL</td>\n",
       "      <td>0.477881</td>\n",
       "      <td>0.490640</td>\n",
       "    </tr>\n",
       "    <tr>\n",
       "      <th>10</th>\n",
       "      <td>GA</td>\n",
       "      <td>0.455955</td>\n",
       "      <td>0.513361</td>\n",
       "    </tr>\n",
       "    <tr>\n",
       "      <th>11</th>\n",
       "      <td>HI</td>\n",
       "      <td>0.300391</td>\n",
       "      <td>0.622228</td>\n",
       "    </tr>\n",
       "    <tr>\n",
       "      <th>12</th>\n",
       "      <td>IA</td>\n",
       "      <td>0.421802</td>\n",
       "      <td>0.517813</td>\n",
       "    </tr>\n",
       "    <tr>\n",
       "      <th>13</th>\n",
       "      <td>ID</td>\n",
       "      <td>0.275599</td>\n",
       "      <td>0.591657</td>\n",
       "    </tr>\n",
       "    <tr>\n",
       "      <th>14</th>\n",
       "      <td>IL</td>\n",
       "      <td>0.394133</td>\n",
       "      <td>0.554027</td>\n",
       "    </tr>\n",
       "    <tr>\n",
       "      <th>15</th>\n",
       "      <td>IN</td>\n",
       "      <td>0.379112</td>\n",
       "      <td>0.571713</td>\n",
       "    </tr>\n",
       "    <tr>\n",
       "      <th>16</th>\n",
       "      <td>KS</td>\n",
       "      <td>0.361584</td>\n",
       "      <td>0.571863</td>\n",
       "    </tr>\n",
       "    <tr>\n",
       "      <th>17</th>\n",
       "      <td>KY</td>\n",
       "      <td>0.326948</td>\n",
       "      <td>0.625442</td>\n",
       "    </tr>\n",
       "    <tr>\n",
       "      <th>18</th>\n",
       "      <td>LA</td>\n",
       "      <td>0.384437</td>\n",
       "      <td>0.580947</td>\n",
       "    </tr>\n",
       "    <tr>\n",
       "      <th>19</th>\n",
       "      <td>MA</td>\n",
       "      <td>0.335157</td>\n",
       "      <td>0.607999</td>\n",
       "    </tr>\n",
       "    <tr>\n",
       "      <th>20</th>\n",
       "      <td>MD</td>\n",
       "      <td>0.353053</td>\n",
       "      <td>0.605345</td>\n",
       "    </tr>\n",
       "    <tr>\n",
       "      <th>21</th>\n",
       "      <td>ME</td>\n",
       "      <td>0.451538</td>\n",
       "      <td>0.478556</td>\n",
       "    </tr>\n",
       "    <tr>\n",
       "      <th>22</th>\n",
       "      <td>MI</td>\n",
       "      <td>0.473436</td>\n",
       "      <td>0.475860</td>\n",
       "    </tr>\n",
       "    <tr>\n",
       "      <th>23</th>\n",
       "      <td>MN</td>\n",
       "      <td>0.453603</td>\n",
       "      <td>0.468617</td>\n",
       "    </tr>\n",
       "    <tr>\n",
       "      <th>24</th>\n",
       "      <td>MO</td>\n",
       "      <td>0.380127</td>\n",
       "      <td>0.571422</td>\n",
       "    </tr>\n",
       "    <tr>\n",
       "      <th>25</th>\n",
       "      <td>MS</td>\n",
       "      <td>0.397254</td>\n",
       "      <td>0.583375</td>\n",
       "    </tr>\n",
       "    <tr>\n",
       "      <th>26</th>\n",
       "      <td>MT</td>\n",
       "      <td>0.359756</td>\n",
       "      <td>0.565069</td>\n",
       "    </tr>\n",
       "    <tr>\n",
       "      <th>27</th>\n",
       "      <td>NC</td>\n",
       "      <td>0.467024</td>\n",
       "      <td>0.505372</td>\n",
       "    </tr>\n",
       "    <tr>\n",
       "      <th>28</th>\n",
       "      <td>ND</td>\n",
       "      <td>0.277552</td>\n",
       "      <td>0.641405</td>\n",
       "    </tr>\n",
       "    <tr>\n",
       "      <th>29</th>\n",
       "      <td>NE</td>\n",
       "      <td>0.339927</td>\n",
       "      <td>0.603024</td>\n",
       "    </tr>\n",
       "    <tr>\n",
       "      <th>30</th>\n",
       "      <td>NH</td>\n",
       "      <td>0.472242</td>\n",
       "      <td>0.475973</td>\n",
       "    </tr>\n",
       "    <tr>\n",
       "      <th>31</th>\n",
       "      <td>NJ</td>\n",
       "      <td>0.417839</td>\n",
       "      <td>0.550154</td>\n",
       "    </tr>\n",
       "    <tr>\n",
       "      <th>32</th>\n",
       "      <td>NM</td>\n",
       "      <td>0.400429</td>\n",
       "      <td>0.482637</td>\n",
       "    </tr>\n",
       "    <tr>\n",
       "      <th>33</th>\n",
       "      <td>NV</td>\n",
       "      <td>0.455319</td>\n",
       "      <td>0.478858</td>\n",
       "    </tr>\n",
       "    <tr>\n",
       "      <th>34</th>\n",
       "      <td>NY</td>\n",
       "      <td>0.374752</td>\n",
       "      <td>0.588103</td>\n",
       "    </tr>\n",
       "    <tr>\n",
       "      <th>35</th>\n",
       "      <td>OH</td>\n",
       "      <td>0.435085</td>\n",
       "      <td>0.520522</td>\n",
       "    </tr>\n",
       "    <tr>\n",
       "      <th>36</th>\n",
       "      <td>OK</td>\n",
       "      <td>0.289298</td>\n",
       "      <td>0.653272</td>\n",
       "    </tr>\n",
       "    <tr>\n",
       "      <th>37</th>\n",
       "      <td>OR</td>\n",
       "      <td>0.410548</td>\n",
       "      <td>0.516778</td>\n",
       "    </tr>\n",
       "    <tr>\n",
       "      <th>38</th>\n",
       "      <td>PA</td>\n",
       "      <td>0.476491</td>\n",
       "      <td>0.487921</td>\n",
       "    </tr>\n",
       "    <tr>\n",
       "      <th>39</th>\n",
       "      <td>RI</td>\n",
       "      <td>0.398017</td>\n",
       "      <td>0.554368</td>\n",
       "    </tr>\n",
       "    <tr>\n",
       "      <th>40</th>\n",
       "      <td>SC</td>\n",
       "      <td>0.407528</td>\n",
       "      <td>0.548641</td>\n",
       "    </tr>\n",
       "    <tr>\n",
       "      <th>41</th>\n",
       "      <td>SD</td>\n",
       "      <td>0.317370</td>\n",
       "      <td>0.615330</td>\n",
       "    </tr>\n",
       "    <tr>\n",
       "      <th>42</th>\n",
       "      <td>TN</td>\n",
       "      <td>0.348981</td>\n",
       "      <td>0.610700</td>\n",
       "    </tr>\n",
       "    <tr>\n",
       "      <th>43</th>\n",
       "      <td>TX</td>\n",
       "      <td>0.434428</td>\n",
       "      <td>0.525830</td>\n",
       "    </tr>\n",
       "    <tr>\n",
       "      <th>44</th>\n",
       "      <td>UT</td>\n",
       "      <td>0.278376</td>\n",
       "      <td>0.458991</td>\n",
       "    </tr>\n",
       "    <tr>\n",
       "      <th>45</th>\n",
       "      <td>VA</td>\n",
       "      <td>0.450261</td>\n",
       "      <td>0.498557</td>\n",
       "    </tr>\n",
       "    <tr>\n",
       "      <th>46</th>\n",
       "      <td>VT</td>\n",
       "      <td>0.326180</td>\n",
       "      <td>0.611431</td>\n",
       "    </tr>\n",
       "    <tr>\n",
       "      <th>47</th>\n",
       "      <td>WA</td>\n",
       "      <td>0.381725</td>\n",
       "      <td>0.544475</td>\n",
       "    </tr>\n",
       "    <tr>\n",
       "      <th>48</th>\n",
       "      <td>WI</td>\n",
       "      <td>0.470095</td>\n",
       "      <td>0.477882</td>\n",
       "    </tr>\n",
       "    <tr>\n",
       "      <th>49</th>\n",
       "      <td>WV</td>\n",
       "      <td>0.264685</td>\n",
       "      <td>0.686501</td>\n",
       "    </tr>\n",
       "    <tr>\n",
       "      <th>50</th>\n",
       "      <td>WY</td>\n",
       "      <td>0.224928</td>\n",
       "      <td>0.700517</td>\n",
       "    </tr>\n",
       "  </tbody>\n",
       "</table>\n",
       "</div>"
      ],
      "text/plain": [
       "   State   Clinton     Trump\n",
       "0     AK  0.377176  0.528878\n",
       "1     AL  0.345538  0.628884\n",
       "2     AR  0.337643  0.604363\n",
       "3     AZ  0.453871  0.495031\n",
       "4     CA  0.327598  0.615885\n",
       "5     CO  0.443593  0.472746\n",
       "6     CT  0.411610  0.544755\n",
       "7     DC  0.041221  0.928466\n",
       "8     DE  0.419226  0.533550\n",
       "9     FL  0.477881  0.490640\n",
       "10    GA  0.455955  0.513361\n",
       "11    HI  0.300391  0.622228\n",
       "12    IA  0.421802  0.517813\n",
       "13    ID  0.275599  0.591657\n",
       "14    IL  0.394133  0.554027\n",
       "15    IN  0.379112  0.571713\n",
       "16    KS  0.361584  0.571863\n",
       "17    KY  0.326948  0.625442\n",
       "18    LA  0.384437  0.580947\n",
       "19    MA  0.335157  0.607999\n",
       "20    MD  0.353053  0.605345\n",
       "21    ME  0.451538  0.478556\n",
       "22    MI  0.473436  0.475860\n",
       "23    MN  0.453603  0.468617\n",
       "24    MO  0.380127  0.571422\n",
       "25    MS  0.397254  0.583375\n",
       "26    MT  0.359756  0.565069\n",
       "27    NC  0.467024  0.505372\n",
       "28    ND  0.277552  0.641405\n",
       "29    NE  0.339927  0.603024\n",
       "30    NH  0.472242  0.475973\n",
       "31    NJ  0.417839  0.550154\n",
       "32    NM  0.400429  0.482637\n",
       "33    NV  0.455319  0.478858\n",
       "34    NY  0.374752  0.588103\n",
       "35    OH  0.435085  0.520522\n",
       "36    OK  0.289298  0.653272\n",
       "37    OR  0.410548  0.516778\n",
       "38    PA  0.476491  0.487921\n",
       "39    RI  0.398017  0.554368\n",
       "40    SC  0.407528  0.548641\n",
       "41    SD  0.317370  0.615330\n",
       "42    TN  0.348981  0.610700\n",
       "43    TX  0.434428  0.525830\n",
       "44    UT  0.278376  0.458991\n",
       "45    VA  0.450261  0.498557\n",
       "46    VT  0.326180  0.611431\n",
       "47    WA  0.381725  0.544475\n",
       "48    WI  0.470095  0.477882\n",
       "49    WV  0.264685  0.686501\n",
       "50    WY  0.224928  0.700517"
      ]
     },
     "execution_count": 10,
     "metadata": {},
     "output_type": "execute_result"
    }
   ],
   "source": [
    "# 결과 확인\n",
    "results"
   ]
  },
  {
   "cell_type": "markdown",
   "metadata": {},
   "source": [
    "#### **1-4.** 다음의 조건을 만족하는 새로운 개체(DataFrame) ‘CL’ 및 ‘TR’을 만드시오.\n",
    "● CL : 클린턴 후보의 자료, TR : 트럼프 후보의 자료 <br>\n",
    "● 50개 주 각각에서 후보의 실제 득표율, 예측 득표율, 표본 수를 저장 <br>\n",
    "● 예측 득표율의 경우, 선거일 기준 가장 최근의 날짜에 집계된 결과만 활용(누적된 결과이므로) <br>\n",
    "● 총 열 개수는 4개가 되어야 함 - 열 이름 : State, Real, Prediction, Sample_size <br>\n",
    "● 총 행 개수는 워싱턴 D.C.를 포함하여 51개가 되어야 함 <br>"
   ]
  },
  {
   "cell_type": "code",
   "execution_count": 11,
   "metadata": {},
   "outputs": [
    {
     "data": {
      "text/html": [
       "<div>\n",
       "<style scoped>\n",
       "    .dataframe tbody tr th:only-of-type {\n",
       "        vertical-align: middle;\n",
       "    }\n",
       "\n",
       "    .dataframe tbody tr th {\n",
       "        vertical-align: top;\n",
       "    }\n",
       "\n",
       "    .dataframe thead th {\n",
       "        text-align: right;\n",
       "    }\n",
       "</style>\n",
       "<table border=\"1\" class=\"dataframe\">\n",
       "  <thead>\n",
       "    <tr style=\"text-align: right;\">\n",
       "      <th></th>\n",
       "      <th>State</th>\n",
       "      <th>Real</th>\n",
       "      <th>Prediction</th>\n",
       "      <th>Sample_size</th>\n",
       "    </tr>\n",
       "  </thead>\n",
       "  <tbody>\n",
       "  </tbody>\n",
       "</table>\n",
       "</div>"
      ],
      "text/plain": [
       "Empty DataFrame\n",
       "Columns: [State, Real, Prediction, Sample_size]\n",
       "Index: []"
      ]
     },
     "execution_count": 11,
     "metadata": {},
     "output_type": "execute_result"
    }
   ],
   "source": [
    "# 빈 데이터프레임 만들기\n",
    "columns2 = ['State','Real','Prediction','Sample_size']\n",
    "CL = pd.DataFrame(columns=columns2)\n",
    "CL"
   ]
  },
  {
   "cell_type": "code",
   "execution_count": 12,
   "metadata": {},
   "outputs": [
    {
     "data": {
      "text/plain": [
       "51"
      ]
     },
     "execution_count": 12,
     "metadata": {},
     "output_type": "execute_result"
    }
   ],
   "source": [
    "# 주 이름 모음\n",
    "statelist2 = np.unique(polls['state'])\n",
    "len(statelist2)"
   ]
  },
  {
   "cell_type": "code",
   "execution_count": 13,
   "metadata": {
    "scrolled": false
   },
   "outputs": [
    {
     "data": {
      "text/html": [
       "<div>\n",
       "<style scoped>\n",
       "    .dataframe tbody tr th:only-of-type {\n",
       "        vertical-align: middle;\n",
       "    }\n",
       "\n",
       "    .dataframe tbody tr th {\n",
       "        vertical-align: top;\n",
       "    }\n",
       "\n",
       "    .dataframe thead th {\n",
       "        text-align: right;\n",
       "    }\n",
       "</style>\n",
       "<table border=\"1\" class=\"dataframe\">\n",
       "  <thead>\n",
       "    <tr style=\"text-align: right;\">\n",
       "      <th></th>\n",
       "      <th>index</th>\n",
       "      <th>Unnamed: 0</th>\n",
       "      <th>id</th>\n",
       "      <th>state</th>\n",
       "      <th>Clinton</th>\n",
       "      <th>Trump</th>\n",
       "      <th>Undecided</th>\n",
       "      <th>days_to_election</th>\n",
       "      <th>electoral_votes</th>\n",
       "      <th>sample_size</th>\n",
       "    </tr>\n",
       "  </thead>\n",
       "  <tbody>\n",
       "    <tr>\n",
       "      <th>0</th>\n",
       "      <td>0</td>\n",
       "      <td>1</td>\n",
       "      <td>1</td>\n",
       "      <td>alabama</td>\n",
       "      <td>0.36</td>\n",
       "      <td>0.55</td>\n",
       "      <td>0.02</td>\n",
       "      <td>4</td>\n",
       "      <td>9</td>\n",
       "      <td>1131.0</td>\n",
       "    </tr>\n",
       "    <tr>\n",
       "      <th>1</th>\n",
       "      <td>12</td>\n",
       "      <td>13</td>\n",
       "      <td>13</td>\n",
       "      <td>alaska</td>\n",
       "      <td>0.31</td>\n",
       "      <td>0.48</td>\n",
       "      <td>0.03</td>\n",
       "      <td>4</td>\n",
       "      <td>3</td>\n",
       "      <td>409.0</td>\n",
       "    </tr>\n",
       "    <tr>\n",
       "      <th>2</th>\n",
       "      <td>24</td>\n",
       "      <td>25</td>\n",
       "      <td>25</td>\n",
       "      <td>arizona</td>\n",
       "      <td>0.41</td>\n",
       "      <td>0.43</td>\n",
       "      <td>0.08</td>\n",
       "      <td>3</td>\n",
       "      <td>11</td>\n",
       "      <td>392.0</td>\n",
       "    </tr>\n",
       "    <tr>\n",
       "      <th>3</th>\n",
       "      <td>66</td>\n",
       "      <td>67</td>\n",
       "      <td>67</td>\n",
       "      <td>arkansas</td>\n",
       "      <td>0.32</td>\n",
       "      <td>0.56</td>\n",
       "      <td>0.02</td>\n",
       "      <td>4</td>\n",
       "      <td>6</td>\n",
       "      <td>930.0</td>\n",
       "    </tr>\n",
       "    <tr>\n",
       "      <th>4</th>\n",
       "      <td>79</td>\n",
       "      <td>80</td>\n",
       "      <td>80</td>\n",
       "      <td>california</td>\n",
       "      <td>0.54</td>\n",
       "      <td>0.32</td>\n",
       "      <td>0.07</td>\n",
       "      <td>3</td>\n",
       "      <td>55</td>\n",
       "      <td>401.0</td>\n",
       "    </tr>\n",
       "  </tbody>\n",
       "</table>\n",
       "</div>"
      ],
      "text/plain": [
       "   index  Unnamed: 0  id       state  Clinton  Trump  Undecided  \\\n",
       "0      0           1   1     alabama     0.36   0.55       0.02   \n",
       "1     12          13  13      alaska     0.31   0.48       0.03   \n",
       "2     24          25  25     arizona     0.41   0.43       0.08   \n",
       "3     66          67  67    arkansas     0.32   0.56       0.02   \n",
       "4     79          80  80  california     0.54   0.32       0.07   \n",
       "\n",
       "   days_to_election  electoral_votes  sample_size  \n",
       "0                 4                9       1131.0  \n",
       "1                 4                3        409.0  \n",
       "2                 3               11        392.0  \n",
       "3                 4                6        930.0  \n",
       "4                 3               55        401.0  "
      ]
     },
     "execution_count": 13,
     "metadata": {},
     "output_type": "execute_result"
    }
   ],
   "source": [
    "# 각 주별로 선거일과 가장 가까운 날에 집계된 결과만 정리\n",
    "# 빈칸에는 알맞는 메소드가 들어가야 합니다.\n",
    "B = polls.loc[polls.groupby(['state'])['days_to_election'].idxmin()]\n",
    "B = B.reset_index()\n",
    "B.head()"
   ]
  },
  {
   "cell_type": "code",
   "execution_count": 26,
   "metadata": {
    "scrolled": true
   },
   "outputs": [
    {
     "data": {
      "text/html": [
       "<div>\n",
       "<style scoped>\n",
       "    .dataframe tbody tr th:only-of-type {\n",
       "        vertical-align: middle;\n",
       "    }\n",
       "\n",
       "    .dataframe tbody tr th {\n",
       "        vertical-align: top;\n",
       "    }\n",
       "\n",
       "    .dataframe thead th {\n",
       "        text-align: right;\n",
       "    }\n",
       "</style>\n",
       "<table border=\"1\" class=\"dataframe\">\n",
       "  <thead>\n",
       "    <tr style=\"text-align: right;\">\n",
       "      <th></th>\n",
       "      <th>State</th>\n",
       "      <th>Real</th>\n",
       "      <th>Prediction</th>\n",
       "      <th>Sample_size</th>\n",
       "    </tr>\n",
       "  </thead>\n",
       "  <tbody>\n",
       "    <tr>\n",
       "      <th>0</th>\n",
       "      <td>alabama</td>\n",
       "      <td>0.345538</td>\n",
       "      <td>0.36</td>\n",
       "      <td>1131.0</td>\n",
       "    </tr>\n",
       "    <tr>\n",
       "      <th>1</th>\n",
       "      <td>alaska</td>\n",
       "      <td>0.377176</td>\n",
       "      <td>0.31</td>\n",
       "      <td>409.0</td>\n",
       "    </tr>\n",
       "    <tr>\n",
       "      <th>2</th>\n",
       "      <td>arizona</td>\n",
       "      <td>0.453871</td>\n",
       "      <td>0.41</td>\n",
       "      <td>392.0</td>\n",
       "    </tr>\n",
       "    <tr>\n",
       "      <th>3</th>\n",
       "      <td>arkansas</td>\n",
       "      <td>0.337643</td>\n",
       "      <td>0.32</td>\n",
       "      <td>930.0</td>\n",
       "    </tr>\n",
       "    <tr>\n",
       "      <th>4</th>\n",
       "      <td>california</td>\n",
       "      <td>0.327598</td>\n",
       "      <td>0.54</td>\n",
       "      <td>401.0</td>\n",
       "    </tr>\n",
       "  </tbody>\n",
       "</table>\n",
       "</div>"
      ],
      "text/plain": [
       "        State      Real  Prediction  Sample_size\n",
       "0     alabama  0.345538        0.36       1131.0\n",
       "1      alaska  0.377176        0.31        409.0\n",
       "2     arizona  0.453871        0.41        392.0\n",
       "3    arkansas  0.337643        0.32        930.0\n",
       "4  california  0.327598        0.54        401.0"
      ]
     },
     "execution_count": 26,
     "metadata": {},
     "output_type": "execute_result"
    }
   ],
   "source": [
    "# Cinton 후보\n",
    "CL['State'] = statelist2\n",
    "# CL['Real'] = 순서정리 필요\n",
    "CL['Prediction'] = B['Clinton']\n",
    "CL['Sample_size'] = B['sample_size']\n",
    "CL.head()"
   ]
  },
  {
   "cell_type": "markdown",
   "metadata": {},
   "source": [
    "results 표와 CL, TR 표의 주 이름 순서가 달라서, CL, TR 표의 주 이름 순서에 맞도록 하여 adjusted라는 list에 저장했습니다."
   ]
  },
  {
   "cell_type": "code",
   "execution_count": 27,
   "metadata": {},
   "outputs": [],
   "source": [
    "adjusted = ['AL', 'AK', 'AZ', 'AR', 'CA', 'CO', 'CT', 'DE', 'DC', 'FL', 'GA',\n",
    "       'HI', 'ID', 'IL', 'IN', 'IA', 'KS', 'KY', 'LA', 'ME', 'MD', 'MA',\n",
    "       'MI', 'MN', 'MS', 'MO', 'MT', 'NE', 'NV', 'NH', 'NJ', 'NM', 'NY',\n",
    "       'NC', 'ND', 'OH', 'OK', 'OR', 'PA', 'RI', 'SC', 'SD', 'TN', 'TX',\n",
    "       'UT', 'VT', 'VA', 'WA', 'WV', 'WI', 'WY'] "
   ]
  },
  {
   "cell_type": "code",
   "execution_count": 28,
   "metadata": {},
   "outputs": [
    {
     "name": "stderr",
     "output_type": "stream",
     "text": [
      "C:\\Users\\Yon\\AppData\\Local\\Temp\\ipykernel_6796\\661377766.py:7: SettingWithCopyWarning: \n",
      "A value is trying to be set on a copy of a slice from a DataFrame\n",
      "\n",
      "See the caveats in the documentation: https://pandas.pydata.org/pandas-docs/stable/user_guide/indexing.html#returning-a-view-versus-a-copy\n",
      "  CL['Real'][i] = results[results['State']==adjusted[j]]['Clinton'].values[0]\n"
     ]
    }
   ],
   "source": [
    "# CL['Real'] 순서정리 및 실제 득표율 모음\n",
    "for i in range(51):\n",
    "    S = B['state'][i]\n",
    "    for j in range(51) :\n",
    "        D = statelist2[j]\n",
    "        if  S == D :\n",
    "            CL['Real'][i] = results[results['State']==adjusted[j]]['Clinton'].values[0]"
   ]
  },
  {
   "cell_type": "code",
   "execution_count": 29,
   "metadata": {},
   "outputs": [
    {
     "data": {
      "text/html": [
       "<div>\n",
       "<style scoped>\n",
       "    .dataframe tbody tr th:only-of-type {\n",
       "        vertical-align: middle;\n",
       "    }\n",
       "\n",
       "    .dataframe tbody tr th {\n",
       "        vertical-align: top;\n",
       "    }\n",
       "\n",
       "    .dataframe thead th {\n",
       "        text-align: right;\n",
       "    }\n",
       "</style>\n",
       "<table border=\"1\" class=\"dataframe\">\n",
       "  <thead>\n",
       "    <tr style=\"text-align: right;\">\n",
       "      <th></th>\n",
       "      <th>State</th>\n",
       "      <th>Real</th>\n",
       "      <th>Prediction</th>\n",
       "      <th>Sample_size</th>\n",
       "    </tr>\n",
       "  </thead>\n",
       "  <tbody>\n",
       "    <tr>\n",
       "      <th>0</th>\n",
       "      <td>alabama</td>\n",
       "      <td>0.345538</td>\n",
       "      <td>0.36</td>\n",
       "      <td>1131.0</td>\n",
       "    </tr>\n",
       "    <tr>\n",
       "      <th>1</th>\n",
       "      <td>alaska</td>\n",
       "      <td>0.377176</td>\n",
       "      <td>0.31</td>\n",
       "      <td>409.0</td>\n",
       "    </tr>\n",
       "    <tr>\n",
       "      <th>2</th>\n",
       "      <td>arizona</td>\n",
       "      <td>0.453871</td>\n",
       "      <td>0.41</td>\n",
       "      <td>392.0</td>\n",
       "    </tr>\n",
       "    <tr>\n",
       "      <th>3</th>\n",
       "      <td>arkansas</td>\n",
       "      <td>0.337643</td>\n",
       "      <td>0.32</td>\n",
       "      <td>930.0</td>\n",
       "    </tr>\n",
       "    <tr>\n",
       "      <th>4</th>\n",
       "      <td>california</td>\n",
       "      <td>0.327598</td>\n",
       "      <td>0.54</td>\n",
       "      <td>401.0</td>\n",
       "    </tr>\n",
       "  </tbody>\n",
       "</table>\n",
       "</div>"
      ],
      "text/plain": [
       "        State      Real  Prediction  Sample_size\n",
       "0     alabama  0.345538        0.36       1131.0\n",
       "1      alaska  0.377176        0.31        409.0\n",
       "2     arizona  0.453871        0.41        392.0\n",
       "3    arkansas  0.337643        0.32        930.0\n",
       "4  california  0.327598        0.54        401.0"
      ]
     },
     "execution_count": 29,
     "metadata": {},
     "output_type": "execute_result"
    }
   ],
   "source": [
    "# 결과 확인\n",
    "CL.head()"
   ]
  },
  {
   "cell_type": "code",
   "execution_count": 30,
   "metadata": {},
   "outputs": [
    {
     "data": {
      "text/html": [
       "<div>\n",
       "<style scoped>\n",
       "    .dataframe tbody tr th:only-of-type {\n",
       "        vertical-align: middle;\n",
       "    }\n",
       "\n",
       "    .dataframe tbody tr th {\n",
       "        vertical-align: top;\n",
       "    }\n",
       "\n",
       "    .dataframe thead th {\n",
       "        text-align: right;\n",
       "    }\n",
       "</style>\n",
       "<table border=\"1\" class=\"dataframe\">\n",
       "  <thead>\n",
       "    <tr style=\"text-align: right;\">\n",
       "      <th></th>\n",
       "      <th>State</th>\n",
       "      <th>Real</th>\n",
       "      <th>Prediction</th>\n",
       "      <th>Sample_size</th>\n",
       "    </tr>\n",
       "  </thead>\n",
       "  <tbody>\n",
       "  </tbody>\n",
       "</table>\n",
       "</div>"
      ],
      "text/plain": [
       "Empty DataFrame\n",
       "Columns: [State, Real, Prediction, Sample_size]\n",
       "Index: []"
      ]
     },
     "execution_count": 30,
     "metadata": {},
     "output_type": "execute_result"
    }
   ],
   "source": [
    "# 빈 데이터프레임 만들기\n",
    "TR = pd.DataFrame(columns=columns2)\n",
    "TR"
   ]
  },
  {
   "cell_type": "code",
   "execution_count": 31,
   "metadata": {},
   "outputs": [
    {
     "data": {
      "text/html": [
       "<div>\n",
       "<style scoped>\n",
       "    .dataframe tbody tr th:only-of-type {\n",
       "        vertical-align: middle;\n",
       "    }\n",
       "\n",
       "    .dataframe tbody tr th {\n",
       "        vertical-align: top;\n",
       "    }\n",
       "\n",
       "    .dataframe thead th {\n",
       "        text-align: right;\n",
       "    }\n",
       "</style>\n",
       "<table border=\"1\" class=\"dataframe\">\n",
       "  <thead>\n",
       "    <tr style=\"text-align: right;\">\n",
       "      <th></th>\n",
       "      <th>State</th>\n",
       "      <th>Real</th>\n",
       "      <th>Prediction</th>\n",
       "      <th>Sample_size</th>\n",
       "    </tr>\n",
       "  </thead>\n",
       "  <tbody>\n",
       "    <tr>\n",
       "      <th>0</th>\n",
       "      <td>alabama</td>\n",
       "      <td>NaN</td>\n",
       "      <td>0.55</td>\n",
       "      <td>1131.0</td>\n",
       "    </tr>\n",
       "    <tr>\n",
       "      <th>1</th>\n",
       "      <td>alaska</td>\n",
       "      <td>NaN</td>\n",
       "      <td>0.48</td>\n",
       "      <td>409.0</td>\n",
       "    </tr>\n",
       "    <tr>\n",
       "      <th>2</th>\n",
       "      <td>arizona</td>\n",
       "      <td>NaN</td>\n",
       "      <td>0.43</td>\n",
       "      <td>392.0</td>\n",
       "    </tr>\n",
       "    <tr>\n",
       "      <th>3</th>\n",
       "      <td>arkansas</td>\n",
       "      <td>NaN</td>\n",
       "      <td>0.56</td>\n",
       "      <td>930.0</td>\n",
       "    </tr>\n",
       "    <tr>\n",
       "      <th>4</th>\n",
       "      <td>california</td>\n",
       "      <td>NaN</td>\n",
       "      <td>0.32</td>\n",
       "      <td>401.0</td>\n",
       "    </tr>\n",
       "  </tbody>\n",
       "</table>\n",
       "</div>"
      ],
      "text/plain": [
       "        State Real  Prediction  Sample_size\n",
       "0     alabama  NaN        0.55       1131.0\n",
       "1      alaska  NaN        0.48        409.0\n",
       "2     arizona  NaN        0.43        392.0\n",
       "3    arkansas  NaN        0.56        930.0\n",
       "4  california  NaN        0.32        401.0"
      ]
     },
     "execution_count": 31,
     "metadata": {},
     "output_type": "execute_result"
    }
   ],
   "source": [
    "# Trump 후보\n",
    "TR['State'] = statelist2\n",
    "# TR['Real'] = 순서정리 필요\n",
    "TR['Prediction'] = B['Trump']\n",
    "TR['Sample_size'] = B['sample_size']\n",
    "TR.head()"
   ]
  },
  {
   "cell_type": "code",
   "execution_count": 32,
   "metadata": {},
   "outputs": [
    {
     "name": "stderr",
     "output_type": "stream",
     "text": [
      "C:\\Users\\Yon\\AppData\\Local\\Temp\\ipykernel_6796\\3896477741.py:7: SettingWithCopyWarning: \n",
      "A value is trying to be set on a copy of a slice from a DataFrame\n",
      "\n",
      "See the caveats in the documentation: https://pandas.pydata.org/pandas-docs/stable/user_guide/indexing.html#returning-a-view-versus-a-copy\n",
      "  TR['Real'][i] = results[results['State']==adjusted[j]]['Trump'].values[0]\n"
     ]
    }
   ],
   "source": [
    "# TR['Real'] 순서정리 및 실제 득표율 모음\n",
    "for i in range(51):\n",
    "    S = B['state'][i]\n",
    "    for j in range(51) :\n",
    "        D = statelist2[j]\n",
    "        if  S == D :\n",
    "            TR['Real'][i] = results[results['State']==adjusted[j]]['Trump'].values[0]"
   ]
  },
  {
   "cell_type": "code",
   "execution_count": 33,
   "metadata": {},
   "outputs": [
    {
     "data": {
      "text/html": [
       "<div>\n",
       "<style scoped>\n",
       "    .dataframe tbody tr th:only-of-type {\n",
       "        vertical-align: middle;\n",
       "    }\n",
       "\n",
       "    .dataframe tbody tr th {\n",
       "        vertical-align: top;\n",
       "    }\n",
       "\n",
       "    .dataframe thead th {\n",
       "        text-align: right;\n",
       "    }\n",
       "</style>\n",
       "<table border=\"1\" class=\"dataframe\">\n",
       "  <thead>\n",
       "    <tr style=\"text-align: right;\">\n",
       "      <th></th>\n",
       "      <th>State</th>\n",
       "      <th>Real</th>\n",
       "      <th>Prediction</th>\n",
       "      <th>Sample_size</th>\n",
       "    </tr>\n",
       "  </thead>\n",
       "  <tbody>\n",
       "    <tr>\n",
       "      <th>0</th>\n",
       "      <td>alabama</td>\n",
       "      <td>0.628884</td>\n",
       "      <td>0.55</td>\n",
       "      <td>1131.0</td>\n",
       "    </tr>\n",
       "    <tr>\n",
       "      <th>1</th>\n",
       "      <td>alaska</td>\n",
       "      <td>0.528878</td>\n",
       "      <td>0.48</td>\n",
       "      <td>409.0</td>\n",
       "    </tr>\n",
       "    <tr>\n",
       "      <th>2</th>\n",
       "      <td>arizona</td>\n",
       "      <td>0.495031</td>\n",
       "      <td>0.43</td>\n",
       "      <td>392.0</td>\n",
       "    </tr>\n",
       "    <tr>\n",
       "      <th>3</th>\n",
       "      <td>arkansas</td>\n",
       "      <td>0.604363</td>\n",
       "      <td>0.56</td>\n",
       "      <td>930.0</td>\n",
       "    </tr>\n",
       "    <tr>\n",
       "      <th>4</th>\n",
       "      <td>california</td>\n",
       "      <td>0.615885</td>\n",
       "      <td>0.32</td>\n",
       "      <td>401.0</td>\n",
       "    </tr>\n",
       "  </tbody>\n",
       "</table>\n",
       "</div>"
      ],
      "text/plain": [
       "        State      Real  Prediction  Sample_size\n",
       "0     alabama  0.628884        0.55       1131.0\n",
       "1      alaska  0.528878        0.48        409.0\n",
       "2     arizona  0.495031        0.43        392.0\n",
       "3    arkansas  0.604363        0.56        930.0\n",
       "4  california  0.615885        0.32        401.0"
      ]
     },
     "execution_count": 33,
     "metadata": {},
     "output_type": "execute_result"
    }
   ],
   "source": [
    "# 결과 확인\n",
    "TR.head()"
   ]
  },
  {
   "cell_type": "markdown",
   "metadata": {},
   "source": [
    "#### **1-5.** 후보별 득표율의 예측오차 분포를 히스토그램으로 시각화하시오."
   ]
  },
  {
   "cell_type": "markdown",
   "metadata": {},
   "source": [
    "##### 1) Clinton"
   ]
  },
  {
   "cell_type": "code",
   "execution_count": 39,
   "metadata": {},
   "outputs": [
    {
     "data": {
      "image/png": "[encoded data removed]",
      "text/plain": [
       "<Figure size 640x480 with 1 Axes>"
      ]
     },
     "metadata": {},
     "output_type": "display_data"
    }
   ],
   "source": [
    "# Bias_C : Clinton 후보의 예측오차\n",
    "\n",
    "# 예측오차 계산\n",
    "CL['Bias_C'] = CL['Prediction'] - CL['Real']\n",
    "\n",
    "# 히스토그램 시각화\n",
    "plt.hist(CL['Bias_C'], bins=10, color='blue', alpha=0.5)\n",
    "plt.xlabel('Prediction Bias (Clinton)')\n",
    "plt.ylabel('Frequency')\n",
    "plt.title('Prediction Bias of Clinton')\n",
    "plt.show()"
   ]
  },
  {
   "cell_type": "markdown",
   "metadata": {},
   "source": [
    "##### 2) Trump"
   ]
  },
  {
   "cell_type": "code",
   "execution_count": 40,
   "metadata": {},
   "outputs": [
    {
     "data": {
      "image/png": "[encoded data removed]",
      "text/plain": [
       "<Figure size 640x480 with 1 Axes>"
      ]
     },
     "metadata": {},
     "output_type": "display_data"
    }
   ],
   "source": [
    "# Bias_T : Trump 후보의 예측오차\n",
    "\n",
    "# 예측오차 계산\n",
    "TR['Bias_T'] = TR['Prediction'] - TR['Real']\n",
    "\n",
    "# 히스토그램 시각화\n",
    "plt.hist(TR['Bias_T'], bins=10, color='red', alpha=0.5)\n",
    "plt.xlabel('Prediction Bias (Trump)')\n",
    "plt.ylabel('Frequency')\n",
    "plt.title('Prediction Bias of Trump')\n",
    "plt.show()"
   ]
  },
  {
   "cell_type": "markdown",
   "metadata": {},
   "source": [
    "#### **1-6.** ‘CL’과 ‘TR’에 각각 표준오차를 담은 ‘SE’라는 열(column)을 추가하시오."
   ]
  },
  {
   "cell_type": "code",
   "execution_count": 41,
   "metadata": {},
   "outputs": [],
   "source": [
    "# 'CL' 데이터프레임에 'SE' 열 추가\n",
    "CL['SE'] = np.sqrt(CL['Prediction'] * (1 - CL['Prediction']) / CL['Sample_size'])\n",
    "\n",
    "# 'TR' 데이터프레임에 'SE' 열 추가\n",
    "TR['SE'] = np.sqrt(TR['Prediction'] * (1 - TR['Prediction']) / TR['Sample_size'])"
   ]
  },
  {
   "cell_type": "markdown",
   "metadata": {},
   "source": [
    "#### **1-7.** ‘CL’과 ‘TR’에 각각 근사신뢰구간(approximate confidence interval)의 하한과 상한을 나타내는 열(column) ‘lower’과 ‘upper’를 추가하시오(유의수준 5%)."
   ]
  },
  {
   "cell_type": "code",
   "execution_count": 42,
   "metadata": {},
   "outputs": [
    {
     "data": {
      "text/plain": [
       "1.6448536269514722"
      ]
     },
     "execution_count": 42,
     "metadata": {},
     "output_type": "execute_result"
    }
   ],
   "source": [
    "# 분위수값 구하는 방법\n",
    "from scipy.stats import norm\n",
    "Z = norm(loc = 0, scale = 1) # 표준정규분포를 따르는 확률변수 만들기\n",
    "Z.ppf(0.95)"
   ]
  },
  {
   "cell_type": "code",
   "execution_count": 43,
   "metadata": {},
   "outputs": [],
   "source": [
    "z_critical = Z.ppf(0.95)  # 5% 유의수준 (양측검정)\n",
    "\n",
    "# 근사신뢰구간 계산 및 'CL' 데이터프레임에 'lower'와 'upper' 열 추가\n",
    "CL['lower'] = CL['Prediction'] - z_critical * CL['SE']\n",
    "CL['upper'] = CL['Prediction'] + z_critical * CL['SE']\n",
    "\n",
    "# 근사신뢰구간 계산 및 'TR' 데이터프레임에 'lower'와 'upper' 열 추가\n",
    "TR['lower'] = TR['Prediction'] - z_critical * TR['SE']\n",
    "TR['upper'] = TR['Prediction'] + z_critical * TR['SE']"
   ]
  },
  {
   "cell_type": "markdown",
   "metadata": {},
   "source": [
    "#### **1-8.** 클린턴 후보와 트럼프 후보 각각의 여론조사 신뢰수준을 구하시오."
   ]
  },
  {
   "cell_type": "markdown",
   "metadata": {},
   "source": [
    "##### 1) Clinton"
   ]
  },
  {
   "cell_type": "code",
   "execution_count": 46,
   "metadata": {},
   "outputs": [
    {
     "data": {
      "text/plain": [
       "0.43137254901960786"
      ]
     },
     "execution_count": 46,
     "metadata": {},
     "output_type": "execute_result"
    }
   ],
   "source": [
    "CL_confidence = ((CL['lower'] <= CL['Real']) & (CL['Real'] <= CL['upper'])).mean()\n",
    "\n",
    "CL_confidence"
   ]
  },
  {
   "cell_type": "markdown",
   "metadata": {},
   "source": [
    "##### 2) Trump"
   ]
  },
  {
   "cell_type": "code",
   "execution_count": 47,
   "metadata": {},
   "outputs": [
    {
     "data": {
      "text/plain": [
       "0.0392156862745098"
      ]
     },
     "execution_count": 47,
     "metadata": {},
     "output_type": "execute_result"
    }
   ],
   "source": [
    "TR_confidence = ((TR['lower'] <= TR['Real']) & (TR['Real'] <= TR['upper'])).mean()\n",
    "\n",
    "TR_confidence"
   ]
  },
  {
   "cell_type": "markdown",
   "metadata": {},
   "source": [
    "#### **1-9.** ✎ 왜 이런 결과가 나왔다고 생각하십니까? 개인의 생각을 자유롭게 서술하시오.\n",
    "참고 : https://www.vox.com/policy-and-politics/2020/11/10/21551766/election-polls-results-wrong-david-shor\n"
   ]
  },
  {
   "cell_type": "markdown",
   "metadata": {},
   "source": [
    "*답안:* 여론조사 신뢰수준을 정확하게 측정하는 것은 어려운 일이며, 이는 여러 요인에 의해 영향을 받을 수 있습니다. \n",
    "예를 들어, 신뢰구간의 폭, 표본 크기, 여론조사 방법 등이 결과에 영향을 미칠 수 있습니다. \n",
    "또한, 여론조사 결과와 실제 선택 결과 간의 차이는 다양한 요인에 의해 발생할 수 있으며, 이를 정확하게 예측하기는 어렵습니다."
   ]
  },
  {
   "cell_type": "code",
   "execution_count": null,
   "metadata": {},
   "outputs": [],
   "source": []
  }
 ],
 "metadata": {
  "kernelspec": {
   "display_name": "Python 3 (ipykernel)",
   "language": "python",
   "name": "python3"
  },
  "language_info": {
   "codemirror_mode": {
    "name": "ipython",
    "version": 3
   },
   "file_extension": ".py",
   "mimetype": "text/x-python",
   "name": "python",
   "nbconvert_exporter": "python",
   "pygments_lexer": "ipython3",
   "version": "3.9.13"
  }
 },
 "nbformat": 4,
 "nbformat_minor": 2
}
