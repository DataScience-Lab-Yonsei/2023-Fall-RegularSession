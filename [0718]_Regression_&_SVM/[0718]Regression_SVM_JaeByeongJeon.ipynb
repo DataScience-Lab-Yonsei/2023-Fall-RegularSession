{
  "cells": [
    {
      "cell_type": "markdown",
      "metadata": {
        "id": "WNtdQ51Ty4fA"
      },
      "source": [
        "# Setting"
      ]
    },
    {
      "cell_type": "markdown",
      "metadata": {
        "id": "Z6Wkx9xCyvJh"
      },
      "source": [
        "필요한 라이브러리를 불러옵니다."
      ]
    },
    {
      "cell_type": "code",
      "execution_count": 1,
      "metadata": {
        "id": "7TIiL_62xvTq"
      },
      "outputs": [],
      "source": [
        "import numpy as np\n",
        "import pandas as pd\n",
        "import matplotlib.pyplot as plt"
      ]
    },
    {
      "cell_type": "markdown",
      "metadata": {
        "id": "-K8dUravya7c"
      },
      "source": [
        "코랩을 사용할 때에는 언제나 drive.mount를 해주어야 합니다.\n"
      ]
    },
    {
      "cell_type": "code",
      "execution_count": null,
      "metadata": {
        "colab": {
          "base_uri": "https://localhost:8080/"
        },
        "id": "Lp78SkBdySdT",
        "outputId": "5b2f7978-b761-46a6-f4ef-aca54f3fbfd2"
      },
      "outputs": [
        {
          "name": "stdout",
          "output_type": "stream",
          "text": [
            "Drive already mounted at /content/drive; to attempt to forcibly remount, call drive.mount(\"/content/drive\", force_remount=True).\n"
          ]
        }
      ],
      "source": [
        "from google.colab import drive\n",
        "drive.mount('/content/drive')"
      ]
    },
    {
      "cell_type": "markdown",
      "metadata": {
        "id": "WVNSDRg9x8cO"
      },
      "source": [
        "# Linear Regression"
      ]
    },
    {
      "cell_type": "markdown",
      "metadata": {
        "id": "HZ9N_tZizByv"
      },
      "source": [
        "## 데이터 불러오기"
      ]
    },
    {
      "cell_type": "markdown",
      "metadata": {
        "id": "LN3vElLv0Cdb"
      },
      "source": [
        "사용할 데이터 셋: electricity.csv\n",
        "\n",
        "전력 사용량 예측 모델을 선형회귀로 만들어봅시다."
      ]
    },
    {
      "cell_type": "code",
      "execution_count": 2,
      "metadata": {
        "colab": {
          "base_uri": "https://localhost:8080/",
          "height": 658
        },
        "id": "dBh2Lx7FzDQM",
        "outputId": "ced900e5-9504-4613-c28b-b467ae0e4f86"
      },
      "outputs": [
        {
          "data": {
            "text/html": [
              "<div>\n",
              "<style scoped>\n",
              "    .dataframe tbody tr th:only-of-type {\n",
              "        vertical-align: middle;\n",
              "    }\n",
              "\n",
              "    .dataframe tbody tr th {\n",
              "        vertical-align: top;\n",
              "    }\n",
              "\n",
              "    .dataframe thead th {\n",
              "        text-align: right;\n",
              "    }\n",
              "</style>\n",
              "<table border=\"1\" class=\"dataframe\">\n",
              "  <thead>\n",
              "    <tr style=\"text-align: right;\">\n",
              "      <th></th>\n",
              "      <th>num</th>\n",
              "      <th>date_time</th>\n",
              "      <th>전력사용량(kWh)</th>\n",
              "      <th>기온(°C)</th>\n",
              "      <th>풍속(m/s)</th>\n",
              "      <th>습도(%)</th>\n",
              "      <th>강수량(mm)</th>\n",
              "      <th>일조(hr)</th>\n",
              "      <th>비전기냉방설비운영</th>\n",
              "      <th>태양광보유</th>\n",
              "    </tr>\n",
              "  </thead>\n",
              "  <tbody>\n",
              "    <tr>\n",
              "      <th>0</th>\n",
              "      <td>1</td>\n",
              "      <td>2020-06-01 00</td>\n",
              "      <td>8179.056</td>\n",
              "      <td>17.6</td>\n",
              "      <td>2.5</td>\n",
              "      <td>92.0</td>\n",
              "      <td>0.8</td>\n",
              "      <td>0.0</td>\n",
              "      <td>0.0</td>\n",
              "      <td>0.0</td>\n",
              "    </tr>\n",
              "    <tr>\n",
              "      <th>1</th>\n",
              "      <td>1</td>\n",
              "      <td>2020-06-01 01</td>\n",
              "      <td>8135.640</td>\n",
              "      <td>17.7</td>\n",
              "      <td>2.9</td>\n",
              "      <td>91.0</td>\n",
              "      <td>0.3</td>\n",
              "      <td>0.0</td>\n",
              "      <td>0.0</td>\n",
              "      <td>0.0</td>\n",
              "    </tr>\n",
              "    <tr>\n",
              "      <th>2</th>\n",
              "      <td>1</td>\n",
              "      <td>2020-06-01 02</td>\n",
              "      <td>8107.128</td>\n",
              "      <td>17.5</td>\n",
              "      <td>3.2</td>\n",
              "      <td>91.0</td>\n",
              "      <td>0.0</td>\n",
              "      <td>0.0</td>\n",
              "      <td>0.0</td>\n",
              "      <td>0.0</td>\n",
              "    </tr>\n",
              "    <tr>\n",
              "      <th>3</th>\n",
              "      <td>1</td>\n",
              "      <td>2020-06-01 03</td>\n",
              "      <td>8048.808</td>\n",
              "      <td>17.1</td>\n",
              "      <td>3.2</td>\n",
              "      <td>91.0</td>\n",
              "      <td>0.0</td>\n",
              "      <td>0.0</td>\n",
              "      <td>0.0</td>\n",
              "      <td>0.0</td>\n",
              "    </tr>\n",
              "    <tr>\n",
              "      <th>4</th>\n",
              "      <td>1</td>\n",
              "      <td>2020-06-01 04</td>\n",
              "      <td>8043.624</td>\n",
              "      <td>17.0</td>\n",
              "      <td>3.3</td>\n",
              "      <td>92.0</td>\n",
              "      <td>0.0</td>\n",
              "      <td>0.0</td>\n",
              "      <td>0.0</td>\n",
              "      <td>0.0</td>\n",
              "    </tr>\n",
              "    <tr>\n",
              "      <th>...</th>\n",
              "      <td>...</td>\n",
              "      <td>...</td>\n",
              "      <td>...</td>\n",
              "      <td>...</td>\n",
              "      <td>...</td>\n",
              "      <td>...</td>\n",
              "      <td>...</td>\n",
              "      <td>...</td>\n",
              "      <td>...</td>\n",
              "      <td>...</td>\n",
              "    </tr>\n",
              "    <tr>\n",
              "      <th>122395</th>\n",
              "      <td>60</td>\n",
              "      <td>2020-08-24 19</td>\n",
              "      <td>4114.368</td>\n",
              "      <td>27.8</td>\n",
              "      <td>2.3</td>\n",
              "      <td>68.0</td>\n",
              "      <td>0.0</td>\n",
              "      <td>0.7</td>\n",
              "      <td>1.0</td>\n",
              "      <td>1.0</td>\n",
              "    </tr>\n",
              "    <tr>\n",
              "      <th>122396</th>\n",
              "      <td>60</td>\n",
              "      <td>2020-08-24 20</td>\n",
              "      <td>3975.696</td>\n",
              "      <td>27.3</td>\n",
              "      <td>1.2</td>\n",
              "      <td>71.0</td>\n",
              "      <td>0.0</td>\n",
              "      <td>0.0</td>\n",
              "      <td>1.0</td>\n",
              "      <td>1.0</td>\n",
              "    </tr>\n",
              "    <tr>\n",
              "      <th>122397</th>\n",
              "      <td>60</td>\n",
              "      <td>2020-08-24 21</td>\n",
              "      <td>3572.208</td>\n",
              "      <td>27.3</td>\n",
              "      <td>1.8</td>\n",
              "      <td>71.0</td>\n",
              "      <td>0.0</td>\n",
              "      <td>0.0</td>\n",
              "      <td>1.0</td>\n",
              "      <td>1.0</td>\n",
              "    </tr>\n",
              "    <tr>\n",
              "      <th>122398</th>\n",
              "      <td>60</td>\n",
              "      <td>2020-08-24 22</td>\n",
              "      <td>3299.184</td>\n",
              "      <td>27.1</td>\n",
              "      <td>1.8</td>\n",
              "      <td>74.0</td>\n",
              "      <td>0.0</td>\n",
              "      <td>0.0</td>\n",
              "      <td>1.0</td>\n",
              "      <td>1.0</td>\n",
              "    </tr>\n",
              "    <tr>\n",
              "      <th>122399</th>\n",
              "      <td>60</td>\n",
              "      <td>2020-08-24 23</td>\n",
              "      <td>3204.576</td>\n",
              "      <td>27.1</td>\n",
              "      <td>2.6</td>\n",
              "      <td>75.0</td>\n",
              "      <td>0.0</td>\n",
              "      <td>0.0</td>\n",
              "      <td>1.0</td>\n",
              "      <td>1.0</td>\n",
              "    </tr>\n",
              "  </tbody>\n",
              "</table>\n",
              "<p>122400 rows × 10 columns</p>\n",
              "</div>"
            ],
            "text/plain": [
              "        num      date_time  전력사용량(kWh)  기온(°C)  풍속(m/s)  습도(%)  강수량(mm)  \\\n",
              "0         1  2020-06-01 00    8179.056    17.6      2.5   92.0      0.8   \n",
              "1         1  2020-06-01 01    8135.640    17.7      2.9   91.0      0.3   \n",
              "2         1  2020-06-01 02    8107.128    17.5      3.2   91.0      0.0   \n",
              "3         1  2020-06-01 03    8048.808    17.1      3.2   91.0      0.0   \n",
              "4         1  2020-06-01 04    8043.624    17.0      3.3   92.0      0.0   \n",
              "...     ...            ...         ...     ...      ...    ...      ...   \n",
              "122395   60  2020-08-24 19    4114.368    27.8      2.3   68.0      0.0   \n",
              "122396   60  2020-08-24 20    3975.696    27.3      1.2   71.0      0.0   \n",
              "122397   60  2020-08-24 21    3572.208    27.3      1.8   71.0      0.0   \n",
              "122398   60  2020-08-24 22    3299.184    27.1      1.8   74.0      0.0   \n",
              "122399   60  2020-08-24 23    3204.576    27.1      2.6   75.0      0.0   \n",
              "\n",
              "        일조(hr)  비전기냉방설비운영  태양광보유  \n",
              "0          0.0        0.0    0.0  \n",
              "1          0.0        0.0    0.0  \n",
              "2          0.0        0.0    0.0  \n",
              "3          0.0        0.0    0.0  \n",
              "4          0.0        0.0    0.0  \n",
              "...        ...        ...    ...  \n",
              "122395     0.7        1.0    1.0  \n",
              "122396     0.0        1.0    1.0  \n",
              "122397     0.0        1.0    1.0  \n",
              "122398     0.0        1.0    1.0  \n",
              "122399     0.0        1.0    1.0  \n",
              "\n",
              "[122400 rows x 10 columns]"
            ]
          },
          "execution_count": 2,
          "metadata": {},
          "output_type": "execute_result"
        }
      ],
      "source": [
        "data = pd.read_csv('./electricity.csv', encoding='cp949' )\n",
        "data"
      ]
    },
    {
      "cell_type": "markdown",
      "metadata": {
        "id": "CxQqDlfX0MRR"
      },
      "source": [
        "건물 정보와 기후 정보를 활용한 전력사용량 예측 데이터 중에서\n",
        "\n",
        "환경 변수(X: 기온, 풍속, 습도, 강수량, 일조)에 대해 전력 사용량(y)을 선형회귀 모델을 사용해서 예측해보고자 합니다.\n",
        "\n",
        "100개의 data만 가져와서 실습을 진행하고자 합니다.\n",
        "이때 train data : 88개, test data: 12개로 진행합니다."
      ]
    },
    {
      "cell_type": "code",
      "execution_count": 3,
      "metadata": {
        "id": "PdYxd0w1zBLp"
      },
      "outputs": [],
      "source": [
        "var_name = ['Temp', 'Wind', 'Moisture', 'Precipitation', 'Sun']\n",
        "target = 'Wh'"
      ]
    },
    {
      "cell_type": "code",
      "execution_count": 4,
      "metadata": {
        "id": "8YXNjtiry7yv"
      },
      "outputs": [],
      "source": [
        "def parsing(data: pd.DataFrame):\n",
        "    x = data.iloc[:, 3:8]\n",
        "    x.columns = var_name\n",
        "    y = data.iloc[:, 2]\n",
        "    y.name = target\n",
        "\n",
        "    return x, y"
      ]
    },
    {
      "cell_type": "code",
      "execution_count": 6,
      "metadata": {
        "id": "tvSsdnRI0iEW"
      },
      "outputs": [],
      "source": [
        "def load_data():\n",
        "    data = pd.read_csv('./electricity.csv', encoding='cp949' )\n",
        "    data = data[: 100] # 100개만 잘라서\n",
        "    x, y = parsing(data)\n",
        "    cut = int(round(len(x)*0.88)) #88개:train 나머지:test\n",
        "    tr_x = x[:cut]\n",
        "    tr_y = y[:cut]\n",
        "    te_x = x[cut:]\n",
        "    te_y = y[cut:]\n",
        "    return tr_x, tr_y, te_x, te_y"
      ]
    },
    {
      "cell_type": "code",
      "execution_count": 7,
      "metadata": {
        "id": "4iH8J6h-0m-H"
      },
      "outputs": [],
      "source": [
        "train_x, train_y, test_x, test_y = load_data() #재정의"
      ]
    },
    {
      "cell_type": "markdown",
      "metadata": {
        "id": "_Su2cX848zKF"
      },
      "source": [
        "## 데이터 확인"
      ]
    },
    {
      "cell_type": "markdown",
      "metadata": {
        "id": "1Az5ydoc8tr5"
      },
      "source": [
        "주의! 최종 예측하는 단계 이전에는 현재 가지고 있는 데이터, 즉 train data만을 이용하여 작업을 진행해야 합니다.\n",
        "\n",
        "현재 가지고 있는 데이터 train_x를 보고 전력 사용량을 예측하는데에 사용할 변수를 선택해주세요.\n",
        "\n",
        "최적의 변수 조합을 찾아보도록 합시다.\n",
        "\n",
        "①상관계수 확인\n",
        "②다중공선성 확인\n",
        "\n",
        "이 때 선택해야하는 변수는 하나일 수도 있고, 여러개의 변수가 될 수도 있습니다."
      ]
    },
    {
      "cell_type": "code",
      "execution_count": 8,
      "metadata": {
        "colab": {
          "base_uri": "https://localhost:8080/",
          "height": 423
        },
        "id": "8HDF_CR40nwX",
        "outputId": "889fefae-1c22-4b25-838d-dd647aa1bb7d"
      },
      "outputs": [
        {
          "data": {
            "text/html": [
              "<div>\n",
              "<style scoped>\n",
              "    .dataframe tbody tr th:only-of-type {\n",
              "        vertical-align: middle;\n",
              "    }\n",
              "\n",
              "    .dataframe tbody tr th {\n",
              "        vertical-align: top;\n",
              "    }\n",
              "\n",
              "    .dataframe thead th {\n",
              "        text-align: right;\n",
              "    }\n",
              "</style>\n",
              "<table border=\"1\" class=\"dataframe\">\n",
              "  <thead>\n",
              "    <tr style=\"text-align: right;\">\n",
              "      <th></th>\n",
              "      <th>Temp</th>\n",
              "      <th>Wind</th>\n",
              "      <th>Moisture</th>\n",
              "      <th>Precipitation</th>\n",
              "      <th>Sun</th>\n",
              "    </tr>\n",
              "  </thead>\n",
              "  <tbody>\n",
              "    <tr>\n",
              "      <th>0</th>\n",
              "      <td>17.6</td>\n",
              "      <td>2.5</td>\n",
              "      <td>92.0</td>\n",
              "      <td>0.8</td>\n",
              "      <td>0.0</td>\n",
              "    </tr>\n",
              "    <tr>\n",
              "      <th>1</th>\n",
              "      <td>17.7</td>\n",
              "      <td>2.9</td>\n",
              "      <td>91.0</td>\n",
              "      <td>0.3</td>\n",
              "      <td>0.0</td>\n",
              "    </tr>\n",
              "    <tr>\n",
              "      <th>2</th>\n",
              "      <td>17.5</td>\n",
              "      <td>3.2</td>\n",
              "      <td>91.0</td>\n",
              "      <td>0.0</td>\n",
              "      <td>0.0</td>\n",
              "    </tr>\n",
              "    <tr>\n",
              "      <th>3</th>\n",
              "      <td>17.1</td>\n",
              "      <td>3.2</td>\n",
              "      <td>91.0</td>\n",
              "      <td>0.0</td>\n",
              "      <td>0.0</td>\n",
              "    </tr>\n",
              "    <tr>\n",
              "      <th>4</th>\n",
              "      <td>17.0</td>\n",
              "      <td>3.3</td>\n",
              "      <td>92.0</td>\n",
              "      <td>0.0</td>\n",
              "      <td>0.0</td>\n",
              "    </tr>\n",
              "    <tr>\n",
              "      <th>...</th>\n",
              "      <td>...</td>\n",
              "      <td>...</td>\n",
              "      <td>...</td>\n",
              "      <td>...</td>\n",
              "      <td>...</td>\n",
              "    </tr>\n",
              "    <tr>\n",
              "      <th>83</th>\n",
              "      <td>23.9</td>\n",
              "      <td>2.8</td>\n",
              "      <td>68.0</td>\n",
              "      <td>0.0</td>\n",
              "      <td>0.6</td>\n",
              "    </tr>\n",
              "    <tr>\n",
              "      <th>84</th>\n",
              "      <td>25.0</td>\n",
              "      <td>3.1</td>\n",
              "      <td>63.0</td>\n",
              "      <td>0.0</td>\n",
              "      <td>0.8</td>\n",
              "    </tr>\n",
              "    <tr>\n",
              "      <th>85</th>\n",
              "      <td>26.0</td>\n",
              "      <td>3.1</td>\n",
              "      <td>60.0</td>\n",
              "      <td>0.0</td>\n",
              "      <td>1.0</td>\n",
              "    </tr>\n",
              "    <tr>\n",
              "      <th>86</th>\n",
              "      <td>26.4</td>\n",
              "      <td>3.8</td>\n",
              "      <td>60.0</td>\n",
              "      <td>0.0</td>\n",
              "      <td>1.0</td>\n",
              "    </tr>\n",
              "    <tr>\n",
              "      <th>87</th>\n",
              "      <td>25.4</td>\n",
              "      <td>4.2</td>\n",
              "      <td>66.0</td>\n",
              "      <td>0.0</td>\n",
              "      <td>0.5</td>\n",
              "    </tr>\n",
              "  </tbody>\n",
              "</table>\n",
              "<p>88 rows × 5 columns</p>\n",
              "</div>"
            ],
            "text/plain": [
              "    Temp  Wind  Moisture  Precipitation  Sun\n",
              "0   17.6   2.5      92.0            0.8  0.0\n",
              "1   17.7   2.9      91.0            0.3  0.0\n",
              "2   17.5   3.2      91.0            0.0  0.0\n",
              "3   17.1   3.2      91.0            0.0  0.0\n",
              "4   17.0   3.3      92.0            0.0  0.0\n",
              "..   ...   ...       ...            ...  ...\n",
              "83  23.9   2.8      68.0            0.0  0.6\n",
              "84  25.0   3.1      63.0            0.0  0.8\n",
              "85  26.0   3.1      60.0            0.0  1.0\n",
              "86  26.4   3.8      60.0            0.0  1.0\n",
              "87  25.4   4.2      66.0            0.0  0.5\n",
              "\n",
              "[88 rows x 5 columns]"
            ]
          },
          "execution_count": 8,
          "metadata": {},
          "output_type": "execute_result"
        }
      ],
      "source": [
        "train_x"
      ]
    },
    {
      "cell_type": "code",
      "execution_count": 9,
      "metadata": {
        "colab": {
          "base_uri": "https://localhost:8080/",
          "height": 448
        },
        "id": "0wSymZrO0s84",
        "outputId": "7624bd59-1c57-4ea9-e219-5a1bc54beb61"
      },
      "outputs": [
        {
          "data": {
            "text/plain": [
              "[<matplotlib.lines.Line2D at 0x163533be0>]"
            ]
          },
          "execution_count": 9,
          "metadata": {},
          "output_type": "execute_result"
        },
        {
          "data": {
            "image/png": "[encoded data removed]",
            "text/plain": [
              "<Figure size 640x480 with 1 Axes>"
            ]
          },
          "metadata": {},
          "output_type": "display_data"
        }
      ],
      "source": [
        "plt.plot(train_y)"
      ]
    },
    {
      "cell_type": "code",
      "execution_count": 12,
      "metadata": {
        "colab": {
          "base_uri": "https://localhost:8080/",
          "height": 293
        },
        "id": "wzuvk0dY8_Zu",
        "outputId": "93fdf10c-25fc-4e5c-ce03-b3af7ae7d4b4"
      },
      "outputs": [
        {
          "name": "stderr",
          "output_type": "stream",
          "text": [
            "/var/folders/f6/lvbc1jms5m5fpyk35g028y0c0000gn/T/ipykernel_17511/331725828.py:2: FutureWarning: Support for multi-dimensional indexing (e.g. `obj[:, None]`) is deprecated and will be removed in a future version.  Convert to a numpy array before indexing instead.\n",
            "  corr = pd.DataFrame(np.concatenate((train_x, train_y[:, np.newaxis]), axis=1), columns=var_name+[target]).corr()\n"
          ]
        },
        {
          "data": {
            "text/html": [
              "<div>\n",
              "<style scoped>\n",
              "    .dataframe tbody tr th:only-of-type {\n",
              "        vertical-align: middle;\n",
              "    }\n",
              "\n",
              "    .dataframe tbody tr th {\n",
              "        vertical-align: top;\n",
              "    }\n",
              "\n",
              "    .dataframe thead th {\n",
              "        text-align: right;\n",
              "    }\n",
              "</style>\n",
              "<table border=\"1\" class=\"dataframe\">\n",
              "  <thead>\n",
              "    <tr style=\"text-align: right;\">\n",
              "      <th></th>\n",
              "      <th>Temp</th>\n",
              "      <th>Wind</th>\n",
              "      <th>Moisture</th>\n",
              "      <th>Precipitation</th>\n",
              "      <th>Sun</th>\n",
              "      <th>Wh</th>\n",
              "    </tr>\n",
              "  </thead>\n",
              "  <tbody>\n",
              "    <tr>\n",
              "      <th>Temp</th>\n",
              "      <td>1.000000</td>\n",
              "      <td>0.510935</td>\n",
              "      <td>-0.628642</td>\n",
              "      <td>-0.173210</td>\n",
              "      <td>0.783829</td>\n",
              "      <td>0.803301</td>\n",
              "    </tr>\n",
              "    <tr>\n",
              "      <th>Wind</th>\n",
              "      <td>0.510935</td>\n",
              "      <td>1.000000</td>\n",
              "      <td>-0.478825</td>\n",
              "      <td>0.028617</td>\n",
              "      <td>0.544720</td>\n",
              "      <td>0.349288</td>\n",
              "    </tr>\n",
              "    <tr>\n",
              "      <th>Moisture</th>\n",
              "      <td>-0.628642</td>\n",
              "      <td>-0.478825</td>\n",
              "      <td>1.000000</td>\n",
              "      <td>0.152529</td>\n",
              "      <td>-0.699047</td>\n",
              "      <td>-0.095042</td>\n",
              "    </tr>\n",
              "    <tr>\n",
              "      <th>Precipitation</th>\n",
              "      <td>-0.173210</td>\n",
              "      <td>0.028617</td>\n",
              "      <td>0.152529</td>\n",
              "      <td>1.000000</td>\n",
              "      <td>-0.123846</td>\n",
              "      <td>-0.090389</td>\n",
              "    </tr>\n",
              "    <tr>\n",
              "      <th>Sun</th>\n",
              "      <td>0.783829</td>\n",
              "      <td>0.544720</td>\n",
              "      <td>-0.699047</td>\n",
              "      <td>-0.123846</td>\n",
              "      <td>1.000000</td>\n",
              "      <td>0.458348</td>\n",
              "    </tr>\n",
              "    <tr>\n",
              "      <th>Wh</th>\n",
              "      <td>0.803301</td>\n",
              "      <td>0.349288</td>\n",
              "      <td>-0.095042</td>\n",
              "      <td>-0.090389</td>\n",
              "      <td>0.458348</td>\n",
              "      <td>1.000000</td>\n",
              "    </tr>\n",
              "  </tbody>\n",
              "</table>\n",
              "</div>"
            ],
            "text/plain": [
              "                   Temp      Wind  Moisture  Precipitation       Sun        Wh\n",
              "Temp           1.000000  0.510935 -0.628642      -0.173210  0.783829  0.803301\n",
              "Wind           0.510935  1.000000 -0.478825       0.028617  0.544720  0.349288\n",
              "Moisture      -0.628642 -0.478825  1.000000       0.152529 -0.699047 -0.095042\n",
              "Precipitation -0.173210  0.028617  0.152529       1.000000 -0.123846 -0.090389\n",
              "Sun            0.783829  0.544720 -0.699047      -0.123846  1.000000  0.458348\n",
              "Wh             0.803301  0.349288 -0.095042      -0.090389  0.458348  1.000000"
            ]
          },
          "execution_count": 12,
          "metadata": {},
          "output_type": "execute_result"
        }
      ],
      "source": [
        "#상관계수 확인\n",
        "corr = pd.DataFrame(np.concatenate((train_x, train_y[:, np.newaxis]), axis=1), columns=var_name+[target]).corr()\n",
        "corr"
      ]
    },
    {
      "cell_type": "code",
      "execution_count": 15,
      "metadata": {
        "colab": {
          "base_uri": "https://localhost:8080/",
          "height": 423
        },
        "id": "Kj3n1bsY9HRn",
        "outputId": "8939a3d2-3560-4466-a9e8-84a03385f35a"
      },
      "outputs": [
        {
          "data": {
            "text/html": [
              "<div>\n",
              "<style scoped>\n",
              "    .dataframe tbody tr th:only-of-type {\n",
              "        vertical-align: middle;\n",
              "    }\n",
              "\n",
              "    .dataframe tbody tr th {\n",
              "        vertical-align: top;\n",
              "    }\n",
              "\n",
              "    .dataframe thead th {\n",
              "        text-align: right;\n",
              "    }\n",
              "</style>\n",
              "<table border=\"1\" class=\"dataframe\">\n",
              "  <thead>\n",
              "    <tr style=\"text-align: right;\">\n",
              "      <th></th>\n",
              "      <th>Temp</th>\n",
              "      <th>Wind</th>\n",
              "      <th>Sun</th>\n",
              "    </tr>\n",
              "  </thead>\n",
              "  <tbody>\n",
              "    <tr>\n",
              "      <th>0</th>\n",
              "      <td>17.6</td>\n",
              "      <td>2.5</td>\n",
              "      <td>0.0</td>\n",
              "    </tr>\n",
              "    <tr>\n",
              "      <th>1</th>\n",
              "      <td>17.7</td>\n",
              "      <td>2.9</td>\n",
              "      <td>0.0</td>\n",
              "    </tr>\n",
              "    <tr>\n",
              "      <th>2</th>\n",
              "      <td>17.5</td>\n",
              "      <td>3.2</td>\n",
              "      <td>0.0</td>\n",
              "    </tr>\n",
              "    <tr>\n",
              "      <th>3</th>\n",
              "      <td>17.1</td>\n",
              "      <td>3.2</td>\n",
              "      <td>0.0</td>\n",
              "    </tr>\n",
              "    <tr>\n",
              "      <th>4</th>\n",
              "      <td>17.0</td>\n",
              "      <td>3.3</td>\n",
              "      <td>0.0</td>\n",
              "    </tr>\n",
              "    <tr>\n",
              "      <th>...</th>\n",
              "      <td>...</td>\n",
              "      <td>...</td>\n",
              "      <td>...</td>\n",
              "    </tr>\n",
              "    <tr>\n",
              "      <th>83</th>\n",
              "      <td>23.9</td>\n",
              "      <td>2.8</td>\n",
              "      <td>0.6</td>\n",
              "    </tr>\n",
              "    <tr>\n",
              "      <th>84</th>\n",
              "      <td>25.0</td>\n",
              "      <td>3.1</td>\n",
              "      <td>0.8</td>\n",
              "    </tr>\n",
              "    <tr>\n",
              "      <th>85</th>\n",
              "      <td>26.0</td>\n",
              "      <td>3.1</td>\n",
              "      <td>1.0</td>\n",
              "    </tr>\n",
              "    <tr>\n",
              "      <th>86</th>\n",
              "      <td>26.4</td>\n",
              "      <td>3.8</td>\n",
              "      <td>1.0</td>\n",
              "    </tr>\n",
              "    <tr>\n",
              "      <th>87</th>\n",
              "      <td>25.4</td>\n",
              "      <td>4.2</td>\n",
              "      <td>0.5</td>\n",
              "    </tr>\n",
              "  </tbody>\n",
              "</table>\n",
              "<p>88 rows × 3 columns</p>\n",
              "</div>"
            ],
            "text/plain": [
              "    Temp  Wind  Sun\n",
              "0   17.6   2.5  0.0\n",
              "1   17.7   2.9  0.0\n",
              "2   17.5   3.2  0.0\n",
              "3   17.1   3.2  0.0\n",
              "4   17.0   3.3  0.0\n",
              "..   ...   ...  ...\n",
              "83  23.9   2.8  0.6\n",
              "84  25.0   3.1  0.8\n",
              "85  26.0   3.1  1.0\n",
              "86  26.4   3.8  1.0\n",
              "87  25.4   4.2  0.5\n",
              "\n",
              "[88 rows x 3 columns]"
            ]
          },
          "execution_count": 15,
          "metadata": {},
          "output_type": "execute_result"
        }
      ],
      "source": [
        "# 상관계수를 보았을 때 일정 수준 이상 상관성이 있다고 판단되는 변수를 선택한다.\n",
        "variables = ['Temp', 'Wind', 'Sun']\n",
        "train_x = train_x[variables]\n",
        "train_x"
      ]
    },
    {
      "cell_type": "code",
      "execution_count": 16,
      "metadata": {
        "colab": {
          "base_uri": "https://localhost:8080/",
          "height": 143
        },
        "id": "N1PY1asd_e5X",
        "outputId": "39bccc0a-c5fe-467f-c038-491c46fa7f5f"
      },
      "outputs": [
        {
          "data": {
            "text/html": [
              "<div>\n",
              "<style scoped>\n",
              "    .dataframe tbody tr th:only-of-type {\n",
              "        vertical-align: middle;\n",
              "    }\n",
              "\n",
              "    .dataframe tbody tr th {\n",
              "        vertical-align: top;\n",
              "    }\n",
              "\n",
              "    .dataframe thead th {\n",
              "        text-align: right;\n",
              "    }\n",
              "</style>\n",
              "<table border=\"1\" class=\"dataframe\">\n",
              "  <thead>\n",
              "    <tr style=\"text-align: right;\">\n",
              "      <th></th>\n",
              "      <th>features</th>\n",
              "      <th>VIF Factor</th>\n",
              "    </tr>\n",
              "  </thead>\n",
              "  <tbody>\n",
              "    <tr>\n",
              "      <th>0</th>\n",
              "      <td>Temp</td>\n",
              "      <td>9.278102</td>\n",
              "    </tr>\n",
              "    <tr>\n",
              "      <th>1</th>\n",
              "      <td>Wind</td>\n",
              "      <td>10.057008</td>\n",
              "    </tr>\n",
              "    <tr>\n",
              "      <th>2</th>\n",
              "      <td>Sun</td>\n",
              "      <td>1.971685</td>\n",
              "    </tr>\n",
              "  </tbody>\n",
              "</table>\n",
              "</div>"
            ],
            "text/plain": [
              "  features  VIF Factor\n",
              "0     Temp    9.278102\n",
              "1     Wind   10.057008\n",
              "2      Sun    1.971685"
            ]
          },
          "execution_count": 16,
          "metadata": {},
          "output_type": "execute_result"
        }
      ],
      "source": [
        "# 전체 독립변수(train_x)에 대한 VIF값 구하기\n",
        "\n",
        "from statsmodels.stats.outliers_influence import variance_inflation_factor\n",
        "\n",
        "vif = pd.DataFrame()\n",
        "vif['features'] = train_x.columns\n",
        "vif[\"VIF Factor\"] = [variance_inflation_factor(train_x.values, i) for i in range(train_x.shape[1])]\n",
        "vif"
      ]
    },
    {
      "cell_type": "code",
      "execution_count": 17,
      "metadata": {
        "id": "riTuDjcMAg-L"
      },
      "outputs": [],
      "source": [
        "#다중공선성이 10이 넘는 변수는 drop.\n",
        "train_x =  train_x.drop('Wind',axis=1)"
      ]
    },
    {
      "cell_type": "code",
      "execution_count": 18,
      "metadata": {
        "colab": {
          "base_uri": "https://localhost:8080/"
        },
        "id": "Jf7wcupLJowz",
        "outputId": "584c3c95-d0ba-426c-8fcc-93ba12f30082"
      },
      "outputs": [
        {
          "data": {
            "text/plain": [
              "Index(['Temp', 'Sun'], dtype='object')"
            ]
          },
          "execution_count": 18,
          "metadata": {},
          "output_type": "execute_result"
        }
      ],
      "source": [
        "variables = train_x.columns\n",
        "variables"
      ]
    },
    {
      "cell_type": "code",
      "execution_count": 19,
      "metadata": {
        "colab": {
          "base_uri": "https://localhost:8080/",
          "height": 112
        },
        "id": "4iteB7QVAqJD",
        "outputId": "c86cb61b-d6fa-433a-b1c4-80a7736357ba"
      },
      "outputs": [
        {
          "data": {
            "text/html": [
              "<div>\n",
              "<style scoped>\n",
              "    .dataframe tbody tr th:only-of-type {\n",
              "        vertical-align: middle;\n",
              "    }\n",
              "\n",
              "    .dataframe tbody tr th {\n",
              "        vertical-align: top;\n",
              "    }\n",
              "\n",
              "    .dataframe thead th {\n",
              "        text-align: right;\n",
              "    }\n",
              "</style>\n",
              "<table border=\"1\" class=\"dataframe\">\n",
              "  <thead>\n",
              "    <tr style=\"text-align: right;\">\n",
              "      <th></th>\n",
              "      <th>features</th>\n",
              "      <th>VIF Factor</th>\n",
              "    </tr>\n",
              "  </thead>\n",
              "  <tbody>\n",
              "    <tr>\n",
              "      <th>0</th>\n",
              "      <td>Temp</td>\n",
              "      <td>1.816925</td>\n",
              "    </tr>\n",
              "    <tr>\n",
              "      <th>1</th>\n",
              "      <td>Sun</td>\n",
              "      <td>1.816925</td>\n",
              "    </tr>\n",
              "  </tbody>\n",
              "</table>\n",
              "</div>"
            ],
            "text/plain": [
              "  features  VIF Factor\n",
              "0     Temp    1.816925\n",
              "1      Sun    1.816925"
            ]
          },
          "execution_count": 19,
          "metadata": {},
          "output_type": "execute_result"
        }
      ],
      "source": [
        "# 다중공선성 재확인\n",
        "vif = pd.DataFrame()\n",
        "vif['features'] = train_x.columns\n",
        "vif[\"VIF Factor\"] = [variance_inflation_factor(train_x.values, i) for i in range(train_x.shape[1])]\n",
        "vif"
      ]
    },
    {
      "cell_type": "markdown",
      "metadata": {
        "id": "oyYc2iBW9gFI"
      },
      "source": [
        "## 전처리 - 스케일링"
      ]
    },
    {
      "cell_type": "markdown",
      "metadata": {
        "id": "oE7wOW0B9nsY"
      },
      "source": [
        "위에서 선택한 변수들(feature)를 가지고 한번 전력 사용량을 예측하는 모델을 만들어 보기에 앞서,\n",
        "\n",
        "**train 데이터의 feature의 전처리**를 진행해 봅시다."
      ]
    },
    {
      "cell_type": "code",
      "execution_count": 20,
      "metadata": {
        "id": "ZjhyK38SynM5"
      },
      "outputs": [],
      "source": [
        "# 사용할 패키지를 import!\n",
        "from sklearn.preprocessing import StandardScaler, MinMaxScaler\n",
        "from sklearn.preprocessing import PolynomialFeatures"
      ]
    },
    {
      "cell_type": "code",
      "execution_count": 21,
      "metadata": {
        "id": "2CsRghUh91XV"
      },
      "outputs": [],
      "source": [
        "scaler = MinMaxScaler().fit(train_x)\n",
        "train_x = scaler.transform(train_x)"
      ]
    },
    {
      "cell_type": "markdown",
      "metadata": {
        "id": "QvWpyI_X-91f"
      },
      "source": [
        "## 모델링"
      ]
    },
    {
      "cell_type": "markdown",
      "metadata": {
        "id": "ZYCdT9gU_CiN"
      },
      "source": [
        "### 학습"
      ]
    },
    {
      "cell_type": "markdown",
      "metadata": {
        "id": "dzzkdBdoK1pm"
      },
      "source": [
        "linear regression model"
      ]
    },
    {
      "cell_type": "code",
      "execution_count": 23,
      "metadata": {
        "id": "95DOhofnK6sL"
      },
      "outputs": [],
      "source": [
        "#sklearn 패키지 linear_model 모듈에서 LinearRegression 가져오기\n",
        "from sklearn.linear_model import LinearRegression\n",
        "\n",
        "linear_model = LinearRegression().fit(train_x, train_y) #Linear Regression model 생성"
      ]
    },
    {
      "cell_type": "code",
      "execution_count": 24,
      "metadata": {
        "colab": {
          "base_uri": "https://localhost:8080/"
        },
        "id": "m9VBB9SMK_QW",
        "outputId": "faf1bd74-9ee1-4b81-eee3-f91e68da83cf"
      },
      "outputs": [
        {
          "name": "stdout",
          "output_type": "stream",
          "text": [
            "[ 956.80285148 -217.78538838]\n",
            "7816.8814336615615\n"
          ]
        }
      ],
      "source": [
        "#회귀계수와 절편을 확인해보자!\n",
        "print(linear_model.coef_) #회귀계수\n",
        "print(linear_model.intercept_) #절편"
      ]
    },
    {
      "cell_type": "code",
      "execution_count": 25,
      "metadata": {
        "colab": {
          "base_uri": "https://localhost:8080/"
        },
        "id": "nZIJLpghLBAF",
        "outputId": "309915aa-2f80-4986-d90b-1af2c28482c8"
      },
      "outputs": [
        {
          "data": {
            "text/plain": [
              "array([8016.8103877 , 8023.95070749, 8009.67006791, 7981.10878877,\n",
              "       7973.96846898, 7966.82814919, 7952.54750962, 7945.04961035,\n",
              "       7965.75541076, 7985.74605221, 8006.09427315, 8120.33938974,\n",
              "       8191.74258761, 8191.74258761, 8227.44418655])"
            ]
          },
          "execution_count": 25,
          "metadata": {},
          "output_type": "execute_result"
        }
      ],
      "source": [
        "#train_X 데이터 15개 예측\n",
        "linear_model.predict(train_x)[:15]"
      ]
    },
    {
      "cell_type": "markdown",
      "metadata": {
        "id": "EcTuQ4yTLNib"
      },
      "source": [
        "###성능평가"
      ]
    },
    {
      "cell_type": "code",
      "execution_count": 26,
      "metadata": {
        "id": "8cxlYvntLM2K"
      },
      "outputs": [],
      "source": [
        "#사이킷런 패키지 metrics 모듈에서 r2_score, mean_squared_error 함수 가져오기\n",
        "from sklearn.metrics import r2_score, mean_squared_error # R^2, MSE"
      ]
    },
    {
      "cell_type": "code",
      "execution_count": 27,
      "metadata": {
        "colab": {
          "base_uri": "https://localhost:8080/"
        },
        "id": "w-GFMnahLSWh",
        "outputId": "3cd70d3c-c0fc-4b0b-e58e-9b98b81ad9da"
      },
      "outputs": [
        {
          "data": {
            "text/plain": [
              "0.7213913154132792"
            ]
          },
          "execution_count": 27,
          "metadata": {},
          "output_type": "execute_result"
        }
      ],
      "source": [
        "r2_score(train_y, linear_model.predict(train_x)) #r2_score(실제값, 예측값)"
      ]
    },
    {
      "cell_type": "code",
      "execution_count": 28,
      "metadata": {
        "colab": {
          "base_uri": "https://localhost:8080/"
        },
        "id": "OridOItSxZzf",
        "outputId": "11d45d68-4242-4390-8101-d215e26a4458"
      },
      "outputs": [
        {
          "data": {
            "text/plain": [
              "11423.540883265872"
            ]
          },
          "execution_count": 28,
          "metadata": {},
          "output_type": "execute_result"
        }
      ],
      "source": [
        "mean_squared_error(train_y, linear_model.predict(train_x)) #mean_squared_error(실제값, 예측값)"
      ]
    },
    {
      "cell_type": "markdown",
      "metadata": {
        "id": "k9_FPGByLdB5"
      },
      "source": [
        "# Ridge & Lasso"
      ]
    },
    {
      "cell_type": "markdown",
      "metadata": {
        "id": "-iQd4c1xnqM-"
      },
      "source": [
        "Ridge와 Lasso의 경우 의미 없는 변수를 알아서 0으로 (또는 0에 가깝게) 만들어 준다! <br> 회귀계수에 관한 규제항을 추가한, 다중공선성에 강한 회귀 모델이다.\n",
        "따라서 다중공선성/상관계수로 변수 제거를 시작하지 않고 진행해도 된다."
      ]
    },
    {
      "cell_type": "markdown",
      "metadata": {
        "id": "6kNj-3AcN-2d"
      },
      "source": [
        "## 데이터 불러오기 및 전처리\n",
        "Boston데이터를 새로 불러와서 Boston 집값을 Ridge와 Lasso로 예측해보자."
      ]
    },
    {
      "cell_type": "code",
      "execution_count": 29,
      "metadata": {
        "colab": {
          "base_uri": "https://localhost:8080/",
          "height": 206
        },
        "id": "b5sOFOwAe62p",
        "outputId": "70e380c7-ae83-45f1-aa1b-87329217dcfb"
      },
      "outputs": [
        {
          "data": {
            "text/html": [
              "<div>\n",
              "<style scoped>\n",
              "    .dataframe tbody tr th:only-of-type {\n",
              "        vertical-align: middle;\n",
              "    }\n",
              "\n",
              "    .dataframe tbody tr th {\n",
              "        vertical-align: top;\n",
              "    }\n",
              "\n",
              "    .dataframe thead th {\n",
              "        text-align: right;\n",
              "    }\n",
              "</style>\n",
              "<table border=\"1\" class=\"dataframe\">\n",
              "  <thead>\n",
              "    <tr style=\"text-align: right;\">\n",
              "      <th></th>\n",
              "      <th>AGE</th>\n",
              "      <th>B</th>\n",
              "      <th>RM</th>\n",
              "      <th>CRIM</th>\n",
              "      <th>DIS</th>\n",
              "      <th>INDUS</th>\n",
              "      <th>LSTAT</th>\n",
              "      <th>NOX</th>\n",
              "      <th>PTRATIO</th>\n",
              "      <th>RAD</th>\n",
              "      <th>ZN</th>\n",
              "      <th>TAX</th>\n",
              "      <th>CHAS</th>\n",
              "      <th>Target</th>\n",
              "    </tr>\n",
              "  </thead>\n",
              "  <tbody>\n",
              "    <tr>\n",
              "      <th>0</th>\n",
              "      <td>65.2</td>\n",
              "      <td>396.90</td>\n",
              "      <td>6.575</td>\n",
              "      <td>0.00632</td>\n",
              "      <td>4.0900</td>\n",
              "      <td>2.31</td>\n",
              "      <td>4.98</td>\n",
              "      <td>0.538</td>\n",
              "      <td>15.3</td>\n",
              "      <td>1</td>\n",
              "      <td>18.0</td>\n",
              "      <td>296</td>\n",
              "      <td>0</td>\n",
              "      <td>24.0</td>\n",
              "    </tr>\n",
              "    <tr>\n",
              "      <th>1</th>\n",
              "      <td>78.9</td>\n",
              "      <td>396.90</td>\n",
              "      <td>6.421</td>\n",
              "      <td>0.02731</td>\n",
              "      <td>4.9671</td>\n",
              "      <td>7.07</td>\n",
              "      <td>9.14</td>\n",
              "      <td>0.469</td>\n",
              "      <td>17.8</td>\n",
              "      <td>2</td>\n",
              "      <td>0.0</td>\n",
              "      <td>242</td>\n",
              "      <td>0</td>\n",
              "      <td>21.6</td>\n",
              "    </tr>\n",
              "    <tr>\n",
              "      <th>2</th>\n",
              "      <td>61.1</td>\n",
              "      <td>392.83</td>\n",
              "      <td>7.185</td>\n",
              "      <td>0.02729</td>\n",
              "      <td>4.9671</td>\n",
              "      <td>7.07</td>\n",
              "      <td>4.03</td>\n",
              "      <td>0.469</td>\n",
              "      <td>17.8</td>\n",
              "      <td>2</td>\n",
              "      <td>0.0</td>\n",
              "      <td>242</td>\n",
              "      <td>0</td>\n",
              "      <td>34.7</td>\n",
              "    </tr>\n",
              "    <tr>\n",
              "      <th>3</th>\n",
              "      <td>45.8</td>\n",
              "      <td>394.63</td>\n",
              "      <td>6.998</td>\n",
              "      <td>0.03237</td>\n",
              "      <td>6.0622</td>\n",
              "      <td>2.18</td>\n",
              "      <td>2.94</td>\n",
              "      <td>0.458</td>\n",
              "      <td>18.7</td>\n",
              "      <td>3</td>\n",
              "      <td>0.0</td>\n",
              "      <td>222</td>\n",
              "      <td>0</td>\n",
              "      <td>33.4</td>\n",
              "    </tr>\n",
              "    <tr>\n",
              "      <th>4</th>\n",
              "      <td>54.2</td>\n",
              "      <td>396.90</td>\n",
              "      <td>7.147</td>\n",
              "      <td>0.06905</td>\n",
              "      <td>6.0622</td>\n",
              "      <td>2.18</td>\n",
              "      <td>5.33</td>\n",
              "      <td>0.458</td>\n",
              "      <td>18.7</td>\n",
              "      <td>3</td>\n",
              "      <td>0.0</td>\n",
              "      <td>222</td>\n",
              "      <td>0</td>\n",
              "      <td>36.2</td>\n",
              "    </tr>\n",
              "  </tbody>\n",
              "</table>\n",
              "</div>"
            ],
            "text/plain": [
              "    AGE       B     RM     CRIM     DIS  INDUS  LSTAT    NOX  PTRATIO  RAD  \\\n",
              "0  65.2  396.90  6.575  0.00632  4.0900   2.31   4.98  0.538     15.3    1   \n",
              "1  78.9  396.90  6.421  0.02731  4.9671   7.07   9.14  0.469     17.8    2   \n",
              "2  61.1  392.83  7.185  0.02729  4.9671   7.07   4.03  0.469     17.8    2   \n",
              "3  45.8  394.63  6.998  0.03237  6.0622   2.18   2.94  0.458     18.7    3   \n",
              "4  54.2  396.90  7.147  0.06905  6.0622   2.18   5.33  0.458     18.7    3   \n",
              "\n",
              "     ZN  TAX  CHAS  Target  \n",
              "0  18.0  296     0    24.0  \n",
              "1   0.0  242     0    21.6  \n",
              "2   0.0  242     0    34.7  \n",
              "3   0.0  222     0    33.4  \n",
              "4   0.0  222     0    36.2  "
            ]
          },
          "execution_count": 29,
          "metadata": {},
          "output_type": "execute_result"
        }
      ],
      "source": [
        "boston = pd.read_csv(\"./Boston_house.csv\")\n",
        "boston.head()"
      ]
    },
    {
      "cell_type": "markdown",
      "metadata": {
        "id": "-7pXFAJhfbmN"
      },
      "source": [
        "x, y 데이터 분할"
      ]
    },
    {
      "cell_type": "code",
      "execution_count": 30,
      "metadata": {
        "id": "4Dpk_uB-fexD"
      },
      "outputs": [],
      "source": [
        "raw_x = boston.drop(['Target'], axis=1)\n",
        "raw_y = boston['Target']"
      ]
    },
    {
      "cell_type": "code",
      "execution_count": 31,
      "metadata": {
        "colab": {
          "base_uri": "https://localhost:8080/"
        },
        "id": "vYDB4V6YfpWt",
        "outputId": "a03e79cf-47c3-4b0b-e830-beb3945922a8"
      },
      "outputs": [
        {
          "data": {
            "text/plain": [
              "Index(['AGE', 'B', 'RM', 'CRIM', 'DIS', 'INDUS', 'LSTAT', 'NOX', 'PTRATIO',\n",
              "       'RAD', 'ZN', 'TAX', 'CHAS'],\n",
              "      dtype='object')"
            ]
          },
          "execution_count": 31,
          "metadata": {},
          "output_type": "execute_result"
        }
      ],
      "source": [
        "raw_x.columns"
      ]
    },
    {
      "cell_type": "markdown",
      "metadata": {
        "id": "zsADCIcTiaml"
      },
      "source": [
        "## 훈련/테스트 세트 분리\n"
      ]
    },
    {
      "cell_type": "markdown",
      "metadata": {
        "id": "kOn_fWHs8Tek"
      },
      "source": [
        "훈련 세트와 테스트 세트로 데이터 분리\n",
        "데이터셋을 훈련세트와 테스트 세트로 나누는 것은 사이킷런 패키지의 train_test_split 함수로 쉽게 구현할 수 있다.\n",
        "\n",
        "sklearn.model_selection.train_test_split(*arrays, test_size=None, train_size=None, random_state=None, shuffle=True, stratify=None)\n",
        "\n",
        "훈련 세트: 모델 학습 / 훈련시키기 위한 데이터셋 <br>\n",
        "테스트 세트: 모델의 성능을 평가하기 위한 데이터셋으로, **절대** 모델 훈련 과정에 관여해서는 안 된다."
      ]
    },
    {
      "cell_type": "code",
      "execution_count": 32,
      "metadata": {
        "id": "WVqcmw6JiECF"
      },
      "outputs": [],
      "source": [
        "#sklearn 패키지의 model_selection 모듈에서 train_test_split 함수를 갖고 오겠다\n",
        "from sklearn.model_selection import train_test_split\n",
        "\n",
        "train_x, test_x, train_y, test_y = train_test_split(raw_x, raw_y,\n",
        "                                                    train_size=0.7, #훈련 세트 사이즈: 0.7\n",
        "                                                    test_size=0.3, #테스트 세트 사이즈: 0.3\n",
        "                                                    random_state=1) #랜덤 시드 설정"
      ]
    },
    {
      "cell_type": "code",
      "execution_count": 33,
      "metadata": {
        "colab": {
          "base_uri": "https://localhost:8080/"
        },
        "id": "TqdWWGpRisXP",
        "outputId": "e50be505-7500-46cc-bdda-bd3c0f06d184"
      },
      "outputs": [
        {
          "name": "stdout",
          "output_type": "stream",
          "text": [
            "(354, 13) (152, 13) (354,) (152,)\n"
          ]
        }
      ],
      "source": [
        "#shape 확인\n",
        "print(train_x.shape, test_x.shape, train_y.shape, test_y.shape)"
      ]
    },
    {
      "cell_type": "markdown",
      "metadata": {
        "id": "gFp4uYnXi6qE"
      },
      "source": [
        "## 스케일링"
      ]
    },
    {
      "cell_type": "markdown",
      "metadata": {
        "id": "mVK2JY858bW_"
      },
      "source": [
        "독립변수들 간 스케일을 맞춰주는 작업 > 회귀계수 해석에 도움 <br>\n",
        "종속변수인 Y에 대해서는 스케일링 할 필요 없음 <br>\n",
        "여기서는 StandardScaler를 사용하겠다!"
      ]
    },
    {
      "cell_type": "code",
      "execution_count": 34,
      "metadata": {
        "colab": {
          "base_uri": "https://localhost:8080/"
        },
        "id": "fWal_4Wqi57-",
        "outputId": "ec512a12-2b19-4f22-a8dc-9be58e78be9e"
      },
      "outputs": [
        {
          "name": "stdout",
          "output_type": "stream",
          "text": [
            "[[ 0.04993471  0.43987709  0.86104176 -0.43390418 -0.3021049  -1.33216561\n",
            "  -0.74735561 -0.70670089 -0.02384719 -0.30467281  0.92062021 -1.10027405\n",
            "  -0.30429031]\n",
            " [-0.44246754  0.43987709  0.63984211 -0.43671065  0.89239452 -1.09858981\n",
            "  -0.79551142 -0.60488281 -0.39697005 -0.53221326  1.85680748 -0.22954784\n",
            "  -0.30429031]\n",
            " [ 0.58838896  0.39379457 -0.32302696 -0.41276468  0.87238781 -0.64165714\n",
            "   0.80326144 -0.91033705 -0.25704898 -0.75975371 -0.48366069 -1.03555792\n",
            "  -0.30429031]\n",
            " [-1.68232931  0.43223359 -0.54278087 -0.43289743  1.25125038 -0.76428444\n",
            "  -0.66893044 -1.24124581  0.2093546  -0.64598348  0.04826389 -0.37662997\n",
            "  -0.30429031]\n",
            " [ 0.96743242  0.2614181  -1.28878753 -0.00760165 -0.80770792  0.99191363\n",
            "  -0.38137146  1.82178145  0.81567925  1.62942102 -0.48366069  1.51190459\n",
            "  -0.30429031]]\n"
          ]
        }
      ],
      "source": [
        "#sklearn 패키지 preprocessing 모듈에서 StandardScaler 가져오기\n",
        "from sklearn.preprocessing import StandardScaler\n",
        "\n",
        "scaler = StandardScaler() #빈 스케일러 생성\n",
        "scaler = scaler.fit(train_x) #이후 이 스케일러를 train_X에 맞는 스케일러로 만들어준다.\n",
        "#주의) fit할 때는 무조건 train_X로 스케일러를 만들어줘야한다. 테스트 세트는 모델 구현에 일절 관여해선 안 됨!\n",
        "\n",
        "train_x_scaled = scaler.transform(train_x) #train_X 데이터 변환\n",
        "test_x_scaled = scaler.transform(test_x) #test_X 데이터 변환\n",
        "print(test_x_scaled[:5])"
      ]
    },
    {
      "cell_type": "markdown",
      "metadata": {
        "id": "SltIHARxOvhx"
      },
      "source": [
        "## 모델링"
      ]
    },
    {
      "cell_type": "code",
      "execution_count": 35,
      "metadata": {
        "id": "FHPVZZOzNyeP"
      },
      "outputs": [],
      "source": [
        "#sklearn 패키지 linear_model 모듈에서 Ridge, Lasso 가져오기\n",
        "from sklearn.linear_model import Ridge, Lasso\n",
        "\n",
        "#모델 생성\n",
        "r_model = Ridge(alpha=1.0).fit(train_x_scaled, train_y) #Ridge 모델 생성\n",
        "l_model = Lasso(alpha=1.0).fit(train_x_scaled, train_y) #Lasso 모델 생성\n"
      ]
    },
    {
      "cell_type": "markdown",
      "metadata": {
        "id": "K099bHSdMveV"
      },
      "source": [
        "Ridge"
      ]
    },
    {
      "cell_type": "code",
      "execution_count": 36,
      "metadata": {
        "colab": {
          "base_uri": "https://localhost:8080/"
        },
        "id": "y1xWH_4fMpCG",
        "outputId": "e42c48f3-7a03-4fa5-aee0-56854868deb3"
      },
      "outputs": [
        {
          "name": "stdout",
          "output_type": "stream",
          "text": [
            "[ 0.08786471  0.58420966  1.95068061 -0.82422532 -3.18468949  0.36575078\n",
            " -4.11001931 -2.48298904 -2.14571176  2.58633866  1.392506   -1.80548175\n",
            "  0.685604  ]\n",
            "22.33983050847458\n"
          ]
        }
      ],
      "source": [
        "# Ridge: 규제항이 회귀계수의 제곱합이므로 회귀계수들이 딱 0이 되지는 않고, 0에 가까워진다.\n",
        "print(r_model.coef_)\n",
        "print(r_model.intercept_)"
      ]
    },
    {
      "cell_type": "markdown",
      "metadata": {
        "id": "1jhUcjeCMyc9"
      },
      "source": [
        "Lasso"
      ]
    },
    {
      "cell_type": "code",
      "execution_count": 37,
      "metadata": {
        "colab": {
          "base_uri": "https://localhost:8080/"
        },
        "id": "RxMiTlsVNswp",
        "outputId": "3d3a88d6-30b8-4d55-edd3-b5bc2cc2a98d"
      },
      "outputs": [
        {
          "name": "stdout",
          "output_type": "stream",
          "text": [
            "[-0.00000000e+00  0.00000000e+00  1.95271813e+00 -0.00000000e+00\n",
            " -0.00000000e+00 -0.00000000e+00 -3.95564352e+00 -0.00000000e+00\n",
            " -1.35341659e+00 -0.00000000e+00  0.00000000e+00 -0.00000000e+00\n",
            "  2.77756477e-03]\n",
            "22.339830508474577\n"
          ]
        }
      ],
      "source": [
        "# Lasso: 규제항이 회귀계수의 절댓값 합이므로 회귀계수들이 0에 수렴한다.\n",
        "print(l_model.coef_)\n",
        "print(l_model.intercept_)"
      ]
    },
    {
      "cell_type": "markdown",
      "metadata": {
        "id": "XB998ZAoF16P"
      },
      "source": [
        "## 성능평가"
      ]
    },
    {
      "cell_type": "code",
      "execution_count": 38,
      "metadata": {
        "id": "76XO2kPTNAnA"
      },
      "outputs": [],
      "source": [
        "from sklearn.metrics import r2_score, mean_squared_error # R^2, MSE"
      ]
    },
    {
      "cell_type": "markdown",
      "metadata": {
        "id": "VypEcLpb0pqW"
      },
      "source": [
        "생성한 각각의 모델에 대해 MSE값을 확인해보고 적절한 모델을 선택합니다."
      ]
    },
    {
      "cell_type": "code",
      "execution_count": 39,
      "metadata": {
        "colab": {
          "base_uri": "https://localhost:8080/"
        },
        "id": "1u6UgbmlNELY",
        "outputId": "5ff90a20-151c-462d-b55f-4d5af0c2ed39"
      },
      "outputs": [
        {
          "name": "stdout",
          "output_type": "stream",
          "text": [
            "MSE for Ridge model : 19.81\n",
            "MSE for Lasso model : 29.89\n"
          ]
        }
      ],
      "source": [
        "# MSE; mean_squared_error\n",
        "print(\"MSE for Ridge model : {:.2f}\".format(mean_squared_error(test_y, r_model.predict(test_x_scaled))))\n",
        "print(\"MSE for Lasso model : {:.2f}\".format(mean_squared_error(test_y, l_model.predict(test_x_scaled))))"
      ]
    },
    {
      "cell_type": "markdown",
      "metadata": {
        "id": "kqKtAgNhuOc8"
      },
      "source": [
        "#Logistic Regression"
      ]
    },
    {
      "cell_type": "markdown",
      "metadata": {
        "id": "-rH504yCvpLi"
      },
      "source": [
        "sklearn의 유방암 데이터로 로지스틱 회귀분석을 진행해봅시다."
      ]
    },
    {
      "cell_type": "markdown",
      "metadata": {
        "id": "2YqCAiYa0Xcy"
      },
      "source": [
        "## 데이터 불러오기"
      ]
    },
    {
      "cell_type": "code",
      "execution_count": 40,
      "metadata": {
        "colab": {
          "base_uri": "https://localhost:8080/"
        },
        "id": "gDGmL0f4w_A3",
        "outputId": "bd87ad9b-3db8-45f6-de32-d5c70e87e1f8"
      },
      "outputs": [
        {
          "name": "stdout",
          "output_type": "stream",
          "text": [
            ".. _breast_cancer_dataset:\n",
            "\n",
            "Breast cancer wisconsin (diagnostic) dataset\n",
            "--------------------------------------------\n",
            "\n",
            "**Data Set Characteristics:**\n",
            "\n",
            "    :Number of Instances: 569\n",
            "\n",
            "    :Number of Attributes: 30 numeric, predictive attributes and the class\n",
            "\n",
            "    :Attribute Information:\n",
            "        - radius (mean of distances from center to points on the perimeter)\n",
            "        - texture (standard deviation of gray-scale values)\n",
            "        - perimeter\n",
            "        - area\n",
            "        - smoothness (local variation in radius lengths)\n",
            "        - compactness (perimeter^2 / area - 1.0)\n",
            "        - concavity (severity of concave portions of the contour)\n",
            "        - concave points (number of concave portions of the contour)\n",
            "        - symmetry\n",
            "        - fractal dimension (\"coastline approximation\" - 1)\n",
            "\n",
            "        The mean, standard error, and \"worst\" or largest (mean of the three\n",
            "        worst/largest values) of these features were computed for each image,\n",
            "        resulting in 30 features.  For instance, field 0 is Mean Radius, field\n",
            "        10 is Radius SE, field 20 is Worst Radius.\n",
            "\n",
            "        - class:\n",
            "                - WDBC-Malignant\n",
            "                - WDBC-Benign\n",
            "\n",
            "    :Summary Statistics:\n",
            "\n",
            "    ===================================== ====== ======\n",
            "                                           Min    Max\n",
            "    ===================================== ====== ======\n",
            "    radius (mean):                        6.981  28.11\n",
            "    texture (mean):                       9.71   39.28\n",
            "    perimeter (mean):                     43.79  188.5\n",
            "    area (mean):                          143.5  2501.0\n",
            "    smoothness (mean):                    0.053  0.163\n",
            "    compactness (mean):                   0.019  0.345\n",
            "    concavity (mean):                     0.0    0.427\n",
            "    concave points (mean):                0.0    0.201\n",
            "    symmetry (mean):                      0.106  0.304\n",
            "    fractal dimension (mean):             0.05   0.097\n",
            "    radius (standard error):              0.112  2.873\n",
            "    texture (standard error):             0.36   4.885\n",
            "    perimeter (standard error):           0.757  21.98\n",
            "    area (standard error):                6.802  542.2\n",
            "    smoothness (standard error):          0.002  0.031\n",
            "    compactness (standard error):         0.002  0.135\n",
            "    concavity (standard error):           0.0    0.396\n",
            "    concave points (standard error):      0.0    0.053\n",
            "    symmetry (standard error):            0.008  0.079\n",
            "    fractal dimension (standard error):   0.001  0.03\n",
            "    radius (worst):                       7.93   36.04\n",
            "    texture (worst):                      12.02  49.54\n",
            "    perimeter (worst):                    50.41  251.2\n",
            "    area (worst):                         185.2  4254.0\n",
            "    smoothness (worst):                   0.071  0.223\n",
            "    compactness (worst):                  0.027  1.058\n",
            "    concavity (worst):                    0.0    1.252\n",
            "    concave points (worst):               0.0    0.291\n",
            "    symmetry (worst):                     0.156  0.664\n",
            "    fractal dimension (worst):            0.055  0.208\n",
            "    ===================================== ====== ======\n",
            "\n",
            "    :Missing Attribute Values: None\n",
            "\n",
            "    :Class Distribution: 212 - Malignant, 357 - Benign\n",
            "\n",
            "    :Creator:  Dr. William H. Wolberg, W. Nick Street, Olvi L. Mangasarian\n",
            "\n",
            "    :Donor: Nick Street\n",
            "\n",
            "    :Date: November, 1995\n",
            "\n",
            "This is a copy of UCI ML Breast Cancer Wisconsin (Diagnostic) datasets.\n",
            "https://goo.gl/U2Uwz2\n",
            "\n",
            "Features are computed from a digitized image of a fine needle\n",
            "aspirate (FNA) of a breast mass.  They describe\n",
            "characteristics of the cell nuclei present in the image.\n",
            "\n",
            "Separating plane described above was obtained using\n",
            "Multisurface Method-Tree (MSM-T) [K. P. Bennett, \"Decision Tree\n",
            "Construction Via Linear Programming.\" Proceedings of the 4th\n",
            "Midwest Artificial Intelligence and Cognitive Science Society,\n",
            "pp. 97-101, 1992], a classification method which uses linear\n",
            "programming to construct a decision tree.  Relevant features\n",
            "were selected using an exhaustive search in the space of 1-4\n",
            "features and 1-3 separating planes.\n",
            "\n",
            "The actual linear program used to obtain the separating plane\n",
            "in the 3-dimensional space is that described in:\n",
            "[K. P. Bennett and O. L. Mangasarian: \"Robust Linear\n",
            "Programming Discrimination of Two Linearly Inseparable Sets\",\n",
            "Optimization Methods and Software 1, 1992, 23-34].\n",
            "\n",
            "This database is also available through the UW CS ftp server:\n",
            "\n",
            "ftp ftp.cs.wisc.edu\n",
            "cd math-prog/cpo-dataset/machine-learn/WDBC/\n",
            "\n",
            ".. topic:: References\n",
            "\n",
            "   - W.N. Street, W.H. Wolberg and O.L. Mangasarian. Nuclear feature extraction \n",
            "     for breast tumor diagnosis. IS&T/SPIE 1993 International Symposium on \n",
            "     Electronic Imaging: Science and Technology, volume 1905, pages 861-870,\n",
            "     San Jose, CA, 1993.\n",
            "   - O.L. Mangasarian, W.N. Street and W.H. Wolberg. Breast cancer diagnosis and \n",
            "     prognosis via linear programming. Operations Research, 43(4), pages 570-577, \n",
            "     July-August 1995.\n",
            "   - W.H. Wolberg, W.N. Street, and O.L. Mangasarian. Machine learning techniques\n",
            "     to diagnose breast cancer from fine-needle aspirates. Cancer Letters 77 (1994) \n",
            "     163-171.\n"
          ]
        }
      ],
      "source": [
        "# 실습용 데이터 패키지\n",
        "from sklearn.datasets import load_iris, make_moons, load_breast_cancer\n",
        "\n",
        "# 데이터셋 로드 및 설명\n",
        "breast_cancer = load_breast_cancer()\n",
        "print(breast_cancer.DESCR)"
      ]
    },
    {
      "cell_type": "code",
      "execution_count": 41,
      "metadata": {
        "colab": {
          "base_uri": "https://localhost:8080/"
        },
        "id": "iTCnL_aMzo8P",
        "outputId": "60851c83-31c2-4290-9614-87cb1767239f"
      },
      "outputs": [
        {
          "name": "stdout",
          "output_type": "stream",
          "text": [
            "['mean radius' 'mean texture' 'mean perimeter' 'mean area'\n",
            " 'mean smoothness' 'mean compactness' 'mean concavity'\n",
            " 'mean concave points' 'mean symmetry' 'mean fractal dimension'\n",
            " 'radius error' 'texture error' 'perimeter error' 'area error'\n",
            " 'smoothness error' 'compactness error' 'concavity error'\n",
            " 'concave points error' 'symmetry error' 'fractal dimension error'\n",
            " 'worst radius' 'worst texture' 'worst perimeter' 'worst area'\n",
            " 'worst smoothness' 'worst compactness' 'worst concavity'\n",
            " 'worst concave points' 'worst symmetry' 'worst fractal dimension']\n",
            "['malignant' 'benign']\n"
          ]
        }
      ],
      "source": [
        "# X 변수 및 Y 변수 확인\n",
        "print(breast_cancer.feature_names)\n",
        "print(breast_cancer.target_names) ## class {\"0\":'malignant',\"1\":\"benign\"}"
      ]
    },
    {
      "cell_type": "markdown",
      "metadata": {
        "id": "qCPPoKd_0Ty_"
      },
      "source": [
        "## 전처리"
      ]
    },
    {
      "cell_type": "code",
      "execution_count": 42,
      "metadata": {
        "id": "2JhTAmUAuRVY"
      },
      "outputs": [],
      "source": [
        "# Train set/ Test set 나누기\n",
        "X_train, X_test, y_train, y_test = train_test_split(breast_cancer.data,\n",
        "                                                   breast_cancer.target,\n",
        "                                                   test_size=0.3,\n",
        "                                                   random_state=2021)\n",
        "# 데이터 컬럼 단위 정규화 하기\n",
        "from sklearn.preprocessing import StandardScaler\n",
        "\n",
        "normalizer = StandardScaler()\n",
        "X_train = normalizer.fit_transform(X_train)\n",
        "X_test = normalizer.transform(X_test)"
      ]
    },
    {
      "cell_type": "markdown",
      "metadata": {
        "id": "Orb3r1AD0a4j"
      },
      "source": [
        "## 모델링"
      ]
    },
    {
      "cell_type": "markdown",
      "metadata": {
        "id": "25fZFKS23u9q"
      },
      "source": [
        "logreg.score: 이 메서드는 학습된 모델에 입력 데이터를 제공하고, 모델이 예측한 결과와 실제 결과를 비교하여 정확도를 계산합니다. 정확도는 예측이 올바르게 이루어진 데이터의 비율로 나타납니다."
      ]
    },
    {
      "cell_type": "code",
      "execution_count": 43,
      "metadata": {
        "colab": {
          "base_uri": "https://localhost:8080/"
        },
        "id": "eJW7Hmdv0O3j",
        "outputId": "42bc7eb9-f43a-42b9-918a-5301938dabf7"
      },
      "outputs": [
        {
          "name": "stdout",
          "output_type": "stream",
          "text": [
            "train set score :  0.9547738693467337\n",
            "test set score :  0.9415204678362573\n"
          ]
        }
      ],
      "source": [
        "from sklearn.linear_model import LogisticRegression\n",
        "\n",
        "logreg = LogisticRegression(C=0.01).fit(X_train, y_train)\n",
        "print(\"train set score : \", logreg.score(X_train, y_train))  # 0.954\n",
        "print(\"test set score : \", logreg.score(X_test, y_test))   # 0.941"
      ]
    },
    {
      "cell_type": "code",
      "execution_count": 47,
      "metadata": {
        "colab": {
          "base_uri": "https://localhost:8080/"
        },
        "id": "2ct9LFrv0iDK",
        "outputId": "32106e83-f84b-4d78-edf4-a4e788563853"
      },
      "outputs": [
        {
          "name": "stdout",
          "output_type": "stream",
          "text": [
            "실제 값:  [1 1 1 0 1 0 0 1 0 1 1 0 1 0 1 1 1 1 1 0 1 1 0 1 1 1 1 1 0 1]\n",
            "예측 값:  [1 1 1 0 1 0 0 1 0 1 1 0 1 0 1 1 1 1 1 0 1 1 0 1 1 1 1 1 1 1]\n"
          ]
        }
      ],
      "source": [
        "pred_30 = logreg.predict(X_test)\n",
        "\n",
        "print('실제 값: ',y_test[:30])\t# 실제 값:  [1 1 1 0 1 0 0 1 0 1 1 0 1 0 1 1 1 1 1 0 1 1 0 1 1 1 1 1 0 1]\n",
        "print('예측 값: ',pred_30[:30])\t# 예측 값:  [1 1 1 0 1 0 0 1 0 1 1 0 1 0 1 1 1 1 1 0 1 1 0 1 1 1 1 1 1 1]\n"
      ]
    },
    {
      "cell_type": "markdown",
      "metadata": {
        "id": "F_b_rrUdlolN"
      },
      "source": [
        "#SVM"
      ]
    },
    {
      "cell_type": "code",
      "execution_count": 48,
      "metadata": {
        "id": "SK2iHu_W9rnr"
      },
      "outputs": [],
      "source": [
        "# 실습용 데이터 패키지\n",
        "from sklearn.datasets import load_iris, make_moons\n",
        "\n",
        "# 전처리\n",
        "from sklearn.preprocessing import PolynomialFeatures, StandardScaler\n",
        "\n",
        "# 기계학습 모델 및 평가\n",
        "from sklearn.svm import LinearSVC\n",
        "from sklearn.svm import SVC\n",
        "\n",
        "# 시각화\n",
        "import seaborn as sns"
      ]
    },
    {
      "cell_type": "markdown",
      "metadata": {
        "id": "Uqy0fu1Blsi0"
      },
      "source": [
        "## 선형 SVM"
      ]
    },
    {
      "cell_type": "markdown",
      "metadata": {
        "id": "EB8ZuLfr9Ie_"
      },
      "source": [
        "iris dataset: binary classification"
      ]
    },
    {
      "cell_type": "code",
      "execution_count": 50,
      "metadata": {
        "colab": {
          "base_uri": "https://localhost:8080/",
          "height": 250
        },
        "id": "pD17_JgI80XB",
        "outputId": "99fa23a3-15a7-42af-e8a1-79eea7d1769c"
      },
      "outputs": [
        {
          "data": {
            "text/html": [
              "<div>\n",
              "<style scoped>\n",
              "    .dataframe tbody tr th:only-of-type {\n",
              "        vertical-align: middle;\n",
              "    }\n",
              "\n",
              "    .dataframe tbody tr th {\n",
              "        vertical-align: top;\n",
              "    }\n",
              "\n",
              "    .dataframe thead th {\n",
              "        text-align: right;\n",
              "    }\n",
              "</style>\n",
              "<table border=\"1\" class=\"dataframe\">\n",
              "  <thead>\n",
              "    <tr style=\"text-align: right;\">\n",
              "      <th></th>\n",
              "      <th>sepal length (cm)</th>\n",
              "      <th>sepal width (cm)</th>\n",
              "      <th>petal length (cm)</th>\n",
              "      <th>petal width (cm)</th>\n",
              "      <th>target</th>\n",
              "    </tr>\n",
              "  </thead>\n",
              "  <tbody>\n",
              "    <tr>\n",
              "      <th>145</th>\n",
              "      <td>6.7</td>\n",
              "      <td>3.0</td>\n",
              "      <td>5.2</td>\n",
              "      <td>2.3</td>\n",
              "      <td>virginica</td>\n",
              "    </tr>\n",
              "    <tr>\n",
              "      <th>146</th>\n",
              "      <td>6.3</td>\n",
              "      <td>2.5</td>\n",
              "      <td>5.0</td>\n",
              "      <td>1.9</td>\n",
              "      <td>virginica</td>\n",
              "    </tr>\n",
              "    <tr>\n",
              "      <th>147</th>\n",
              "      <td>6.5</td>\n",
              "      <td>3.0</td>\n",
              "      <td>5.2</td>\n",
              "      <td>2.0</td>\n",
              "      <td>virginica</td>\n",
              "    </tr>\n",
              "    <tr>\n",
              "      <th>148</th>\n",
              "      <td>6.2</td>\n",
              "      <td>3.4</td>\n",
              "      <td>5.4</td>\n",
              "      <td>2.3</td>\n",
              "      <td>virginica</td>\n",
              "    </tr>\n",
              "    <tr>\n",
              "      <th>149</th>\n",
              "      <td>5.9</td>\n",
              "      <td>3.0</td>\n",
              "      <td>5.1</td>\n",
              "      <td>1.8</td>\n",
              "      <td>virginica</td>\n",
              "    </tr>\n",
              "  </tbody>\n",
              "</table>\n",
              "</div>"
            ],
            "text/plain": [
              "     sepal length (cm)  sepal width (cm)  petal length (cm)  petal width (cm)  \\\n",
              "145                6.7               3.0                5.2               2.3   \n",
              "146                6.3               2.5                5.0               1.9   \n",
              "147                6.5               3.0                5.2               2.0   \n",
              "148                6.2               3.4                5.4               2.3   \n",
              "149                5.9               3.0                5.1               1.8   \n",
              "\n",
              "        target  \n",
              "145  virginica  \n",
              "146  virginica  \n",
              "147  virginica  \n",
              "148  virginica  \n",
              "149  virginica  "
            ]
          },
          "execution_count": 50,
          "metadata": {},
          "output_type": "execute_result"
        }
      ],
      "source": [
        "iris = load_iris()\n",
        "iris_data = pd.DataFrame(data=np.c_[iris['data'], iris['target']], columns=iris['feature_names']+['target'])\n",
        "iris_data['target'] = iris_data['target'].map({0:'setosa', 1:'versicolor', 2:'virginica'})\n",
        "iris_data.tail()"
      ]
    },
    {
      "cell_type": "code",
      "execution_count": 51,
      "metadata": {
        "colab": {
          "base_uri": "https://localhost:8080/",
          "height": 206
        },
        "id": "FB1TQYFq-uib",
        "outputId": "cd0287e8-cdd6-4fe5-c083-a4f6e7fcd7b5"
      },
      "outputs": [
        {
          "data": {
            "text/html": [
              "<div>\n",
              "<style scoped>\n",
              "    .dataframe tbody tr th:only-of-type {\n",
              "        vertical-align: middle;\n",
              "    }\n",
              "\n",
              "    .dataframe tbody tr th {\n",
              "        vertical-align: top;\n",
              "    }\n",
              "\n",
              "    .dataframe thead th {\n",
              "        text-align: right;\n",
              "    }\n",
              "</style>\n",
              "<table border=\"1\" class=\"dataframe\">\n",
              "  <thead>\n",
              "    <tr style=\"text-align: right;\">\n",
              "      <th></th>\n",
              "      <th>petal length</th>\n",
              "      <th>petal width</th>\n",
              "      <th>target</th>\n",
              "    </tr>\n",
              "  </thead>\n",
              "  <tbody>\n",
              "    <tr>\n",
              "      <th>0</th>\n",
              "      <td>-1.340227</td>\n",
              "      <td>-1.315444</td>\n",
              "      <td>0</td>\n",
              "    </tr>\n",
              "    <tr>\n",
              "      <th>1</th>\n",
              "      <td>-1.340227</td>\n",
              "      <td>-1.315444</td>\n",
              "      <td>0</td>\n",
              "    </tr>\n",
              "    <tr>\n",
              "      <th>2</th>\n",
              "      <td>-1.397064</td>\n",
              "      <td>-1.315444</td>\n",
              "      <td>0</td>\n",
              "    </tr>\n",
              "    <tr>\n",
              "      <th>3</th>\n",
              "      <td>-1.283389</td>\n",
              "      <td>-1.315444</td>\n",
              "      <td>0</td>\n",
              "    </tr>\n",
              "    <tr>\n",
              "      <th>4</th>\n",
              "      <td>-1.340227</td>\n",
              "      <td>-1.315444</td>\n",
              "      <td>0</td>\n",
              "    </tr>\n",
              "  </tbody>\n",
              "</table>\n",
              "</div>"
            ],
            "text/plain": [
              "   petal length  petal width  target\n",
              "0     -1.340227    -1.315444       0\n",
              "1     -1.340227    -1.315444       0\n",
              "2     -1.397064    -1.315444       0\n",
              "3     -1.283389    -1.315444       0\n",
              "4     -1.340227    -1.315444       0"
            ]
          },
          "execution_count": 51,
          "metadata": {},
          "output_type": "execute_result"
        }
      ],
      "source": [
        "# iris데이터의 2개 class(Iris-setosa, Iris-Versicolor)에 대해 고려해보자\n",
        "\n",
        "X = iris['data'][:,(2,3)]\n",
        "\n",
        "scaler = StandardScaler()\n",
        "Xstan = scaler.fit_transform(X)\n",
        "\n",
        "df = pd.DataFrame(data=Xstan, columns=['petal length','petal width'])\n",
        "df['target'] = iris['target']\n",
        "df = df[df['target']!=2] # Iris-setosa 와 Iris-Versicolor 에 대해 고려해보자\n",
        "df.head()"
      ]
    },
    {
      "cell_type": "code",
      "execution_count": 52,
      "metadata": {
        "colab": {
          "base_uri": "https://localhost:8080/",
          "height": 512
        },
        "id": "1Tawlw1_Ambl",
        "outputId": "1ef5f8e6-3c05-4099-da92-b709c39f581c"
      },
      "outputs": [
        {
          "data": {
            "image/png": "[encoded data removed]",
            "text/plain": [
              "<Figure size 500x500 with 1 Axes>"
            ]
          },
          "metadata": {},
          "output_type": "display_data"
        }
      ],
      "source": [
        "sns.lmplot(x='petal length',y='petal width',hue='target',data=df, fit_reg=False, legend=False)\n",
        "plt.legend(['Iris-Setosa','Iris-Versicolor'], fontsize = 14)\n",
        "plt.xlabel('petal length (scaled)', fontsize = 15)\n",
        "plt.ylabel('petal width (scaled)', fontsize = 15)\n",
        "plt.show()"
      ]
    },
    {
      "cell_type": "markdown",
      "metadata": {
        "id": "kkK4kV0MBAO6"
      },
      "source": [
        "### Hard Margin (Large C)"
      ]
    },
    {
      "cell_type": "code",
      "execution_count": 53,
      "metadata": {
        "colab": {
          "base_uri": "https://localhost:8080/",
          "height": 536
        },
        "id": "m9uRyH6JA8QO",
        "outputId": "c9782229-f7a3-4359-f680-a4ac60710b3f"
      },
      "outputs": [
        {
          "data": {
            "image/png": "[encoded data removed]",
            "text/plain": [
              "<Figure size 500x500 with 1 Axes>"
            ]
          },
          "metadata": {},
          "output_type": "display_data"
        }
      ],
      "source": [
        "# Linear Hard\n",
        "\n",
        "C = 1000\n",
        "svc = LinearSVC(C=C,loss=\"hinge\")\n",
        "svc.fit(df[['petal length','petal width']].values,df['target'].values)\n",
        "\n",
        "# 파라미터 (W, b) 도출하기\n",
        "w0,w1 = svc.coef_[0]\n",
        "b = svc.intercept_[0]\n",
        "\n",
        "x0 = np.linspace(-1.7, 0.7, num=100)\n",
        "# 결정 경계 (decision boundary) 도출하기\n",
        "x1_decision = -b/w1 - w0/w1*x0\n",
        "\n",
        "# +1 margin\n",
        "x1_plus = x1_decision + 1/w1\n",
        "# -1 margin\n",
        "x1_minus = x1_decision - 1/w1\n",
        "\n",
        "sns.lmplot(x='petal length',y='petal width',hue='target',data=df, fit_reg=False, legend=False)\n",
        "plt.plot(x0,x1_decision, color='grey')\n",
        "plt.plot(x0,x1_plus,x0,x1_minus,color='grey', linestyle='--')\n",
        "plt.legend(['decision boundary','margin','margin','Iris-Setosa','Iris-Versicolor'], fontsize = 14, bbox_to_anchor=(1.05,0.5))\n",
        "plt.xlabel('petal length (scaled)', fontsize = 15)\n",
        "plt.ylabel('petal width (scaled)', fontsize = 15)\n",
        "plt.title(f'C = {C}', fontsize = 17)\n",
        "plt.ylim(-1.6,1)\n",
        "plt.xlim(-1.7,0.8)\n",
        "plt.show()"
      ]
    },
    {
      "cell_type": "markdown",
      "metadata": {
        "id": "h6uRsXQVCJ5O"
      },
      "source": [
        "### Soft Margin (Small C)"
      ]
    },
    {
      "cell_type": "code",
      "execution_count": 54,
      "metadata": {
        "colab": {
          "base_uri": "https://localhost:8080/",
          "height": 536
        },
        "id": "JFVLb-a0BhDc",
        "outputId": "059607e7-623b-4601-dba8-e591aa613959"
      },
      "outputs": [
        {
          "data": {
            "image/png": "[encoded data removed]",
            "text/plain": [
              "<Figure size 500x500 with 1 Axes>"
            ]
          },
          "metadata": {},
          "output_type": "display_data"
        }
      ],
      "source": [
        "# Linear Soft\n",
        "\n",
        "C = 1\n",
        "svc = LinearSVC(C=C,loss=\"hinge\")\n",
        "svc.fit(df[['petal length','petal width']].values,df['target'].values)\n",
        "\n",
        "# 파라미터 (W, b) 도출하기\n",
        "w0,w1 = svc.coef_[0]\n",
        "b = svc.intercept_[0]\n",
        "\n",
        "x0 = np.linspace(-1.7, 0.7, num=100)\n",
        "# 결정 경계 (decision boundary) 도출하기\n",
        "x1_decision = -b/w1 - w0/w1*x0\n",
        "\n",
        "# +1 margin\n",
        "x1_plus = x1_decision + 1/w1\n",
        "# -1 margin\n",
        "x1_minus = x1_decision - 1/w1\n",
        "\n",
        "sns.lmplot(x='petal length',y='petal width',hue='target',data=df, fit_reg=False, legend=False)\n",
        "plt.plot(x0,x1_decision, color='grey')\n",
        "plt.plot(x0,x1_plus,x0,x1_minus,color='grey', linestyle='--')\n",
        "plt.legend(['decision boundary','margin','margin','Iris-Setosa','Iris-Versicolor'], fontsize = 14, bbox_to_anchor=(1.05,0.5))\n",
        "plt.xlabel('petal length (scaled)', fontsize = 15)\n",
        "plt.ylabel('petal width (scaled)', fontsize = 15)\n",
        "plt.title(f'C = {C}', fontsize = 17)\n",
        "plt.ylim(-1.6,1)\n",
        "plt.xlim(-1.7,0.8)\n",
        "plt.show()"
      ]
    },
    {
      "cell_type": "markdown",
      "metadata": {
        "id": "f6bYgoOL85zZ"
      },
      "source": [
        "## 비선형 SVM"
      ]
    },
    {
      "cell_type": "markdown",
      "metadata": {
        "id": "g-tUeoCU9R5J"
      },
      "source": [
        "moons dataset: nonseparable cases"
      ]
    },
    {
      "cell_type": "code",
      "execution_count": 55,
      "metadata": {
        "colab": {
          "base_uri": "https://localhost:8080/",
          "height": 518
        },
        "id": "A_uI7WEA89Pc",
        "outputId": "d9266ff9-a4db-4393-a91f-ca66fa48326a"
      },
      "outputs": [
        {
          "data": {
            "image/png": "[encoded data removed]",
            "text/plain": [
              "<Figure size 725.542x500 with 1 Axes>"
            ]
          },
          "metadata": {},
          "output_type": "display_data"
        }
      ],
      "source": [
        "X,y=make_moons(noise=0.1, random_state=2) # fix random_state to make sure it produces the same dataset everytime. Remove it if you want randomized dataset.\n",
        "df = pd.DataFrame(data = X, columns=['x1','x2'])\n",
        "df['y']=y\n",
        "df.head()\n",
        "\n",
        "sns.lmplot(x='x1',y='x2',hue='y',data=df, fit_reg=False, legend=True, aspect=4/3)\n",
        "plt.xlim(-1.5,2.5)\n",
        "plt.ylim(-1,1.5)\n",
        "plt.xlabel('X 1', fontsize = 15)\n",
        "plt.ylabel('X 2', fontsize = 15)\n",
        "plt.show()"
      ]
    },
    {
      "cell_type": "markdown",
      "metadata": {
        "id": "fYWYw-LRCAh_"
      },
      "source": [
        "### Polynomial Kernel : degree 3"
      ]
    },
    {
      "cell_type": "code",
      "execution_count": 56,
      "metadata": {
        "colab": {
          "base_uri": "https://localhost:8080/",
          "height": 540
        },
        "id": "lqSlixoUB_7L",
        "outputId": "29af282e-8227-4b7f-ab26-cd5a4237ff5e"
      },
      "outputs": [
        {
          "data": {
            "image/png": "[encoded data removed]",
            "text/plain": [
              "<Figure size 725.542x500 with 1 Axes>"
            ]
          },
          "metadata": {},
          "output_type": "display_data"
        }
      ],
      "source": [
        "C=100\n",
        "scaler = StandardScaler()\n",
        "Xstan = scaler.fit_transform(X)\n",
        "svm_clf = SVC(kernel='poly', degree=3, C=C, coef0=1)\n",
        "svm_clf.fit(Xstan,y)\n",
        "\n",
        "def make_meshgrid(x, y, h=.02):\n",
        "    x_min, x_max = x.min() - 1, x.max() + 1\n",
        "    y_min, y_max = y.min() - 1, y.max() + 1\n",
        "    xx, yy = np.meshgrid(np.arange(x_min, x_max, h), np.arange(y_min, y_max, h))\n",
        "    return xx, yy\n",
        "\n",
        "# create grids\n",
        "X0, X1 = X[:, 0], X[:, 1]\n",
        "xx0, xx1 = make_meshgrid(X0, X1)\n",
        "# standardization on the grids\n",
        "xgrid = np.c_[xx0.ravel(), xx1.ravel()]\n",
        "xgridstan = scaler.transform(xgrid)\n",
        "\n",
        "# prediction\n",
        "Z = svm_clf.predict(xgridstan)\n",
        "Z = Z.reshape(xx0.shape)\n",
        "\n",
        "# plotting prediction contours - decision boundary (Z=0), and two margins (Z = 1 or -1)\n",
        "sns.lmplot(x='x1',y='x2',hue='y',data=df, fit_reg=False, legend=True, aspect=4/3)\n",
        "plt.contourf(xx0, xx1, Z, alpha=0.5)\n",
        "plt.xlim(-1.5,2.5)\n",
        "plt.ylim(-1,1.5)\n",
        "plt.xlabel('X 1', fontsize = 15)\n",
        "plt.ylabel('X 2', fontsize = 15)\n",
        "plt.title(f'C = {C}', fontsize = 17)\n",
        "plt.show()"
      ]
    }
  ],
  "metadata": {
    "colab": {
      "collapsed_sections": [
        "WNtdQ51Ty4fA",
        "WVNSDRg9x8cO",
        "k9_FPGByLdB5",
        "6kNj-3AcN-2d",
        "zsADCIcTiaml",
        "gFp4uYnXi6qE",
        "SltIHARxOvhx",
        "F_b_rrUdlolN"
      ],
      "provenance": []
    },
    "kernelspec": {
      "display_name": "tf_m1",
      "language": "python",
      "name": "tf_m1"
    },
    "language_info": {
      "codemirror_mode": {
        "name": "ipython",
        "version": 3
      },
      "file_extension": ".py",
      "mimetype": "text/x-python",
      "name": "python",
      "nbconvert_exporter": "python",
      "pygments_lexer": "ipython3",
      "version": "3.8.13"
    }
  },
  "nbformat": 4,
  "nbformat_minor": 0
}
