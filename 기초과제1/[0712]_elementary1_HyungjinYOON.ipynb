{
 "cells": [
  {
   "attachments": {},
   "cell_type": "markdown",
   "metadata": {},
   "source": [
    "# **DSL 23-2 기초과제 1**\n",
    "### 기수 : 10기\n",
    "### 이름 : 윤형진"
   ]
  },
  {
   "cell_type": "code",
   "execution_count": 1,
   "metadata": {},
   "outputs": [],
   "source": [
    "## 코랩에서 작성할 경우\n",
    "# from google.colab import drive\n",
    "# drive.mount('/content/drive')"
   ]
  },
  {
   "attachments": {},
   "cell_type": "markdown",
   "metadata": {},
   "source": [
    "## **3-2.**\n",
    "신촌 연세로를 지나는 버스 노선의 이용객 수가 ‘차 없는 거리 해제(2022.10.09.)’ 이후 유의미하게 증가했는지 파악하기 위해, 우선 2022년 9월의 평균 이용객 수와 2022년 11월의 평균 이용객 수가 유의미한 차이를 보이는지 통계적 검정을 수행하려고 합니다. "
   ]
  },
  {
   "attachments": {},
   "cell_type": "markdown",
   "metadata": {},
   "source": [
    "**(a) ✎ 귀무가설과 대립가설을 설정하시오.**"
   ]
  },
  {
   "attachments": {},
   "cell_type": "markdown",
   "metadata": {},
   "source": [
    "*정답:*\n",
    "귀무가설 : mu_11 - mu_12 == 0\n",
    "<br>\n",
    "대립가설 : mu_11 - mu-12 < 0 "
   ]
  },
  {
   "attachments": {},
   "cell_type": "markdown",
   "metadata": {},
   "source": [
    "**(b) ⓒ 파이썬 scipy의 stats 패키지를 활용하여 유의수준 5%에서의 가설검정을 수행하고 결론을 도출하시오.**"
   ]
  },
  {
   "cell_type": "code",
   "execution_count": 2,
   "metadata": {},
   "outputs": [],
   "source": [
    "import numpy as np\n",
    "import pandas as pd\n",
    "import matplotlib as mpl\n",
    "import matplotlib.pyplot as plt\n",
    "import seaborn as sns\n",
    "from scipy import stats"
   ]
  },
  {
   "attachments": {},
   "cell_type": "markdown",
   "metadata": {},
   "source": [
    "##### 아래 과정은 전처리 과정입니다. 파일경로만 알맞게 지정해서 실행만 잘 해주시면 데이터프레임이 생성됩니다."
   ]
  },
  {
   "cell_type": "code",
   "execution_count": 3,
   "metadata": {},
   "outputs": [],
   "source": [
    "B2212 = pd.read_csv('/Users/younyung.gene/__DSL__/정기세션/[7:6] 학술 OT/기초과제1/elementary1_dataset/BUS_STATION_BOARDING_MONTH_202212.csv', encoding = 'cp949')\n",
    "B2211 = pd.read_csv('/Users/younyung.gene/__DSL__/정기세션/[7:6] 학술 OT/기초과제1/elementary1_dataset/BUS_STATION_BOARDING_MONTH_202211.csv', encoding = 'cp949')\n",
    "B2210 = pd.read_csv('/Users/younyung.gene/__DSL__/정기세션/[7:6] 학술 OT/기초과제1/elementary1_dataset/BUS_STATION_BOARDING_MONTH_202210.csv', encoding = 'cp949')\n",
    "B2209 = pd.read_csv('/Users/younyung.gene/__DSL__/정기세션/[7:6] 학술 OT/기초과제1/elementary1_dataset/BUS_STATION_BOARDING_MONTH_202209.csv', encoding = 'cp949')\n",
    "B2208 = pd.read_csv('/Users/younyung.gene/__DSL__/정기세션/[7:6] 학술 OT/기초과제1/elementary1_dataset/BUS_STATION_BOARDING_MONTH_202208.csv', encoding = 'cp949')\n",
    "B2207 = pd.read_csv('/Users/younyung.gene/__DSL__/정기세션/[7:6] 학술 OT/기초과제1/elementary1_dataset/BUS_STATION_BOARDING_MONTH_202207.csv', encoding = 'cp949')\n"
   ]
  },
  {
   "cell_type": "code",
   "execution_count": 4,
   "metadata": {},
   "outputs": [],
   "source": [
    "# 13145 정류장(타코벨 앞) 데이터프레임 만드는 함수\n",
    "def DF13145(df, num):\n",
    "  tt = df[df['노선번호']==num]\n",
    "  tt = tt[tt['버스정류장ARS번호']=='13145']\n",
    "  return tt\n",
    "\n",
    "dflist_13145 = []\n",
    "for df in [B2207, B2208, B2209, B2210, B2211, B2212]:\n",
    "  for num in ['171', '172', '173', '472', '674', '700', '7024', '서대문03', '서대문04', '서대문05']:\n",
    "    dflist_13145.append(DF13145(df,num).loc[:,['사용일자','노선번호','버스정류장ARS번호','승차총승객수','하차총승객수']])"
   ]
  },
  {
   "cell_type": "code",
   "execution_count": 5,
   "metadata": {},
   "outputs": [],
   "source": [
    "# 13146 정류장(유플렉스 앞) 데이터프레임 만드는 함수\n",
    "def DF13146(df, num):\n",
    "  tt = df[df['노선번호']==num]\n",
    "  tt = tt[tt['버스정류장ARS번호']=='13146']\n",
    "  return tt\n",
    "\n",
    "dflist_13146 = []\n",
    "for df in [B2207, B2208, B2209, B2210, B2211, B2212]:\n",
    "  for num in ['7720', '7727', '7728', '72', '75']:\n",
    "    dflist_13146.append(DF13146(df,num).loc[:,['사용일자','노선번호','버스정류장ARS번호','승차총승객수','하차총승객수']])"
   ]
  },
  {
   "cell_type": "code",
   "execution_count": 6,
   "metadata": {},
   "outputs": [],
   "source": [
    "# 13324 정류장(playground 앞) 데이터프레임 만드는 함수\n",
    "def DF13324(df, num):\n",
    "  tt = df[df['노선번호']==num]\n",
    "  tt = tt[tt['버스정류장ARS번호']=='13324']\n",
    "  return tt\n",
    "\n",
    "dflist_13324 = []\n",
    "for df in [B2207, B2208, B2209, B2210, B2211, B2212]:\n",
    "  for num in ['171', '172', '173', '472', '674', '700', '7024']:\n",
    "    dflist_13324.append(DF13324(df,num).loc[:,['사용일자','노선번호','버스정류장ARS번호','승차총승객수','하차총승객수']])"
   ]
  },
  {
   "attachments": {},
   "cell_type": "markdown",
   "metadata": {},
   "source": [
    "사용일자를 datetime 패키지 사용해서 요일 입력 후, 금~일 제외해서(차 없는 거리 : 금요일 오후 2시부터 일요일 자정까지) df 새로 생성"
   ]
  },
  {
   "cell_type": "code",
   "execution_count": 7,
   "metadata": {},
   "outputs": [],
   "source": [
    "import datetime\n",
    "days = ['Mon','Tue','Wed','Thu','Fri','Sat','Sun']"
   ]
  },
  {
   "cell_type": "code",
   "execution_count": 8,
   "metadata": {},
   "outputs": [],
   "source": [
    "#13145 정류장 정리\n",
    "\n",
    "for k in range(0,len(dflist_13145)):\n",
    "  date = []\n",
    "  for i in range(0,len(dflist_13145[k].loc[:,'사용일자'])):\n",
    "    a = pd.DataFrame(dflist_13145[k].loc[:,'사용일자']).iat[i,0]\n",
    "    date.append(days[datetime.date(int(str(a)[0:4]),int(str(a)[4:6]),int(str(a)[6:8])).weekday()])\n",
    "  # 요일 칼럼 집어넣기\n",
    "  dflist_13145[k].insert(0,'요일',date)\n",
    "  # 금,토,일 삭제\n",
    "  dflist_13145[k] = dflist_13145[k][(dflist_13145[k]['요일']!='Fri')&(dflist_13145[k]['요일']!='Sat')&(dflist_13145[k]['요일']!='Sun')]"
   ]
  },
  {
   "cell_type": "code",
   "execution_count": 9,
   "metadata": {},
   "outputs": [],
   "source": [
    "#13146 정류장 정리\n",
    "\n",
    "for k in range(0,len(dflist_13146)):\n",
    "  date = []\n",
    "  for i in range(0,len(dflist_13146[k].loc[:,'사용일자'])):\n",
    "    a = pd.DataFrame(dflist_13146[k].loc[:,'사용일자']).iat[i,0]\n",
    "    date.append(days[datetime.date(int(str(a)[0:4]),int(str(a)[4:6]),int(str(a)[6:8])).weekday()])\n",
    "  # 요일 칼럼 집어넣기\n",
    "  dflist_13146[k].insert(0,'요일',date)\n",
    "  # 금,토,일 삭제\n",
    "  dflist_13146[k] = dflist_13146[k][(dflist_13146[k]['요일']!='Fri')&(dflist_13146[k]['요일']!='Sat')&(dflist_13146[k]['요일']!='Sun')]"
   ]
  },
  {
   "cell_type": "code",
   "execution_count": 10,
   "metadata": {},
   "outputs": [],
   "source": [
    "#13324 정류장 정리\n",
    "\n",
    "for k in range(0,len(dflist_13324)):\n",
    "  date = []\n",
    "  for i in range(0,len(dflist_13324[k].loc[:,'사용일자'])):\n",
    "    a = pd.DataFrame(dflist_13324[k].loc[:,'사용일자']).iat[i,0]\n",
    "    date.append(days[datetime.date(int(str(a)[0:4]),int(str(a)[4:6]),int(str(a)[6:8])).weekday()])\n",
    "  # 요일 칼럼 집어넣기\n",
    "  dflist_13324[k].insert(0,'요일',date)\n",
    "  # 금,토,일 삭제\n",
    "  dflist_13324[k] = dflist_13324[k][(dflist_13324[k]['요일']!='Fri')&(dflist_13324[k]['요일']!='Sat')&(dflist_13324[k]['요일']!='Sun')]"
   ]
  },
  {
   "cell_type": "code",
   "execution_count": 11,
   "metadata": {},
   "outputs": [],
   "source": [
    "# 데이터프레임 모아서 만들기 - 13145\n",
    "Data_13145_171 = pd.concat([dflist_13145[0],dflist_13145[10],dflist_13145[20],dflist_13145[30],dflist_13145[40],dflist_13145[50]])\n",
    "Data_13145_172 = pd.concat([dflist_13145[1],dflist_13145[11],dflist_13145[21],dflist_13145[31],dflist_13145[41],dflist_13145[51]])\n",
    "Data_13145_173 = pd.concat([dflist_13145[2],dflist_13145[12],dflist_13145[22],dflist_13145[32],dflist_13145[42],dflist_13145[52]])\n",
    "Data_13145_472 = pd.concat([dflist_13145[3],dflist_13145[13],dflist_13145[23],dflist_13145[33],dflist_13145[43],dflist_13145[53]])\n",
    "Data_13145_674 = pd.concat([dflist_13145[4],dflist_13145[14],dflist_13145[24],dflist_13145[34],dflist_13145[44],dflist_13145[54]])\n",
    "Data_13145_700 = pd.concat([dflist_13145[5],dflist_13145[15],dflist_13145[25],dflist_13145[35],dflist_13145[45],dflist_13145[55]])\n",
    "Data_13145_7024 = pd.concat([dflist_13145[6],dflist_13145[16],dflist_13145[26],dflist_13145[36],dflist_13145[46],dflist_13145[56]])\n",
    "Data_13145_S03 = pd.concat([dflist_13145[7],dflist_13145[17],dflist_13145[27],dflist_13145[37],dflist_13145[47],dflist_13145[57]])\n",
    "Data_13145_S04 = pd.concat([dflist_13145[8],dflist_13145[18],dflist_13145[28],dflist_13145[38],dflist_13145[48],dflist_13145[58]])\n",
    "Data_13145_S05 = pd.concat([dflist_13145[9],dflist_13145[19],dflist_13145[29],dflist_13145[39],dflist_13145[49],dflist_13145[59]])"
   ]
  },
  {
   "cell_type": "code",
   "execution_count": 12,
   "metadata": {},
   "outputs": [],
   "source": [
    "# 데이터프레임 모아서 만들기 - 13146\n",
    "Data_13146_7720 = pd.concat([dflist_13146[0],dflist_13146[5],dflist_13146[10],dflist_13146[15],dflist_13146[20],dflist_13146[25]])\n",
    "Data_13146_7727 = pd.concat([dflist_13146[1],dflist_13146[6],dflist_13146[11],dflist_13146[16],dflist_13146[21],dflist_13146[26]])\n",
    "Data_13146_7728 = pd.concat([dflist_13146[2],dflist_13146[7],dflist_13146[12],dflist_13146[17],dflist_13146[22],dflist_13146[27]])\n",
    "Data_13146_72 = pd.concat([dflist_13146[3],dflist_13146[8],dflist_13146[13],dflist_13146[18],dflist_13146[23],dflist_13146[28]])\n",
    "Data_13146_75 = pd.concat([dflist_13146[4],dflist_13146[9],dflist_13146[14],dflist_13146[19],dflist_13146[24],dflist_13146[29]])"
   ]
  },
  {
   "cell_type": "code",
   "execution_count": 13,
   "metadata": {},
   "outputs": [],
   "source": [
    "# 데이터프레임 모아서 만들기 - 13324\n",
    "Data_13324_171 = pd.concat([dflist_13324[0],dflist_13324[7],dflist_13324[14],dflist_13324[21],dflist_13324[28],dflist_13324[35]])\n",
    "Data_13324_172 = pd.concat([dflist_13324[1],dflist_13324[8],dflist_13324[15],dflist_13324[22],dflist_13324[29],dflist_13324[36]])\n",
    "Data_13324_173 = pd.concat([dflist_13324[2],dflist_13324[9],dflist_13324[16],dflist_13324[23],dflist_13324[30],dflist_13324[37]])\n",
    "Data_13324_472 = pd.concat([dflist_13324[3],dflist_13324[10],dflist_13324[17],dflist_13324[24],dflist_13324[31],dflist_13324[38]])\n",
    "Data_13324_674 = pd.concat([dflist_13324[4],dflist_13324[11],dflist_13324[18],dflist_13324[25],dflist_13324[32],dflist_13324[39]])\n",
    "Data_13324_700 = pd.concat([dflist_13324[5],dflist_13324[12],dflist_13324[19],dflist_13324[26],dflist_13324[33],dflist_13324[40]])\n",
    "Data_13324_7024 = pd.concat([dflist_13324[6],dflist_13324[13],dflist_13324[20],dflist_13324[27],dflist_13324[34],dflist_13324[41]])"
   ]
  },
  {
   "cell_type": "code",
   "execution_count": 14,
   "metadata": {},
   "outputs": [
    {
     "data": {
      "text/html": [
       "<div>\n",
       "<style scoped>\n",
       "    .dataframe tbody tr th:only-of-type {\n",
       "        vertical-align: middle;\n",
       "    }\n",
       "\n",
       "    .dataframe tbody tr th {\n",
       "        vertical-align: top;\n",
       "    }\n",
       "\n",
       "    .dataframe thead th {\n",
       "        text-align: right;\n",
       "    }\n",
       "</style>\n",
       "<table border=\"1\" class=\"dataframe\">\n",
       "  <thead>\n",
       "    <tr style=\"text-align: right;\">\n",
       "      <th></th>\n",
       "      <th>요일</th>\n",
       "      <th>사용일자</th>\n",
       "      <th>노선번호</th>\n",
       "      <th>버스정류장ARS번호</th>\n",
       "      <th>승차총승객수</th>\n",
       "      <th>하차총승객수</th>\n",
       "    </tr>\n",
       "  </thead>\n",
       "  <tbody>\n",
       "    <tr>\n",
       "      <th>143555</th>\n",
       "      <td>Mon</td>\n",
       "      <td>20220704</td>\n",
       "      <td>서대문03</td>\n",
       "      <td>13145</td>\n",
       "      <td>609</td>\n",
       "      <td>299</td>\n",
       "    </tr>\n",
       "    <tr>\n",
       "      <th>183199</th>\n",
       "      <td>Tue</td>\n",
       "      <td>20220705</td>\n",
       "      <td>서대문03</td>\n",
       "      <td>13145</td>\n",
       "      <td>620</td>\n",
       "      <td>269</td>\n",
       "    </tr>\n",
       "    <tr>\n",
       "      <th>222880</th>\n",
       "      <td>Wed</td>\n",
       "      <td>20220706</td>\n",
       "      <td>서대문03</td>\n",
       "      <td>13145</td>\n",
       "      <td>628</td>\n",
       "      <td>246</td>\n",
       "    </tr>\n",
       "    <tr>\n",
       "      <th>262331</th>\n",
       "      <td>Thu</td>\n",
       "      <td>20220707</td>\n",
       "      <td>서대문03</td>\n",
       "      <td>13145</td>\n",
       "      <td>582</td>\n",
       "      <td>225</td>\n",
       "    </tr>\n",
       "    <tr>\n",
       "      <th>420400</th>\n",
       "      <td>Mon</td>\n",
       "      <td>20220711</td>\n",
       "      <td>서대문03</td>\n",
       "      <td>13145</td>\n",
       "      <td>511</td>\n",
       "      <td>224</td>\n",
       "    </tr>\n",
       "    <tr>\n",
       "      <th>...</th>\n",
       "      <td>...</td>\n",
       "      <td>...</td>\n",
       "      <td>...</td>\n",
       "      <td>...</td>\n",
       "      <td>...</td>\n",
       "      <td>...</td>\n",
       "    </tr>\n",
       "    <tr>\n",
       "      <th>872132</th>\n",
       "      <td>Thu</td>\n",
       "      <td>20221222</td>\n",
       "      <td>서대문03</td>\n",
       "      <td>13145</td>\n",
       "      <td>702</td>\n",
       "      <td>263</td>\n",
       "    </tr>\n",
       "    <tr>\n",
       "      <th>1032129</th>\n",
       "      <td>Mon</td>\n",
       "      <td>20221226</td>\n",
       "      <td>서대문03</td>\n",
       "      <td>13145</td>\n",
       "      <td>637</td>\n",
       "      <td>246</td>\n",
       "    </tr>\n",
       "    <tr>\n",
       "      <th>1072463</th>\n",
       "      <td>Tue</td>\n",
       "      <td>20221227</td>\n",
       "      <td>서대문03</td>\n",
       "      <td>13145</td>\n",
       "      <td>632</td>\n",
       "      <td>241</td>\n",
       "    </tr>\n",
       "    <tr>\n",
       "      <th>1112864</th>\n",
       "      <td>Wed</td>\n",
       "      <td>20221228</td>\n",
       "      <td>서대문03</td>\n",
       "      <td>13145</td>\n",
       "      <td>679</td>\n",
       "      <td>233</td>\n",
       "    </tr>\n",
       "    <tr>\n",
       "      <th>1153205</th>\n",
       "      <td>Thu</td>\n",
       "      <td>20221229</td>\n",
       "      <td>서대문03</td>\n",
       "      <td>13145</td>\n",
       "      <td>594</td>\n",
       "      <td>215</td>\n",
       "    </tr>\n",
       "  </tbody>\n",
       "</table>\n",
       "<p>104 rows × 6 columns</p>\n",
       "</div>"
      ],
      "text/plain": [
       "          요일      사용일자   노선번호 버스정류장ARS번호  승차총승객수  하차총승객수\n",
       "143555   Mon  20220704  서대문03      13145     609     299\n",
       "183199   Tue  20220705  서대문03      13145     620     269\n",
       "222880   Wed  20220706  서대문03      13145     628     246\n",
       "262331   Thu  20220707  서대문03      13145     582     225\n",
       "420400   Mon  20220711  서대문03      13145     511     224\n",
       "...      ...       ...    ...        ...     ...     ...\n",
       "872132   Thu  20221222  서대문03      13145     702     263\n",
       "1032129  Mon  20221226  서대문03      13145     637     246\n",
       "1072463  Tue  20221227  서대문03      13145     632     241\n",
       "1112864  Wed  20221228  서대문03      13145     679     233\n",
       "1153205  Thu  20221229  서대문03      13145     594     215\n",
       "\n",
       "[104 rows x 6 columns]"
      ]
     },
     "execution_count": 14,
     "metadata": {},
     "output_type": "execute_result"
    }
   ],
   "source": [
    "Data_13145_S03"
   ]
  },
  {
   "attachments": {},
   "cell_type": "markdown",
   "metadata": {},
   "source": [
    "### t검정"
   ]
  },
  {
   "attachments": {},
   "cell_type": "markdown",
   "metadata": {},
   "source": [
    "#### 13145 정류장"
   ]
  },
  {
   "cell_type": "code",
   "execution_count": 15,
   "metadata": {},
   "outputs": [
    {
     "data": {
      "text/plain": [
       "[0.009936789348169703,\n",
       " 0.1730135142378556,\n",
       " 0.02371726986716881,\n",
       " 0.9985482758308224,\n",
       " 0.26580150260063967,\n",
       " 0.2974943134984972,\n",
       " 0.005256649293290834,\n",
       " 0.006804979968439611,\n",
       " 0.02321185793916975,\n",
       " 0.7316745090133058]"
      ]
     },
     "execution_count": 15,
     "metadata": {},
     "output_type": "execute_result"
    }
   ],
   "source": [
    "t_13145_takeon = [] # p-value를 저장하는 리스트\n",
    "for i in range(20,30):\n",
    "  t_stat, p_value = stats.ttest_ind(dflist_13145[i]['승차총승객수'], dflist_13145[i+20]['승차총승객수'],\n",
    "                                    equal_var=False, alternative=\"less\")\n",
    "  t_13145_takeon.append(p_value)\n",
    "t_13145_takeon"
   ]
  },
  {
   "cell_type": "code",
   "execution_count": 16,
   "metadata": {},
   "outputs": [
    {
     "data": {
      "text/plain": [
       "[0.35518509301270607,\n",
       " 0.6227885195011759,\n",
       " 0.3568332295928345,\n",
       " 0.4295685560480337,\n",
       " 0.6465018598321366,\n",
       " 0.5406279614984912,\n",
       " 0.38680497492426225,\n",
       " 0.9225035711073559,\n",
       " 0.34375471568222826,\n",
       " 0.8198717977155725]"
      ]
     },
     "execution_count": 16,
     "metadata": {},
     "output_type": "execute_result"
    }
   ],
   "source": [
    "t_13145_takeoff = [] # p-value를 저장하는 리스트\n",
    "for i in range(20,30):\n",
    "  t_stat, p_value = stats.ttest_ind(dflist_13145[i]['하차총승객수'], dflist_13145[i+20]['하차총승객수'],\n",
    "                                    equal_var=False, alternative=\"less\")\n",
    "  t_13145_takeoff.append(p_value)\n",
    "t_13145_takeoff"
   ]
  },
  {
   "cell_type": "code",
   "execution_count": 17,
   "metadata": {},
   "outputs": [
    {
     "data": {
      "text/html": [
       "<div>\n",
       "<style scoped>\n",
       "    .dataframe tbody tr th:only-of-type {\n",
       "        vertical-align: middle;\n",
       "    }\n",
       "\n",
       "    .dataframe tbody tr th {\n",
       "        vertical-align: top;\n",
       "    }\n",
       "\n",
       "    .dataframe thead th {\n",
       "        text-align: right;\n",
       "    }\n",
       "</style>\n",
       "<table border=\"1\" class=\"dataframe\">\n",
       "  <thead>\n",
       "    <tr style=\"text-align: right;\">\n",
       "      <th></th>\n",
       "      <th>171</th>\n",
       "      <th>172</th>\n",
       "      <th>173</th>\n",
       "      <th>472</th>\n",
       "      <th>674</th>\n",
       "      <th>700</th>\n",
       "      <th>7024</th>\n",
       "      <th>S03</th>\n",
       "      <th>S04</th>\n",
       "      <th>S05</th>\n",
       "    </tr>\n",
       "  </thead>\n",
       "  <tbody>\n",
       "    <tr>\n",
       "      <th>take-on</th>\n",
       "      <td>0.009937</td>\n",
       "      <td>0.173014</td>\n",
       "      <td>0.023717</td>\n",
       "      <td>0.998548</td>\n",
       "      <td>0.265802</td>\n",
       "      <td>0.297494</td>\n",
       "      <td>0.005257</td>\n",
       "      <td>0.006805</td>\n",
       "      <td>0.023212</td>\n",
       "      <td>0.731675</td>\n",
       "    </tr>\n",
       "    <tr>\n",
       "      <th>take-off</th>\n",
       "      <td>0.355185</td>\n",
       "      <td>0.622789</td>\n",
       "      <td>0.356833</td>\n",
       "      <td>0.429569</td>\n",
       "      <td>0.646502</td>\n",
       "      <td>0.540628</td>\n",
       "      <td>0.386805</td>\n",
       "      <td>0.922504</td>\n",
       "      <td>0.343755</td>\n",
       "      <td>0.819872</td>\n",
       "    </tr>\n",
       "  </tbody>\n",
       "</table>\n",
       "</div>"
      ],
      "text/plain": [
       "               171       172       173       472       674       700  \\\n",
       "take-on   0.009937  0.173014  0.023717  0.998548  0.265802  0.297494   \n",
       "take-off  0.355185  0.622789  0.356833  0.429569  0.646502  0.540628   \n",
       "\n",
       "              7024       S03       S04       S05  \n",
       "take-on   0.005257  0.006805  0.023212  0.731675  \n",
       "take-off  0.386805  0.922504  0.343755  0.819872  "
      ]
     },
     "execution_count": 17,
     "metadata": {},
     "output_type": "execute_result"
    }
   ],
   "source": [
    "p_value_13145 = pd.DataFrame({'171' : [t_13145_takeon[0], t_13145_takeoff[0]],\n",
    "                             '172' : [t_13145_takeon[1], t_13145_takeoff[1]],\n",
    "                             '173' : [t_13145_takeon[2], t_13145_takeoff[2]],\n",
    "                             '472' : [t_13145_takeon[3], t_13145_takeoff[3]],\n",
    "                             '674' : [t_13145_takeon[4], t_13145_takeoff[4]],\n",
    "                             '700' : [t_13145_takeon[5], t_13145_takeoff[5]],\n",
    "                             '7024' : [t_13145_takeon[6], t_13145_takeoff[6]],\n",
    "                             'S03' : [t_13145_takeon[7], t_13145_takeoff[7]],\n",
    "                             'S04' : [t_13145_takeon[8], t_13145_takeoff[8]],\n",
    "                             'S05' : [t_13145_takeon[9], t_13145_takeoff[9]]},\n",
    "                              index = ['take-on', 'take-off'])\n",
    "p_value_13145"
   ]
  },
  {
   "attachments": {},
   "cell_type": "markdown",
   "metadata": {},
   "source": [
    "#### 13146 정류장"
   ]
  },
  {
   "cell_type": "code",
   "execution_count": 18,
   "metadata": {},
   "outputs": [
    {
     "data": {
      "text/plain": [
       "[0.8373905112042684, 0.4499992446925165, 0.22035955128120238]"
      ]
     },
     "execution_count": 18,
     "metadata": {},
     "output_type": "execute_result"
    }
   ],
   "source": [
    "t_13146_takeon = [] # p-value를 저장하는 리스트\n",
    "for i in range(10,13):\n",
    "  t_stat, p_value = stats.ttest_ind(dflist_13146[i]['승차총승객수'], dflist_13146[i+10]['승차총승객수']\n",
    "                                    ,equal_var=False, alternative=\"less\")\n",
    "  t_13146_takeon.append(p_value)\n",
    "t_13146_takeon"
   ]
  },
  {
   "cell_type": "code",
   "execution_count": 19,
   "metadata": {},
   "outputs": [
    {
     "data": {
      "text/plain": [
       "[0.22884106874169963, 0.1875900501331459, 0.2891539287408982]"
      ]
     },
     "execution_count": 19,
     "metadata": {},
     "output_type": "execute_result"
    }
   ],
   "source": [
    "t_13146_takeoff = [] # p-value를 저장하는 리스트\n",
    "for i in range(10,13):\n",
    "  t_stat, p_value = stats.ttest_ind(dflist_13146[i]['하차총승객수'], dflist_13146[i+10]['하차총승객수'],\n",
    "                                    equal_var=False, alternative=\"less\")\n",
    "  t_13146_takeoff.append(p_value)\n",
    "t_13146_takeoff"
   ]
  },
  {
   "cell_type": "code",
   "execution_count": 20,
   "metadata": {},
   "outputs": [
    {
     "data": {
      "text/html": [
       "<div>\n",
       "<style scoped>\n",
       "    .dataframe tbody tr th:only-of-type {\n",
       "        vertical-align: middle;\n",
       "    }\n",
       "\n",
       "    .dataframe tbody tr th {\n",
       "        vertical-align: top;\n",
       "    }\n",
       "\n",
       "    .dataframe thead th {\n",
       "        text-align: right;\n",
       "    }\n",
       "</style>\n",
       "<table border=\"1\" class=\"dataframe\">\n",
       "  <thead>\n",
       "    <tr style=\"text-align: right;\">\n",
       "      <th></th>\n",
       "      <th>7720</th>\n",
       "      <th>7727</th>\n",
       "      <th>7728</th>\n",
       "    </tr>\n",
       "  </thead>\n",
       "  <tbody>\n",
       "    <tr>\n",
       "      <th>take-on</th>\n",
       "      <td>0.837391</td>\n",
       "      <td>0.449999</td>\n",
       "      <td>0.220360</td>\n",
       "    </tr>\n",
       "    <tr>\n",
       "      <th>take-off</th>\n",
       "      <td>0.228841</td>\n",
       "      <td>0.187590</td>\n",
       "      <td>0.289154</td>\n",
       "    </tr>\n",
       "  </tbody>\n",
       "</table>\n",
       "</div>"
      ],
      "text/plain": [
       "              7720      7727      7728\n",
       "take-on   0.837391  0.449999  0.220360\n",
       "take-off  0.228841  0.187590  0.289154"
      ]
     },
     "execution_count": 20,
     "metadata": {},
     "output_type": "execute_result"
    }
   ],
   "source": [
    "p_value_13146 = pd.DataFrame({'7720' : [t_13146_takeon[0], t_13146_takeoff[0]],\n",
    "                             '7727' : [t_13146_takeon[1], t_13146_takeoff[1]],\n",
    "                             '7728' : [t_13146_takeon[2], t_13146_takeoff[2]]},\n",
    "                              index = ['take-on', 'take-off'])\n",
    "p_value_13146"
   ]
  },
  {
   "attachments": {},
   "cell_type": "markdown",
   "metadata": {},
   "source": [
    "#### 13324 정류장"
   ]
  },
  {
   "cell_type": "code",
   "execution_count": 21,
   "metadata": {},
   "outputs": [
    {
     "data": {
      "text/html": [
       "<div>\n",
       "<style scoped>\n",
       "    .dataframe tbody tr th:only-of-type {\n",
       "        vertical-align: middle;\n",
       "    }\n",
       "\n",
       "    .dataframe tbody tr th {\n",
       "        vertical-align: top;\n",
       "    }\n",
       "\n",
       "    .dataframe thead th {\n",
       "        text-align: right;\n",
       "    }\n",
       "</style>\n",
       "<table border=\"1\" class=\"dataframe\">\n",
       "  <thead>\n",
       "    <tr style=\"text-align: right;\">\n",
       "      <th></th>\n",
       "      <th>요일</th>\n",
       "      <th>사용일자</th>\n",
       "      <th>노선번호</th>\n",
       "      <th>버스정류장ARS번호</th>\n",
       "      <th>승차총승객수</th>\n",
       "      <th>하차총승객수</th>\n",
       "    </tr>\n",
       "  </thead>\n",
       "  <tbody>\n",
       "    <tr>\n",
       "      <th>8681</th>\n",
       "      <td>Thu</td>\n",
       "      <td>20220901</td>\n",
       "      <td>171</td>\n",
       "      <td>13324</td>\n",
       "      <td>420</td>\n",
       "      <td>209</td>\n",
       "    </tr>\n",
       "    <tr>\n",
       "      <th>165371</th>\n",
       "      <td>Mon</td>\n",
       "      <td>20220905</td>\n",
       "      <td>171</td>\n",
       "      <td>13324</td>\n",
       "      <td>375</td>\n",
       "      <td>188</td>\n",
       "    </tr>\n",
       "    <tr>\n",
       "      <th>205083</th>\n",
       "      <td>Tue</td>\n",
       "      <td>20220906</td>\n",
       "      <td>171</td>\n",
       "      <td>13324</td>\n",
       "      <td>408</td>\n",
       "      <td>210</td>\n",
       "    </tr>\n",
       "    <tr>\n",
       "      <th>244788</th>\n",
       "      <td>Wed</td>\n",
       "      <td>20220907</td>\n",
       "      <td>171</td>\n",
       "      <td>13324</td>\n",
       "      <td>410</td>\n",
       "      <td>222</td>\n",
       "    </tr>\n",
       "    <tr>\n",
       "      <th>284476</th>\n",
       "      <td>Thu</td>\n",
       "      <td>20220908</td>\n",
       "      <td>171</td>\n",
       "      <td>13324</td>\n",
       "      <td>387</td>\n",
       "      <td>235</td>\n",
       "    </tr>\n",
       "    <tr>\n",
       "      <th>441052</th>\n",
       "      <td>Mon</td>\n",
       "      <td>20220912</td>\n",
       "      <td>171</td>\n",
       "      <td>13324</td>\n",
       "      <td>124</td>\n",
       "      <td>156</td>\n",
       "    </tr>\n",
       "    <tr>\n",
       "      <th>480705</th>\n",
       "      <td>Tue</td>\n",
       "      <td>20220913</td>\n",
       "      <td>171</td>\n",
       "      <td>13324</td>\n",
       "      <td>429</td>\n",
       "      <td>204</td>\n",
       "    </tr>\n",
       "    <tr>\n",
       "      <th>520405</th>\n",
       "      <td>Wed</td>\n",
       "      <td>20220914</td>\n",
       "      <td>171</td>\n",
       "      <td>13324</td>\n",
       "      <td>404</td>\n",
       "      <td>236</td>\n",
       "    </tr>\n",
       "    <tr>\n",
       "      <th>560089</th>\n",
       "      <td>Thu</td>\n",
       "      <td>20220915</td>\n",
       "      <td>171</td>\n",
       "      <td>13324</td>\n",
       "      <td>424</td>\n",
       "      <td>244</td>\n",
       "    </tr>\n",
       "    <tr>\n",
       "      <th>718355</th>\n",
       "      <td>Mon</td>\n",
       "      <td>20220919</td>\n",
       "      <td>171</td>\n",
       "      <td>13324</td>\n",
       "      <td>304</td>\n",
       "      <td>213</td>\n",
       "    </tr>\n",
       "    <tr>\n",
       "      <th>758049</th>\n",
       "      <td>Tue</td>\n",
       "      <td>20220920</td>\n",
       "      <td>171</td>\n",
       "      <td>13324</td>\n",
       "      <td>407</td>\n",
       "      <td>247</td>\n",
       "    </tr>\n",
       "    <tr>\n",
       "      <th>797710</th>\n",
       "      <td>Wed</td>\n",
       "      <td>20220921</td>\n",
       "      <td>171</td>\n",
       "      <td>13324</td>\n",
       "      <td>438</td>\n",
       "      <td>226</td>\n",
       "    </tr>\n",
       "    <tr>\n",
       "      <th>837386</th>\n",
       "      <td>Thu</td>\n",
       "      <td>20220922</td>\n",
       "      <td>171</td>\n",
       "      <td>13324</td>\n",
       "      <td>419</td>\n",
       "      <td>242</td>\n",
       "    </tr>\n",
       "    <tr>\n",
       "      <th>995434</th>\n",
       "      <td>Mon</td>\n",
       "      <td>20220926</td>\n",
       "      <td>171</td>\n",
       "      <td>13324</td>\n",
       "      <td>418</td>\n",
       "      <td>206</td>\n",
       "    </tr>\n",
       "    <tr>\n",
       "      <th>1035128</th>\n",
       "      <td>Tue</td>\n",
       "      <td>20220927</td>\n",
       "      <td>171</td>\n",
       "      <td>13324</td>\n",
       "      <td>446</td>\n",
       "      <td>263</td>\n",
       "    </tr>\n",
       "    <tr>\n",
       "      <th>1074799</th>\n",
       "      <td>Wed</td>\n",
       "      <td>20220928</td>\n",
       "      <td>171</td>\n",
       "      <td>13324</td>\n",
       "      <td>374</td>\n",
       "      <td>253</td>\n",
       "    </tr>\n",
       "    <tr>\n",
       "      <th>1114473</th>\n",
       "      <td>Thu</td>\n",
       "      <td>20220929</td>\n",
       "      <td>171</td>\n",
       "      <td>13324</td>\n",
       "      <td>465</td>\n",
       "      <td>234</td>\n",
       "    </tr>\n",
       "  </tbody>\n",
       "</table>\n",
       "</div>"
      ],
      "text/plain": [
       "          요일      사용일자 노선번호 버스정류장ARS번호  승차총승객수  하차총승객수\n",
       "8681     Thu  20220901  171      13324     420     209\n",
       "165371   Mon  20220905  171      13324     375     188\n",
       "205083   Tue  20220906  171      13324     408     210\n",
       "244788   Wed  20220907  171      13324     410     222\n",
       "284476   Thu  20220908  171      13324     387     235\n",
       "441052   Mon  20220912  171      13324     124     156\n",
       "480705   Tue  20220913  171      13324     429     204\n",
       "520405   Wed  20220914  171      13324     404     236\n",
       "560089   Thu  20220915  171      13324     424     244\n",
       "718355   Mon  20220919  171      13324     304     213\n",
       "758049   Tue  20220920  171      13324     407     247\n",
       "797710   Wed  20220921  171      13324     438     226\n",
       "837386   Thu  20220922  171      13324     419     242\n",
       "995434   Mon  20220926  171      13324     418     206\n",
       "1035128  Tue  20220927  171      13324     446     263\n",
       "1074799  Wed  20220928  171      13324     374     253\n",
       "1114473  Thu  20220929  171      13324     465     234"
      ]
     },
     "execution_count": 21,
     "metadata": {},
     "output_type": "execute_result"
    }
   ],
   "source": [
    "dflist_13324[14]"
   ]
  },
  {
   "cell_type": "code",
   "execution_count": 22,
   "metadata": {},
   "outputs": [
    {
     "data": {
      "text/plain": [
       "[0.1465695022491259,\n",
       " 0.5706548444851766,\n",
       " 0.5247819363072785,\n",
       " 0.7628444368826203,\n",
       " 0.1045593451285196,\n",
       " 0.20495888792460132,\n",
       " 0.10805949653231857]"
      ]
     },
     "execution_count": 22,
     "metadata": {},
     "output_type": "execute_result"
    }
   ],
   "source": [
    "t_13324_takeon = [] # p-value를 저장하는 리스트\n",
    "for i in range(14,21):\n",
    "  t_stat, p_value = stats.ttest_ind(dflist_13324[i]['승차총승객수'], dflist_13324[i+14]['승차총승객수'],\n",
    "                                    equal_var=False, alternative=\"less\")\n",
    "  t_13324_takeon.append(p_value)\n",
    "t_13324_takeon"
   ]
  },
  {
   "cell_type": "code",
   "execution_count": 23,
   "metadata": {},
   "outputs": [
    {
     "data": {
      "text/plain": [
       "[0.1487556078795891,\n",
       " 0.13756122421010436,\n",
       " 0.9239869670868434,\n",
       " 0.8509883342071247,\n",
       " 0.3421952762003496,\n",
       " 0.6332972935603811,\n",
       " 0.19615473280109902]"
      ]
     },
     "execution_count": 23,
     "metadata": {},
     "output_type": "execute_result"
    }
   ],
   "source": [
    "t_13324_takeoff = [] # p-value를 저장하는 리스트\n",
    "for i in range(14,21):\n",
    "  t_stat, p_value = stats.ttest_ind(dflist_13324[i]['하차총승객수'], dflist_13324[i+14]['하차총승객수'],\n",
    "                                    equal_var=False, alternative=\"less\")\n",
    "  t_13324_takeoff.append(p_value)\n",
    "t_13324_takeoff"
   ]
  },
  {
   "cell_type": "code",
   "execution_count": 24,
   "metadata": {},
   "outputs": [
    {
     "data": {
      "text/html": [
       "<div>\n",
       "<style scoped>\n",
       "    .dataframe tbody tr th:only-of-type {\n",
       "        vertical-align: middle;\n",
       "    }\n",
       "\n",
       "    .dataframe tbody tr th {\n",
       "        vertical-align: top;\n",
       "    }\n",
       "\n",
       "    .dataframe thead th {\n",
       "        text-align: right;\n",
       "    }\n",
       "</style>\n",
       "<table border=\"1\" class=\"dataframe\">\n",
       "  <thead>\n",
       "    <tr style=\"text-align: right;\">\n",
       "      <th></th>\n",
       "      <th>171</th>\n",
       "      <th>172</th>\n",
       "      <th>173</th>\n",
       "      <th>472</th>\n",
       "      <th>674</th>\n",
       "      <th>700</th>\n",
       "      <th>7024</th>\n",
       "    </tr>\n",
       "  </thead>\n",
       "  <tbody>\n",
       "    <tr>\n",
       "      <th>take-on</th>\n",
       "      <td>0.146570</td>\n",
       "      <td>0.570655</td>\n",
       "      <td>0.524782</td>\n",
       "      <td>0.762844</td>\n",
       "      <td>0.104559</td>\n",
       "      <td>0.204959</td>\n",
       "      <td>0.108059</td>\n",
       "    </tr>\n",
       "    <tr>\n",
       "      <th>take-off</th>\n",
       "      <td>0.148756</td>\n",
       "      <td>0.137561</td>\n",
       "      <td>0.923987</td>\n",
       "      <td>0.850988</td>\n",
       "      <td>0.342195</td>\n",
       "      <td>0.633297</td>\n",
       "      <td>0.196155</td>\n",
       "    </tr>\n",
       "  </tbody>\n",
       "</table>\n",
       "</div>"
      ],
      "text/plain": [
       "               171       172       173       472       674       700      7024\n",
       "take-on   0.146570  0.570655  0.524782  0.762844  0.104559  0.204959  0.108059\n",
       "take-off  0.148756  0.137561  0.923987  0.850988  0.342195  0.633297  0.196155"
      ]
     },
     "execution_count": 24,
     "metadata": {},
     "output_type": "execute_result"
    }
   ],
   "source": [
    "p_value_13324 = pd.DataFrame({'171' : [t_13324_takeon[0], t_13324_takeoff[0]],\n",
    "                             '172' : [t_13324_takeon[1], t_13324_takeoff[1]],\n",
    "                             '173' : [t_13324_takeon[2], t_13324_takeoff[2]],\n",
    "                             '472' : [t_13324_takeon[3], t_13324_takeoff[3]],\n",
    "                             '674' : [t_13324_takeon[4], t_13324_takeoff[4]],\n",
    "                              '700' : [t_13324_takeon[5], t_13324_takeoff[5]],\n",
    "                              '7024' : [t_13324_takeon[6], t_13324_takeoff[6]]},\n",
    "                              index = ['take-on', 'take-off'])\n",
    "p_value_13324\n"
   ]
  },
  {
   "cell_type": "code",
   "execution_count": 25,
   "metadata": {},
   "outputs": [
    {
     "name": "stdout",
     "output_type": "stream",
     "text": [
      "            171    172    173    472    674    700   7024    S03    S04    S05\n",
      "take-on    True  False   True  False  False  False   True   True   True  False\n",
      "take-off  False  False  False  False  False  False  False  False  False  False \n",
      "\n",
      "           7720   7727   7728\n",
      "take-on   False  False  False\n",
      "take-off  False  False  False \n",
      "\n",
      "            171    172    173    472    674    700   7024\n",
      "take-on   False  False  False  False  False  False  False\n",
      "take-off  False  False  False  False  False  False  False \n",
      "\n"
     ]
    }
   ],
   "source": [
    "stops = [p_value_13145, p_value_13146, p_value_13324]\n",
    "alpha = 0.05\n",
    "for stop in stops:\n",
    "    result = (stop<alpha)\n",
    "    print(result, \"\\n\")"
   ]
  },
  {
   "attachments": {},
   "cell_type": "markdown",
   "metadata": {},
   "source": [
    "<t-검정 결과>  \n",
    "위 검정결과 13145번 정류장의 171, 173, 7024, S03, S04의 승차인원만 .05 significance에서 귀무가설을 기각하고, 이용자수가 유의미하게 늘었다고 결론지었습니다. 나머지 정류장의 모든 노선은 승하차 모두 귀무가설을 기각할 수 없는, 0.05보다 큰 p-value를 가졌으므로 승하차 인원수에 유의미한 증거가 있다고 결론지을 증거가 충분치 않다고 결론지었습니다. \n"
   ]
  },
  {
   "attachments": {},
   "cell_type": "markdown",
   "metadata": {},
   "source": [
    "## **4-1.**\n",
    "(통계학입문(3판) 541쪽 15번 변형) 토플(TOEFL) 점수로 토익(TOEIC) 점수를 예측할 수 있는지 검증해보려고 합니다. 토플과 토익은 미국 교육기업 ETS가 서로 다른 목적으로 개발한 시험이기에 문제 내용과 구성이 다르지만, 두 시험 점수 간의 관련성이 있는 것으로 알려져 있습니다."
   ]
  },
  {
   "attachments": {},
   "cell_type": "markdown",
   "metadata": {},
   "source": [
    "**(a)** ⓒ 임의로 선정된 20명의 학생에게 토플과 토익을 모두 치르게 하여 얻은 자료가 있습니다. 파이썬 sklearn.linear_model의 LinearRegression 패키지를 활용하여, 토플 점수로 토익 점수를 예측하는 회귀식을 최소제곱법으로 추정하시오."
   ]
  },
  {
   "cell_type": "code",
   "execution_count": 26,
   "metadata": {},
   "outputs": [],
   "source": [
    "from sklearn.linear_model import LinearRegression\n",
    "import statsmodels.formula.api\n",
    "import pandas as pd\n",
    "import matplotlib.pyplot as plt"
   ]
  },
  {
   "cell_type": "code",
   "execution_count": 27,
   "metadata": {},
   "outputs": [
    {
     "data": {
      "text/html": [
       "<div>\n",
       "<style scoped>\n",
       "    .dataframe tbody tr th:only-of-type {\n",
       "        vertical-align: middle;\n",
       "    }\n",
       "\n",
       "    .dataframe tbody tr th {\n",
       "        vertical-align: top;\n",
       "    }\n",
       "\n",
       "    .dataframe thead th {\n",
       "        text-align: right;\n",
       "    }\n",
       "</style>\n",
       "<table border=\"1\" class=\"dataframe\">\n",
       "  <thead>\n",
       "    <tr style=\"text-align: right;\">\n",
       "      <th></th>\n",
       "      <th>TOEFL</th>\n",
       "      <th>TOEIC</th>\n",
       "    </tr>\n",
       "    <tr>\n",
       "      <th>student</th>\n",
       "      <th></th>\n",
       "      <th></th>\n",
       "    </tr>\n",
       "  </thead>\n",
       "  <tbody>\n",
       "    <tr>\n",
       "      <th>1</th>\n",
       "      <td>83</td>\n",
       "      <td>840</td>\n",
       "    </tr>\n",
       "    <tr>\n",
       "      <th>2</th>\n",
       "      <td>80</td>\n",
       "      <td>720</td>\n",
       "    </tr>\n",
       "    <tr>\n",
       "      <th>3</th>\n",
       "      <td>67</td>\n",
       "      <td>605</td>\n",
       "    </tr>\n",
       "    <tr>\n",
       "      <th>4</th>\n",
       "      <td>97</td>\n",
       "      <td>780</td>\n",
       "    </tr>\n",
       "    <tr>\n",
       "      <th>5</th>\n",
       "      <td>104</td>\n",
       "      <td>920</td>\n",
       "    </tr>\n",
       "    <tr>\n",
       "      <th>6</th>\n",
       "      <td>57</td>\n",
       "      <td>585</td>\n",
       "    </tr>\n",
       "    <tr>\n",
       "      <th>7</th>\n",
       "      <td>65</td>\n",
       "      <td>645</td>\n",
       "    </tr>\n",
       "    <tr>\n",
       "      <th>8</th>\n",
       "      <td>89</td>\n",
       "      <td>670</td>\n",
       "    </tr>\n",
       "    <tr>\n",
       "      <th>9</th>\n",
       "      <td>96</td>\n",
       "      <td>770</td>\n",
       "    </tr>\n",
       "    <tr>\n",
       "      <th>10</th>\n",
       "      <td>80</td>\n",
       "      <td>635</td>\n",
       "    </tr>\n",
       "    <tr>\n",
       "      <th>11</th>\n",
       "      <td>104</td>\n",
       "      <td>960</td>\n",
       "    </tr>\n",
       "    <tr>\n",
       "      <th>12</th>\n",
       "      <td>77</td>\n",
       "      <td>665</td>\n",
       "    </tr>\n",
       "    <tr>\n",
       "      <th>13</th>\n",
       "      <td>68</td>\n",
       "      <td>715</td>\n",
       "    </tr>\n",
       "    <tr>\n",
       "      <th>14</th>\n",
       "      <td>73</td>\n",
       "      <td>605</td>\n",
       "    </tr>\n",
       "    <tr>\n",
       "      <th>15</th>\n",
       "      <td>75</td>\n",
       "      <td>505</td>\n",
       "    </tr>\n",
       "    <tr>\n",
       "      <th>16</th>\n",
       "      <td>80</td>\n",
       "      <td>795</td>\n",
       "    </tr>\n",
       "    <tr>\n",
       "      <th>17</th>\n",
       "      <td>64</td>\n",
       "      <td>650</td>\n",
       "    </tr>\n",
       "    <tr>\n",
       "      <th>18</th>\n",
       "      <td>64</td>\n",
       "      <td>590</td>\n",
       "    </tr>\n",
       "    <tr>\n",
       "      <th>19</th>\n",
       "      <td>62</td>\n",
       "      <td>525</td>\n",
       "    </tr>\n",
       "    <tr>\n",
       "      <th>20</th>\n",
       "      <td>92</td>\n",
       "      <td>815</td>\n",
       "    </tr>\n",
       "  </tbody>\n",
       "</table>\n",
       "</div>"
      ],
      "text/plain": [
       "         TOEFL  TOEIC\n",
       "student              \n",
       "1           83    840\n",
       "2           80    720\n",
       "3           67    605\n",
       "4           97    780\n",
       "5          104    920\n",
       "6           57    585\n",
       "7           65    645\n",
       "8           89    670\n",
       "9           96    770\n",
       "10          80    635\n",
       "11         104    960\n",
       "12          77    665\n",
       "13          68    715\n",
       "14          73    605\n",
       "15          75    505\n",
       "16          80    795\n",
       "17          64    650\n",
       "18          64    590\n",
       "19          62    525\n",
       "20          92    815"
      ]
     },
     "execution_count": 27,
     "metadata": {},
     "output_type": "execute_result"
    }
   ],
   "source": [
    "toefl_toeic = pd.read_csv(\"/Users/younyung.gene/__DSL__/정기세션/[7:6] 학술 OT/기초과제1/elementary1_dataset/toefl_toeic.dat\", encoding='utf-16', sep='\\t')\n",
    "toefl_toeic = toefl_toeic.set_index('student')\n",
    "toefl_toeic"
   ]
  },
  {
   "cell_type": "code",
   "execution_count": 28,
   "metadata": {},
   "outputs": [
    {
     "data": {
      "image/png": "[encoded data removed]",
      "text/plain": [
       "<Figure size 640x480 with 1 Axes>"
      ]
     },
     "metadata": {},
     "output_type": "display_data"
    }
   ],
   "source": [
    "plt.plot(toefl_toeic[\"TOEFL\"],toefl_toeic[\"TOEIC\"],\"o\")\n",
    "plt.show()"
   ]
  },
  {
   "cell_type": "code",
   "execution_count": 29,
   "metadata": {},
   "outputs": [
    {
     "data": {
      "text/plain": [
       "LinearRegression()"
      ]
     },
     "execution_count": 29,
     "metadata": {},
     "output_type": "execute_result"
    }
   ],
   "source": [
    "toefl_to_toeic = LinearRegression()\n",
    "toefl_to_toeic.fit(toefl_toeic[\"TOEFL\"].values.reshape(-1,1), toefl_toeic[\"TOEIC\"])"
   ]
  },
  {
   "cell_type": "code",
   "execution_count": 30,
   "metadata": {},
   "outputs": [
    {
     "data": {
      "image/png": "[encoded data removed]",
      "text/plain": [
       "<Figure size 640x480 with 1 Axes>"
      ]
     },
     "metadata": {},
     "output_type": "display_data"
    }
   ],
   "source": [
    "plt.plot(toefl_toeic[\"TOEFL\"],toefl_toeic[\"TOEIC\"], 'o')\n",
    "plt.plot(toefl_toeic[\"TOEFL\"],toefl_to_toeic.predict(toefl_toeic[\"TOEFL\"].values.reshape(-1,1)))\n",
    "plt.show()"
   ]
  },
  {
   "cell_type": "code",
   "execution_count": 31,
   "metadata": {},
   "outputs": [
    {
     "name": "stdout",
     "output_type": "stream",
     "text": [
      "[7.06950174] 142.31978769068644\n"
     ]
    }
   ],
   "source": [
    "# 추세선의 기울기와 절편\n",
    "print(toefl_to_toeic.coef_, toefl_to_toeic.intercept_)"
   ]
  },
  {
   "attachments": {},
   "cell_type": "markdown",
   "metadata": {},
   "source": [
    "**(b)** ⓒ 유의수준 5%에서 각 회귀식의 선형성이 있는지 가설검정을 수행하시오."
   ]
  },
  {
   "cell_type": "code",
   "execution_count": 32,
   "metadata": {},
   "outputs": [
    {
     "name": "stdout",
     "output_type": "stream",
     "text": [
      "                            OLS Regression Results                            \n",
      "==============================================================================\n",
      "Dep. Variable:                  TOEIC   R-squared:                       0.662\n",
      "Model:                            OLS   Adj. R-squared:                  0.643\n",
      "Method:                 Least Squares   F-statistic:                     35.27\n",
      "Date:                Wed, 12 Jul 2023   Prob (F-statistic):           1.28e-05\n",
      "Time:                        16:05:37   Log-Likelihood:                -113.47\n",
      "No. Observations:                  20   AIC:                             230.9\n",
      "Df Residuals:                      18   BIC:                             232.9\n",
      "Df Model:                           1                                         \n",
      "Covariance Type:            nonrobust                                         \n",
      "==============================================================================\n",
      "                 coef    std err          t      P>|t|      [0.025      0.975]\n",
      "------------------------------------------------------------------------------\n",
      "Intercept    142.3198     95.318      1.493      0.153     -57.937     342.576\n",
      "TOEFL          7.0695      1.190      5.939      0.000       4.569       9.570\n",
      "==============================================================================\n",
      "Omnibus:                        0.883   Durbin-Watson:                   2.056\n",
      "Prob(Omnibus):                  0.643   Jarque-Bera (JB):                0.704\n",
      "Skew:                          -0.422   Prob(JB):                        0.703\n",
      "Kurtosis:                       2.635   Cond. No.                         460.\n",
      "==============================================================================\n",
      "\n",
      "Notes:\n",
      "[1] Standard Errors assume that the covariance matrix of the errors is correctly specified.\n"
     ]
    }
   ],
   "source": [
    "mod1 = statsmodels.formula.api.ols('TOEIC ~ TOEFL', data=toefl_toeic)\n",
    "reg_result1 = mod1.fit()\n",
    "print(reg_result1.summary())"
   ]
  },
  {
   "attachments": {},
   "cell_type": "markdown",
   "metadata": {},
   "source": [
    "## **4-2.**\n",
    "(통계학입문(3판) 582쪽 19번 변형) 미국 어느 지역의 자동차 판매대수와 광고비, 자동차 전문세일즈맨수, 판매 대리점의 위치 등에 대하여 조사한 자료를 분석하고자 합니다."
   ]
  },
  {
   "attachments": {},
   "cell_type": "markdown",
   "metadata": {},
   "source": [
    "ⓒ 파이썬 sklearn.linear_model의 LinearRegression 패키지를 활용하여, Akaike information criterion을 기준으로 아래 모델 중 가장 우수한 모델을 선택하시오."
   ]
  },
  {
   "cell_type": "code",
   "execution_count": 33,
   "metadata": {},
   "outputs": [],
   "source": [
    "from sklearn.linear_model import LinearRegression\n",
    "import pandas as pd\n",
    "import numpy as np\n",
    "import matplotlib.pyplot as plt"
   ]
  },
  {
   "cell_type": "code",
   "execution_count": 34,
   "metadata": {},
   "outputs": [
    {
     "data": {
      "text/html": [
       "<div>\n",
       "<style scoped>\n",
       "    .dataframe tbody tr th:only-of-type {\n",
       "        vertical-align: middle;\n",
       "    }\n",
       "\n",
       "    .dataframe tbody tr th {\n",
       "        vertical-align: top;\n",
       "    }\n",
       "\n",
       "    .dataframe thead th {\n",
       "        text-align: right;\n",
       "    }\n",
       "</style>\n",
       "<table border=\"1\" class=\"dataframe\">\n",
       "  <thead>\n",
       "    <tr style=\"text-align: right;\">\n",
       "      <th></th>\n",
       "      <th>자동차 판매매수</th>\n",
       "      <th>광고시간(분)</th>\n",
       "      <th>세일즈맨(명)</th>\n",
       "      <th>도시지역</th>\n",
       "    </tr>\n",
       "  </thead>\n",
       "  <tbody>\n",
       "    <tr>\n",
       "      <th>0</th>\n",
       "      <td>127</td>\n",
       "      <td>18</td>\n",
       "      <td>10</td>\n",
       "      <td>1</td>\n",
       "    </tr>\n",
       "    <tr>\n",
       "      <th>1</th>\n",
       "      <td>138</td>\n",
       "      <td>15</td>\n",
       "      <td>25</td>\n",
       "      <td>0</td>\n",
       "    </tr>\n",
       "    <tr>\n",
       "      <th>2</th>\n",
       "      <td>159</td>\n",
       "      <td>22</td>\n",
       "      <td>14</td>\n",
       "      <td>1</td>\n",
       "    </tr>\n",
       "    <tr>\n",
       "      <th>3</th>\n",
       "      <td>144</td>\n",
       "      <td>23</td>\n",
       "      <td>12</td>\n",
       "      <td>1</td>\n",
       "    </tr>\n",
       "    <tr>\n",
       "      <th>4</th>\n",
       "      <td>139</td>\n",
       "      <td>17</td>\n",
       "      <td>12</td>\n",
       "      <td>0</td>\n",
       "    </tr>\n",
       "    <tr>\n",
       "      <th>5</th>\n",
       "      <td>128</td>\n",
       "      <td>16</td>\n",
       "      <td>12</td>\n",
       "      <td>1</td>\n",
       "    </tr>\n",
       "    <tr>\n",
       "      <th>6</th>\n",
       "      <td>161</td>\n",
       "      <td>25</td>\n",
       "      <td>14</td>\n",
       "      <td>1</td>\n",
       "    </tr>\n",
       "    <tr>\n",
       "      <th>7</th>\n",
       "      <td>180</td>\n",
       "      <td>26</td>\n",
       "      <td>17</td>\n",
       "      <td>1</td>\n",
       "    </tr>\n",
       "    <tr>\n",
       "      <th>8</th>\n",
       "      <td>102</td>\n",
       "      <td>15</td>\n",
       "      <td>7</td>\n",
       "      <td>0</td>\n",
       "    </tr>\n",
       "    <tr>\n",
       "      <th>9</th>\n",
       "      <td>163</td>\n",
       "      <td>24</td>\n",
       "      <td>16</td>\n",
       "      <td>1</td>\n",
       "    </tr>\n",
       "    <tr>\n",
       "      <th>10</th>\n",
       "      <td>106</td>\n",
       "      <td>18</td>\n",
       "      <td>10</td>\n",
       "      <td>0</td>\n",
       "    </tr>\n",
       "    <tr>\n",
       "      <th>11</th>\n",
       "      <td>149</td>\n",
       "      <td>25</td>\n",
       "      <td>11</td>\n",
       "      <td>1</td>\n",
       "    </tr>\n",
       "  </tbody>\n",
       "</table>\n",
       "</div>"
      ],
      "text/plain": [
       "    자동차 판매매수  광고시간(분)  세일즈맨(명)  도시지역\n",
       "0        127       18       10     1\n",
       "1        138       15       25     0\n",
       "2        159       22       14     1\n",
       "3        144       23       12     1\n",
       "4        139       17       12     0\n",
       "5        128       16       12     1\n",
       "6        161       25       14     1\n",
       "7        180       26       17     1\n",
       "8        102       15        7     0\n",
       "9        163       24       16     1\n",
       "10       106       18       10     0\n",
       "11       149       25       11     1"
      ]
     },
     "execution_count": 34,
     "metadata": {},
     "output_type": "execute_result"
    }
   ],
   "source": [
    "path = '/Users/younyung.gene/__DSL__/정기세션/[7:6] 학술 OT/기초과제1/elementary1_dataset/car_sell.dat'\n",
    "df = pd.read_csv(path, encoding='utf-16', sep='\\t')\n",
    "df.drop(columns=['Unnamed: 4', 'Unnamed: 5'], inplace=True)\n",
    "df['도시지역'].replace(to_replace=[\"No\", \"Yes\"], value=[0,1], inplace = True)\n",
    "df\n"
   ]
  },
  {
   "cell_type": "code",
   "execution_count": 35,
   "metadata": {},
   "outputs": [],
   "source": [
    "criteria = { 'a' : ['자동차 판매매수','광고시간(분)', '세일즈맨(명)', '도시지역'],\n",
    "             'b' : ['자동차 판매매수',\"광고시간(분)\", '세일즈맨(명)'],\n",
    "             'c' : ['자동차 판매매수','광고시간(분)', '도시지역'],\n",
    "             'd' : ['자동차 판매매수','세일즈맨(명)', '도시지역'],\n",
    "             'e' : ['자동차 판매매수','광고시간(분)'],\n",
    "             'f' : ['자동차 판매매수',\"세일즈맨(명)\"]}\n",
    "\n",
    "aic = {}\n"
   ]
  },
  {
   "cell_type": "code",
   "execution_count": 36,
   "metadata": {},
   "outputs": [],
   "source": [
    "import statsmodels.api as sm\n",
    "\n",
    "for version in criteria:\n",
    "    data = df[criteria[version]]\n",
    "    x, y = df[criteria[version][1:]], df[criteria[version][0]]\n",
    "    x = sm.add_constant(x)\n",
    "\n",
    "    mod1 = statsmodels.formula.api.ols('y ~ x', data=df)\n",
    "    reg_result = mod1.fit()\n",
    "    model_aic = reg_result.aic\n",
    "\n",
    "    aic[version] = model_aic\n",
    "    "
   ]
  },
  {
   "cell_type": "code",
   "execution_count": 37,
   "metadata": {},
   "outputs": [
    {
     "name": "stdout",
     "output_type": "stream",
     "text": [
      "model_a AIC : 91.64064145209734\n",
      "model_b AIC : 91.52200938155832\n",
      "model_c AIC : 101.52503182295261\n",
      "model_d AIC : 100.43474223707223\n",
      "model_e AIC : 99.80853349050341\n",
      "model_f AIC : 108.81406913476984\n"
     ]
    }
   ],
   "source": [
    "for version in aic:\n",
    "    print(f\"model_{version} AIC : {aic[version]}\")"
   ]
  },
  {
   "cell_type": "markdown",
   "metadata": {},
   "source": [
    "(4-2) 광고시간, 세일즈맨을 독립변수로 취하는 model_b의 AIC가 제일 낮으므로, AIC 기준으로 model_b가 가장 좋은 성능을 보인다고 결론지었습니다."
   ]
  },
  {
   "attachments": {},
   "cell_type": "markdown",
   "metadata": {},
   "source": [
    "(코드를 작성해주세요)\n"
   ]
  }
 ],
 "metadata": {
  "kernelspec": {
   "display_name": "base",
   "language": "python",
   "name": "python3"
  },
  "language_info": {
   "codemirror_mode": {
    "name": "ipython",
    "version": 3
   },
   "file_extension": ".py",
   "mimetype": "text/x-python",
   "name": "python",
   "nbconvert_exporter": "python",
   "pygments_lexer": "ipython3",
   "version": "3.9.13"
  },
  "orig_nbformat": 4
 },
 "nbformat": 4,
 "nbformat_minor": 2
}
