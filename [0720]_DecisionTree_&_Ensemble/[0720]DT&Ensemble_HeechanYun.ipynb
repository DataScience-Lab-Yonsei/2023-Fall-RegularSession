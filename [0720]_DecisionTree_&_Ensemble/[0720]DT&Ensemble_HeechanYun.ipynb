{
  "cells": [
    {
      "cell_type": "markdown",
      "metadata": {
        "id": "Rjv-lBZ4Yaf1"
      },
      "source": [
        "# 과제\n",
        "1. 코드의 빈칸 - (??) 을 채워 데이터 전처리를 완성해 주세요.\n",
        "ex. (1.??) <- 이 부분을 채워 주시면 됩니다.<br>\n",
        "빈칸은 총 5개입니다.\n",
        "2. 실습 코드를 참고하여 DT & Ensemble 모델을 구현한 후 퀴즈에 답해주시면 됩니다.\n",
        "\n",
        "**구현한 코드와 그 결과를 꼭 기록해 주세요**. 밑의 문제를 복사하셔서 **코드 가장 밑에 텍스트 셀을 추가한 후** 본인의 답을 적어주시면 됩니다.\n",
        "시각화 문제는 코드에 구현이 되어있다면 텍스트 셀에 따로 사진을 첨부하실 필요는 없습니다.<br>\n",
        "정답이 정해져 있지 않은 문제들도 있으니 결과보다는 코드의 내용에 포커스를 맞춰 주시면 좋을 것 같습니다 !\n",
        "\n",
        "<퀴즈>\n",
        "\n",
        "\n",
        "Decision Tree\n",
        "1. 하이퍼파라미터가 criterion = 'entropy', max_depth = 3, random_state = 10인 Decision Tree를 구현했을 때, Accuracy는 얼마인가요?(소수점 둘째자리까지 반올림해 주세요.)\n",
        "2. 총 테스트 개수와 오류 개수는 각각 몇 개인가요?\n",
        "3. graphiz 모듈을 이용해 decision tree를 시각화해 보세요.\n",
        "4. Grid Search를 사용하여 구한 최적의 max_depth, min_samples_split 파라미터의 값은 무엇인가요?\n",
        "\n",
        "Bagging\n",
        "1. 하이퍼파라미터가 criterion = 'entropy', n_estimators = 3, max_depth = 2, random_state = 10인 Random Forest를 구현했을 때, Accuracy는 얼마인가요?(소수점 둘째짜리까지 반올림해 주세요.)\n",
        "2. Grid Search를 사용하여 구한 최적의 max_depth, min_samples_split, n_estimators 파라미터의 값은 무엇인가요?\n",
        "3. matplotlib을 사용해 각 feature의 중요도를 시각화해 보세요.\n",
        "4. 가장 중요한 feature은 무엇인가요?\n",
        "5. Random Forest를 confustion_matrix를 사용하여 성능 평가를 진행해보세요.\n",
        "\n",
        "\n",
        "Boosting\n",
        "1. 하이퍼파라미터가 n_estimators = 5, learning_rate = 0.1인 Adaboost를 구현했을 때, Accuracy는 얼마인가요?(소수점 둘째자리까지 반올림해 주세요.)\n",
        "2. Grid Search를 사용하여 구한 최적의 learning_rate, n_estimators는 무엇인가요?\n",
        "3. 하이퍼파라미터가 max_depth = 2, min_samples_split = 11, learning_rate = 0.0001인 GBM을 구현했을 때, Accuracy는 얼마인가요?(소수점 둘째자리까지 반올림해 주세요.)\n",
        "4. Grid Search를 사용하여 구한 최적의 learning_rate, max_depth, min_samples_split, n_estimators는 무엇인가요?\n",
        "5. GBM을 confustion_matrix를 사용하여 성능 평가를 진행해보세요."
      ]
    },
    {
      "cell_type": "markdown",
      "metadata": {},
      "source": [
        "# Decision Tree\n",
        "1. 0.95\n",
        "2. 총 테스트 개수:1625, 오류 개수:79\n",
        "3. 코드를 확인해주세요!\n",
        "4. {'max_depth': 7, 'min_samples_split': 2}\n",
        "\n",
        "# Bagging\n",
        "1. RandomForest accuracy:0.914\n",
        "2. GridSearchCV(cv=5,\n",
        "             estimator=RandomForestClassifier(criterion='entropy', max_depth=2,\n",
        "                                              n_estimators=3, random_state=10),\n",
        "             param_grid={'max_depth': [2, 3, 4, 5, 6, 7],\n",
        "                         'min_samples_split': [2, 3, 4, 5, 6, 7, 8, 9],\n",
        "                         'n_estimators': [10, 100, 500]})\n",
        "3. 코드를 확인해주세요!\n",
        "4. odor\n",
        "5. 코드를 확인해주세요!\n",
        " \n",
        "# Boosting\n",
        "1. Adaboost accuracy:0.845  Adaboost f1 score:0.847\n",
        "2. {'learning_rate': 1, 'n_estimators': 100}\n",
        "3. GBM accuracy:0.518   GBM f1 score:0.000\n",
        "4. GridSearchCV(cv=5,\n",
        "             estimator=GradientBoostingClassifier(learning_rate=0.0001,\n",
        "                                                  max_depth=2,\n",
        "                                                  min_samples_split=11),\n",
        "             param_grid={'max_depth': [2, 3, 4, 5, 6, 7],\n",
        "                         'min_samples_split': [2, 3, 4, 5, 6, 7, 8, 9],\n",
        "                         'n_estimators': [5, 10, 100]})\n",
        "5. 코드를 확인해주세요!\n"
      ]
    },
    {
      "cell_type": "code",
      "execution_count": 37,
      "metadata": {
        "colab": {
          "base_uri": "https://localhost:8080/"
        },
        "id": "cXAjPDs2YYwY",
        "outputId": "3c326ab0-60f2-4b8d-f4db-c12247b479fc"
      },
      "outputs": [],
      "source": [
        "# #구글 드라이브 접속 권한 획득\n",
        "# from google.colab import drive\n",
        "# drive.mount('/content/drive')"
      ]
    },
    {
      "cell_type": "markdown",
      "metadata": {
        "id": "W8UyoLOmrzYv"
      },
      "source": [
        "# 데이터 전처리"
      ]
    },
    {
      "cell_type": "code",
      "execution_count": 38,
      "metadata": {
        "colab": {
          "base_uri": "https://localhost:8080/",
          "height": 485
        },
        "id": "0ZOsuSJVr1KN",
        "outputId": "b1fa8d42-a7ab-485a-ad6d-447d19077e26"
      },
      "outputs": [
        {
          "data": {
            "text/html": [
              "<div>\n",
              "<style scoped>\n",
              "    .dataframe tbody tr th:only-of-type {\n",
              "        vertical-align: middle;\n",
              "    }\n",
              "\n",
              "    .dataframe tbody tr th {\n",
              "        vertical-align: top;\n",
              "    }\n",
              "\n",
              "    .dataframe thead th {\n",
              "        text-align: right;\n",
              "    }\n",
              "</style>\n",
              "<table border=\"1\" class=\"dataframe\">\n",
              "  <thead>\n",
              "    <tr style=\"text-align: right;\">\n",
              "      <th></th>\n",
              "      <th>class</th>\n",
              "      <th>cap-shape</th>\n",
              "      <th>cap-surface</th>\n",
              "      <th>cap-color</th>\n",
              "      <th>bruises</th>\n",
              "      <th>odor</th>\n",
              "      <th>gill-attachment</th>\n",
              "      <th>gill-spacing</th>\n",
              "      <th>gill-size</th>\n",
              "      <th>gill-color</th>\n",
              "      <th>...</th>\n",
              "      <th>stalk-surface-below-ring</th>\n",
              "      <th>stalk-color-above-ring</th>\n",
              "      <th>stalk-color-below-ring</th>\n",
              "      <th>veil-type</th>\n",
              "      <th>veil-color</th>\n",
              "      <th>ring-number</th>\n",
              "      <th>ring-type</th>\n",
              "      <th>spore-print-color</th>\n",
              "      <th>population</th>\n",
              "      <th>habitat</th>\n",
              "    </tr>\n",
              "  </thead>\n",
              "  <tbody>\n",
              "    <tr>\n",
              "      <th>0</th>\n",
              "      <td>p</td>\n",
              "      <td>x</td>\n",
              "      <td>s</td>\n",
              "      <td>n</td>\n",
              "      <td>t</td>\n",
              "      <td>p</td>\n",
              "      <td>f</td>\n",
              "      <td>c</td>\n",
              "      <td>n</td>\n",
              "      <td>k</td>\n",
              "      <td>...</td>\n",
              "      <td>s</td>\n",
              "      <td>w</td>\n",
              "      <td>w</td>\n",
              "      <td>p</td>\n",
              "      <td>w</td>\n",
              "      <td>o</td>\n",
              "      <td>p</td>\n",
              "      <td>k</td>\n",
              "      <td>s</td>\n",
              "      <td>u</td>\n",
              "    </tr>\n",
              "    <tr>\n",
              "      <th>1</th>\n",
              "      <td>e</td>\n",
              "      <td>x</td>\n",
              "      <td>s</td>\n",
              "      <td>y</td>\n",
              "      <td>t</td>\n",
              "      <td>a</td>\n",
              "      <td>f</td>\n",
              "      <td>c</td>\n",
              "      <td>b</td>\n",
              "      <td>k</td>\n",
              "      <td>...</td>\n",
              "      <td>s</td>\n",
              "      <td>w</td>\n",
              "      <td>w</td>\n",
              "      <td>p</td>\n",
              "      <td>w</td>\n",
              "      <td>o</td>\n",
              "      <td>p</td>\n",
              "      <td>n</td>\n",
              "      <td>n</td>\n",
              "      <td>g</td>\n",
              "    </tr>\n",
              "    <tr>\n",
              "      <th>2</th>\n",
              "      <td>e</td>\n",
              "      <td>b</td>\n",
              "      <td>s</td>\n",
              "      <td>w</td>\n",
              "      <td>t</td>\n",
              "      <td>l</td>\n",
              "      <td>f</td>\n",
              "      <td>c</td>\n",
              "      <td>b</td>\n",
              "      <td>n</td>\n",
              "      <td>...</td>\n",
              "      <td>s</td>\n",
              "      <td>w</td>\n",
              "      <td>w</td>\n",
              "      <td>p</td>\n",
              "      <td>w</td>\n",
              "      <td>o</td>\n",
              "      <td>p</td>\n",
              "      <td>n</td>\n",
              "      <td>n</td>\n",
              "      <td>m</td>\n",
              "    </tr>\n",
              "    <tr>\n",
              "      <th>3</th>\n",
              "      <td>p</td>\n",
              "      <td>x</td>\n",
              "      <td>y</td>\n",
              "      <td>w</td>\n",
              "      <td>t</td>\n",
              "      <td>p</td>\n",
              "      <td>f</td>\n",
              "      <td>c</td>\n",
              "      <td>n</td>\n",
              "      <td>n</td>\n",
              "      <td>...</td>\n",
              "      <td>s</td>\n",
              "      <td>w</td>\n",
              "      <td>w</td>\n",
              "      <td>p</td>\n",
              "      <td>w</td>\n",
              "      <td>o</td>\n",
              "      <td>p</td>\n",
              "      <td>k</td>\n",
              "      <td>s</td>\n",
              "      <td>u</td>\n",
              "    </tr>\n",
              "    <tr>\n",
              "      <th>4</th>\n",
              "      <td>e</td>\n",
              "      <td>x</td>\n",
              "      <td>s</td>\n",
              "      <td>g</td>\n",
              "      <td>f</td>\n",
              "      <td>n</td>\n",
              "      <td>f</td>\n",
              "      <td>w</td>\n",
              "      <td>b</td>\n",
              "      <td>k</td>\n",
              "      <td>...</td>\n",
              "      <td>s</td>\n",
              "      <td>w</td>\n",
              "      <td>w</td>\n",
              "      <td>p</td>\n",
              "      <td>w</td>\n",
              "      <td>o</td>\n",
              "      <td>e</td>\n",
              "      <td>n</td>\n",
              "      <td>a</td>\n",
              "      <td>g</td>\n",
              "    </tr>\n",
              "    <tr>\n",
              "      <th>...</th>\n",
              "      <td>...</td>\n",
              "      <td>...</td>\n",
              "      <td>...</td>\n",
              "      <td>...</td>\n",
              "      <td>...</td>\n",
              "      <td>...</td>\n",
              "      <td>...</td>\n",
              "      <td>...</td>\n",
              "      <td>...</td>\n",
              "      <td>...</td>\n",
              "      <td>...</td>\n",
              "      <td>...</td>\n",
              "      <td>...</td>\n",
              "      <td>...</td>\n",
              "      <td>...</td>\n",
              "      <td>...</td>\n",
              "      <td>...</td>\n",
              "      <td>...</td>\n",
              "      <td>...</td>\n",
              "      <td>...</td>\n",
              "      <td>...</td>\n",
              "    </tr>\n",
              "    <tr>\n",
              "      <th>8119</th>\n",
              "      <td>e</td>\n",
              "      <td>k</td>\n",
              "      <td>s</td>\n",
              "      <td>n</td>\n",
              "      <td>f</td>\n",
              "      <td>n</td>\n",
              "      <td>a</td>\n",
              "      <td>c</td>\n",
              "      <td>b</td>\n",
              "      <td>y</td>\n",
              "      <td>...</td>\n",
              "      <td>s</td>\n",
              "      <td>o</td>\n",
              "      <td>o</td>\n",
              "      <td>p</td>\n",
              "      <td>o</td>\n",
              "      <td>o</td>\n",
              "      <td>p</td>\n",
              "      <td>b</td>\n",
              "      <td>c</td>\n",
              "      <td>l</td>\n",
              "    </tr>\n",
              "    <tr>\n",
              "      <th>8120</th>\n",
              "      <td>e</td>\n",
              "      <td>x</td>\n",
              "      <td>s</td>\n",
              "      <td>n</td>\n",
              "      <td>f</td>\n",
              "      <td>n</td>\n",
              "      <td>a</td>\n",
              "      <td>c</td>\n",
              "      <td>b</td>\n",
              "      <td>y</td>\n",
              "      <td>...</td>\n",
              "      <td>s</td>\n",
              "      <td>o</td>\n",
              "      <td>o</td>\n",
              "      <td>p</td>\n",
              "      <td>n</td>\n",
              "      <td>o</td>\n",
              "      <td>p</td>\n",
              "      <td>b</td>\n",
              "      <td>v</td>\n",
              "      <td>l</td>\n",
              "    </tr>\n",
              "    <tr>\n",
              "      <th>8121</th>\n",
              "      <td>e</td>\n",
              "      <td>f</td>\n",
              "      <td>s</td>\n",
              "      <td>n</td>\n",
              "      <td>f</td>\n",
              "      <td>n</td>\n",
              "      <td>a</td>\n",
              "      <td>c</td>\n",
              "      <td>b</td>\n",
              "      <td>n</td>\n",
              "      <td>...</td>\n",
              "      <td>s</td>\n",
              "      <td>o</td>\n",
              "      <td>o</td>\n",
              "      <td>p</td>\n",
              "      <td>o</td>\n",
              "      <td>o</td>\n",
              "      <td>p</td>\n",
              "      <td>b</td>\n",
              "      <td>c</td>\n",
              "      <td>l</td>\n",
              "    </tr>\n",
              "    <tr>\n",
              "      <th>8122</th>\n",
              "      <td>p</td>\n",
              "      <td>k</td>\n",
              "      <td>y</td>\n",
              "      <td>n</td>\n",
              "      <td>f</td>\n",
              "      <td>y</td>\n",
              "      <td>f</td>\n",
              "      <td>c</td>\n",
              "      <td>n</td>\n",
              "      <td>b</td>\n",
              "      <td>...</td>\n",
              "      <td>k</td>\n",
              "      <td>w</td>\n",
              "      <td>w</td>\n",
              "      <td>p</td>\n",
              "      <td>w</td>\n",
              "      <td>o</td>\n",
              "      <td>e</td>\n",
              "      <td>w</td>\n",
              "      <td>v</td>\n",
              "      <td>l</td>\n",
              "    </tr>\n",
              "    <tr>\n",
              "      <th>8123</th>\n",
              "      <td>e</td>\n",
              "      <td>x</td>\n",
              "      <td>s</td>\n",
              "      <td>n</td>\n",
              "      <td>f</td>\n",
              "      <td>n</td>\n",
              "      <td>a</td>\n",
              "      <td>c</td>\n",
              "      <td>b</td>\n",
              "      <td>y</td>\n",
              "      <td>...</td>\n",
              "      <td>s</td>\n",
              "      <td>o</td>\n",
              "      <td>o</td>\n",
              "      <td>p</td>\n",
              "      <td>o</td>\n",
              "      <td>o</td>\n",
              "      <td>p</td>\n",
              "      <td>o</td>\n",
              "      <td>c</td>\n",
              "      <td>l</td>\n",
              "    </tr>\n",
              "  </tbody>\n",
              "</table>\n",
              "<p>8124 rows × 23 columns</p>\n",
              "</div>"
            ],
            "text/plain": [
              "     class cap-shape cap-surface cap-color bruises odor gill-attachment  \\\n",
              "0        p         x           s         n       t    p               f   \n",
              "1        e         x           s         y       t    a               f   \n",
              "2        e         b           s         w       t    l               f   \n",
              "3        p         x           y         w       t    p               f   \n",
              "4        e         x           s         g       f    n               f   \n",
              "...    ...       ...         ...       ...     ...  ...             ...   \n",
              "8119     e         k           s         n       f    n               a   \n",
              "8120     e         x           s         n       f    n               a   \n",
              "8121     e         f           s         n       f    n               a   \n",
              "8122     p         k           y         n       f    y               f   \n",
              "8123     e         x           s         n       f    n               a   \n",
              "\n",
              "     gill-spacing gill-size gill-color  ... stalk-surface-below-ring  \\\n",
              "0               c         n          k  ...                        s   \n",
              "1               c         b          k  ...                        s   \n",
              "2               c         b          n  ...                        s   \n",
              "3               c         n          n  ...                        s   \n",
              "4               w         b          k  ...                        s   \n",
              "...           ...       ...        ...  ...                      ...   \n",
              "8119            c         b          y  ...                        s   \n",
              "8120            c         b          y  ...                        s   \n",
              "8121            c         b          n  ...                        s   \n",
              "8122            c         n          b  ...                        k   \n",
              "8123            c         b          y  ...                        s   \n",
              "\n",
              "     stalk-color-above-ring stalk-color-below-ring veil-type veil-color  \\\n",
              "0                         w                      w         p          w   \n",
              "1                         w                      w         p          w   \n",
              "2                         w                      w         p          w   \n",
              "3                         w                      w         p          w   \n",
              "4                         w                      w         p          w   \n",
              "...                     ...                    ...       ...        ...   \n",
              "8119                      o                      o         p          o   \n",
              "8120                      o                      o         p          n   \n",
              "8121                      o                      o         p          o   \n",
              "8122                      w                      w         p          w   \n",
              "8123                      o                      o         p          o   \n",
              "\n",
              "     ring-number ring-type spore-print-color population habitat  \n",
              "0              o         p                 k          s       u  \n",
              "1              o         p                 n          n       g  \n",
              "2              o         p                 n          n       m  \n",
              "3              o         p                 k          s       u  \n",
              "4              o         e                 n          a       g  \n",
              "...          ...       ...               ...        ...     ...  \n",
              "8119           o         p                 b          c       l  \n",
              "8120           o         p                 b          v       l  \n",
              "8121           o         p                 b          c       l  \n",
              "8122           o         e                 w          v       l  \n",
              "8123           o         p                 o          c       l  \n",
              "\n",
              "[8124 rows x 23 columns]"
            ]
          },
          "execution_count": 38,
          "metadata": {},
          "output_type": "execute_result"
        }
      ],
      "source": [
        "#필요한 라이브러리를 import\n",
        "import numpy as np\n",
        "import pandas as pd\n",
        "\n",
        "#csv파일 읽어오기\n",
        "df = pd.read_csv('./data/mushrooms.csv')\n",
        "df"
      ]
    },
    {
      "cell_type": "code",
      "execution_count": 39,
      "metadata": {
        "colab": {
          "base_uri": "https://localhost:8080/",
          "height": 266
        },
        "id": "d0Fj3qySsmDU",
        "outputId": "36579724-d885-48c0-bc8f-1e61f568076b"
      },
      "outputs": [
        {
          "data": {
            "text/html": [
              "<div>\n",
              "<style scoped>\n",
              "    .dataframe tbody tr th:only-of-type {\n",
              "        vertical-align: middle;\n",
              "    }\n",
              "\n",
              "    .dataframe tbody tr th {\n",
              "        vertical-align: top;\n",
              "    }\n",
              "\n",
              "    .dataframe thead th {\n",
              "        text-align: right;\n",
              "    }\n",
              "</style>\n",
              "<table border=\"1\" class=\"dataframe\">\n",
              "  <thead>\n",
              "    <tr style=\"text-align: right;\">\n",
              "      <th></th>\n",
              "      <th>class</th>\n",
              "      <th>cap-shape</th>\n",
              "      <th>cap-surface</th>\n",
              "      <th>cap-color</th>\n",
              "      <th>bruises</th>\n",
              "      <th>odor</th>\n",
              "      <th>gill-attachment</th>\n",
              "      <th>gill-spacing</th>\n",
              "      <th>gill-size</th>\n",
              "      <th>gill-color</th>\n",
              "      <th>...</th>\n",
              "      <th>stalk-surface-below-ring</th>\n",
              "      <th>stalk-color-above-ring</th>\n",
              "      <th>stalk-color-below-ring</th>\n",
              "      <th>veil-type</th>\n",
              "      <th>veil-color</th>\n",
              "      <th>ring-number</th>\n",
              "      <th>ring-type</th>\n",
              "      <th>spore-print-color</th>\n",
              "      <th>population</th>\n",
              "      <th>habitat</th>\n",
              "    </tr>\n",
              "  </thead>\n",
              "  <tbody>\n",
              "    <tr>\n",
              "      <th>count</th>\n",
              "      <td>8124</td>\n",
              "      <td>8124</td>\n",
              "      <td>8124</td>\n",
              "      <td>8124</td>\n",
              "      <td>8124</td>\n",
              "      <td>8124</td>\n",
              "      <td>8124</td>\n",
              "      <td>8124</td>\n",
              "      <td>8124</td>\n",
              "      <td>8124</td>\n",
              "      <td>...</td>\n",
              "      <td>8124</td>\n",
              "      <td>8124</td>\n",
              "      <td>8124</td>\n",
              "      <td>8124</td>\n",
              "      <td>8124</td>\n",
              "      <td>8124</td>\n",
              "      <td>8124</td>\n",
              "      <td>8124</td>\n",
              "      <td>8124</td>\n",
              "      <td>8124</td>\n",
              "    </tr>\n",
              "    <tr>\n",
              "      <th>unique</th>\n",
              "      <td>2</td>\n",
              "      <td>6</td>\n",
              "      <td>4</td>\n",
              "      <td>10</td>\n",
              "      <td>2</td>\n",
              "      <td>9</td>\n",
              "      <td>2</td>\n",
              "      <td>2</td>\n",
              "      <td>2</td>\n",
              "      <td>12</td>\n",
              "      <td>...</td>\n",
              "      <td>4</td>\n",
              "      <td>9</td>\n",
              "      <td>9</td>\n",
              "      <td>1</td>\n",
              "      <td>4</td>\n",
              "      <td>3</td>\n",
              "      <td>5</td>\n",
              "      <td>9</td>\n",
              "      <td>6</td>\n",
              "      <td>7</td>\n",
              "    </tr>\n",
              "    <tr>\n",
              "      <th>top</th>\n",
              "      <td>e</td>\n",
              "      <td>x</td>\n",
              "      <td>y</td>\n",
              "      <td>n</td>\n",
              "      <td>f</td>\n",
              "      <td>n</td>\n",
              "      <td>f</td>\n",
              "      <td>c</td>\n",
              "      <td>b</td>\n",
              "      <td>b</td>\n",
              "      <td>...</td>\n",
              "      <td>s</td>\n",
              "      <td>w</td>\n",
              "      <td>w</td>\n",
              "      <td>p</td>\n",
              "      <td>w</td>\n",
              "      <td>o</td>\n",
              "      <td>p</td>\n",
              "      <td>w</td>\n",
              "      <td>v</td>\n",
              "      <td>d</td>\n",
              "    </tr>\n",
              "    <tr>\n",
              "      <th>freq</th>\n",
              "      <td>4208</td>\n",
              "      <td>3656</td>\n",
              "      <td>3244</td>\n",
              "      <td>2284</td>\n",
              "      <td>4748</td>\n",
              "      <td>3528</td>\n",
              "      <td>7914</td>\n",
              "      <td>6812</td>\n",
              "      <td>5612</td>\n",
              "      <td>1728</td>\n",
              "      <td>...</td>\n",
              "      <td>4936</td>\n",
              "      <td>4464</td>\n",
              "      <td>4384</td>\n",
              "      <td>8124</td>\n",
              "      <td>7924</td>\n",
              "      <td>7488</td>\n",
              "      <td>3968</td>\n",
              "      <td>2388</td>\n",
              "      <td>4040</td>\n",
              "      <td>3148</td>\n",
              "    </tr>\n",
              "  </tbody>\n",
              "</table>\n",
              "<p>4 rows × 23 columns</p>\n",
              "</div>"
            ],
            "text/plain": [
              "       class cap-shape cap-surface cap-color bruises  odor gill-attachment  \\\n",
              "count   8124      8124        8124      8124    8124  8124            8124   \n",
              "unique     2         6           4        10       2     9               2   \n",
              "top        e         x           y         n       f     n               f   \n",
              "freq    4208      3656        3244      2284    4748  3528            7914   \n",
              "\n",
              "       gill-spacing gill-size gill-color  ... stalk-surface-below-ring  \\\n",
              "count          8124      8124       8124  ...                     8124   \n",
              "unique            2         2         12  ...                        4   \n",
              "top               c         b          b  ...                        s   \n",
              "freq           6812      5612       1728  ...                     4936   \n",
              "\n",
              "       stalk-color-above-ring stalk-color-below-ring veil-type veil-color  \\\n",
              "count                    8124                   8124      8124       8124   \n",
              "unique                      9                      9         1          4   \n",
              "top                         w                      w         p          w   \n",
              "freq                     4464                   4384      8124       7924   \n",
              "\n",
              "       ring-number ring-type spore-print-color population habitat  \n",
              "count         8124      8124              8124       8124    8124  \n",
              "unique           3         5                 9          6       7  \n",
              "top              o         p                 w          v       d  \n",
              "freq          7488      3968              2388       4040    3148  \n",
              "\n",
              "[4 rows x 23 columns]"
            ]
          },
          "execution_count": 39,
          "metadata": {},
          "output_type": "execute_result"
        }
      ],
      "source": [
        "#데이터의 통계량 확인\n",
        "df.describe()"
      ]
    },
    {
      "cell_type": "code",
      "execution_count": 40,
      "metadata": {
        "colab": {
          "base_uri": "https://localhost:8080/"
        },
        "id": "tvL5Bje9su_l",
        "outputId": "c824811b-432d-48ce-c0b9-cd7fa41bcd36"
      },
      "outputs": [
        {
          "name": "stdout",
          "output_type": "stream",
          "text": [
            "<class 'pandas.core.frame.DataFrame'>\n",
            "RangeIndex: 8124 entries, 0 to 8123\n",
            "Data columns (total 23 columns):\n",
            " #   Column                    Non-Null Count  Dtype \n",
            "---  ------                    --------------  ----- \n",
            " 0   class                     8124 non-null   object\n",
            " 1   cap-shape                 8124 non-null   object\n",
            " 2   cap-surface               8124 non-null   object\n",
            " 3   cap-color                 8124 non-null   object\n",
            " 4   bruises                   8124 non-null   object\n",
            " 5   odor                      8124 non-null   object\n",
            " 6   gill-attachment           8124 non-null   object\n",
            " 7   gill-spacing              8124 non-null   object\n",
            " 8   gill-size                 8124 non-null   object\n",
            " 9   gill-color                8124 non-null   object\n",
            " 10  stalk-shape               8124 non-null   object\n",
            " 11  stalk-root                8124 non-null   object\n",
            " 12  stalk-surface-above-ring  8124 non-null   object\n",
            " 13  stalk-surface-below-ring  8124 non-null   object\n",
            " 14  stalk-color-above-ring    8124 non-null   object\n",
            " 15  stalk-color-below-ring    8124 non-null   object\n",
            " 16  veil-type                 8124 non-null   object\n",
            " 17  veil-color                8124 non-null   object\n",
            " 18  ring-number               8124 non-null   object\n",
            " 19  ring-type                 8124 non-null   object\n",
            " 20  spore-print-color         8124 non-null   object\n",
            " 21  population                8124 non-null   object\n",
            " 22  habitat                   8124 non-null   object\n",
            "dtypes: object(23)\n",
            "memory usage: 1.4+ MB\n"
          ]
        }
      ],
      "source": [
        "#데이터 타입 및 non-null count확인\n",
        "df.info()"
      ]
    },
    {
      "cell_type": "code",
      "execution_count": 41,
      "metadata": {
        "colab": {
          "base_uri": "https://localhost:8080/"
        },
        "id": "4cXohTeut0jZ",
        "outputId": "0c01cede-cea9-4932-9218-973d5912d547"
      },
      "outputs": [
        {
          "data": {
            "text/plain": [
              "class                       0\n",
              "cap-shape                   0\n",
              "cap-surface                 0\n",
              "cap-color                   0\n",
              "bruises                     0\n",
              "odor                        0\n",
              "gill-attachment             0\n",
              "gill-spacing                0\n",
              "gill-size                   0\n",
              "gill-color                  0\n",
              "stalk-shape                 0\n",
              "stalk-root                  0\n",
              "stalk-surface-above-ring    0\n",
              "stalk-surface-below-ring    0\n",
              "stalk-color-above-ring      0\n",
              "stalk-color-below-ring      0\n",
              "veil-type                   0\n",
              "veil-color                  0\n",
              "ring-number                 0\n",
              "ring-type                   0\n",
              "spore-print-color           0\n",
              "population                  0\n",
              "habitat                     0\n",
              "dtype: int64"
            ]
          },
          "execution_count": 41,
          "metadata": {},
          "output_type": "execute_result"
        }
      ],
      "source": [
        "#결측치 확인\n",
        "df.isna().sum()"
      ]
    },
    {
      "cell_type": "markdown",
      "metadata": {
        "id": "ql9ZP_07uOf8"
      },
      "source": [
        "null값이 없는 것을 확인할 수 있다.\n",
        "하지만 모델을 훈련시킬 때는 숫자형 데이터여야 하는데, 모든 데이터가 문자형으로 이루어져 있다. 따라서 데이터를 숫자형으로 변환해주어야 한다.\n",
        "\n",
        "이 작업은 sklearn에서 제공하는 LabelEncoder를 사용하여 수행한다. LabelEncoder은 컬럼의 모든 값을 숫자로 변환해준다.\n",
        "\n",
        "**이 방법을 사용하려면 datatype이 'category'여야 한다.**\n",
        "\n",
        "'object' datatype을 'category' datatype으로 변환해 주자."
      ]
    },
    {
      "cell_type": "code",
      "execution_count": 42,
      "metadata": {
        "colab": {
          "base_uri": "https://localhost:8080/"
        },
        "id": "9Bwlzb_bt_iE",
        "outputId": "de2fafa5-5997-4c5e-979a-b11c17c6fa9b"
      },
      "outputs": [
        {
          "data": {
            "text/plain": [
              "class                       category\n",
              "cap-shape                   category\n",
              "cap-surface                 category\n",
              "cap-color                   category\n",
              "bruises                     category\n",
              "odor                        category\n",
              "gill-attachment             category\n",
              "gill-spacing                category\n",
              "gill-size                   category\n",
              "gill-color                  category\n",
              "stalk-shape                 category\n",
              "stalk-root                  category\n",
              "stalk-surface-above-ring    category\n",
              "stalk-surface-below-ring    category\n",
              "stalk-color-above-ring      category\n",
              "stalk-color-below-ring      category\n",
              "veil-type                   category\n",
              "veil-color                  category\n",
              "ring-number                 category\n",
              "ring-type                   category\n",
              "spore-print-color           category\n",
              "population                  category\n",
              "habitat                     category\n",
              "dtype: object"
            ]
          },
          "execution_count": 42,
          "metadata": {},
          "output_type": "execute_result"
        }
      ],
      "source": [
        "df = df.astype('category')\n",
        "df.dtypes"
      ]
    },
    {
      "cell_type": "code",
      "execution_count": 43,
      "metadata": {
        "colab": {
          "base_uri": "https://localhost:8080/",
          "height": 352
        },
        "id": "sjsuAHhlw_I4",
        "outputId": "29bfb68c-472f-40c2-df98-977326d44e35"
      },
      "outputs": [
        {
          "data": {
            "text/html": [
              "<div>\n",
              "<style scoped>\n",
              "    .dataframe tbody tr th:only-of-type {\n",
              "        vertical-align: middle;\n",
              "    }\n",
              "\n",
              "    .dataframe tbody tr th {\n",
              "        vertical-align: top;\n",
              "    }\n",
              "\n",
              "    .dataframe thead th {\n",
              "        text-align: right;\n",
              "    }\n",
              "</style>\n",
              "<table border=\"1\" class=\"dataframe\">\n",
              "  <thead>\n",
              "    <tr style=\"text-align: right;\">\n",
              "      <th></th>\n",
              "      <th>class</th>\n",
              "      <th>cap-shape</th>\n",
              "      <th>cap-surface</th>\n",
              "      <th>cap-color</th>\n",
              "      <th>bruises</th>\n",
              "      <th>odor</th>\n",
              "      <th>gill-attachment</th>\n",
              "      <th>gill-spacing</th>\n",
              "      <th>gill-size</th>\n",
              "      <th>gill-color</th>\n",
              "      <th>...</th>\n",
              "      <th>stalk-surface-below-ring</th>\n",
              "      <th>stalk-color-above-ring</th>\n",
              "      <th>stalk-color-below-ring</th>\n",
              "      <th>veil-type</th>\n",
              "      <th>veil-color</th>\n",
              "      <th>ring-number</th>\n",
              "      <th>ring-type</th>\n",
              "      <th>spore-print-color</th>\n",
              "      <th>population</th>\n",
              "      <th>habitat</th>\n",
              "    </tr>\n",
              "  </thead>\n",
              "  <tbody>\n",
              "    <tr>\n",
              "      <th>0</th>\n",
              "      <td>1</td>\n",
              "      <td>5</td>\n",
              "      <td>2</td>\n",
              "      <td>4</td>\n",
              "      <td>1</td>\n",
              "      <td>6</td>\n",
              "      <td>1</td>\n",
              "      <td>0</td>\n",
              "      <td>1</td>\n",
              "      <td>4</td>\n",
              "      <td>...</td>\n",
              "      <td>2</td>\n",
              "      <td>7</td>\n",
              "      <td>7</td>\n",
              "      <td>0</td>\n",
              "      <td>2</td>\n",
              "      <td>1</td>\n",
              "      <td>4</td>\n",
              "      <td>2</td>\n",
              "      <td>3</td>\n",
              "      <td>5</td>\n",
              "    </tr>\n",
              "    <tr>\n",
              "      <th>1</th>\n",
              "      <td>0</td>\n",
              "      <td>5</td>\n",
              "      <td>2</td>\n",
              "      <td>9</td>\n",
              "      <td>1</td>\n",
              "      <td>0</td>\n",
              "      <td>1</td>\n",
              "      <td>0</td>\n",
              "      <td>0</td>\n",
              "      <td>4</td>\n",
              "      <td>...</td>\n",
              "      <td>2</td>\n",
              "      <td>7</td>\n",
              "      <td>7</td>\n",
              "      <td>0</td>\n",
              "      <td>2</td>\n",
              "      <td>1</td>\n",
              "      <td>4</td>\n",
              "      <td>3</td>\n",
              "      <td>2</td>\n",
              "      <td>1</td>\n",
              "    </tr>\n",
              "    <tr>\n",
              "      <th>2</th>\n",
              "      <td>0</td>\n",
              "      <td>0</td>\n",
              "      <td>2</td>\n",
              "      <td>8</td>\n",
              "      <td>1</td>\n",
              "      <td>3</td>\n",
              "      <td>1</td>\n",
              "      <td>0</td>\n",
              "      <td>0</td>\n",
              "      <td>5</td>\n",
              "      <td>...</td>\n",
              "      <td>2</td>\n",
              "      <td>7</td>\n",
              "      <td>7</td>\n",
              "      <td>0</td>\n",
              "      <td>2</td>\n",
              "      <td>1</td>\n",
              "      <td>4</td>\n",
              "      <td>3</td>\n",
              "      <td>2</td>\n",
              "      <td>3</td>\n",
              "    </tr>\n",
              "    <tr>\n",
              "      <th>3</th>\n",
              "      <td>1</td>\n",
              "      <td>5</td>\n",
              "      <td>3</td>\n",
              "      <td>8</td>\n",
              "      <td>1</td>\n",
              "      <td>6</td>\n",
              "      <td>1</td>\n",
              "      <td>0</td>\n",
              "      <td>1</td>\n",
              "      <td>5</td>\n",
              "      <td>...</td>\n",
              "      <td>2</td>\n",
              "      <td>7</td>\n",
              "      <td>7</td>\n",
              "      <td>0</td>\n",
              "      <td>2</td>\n",
              "      <td>1</td>\n",
              "      <td>4</td>\n",
              "      <td>2</td>\n",
              "      <td>3</td>\n",
              "      <td>5</td>\n",
              "    </tr>\n",
              "    <tr>\n",
              "      <th>4</th>\n",
              "      <td>0</td>\n",
              "      <td>5</td>\n",
              "      <td>2</td>\n",
              "      <td>3</td>\n",
              "      <td>0</td>\n",
              "      <td>5</td>\n",
              "      <td>1</td>\n",
              "      <td>1</td>\n",
              "      <td>0</td>\n",
              "      <td>4</td>\n",
              "      <td>...</td>\n",
              "      <td>2</td>\n",
              "      <td>7</td>\n",
              "      <td>7</td>\n",
              "      <td>0</td>\n",
              "      <td>2</td>\n",
              "      <td>1</td>\n",
              "      <td>0</td>\n",
              "      <td>3</td>\n",
              "      <td>0</td>\n",
              "      <td>1</td>\n",
              "    </tr>\n",
              "  </tbody>\n",
              "</table>\n",
              "<p>5 rows × 23 columns</p>\n",
              "</div>"
            ],
            "text/plain": [
              "   class  cap-shape  cap-surface  cap-color  bruises  odor  gill-attachment  \\\n",
              "0      1          5            2          4        1     6                1   \n",
              "1      0          5            2          9        1     0                1   \n",
              "2      0          0            2          8        1     3                1   \n",
              "3      1          5            3          8        1     6                1   \n",
              "4      0          5            2          3        0     5                1   \n",
              "\n",
              "   gill-spacing  gill-size  gill-color  ...  stalk-surface-below-ring  \\\n",
              "0             0          1           4  ...                         2   \n",
              "1             0          0           4  ...                         2   \n",
              "2             0          0           5  ...                         2   \n",
              "3             0          1           5  ...                         2   \n",
              "4             1          0           4  ...                         2   \n",
              "\n",
              "   stalk-color-above-ring  stalk-color-below-ring  veil-type  veil-color  \\\n",
              "0                       7                       7          0           2   \n",
              "1                       7                       7          0           2   \n",
              "2                       7                       7          0           2   \n",
              "3                       7                       7          0           2   \n",
              "4                       7                       7          0           2   \n",
              "\n",
              "   ring-number  ring-type  spore-print-color  population  habitat  \n",
              "0            1          4                  2           3        5  \n",
              "1            1          4                  3           2        1  \n",
              "2            1          4                  3           2        3  \n",
              "3            1          4                  2           3        5  \n",
              "4            1          0                  3           0        1  \n",
              "\n",
              "[5 rows x 23 columns]"
            ]
          },
          "execution_count": 43,
          "metadata": {},
          "output_type": "execute_result"
        }
      ],
      "source": [
        "from sklearn.preprocessing import LabelEncoder\n",
        "labelencoder = LabelEncoder()\n",
        "for column in df.columns:\n",
        "    df[column] = labelencoder.fit_transform(df[column])\n",
        "\n",
        "df.head()"
      ]
    },
    {
      "cell_type": "markdown",
      "metadata": {
        "id": "IjHR2VAkyYQK"
      },
      "source": [
        "해당 데이터의 'veil-type'라는 컬럼은 하나의 고유 값만 가지고 있으므로 데이터에 아무 것도 기여하지 못한다. 따라서 제거해야 하는 컬럼이다."
      ]
    },
    {
      "cell_type": "code",
      "execution_count": 44,
      "metadata": {
        "id": "XctSMaZfxEm-"
      },
      "outputs": [],
      "source": [
        "df = df.drop([\"veil-type\"], axis=1)"
      ]
    },
    {
      "cell_type": "markdown",
      "metadata": {
        "id": "6C4ngOSqzAYv"
      },
      "source": [
        "# Train set과 Test set 분할"
      ]
    },
    {
      "cell_type": "markdown",
      "metadata": {
        "id": "F__Zvuhyzr4r"
      },
      "source": [
        "우리가 타깃값으로 설정해야 하는 컬럼은 'class'이다.\n",
        "\n",
        "**numpy array**의 형태로 X값과 y값을 설정해준다."
      ]
    },
    {
      "cell_type": "code",
      "execution_count": 74,
      "metadata": {
        "id": "FIZmaUULzCrR"
      },
      "outputs": [],
      "source": [
        "x = df.drop([\"class\"], axis=1).values\n",
        "y = df[\"class\"].values\n",
        "\n",
        "from sklearn.model_selection import train_test_split\n",
        "\n",
        "#8:2의 비율로 train set과 test set를 분할해준다.\n",
        "X_train, X_test, y_train, y_test = train_test_split(x, y, test_size=0.2, random_state=10, stratify = y)"
      ]
    },
    {
      "cell_type": "code",
      "execution_count": 46,
      "metadata": {},
      "outputs": [
        {
          "name": "stdout",
          "output_type": "stream",
          "text": [
            "Accuracy: 0.9513846153846154\n",
            "총 테스트 개수:1625, 오류 개수:79\n"
          ]
        }
      ],
      "source": [
        "from sklearn.tree import DecisionTreeClassifier\n",
        "#entropy를 불순도 계산 방법으로 적용\n",
        "tree = DecisionTreeClassifier(criterion = 'entropy',\n",
        "                              max_depth = 3,\n",
        "                              random_state = 10)\n",
        "tree.fit(X_train, y_train)\n",
        "y_pred = tree.predict(X_test)\n",
        "\n",
        "#sklearn에서 제공하는 metrics로 accuracy 평가\n",
        "from sklearn import metrics\n",
        "print(\"Accuracy:\", metrics.accuracy_score(y_test, y_pred))\n",
        "print(\"총 테스트 개수:%d, 오류 개수:%d\" %(len(y_test), (y_test!=y_pred).sum()))"
      ]
    },
    {
      "cell_type": "code",
      "execution_count": 47,
      "metadata": {},
      "outputs": [
        {
          "name": "stdout",
          "output_type": "stream",
          "text": [
            "Accuracy: 0.9526153846153846\n",
            "총 테스트 개수:1625, 오류 개수:77\n"
          ]
        }
      ],
      "source": [
        "#gini index를 불순도 계산 방법으로 적용\n",
        "tree = DecisionTreeClassifier(criterion = 'gini',\n",
        "                              max_depth = 3,\n",
        "                              random_state = 10)\n",
        "tree.fit(X_train, y_train)\n",
        "y_pred = tree.predict(X_test)\n",
        "print(\"Accuracy:\", metrics.accuracy_score(y_test, y_pred))\n",
        "print(\"총 테스트 개수:%d, 오류 개수:%d\" %(len(y_test), (y_test!=y_pred).sum()))"
      ]
    },
    {
      "cell_type": "code",
      "execution_count": 48,
      "metadata": {},
      "outputs": [],
      "source": [
        "from sklearn.tree import export_graphviz\n",
        "export_graphviz(tree, class_names=['0','1'], filled=True, out_file='tree_dot.dot')"
      ]
    },
    {
      "cell_type": "code",
      "execution_count": 49,
      "metadata": {},
      "outputs": [
        {
          "data": {
            "image/svg+xml": [
              "<?xml version=\"1.0\" encoding=\"UTF-8\" standalone=\"no\"?>\n",
              "<!DOCTYPE svg PUBLIC \"-//W3C//DTD SVG 1.1//EN\"\n",
              " \"http://www.w3.org/Graphics/SVG/1.1/DTD/svg11.dtd\">\n",
              "<!-- Generated by graphviz version 8.1.0 (20230707.0739)\n",
              " -->\n",
              "<!-- Title: Tree Pages: 1 -->\n",
              "<svg width=\"1062pt\" height=\"462pt\"\n",
              " viewBox=\"0.00 0.00 1061.88 461.50\" xmlns=\"http://www.w3.org/2000/svg\" xmlns:xlink=\"http://www.w3.org/1999/xlink\">\n",
              "<g id=\"graph0\" class=\"graph\" transform=\"scale(1 1) rotate(0) translate(4 457.5)\">\n",
              "<title>Tree</title>\n",
              "<polygon fill=\"white\" stroke=\"none\" points=\"-4,4 -4,-457.5 1057.88,-457.5 1057.88,4 -4,4\"/>\n",
              "<!-- 0 -->\n",
              "<g id=\"node1\" class=\"node\">\n",
              "<title>0</title>\n",
              "<polygon fill=\"#fdf6f1\" stroke=\"black\" points=\"575.12,-453.5 429.38,-453.5 429.38,-363 575.12,-363 575.12,-453.5\"/>\n",
              "<text text-anchor=\"middle\" x=\"502.25\" y=\"-436.2\" font-family=\"Helvetica,sans-Serif\" font-size=\"14.00\">X[8] &lt;= 3.5</text>\n",
              "<text text-anchor=\"middle\" x=\"502.25\" y=\"-419.7\" font-family=\"Helvetica,sans-Serif\" font-size=\"14.00\">gini = 0.499</text>\n",
              "<text text-anchor=\"middle\" x=\"502.25\" y=\"-403.2\" font-family=\"Helvetica,sans-Serif\" font-size=\"14.00\">samples = 6499</text>\n",
              "<text text-anchor=\"middle\" x=\"502.25\" y=\"-386.7\" font-family=\"Helvetica,sans-Serif\" font-size=\"14.00\">value = [3366, 3133]</text>\n",
              "<text text-anchor=\"middle\" x=\"502.25\" y=\"-370.2\" font-family=\"Helvetica,sans-Serif\" font-size=\"14.00\">class = 0</text>\n",
              "</g>\n",
              "<!-- 1 -->\n",
              "<g id=\"node2\" class=\"node\">\n",
              "<title>1</title>\n",
              "<polygon fill=\"#61b1ea\" stroke=\"black\" points=\"444,-327 306.5,-327 306.5,-236.5 444,-236.5 444,-327\"/>\n",
              "<text text-anchor=\"middle\" x=\"375.25\" y=\"-309.7\" font-family=\"Helvetica,sans-Serif\" font-size=\"14.00\">X[19] &lt;= 3.5</text>\n",
              "<text text-anchor=\"middle\" x=\"375.25\" y=\"-293.2\" font-family=\"Helvetica,sans-Serif\" font-size=\"14.00\">gini = 0.28</text>\n",
              "<text text-anchor=\"middle\" x=\"375.25\" y=\"-276.7\" font-family=\"Helvetica,sans-Serif\" font-size=\"14.00\">samples = 2647</text>\n",
              "<text text-anchor=\"middle\" x=\"375.25\" y=\"-260.2\" font-family=\"Helvetica,sans-Serif\" font-size=\"14.00\">value = [445, 2202]</text>\n",
              "<text text-anchor=\"middle\" x=\"375.25\" y=\"-243.7\" font-family=\"Helvetica,sans-Serif\" font-size=\"14.00\">class = 1</text>\n",
              "</g>\n",
              "<!-- 0&#45;&gt;1 -->\n",
              "<g id=\"edge1\" class=\"edge\">\n",
              "<title>0&#45;&gt;1</title>\n",
              "<path fill=\"none\" stroke=\"black\" d=\"M456.76,-362.65C447.64,-353.71 437.98,-344.25 428.62,-335.07\"/>\n",
              "<polygon fill=\"black\" stroke=\"black\" points=\"431.44,-332.95 421.85,-328.45 426.54,-337.95 431.44,-332.95\"/>\n",
              "<text text-anchor=\"middle\" x=\"421.1\" y=\"-347.4\" font-family=\"Helvetica,sans-Serif\" font-size=\"14.00\">True</text>\n",
              "</g>\n",
              "<!-- 8 -->\n",
              "<g id=\"node9\" class=\"node\">\n",
              "<title>8</title>\n",
              "<polygon fill=\"#eda978\" stroke=\"black\" points=\"706,-327 568.5,-327 568.5,-236.5 706,-236.5 706,-327\"/>\n",
              "<text text-anchor=\"middle\" x=\"637.25\" y=\"-309.7\" font-family=\"Helvetica,sans-Serif\" font-size=\"14.00\">X[18] &lt;= 1.5</text>\n",
              "<text text-anchor=\"middle\" x=\"637.25\" y=\"-293.2\" font-family=\"Helvetica,sans-Serif\" font-size=\"14.00\">gini = 0.367</text>\n",
              "<text text-anchor=\"middle\" x=\"637.25\" y=\"-276.7\" font-family=\"Helvetica,sans-Serif\" font-size=\"14.00\">samples = 3852</text>\n",
              "<text text-anchor=\"middle\" x=\"637.25\" y=\"-260.2\" font-family=\"Helvetica,sans-Serif\" font-size=\"14.00\">value = [2921, 931]</text>\n",
              "<text text-anchor=\"middle\" x=\"637.25\" y=\"-243.7\" font-family=\"Helvetica,sans-Serif\" font-size=\"14.00\">class = 0</text>\n",
              "</g>\n",
              "<!-- 0&#45;&gt;8 -->\n",
              "<g id=\"edge8\" class=\"edge\">\n",
              "<title>0&#45;&gt;8</title>\n",
              "<path fill=\"none\" stroke=\"black\" d=\"M550.61,-362.65C560.4,-353.63 570.77,-344.06 580.81,-334.8\"/>\n",
              "<polygon fill=\"black\" stroke=\"black\" points=\"582.8,-337.81 587.78,-328.45 578.05,-332.66 582.8,-337.81\"/>\n",
              "<text text-anchor=\"middle\" x=\"587.77\" y=\"-347.38\" font-family=\"Helvetica,sans-Serif\" font-size=\"14.00\">False</text>\n",
              "</g>\n",
              "<!-- 2 -->\n",
              "<g id=\"node3\" class=\"node\">\n",
              "<title>2</title>\n",
              "<polygon fill=\"#e99356\" stroke=\"black\" points=\"243.75,-200.5 122.75,-200.5 122.75,-110 243.75,-110 243.75,-200.5\"/>\n",
              "<text text-anchor=\"middle\" x=\"183.25\" y=\"-183.2\" font-family=\"Helvetica,sans-Serif\" font-size=\"14.00\">X[18] &lt;= 1.5</text>\n",
              "<text text-anchor=\"middle\" x=\"183.25\" y=\"-166.7\" font-family=\"Helvetica,sans-Serif\" font-size=\"14.00\">gini = 0.221</text>\n",
              "<text text-anchor=\"middle\" x=\"183.25\" y=\"-150.2\" font-family=\"Helvetica,sans-Serif\" font-size=\"14.00\">samples = 475</text>\n",
              "<text text-anchor=\"middle\" x=\"183.25\" y=\"-133.7\" font-family=\"Helvetica,sans-Serif\" font-size=\"14.00\">value = [415, 60]</text>\n",
              "<text text-anchor=\"middle\" x=\"183.25\" y=\"-117.2\" font-family=\"Helvetica,sans-Serif\" font-size=\"14.00\">class = 0</text>\n",
              "</g>\n",
              "<!-- 1&#45;&gt;2 -->\n",
              "<g id=\"edge2\" class=\"edge\">\n",
              "<title>1&#45;&gt;2</title>\n",
              "<path fill=\"none\" stroke=\"black\" d=\"M306.48,-236.15C289.16,-224.92 270.55,-212.86 253.18,-201.59\"/>\n",
              "<polygon fill=\"black\" stroke=\"black\" points=\"255.51,-198.29 245.22,-195.78 251.7,-204.16 255.51,-198.29\"/>\n",
              "</g>\n",
              "<!-- 5 -->\n",
              "<g id=\"node6\" class=\"node\">\n",
              "<title>5</title>\n",
              "<polygon fill=\"#3c9ee5\" stroke=\"black\" points=\"439.88,-200.5 310.62,-200.5 310.62,-110 439.88,-110 439.88,-200.5\"/>\n",
              "<text text-anchor=\"middle\" x=\"375.25\" y=\"-183.2\" font-family=\"Helvetica,sans-Serif\" font-size=\"14.00\">X[10] &lt;= 2.0</text>\n",
              "<text text-anchor=\"middle\" x=\"375.25\" y=\"-166.7\" font-family=\"Helvetica,sans-Serif\" font-size=\"14.00\">gini = 0.027</text>\n",
              "<text text-anchor=\"middle\" x=\"375.25\" y=\"-150.2\" font-family=\"Helvetica,sans-Serif\" font-size=\"14.00\">samples = 2172</text>\n",
              "<text text-anchor=\"middle\" x=\"375.25\" y=\"-133.7\" font-family=\"Helvetica,sans-Serif\" font-size=\"14.00\">value = [30, 2142]</text>\n",
              "<text text-anchor=\"middle\" x=\"375.25\" y=\"-117.2\" font-family=\"Helvetica,sans-Serif\" font-size=\"14.00\">class = 1</text>\n",
              "</g>\n",
              "<!-- 1&#45;&gt;5 -->\n",
              "<g id=\"edge5\" class=\"edge\">\n",
              "<title>1&#45;&gt;5</title>\n",
              "<path fill=\"none\" stroke=\"black\" d=\"M375.25,-236.15C375.25,-228.29 375.25,-220.01 375.25,-211.89\"/>\n",
              "<polygon fill=\"black\" stroke=\"black\" points=\"378.75,-211.95 375.25,-201.95 371.75,-211.95 378.75,-211.95\"/>\n",
              "</g>\n",
              "<!-- 3 -->\n",
              "<g id=\"node4\" class=\"node\">\n",
              "<title>3</title>\n",
              "<polygon fill=\"#399de5\" stroke=\"black\" points=\"104.5,-74 0,-74 0,0 104.5,0 104.5,-74\"/>\n",
              "<text text-anchor=\"middle\" x=\"52.25\" y=\"-56.7\" font-family=\"Helvetica,sans-Serif\" font-size=\"14.00\">gini = 0.0</text>\n",
              "<text text-anchor=\"middle\" x=\"52.25\" y=\"-40.2\" font-family=\"Helvetica,sans-Serif\" font-size=\"14.00\">samples = 38</text>\n",
              "<text text-anchor=\"middle\" x=\"52.25\" y=\"-23.7\" font-family=\"Helvetica,sans-Serif\" font-size=\"14.00\">value = [0, 38]</text>\n",
              "<text text-anchor=\"middle\" x=\"52.25\" y=\"-7.2\" font-family=\"Helvetica,sans-Serif\" font-size=\"14.00\">class = 1</text>\n",
              "</g>\n",
              "<!-- 2&#45;&gt;3 -->\n",
              "<g id=\"edge3\" class=\"edge\">\n",
              "<title>2&#45;&gt;3</title>\n",
              "<path fill=\"none\" stroke=\"black\" d=\"M132.98,-109.64C122.61,-100.44 111.71,-90.77 101.39,-81.61\"/>\n",
              "<polygon fill=\"black\" stroke=\"black\" points=\"104.06,-79.41 94.26,-75.39 99.42,-84.65 104.06,-79.41\"/>\n",
              "</g>\n",
              "<!-- 4 -->\n",
              "<g id=\"node5\" class=\"node\">\n",
              "<title>4</title>\n",
              "<polygon fill=\"#e68843\" stroke=\"black\" points=\"243.75,-74 122.75,-74 122.75,0 243.75,0 243.75,-74\"/>\n",
              "<text text-anchor=\"middle\" x=\"183.25\" y=\"-56.7\" font-family=\"Helvetica,sans-Serif\" font-size=\"14.00\">gini = 0.096</text>\n",
              "<text text-anchor=\"middle\" x=\"183.25\" y=\"-40.2\" font-family=\"Helvetica,sans-Serif\" font-size=\"14.00\">samples = 437</text>\n",
              "<text text-anchor=\"middle\" x=\"183.25\" y=\"-23.7\" font-family=\"Helvetica,sans-Serif\" font-size=\"14.00\">value = [415, 22]</text>\n",
              "<text text-anchor=\"middle\" x=\"183.25\" y=\"-7.2\" font-family=\"Helvetica,sans-Serif\" font-size=\"14.00\">class = 0</text>\n",
              "</g>\n",
              "<!-- 2&#45;&gt;4 -->\n",
              "<g id=\"edge4\" class=\"edge\">\n",
              "<title>2&#45;&gt;4</title>\n",
              "<path fill=\"none\" stroke=\"black\" d=\"M183.25,-109.64C183.25,-101.63 183.25,-93.25 183.25,-85.17\"/>\n",
              "<polygon fill=\"black\" stroke=\"black\" points=\"186.75,-85.39 183.25,-75.39 179.75,-85.39 186.75,-85.39\"/>\n",
              "</g>\n",
              "<!-- 6 -->\n",
              "<g id=\"node7\" class=\"node\">\n",
              "<title>6</title>\n",
              "<polygon fill=\"#3a9de5\" stroke=\"black\" points=\"382.75,-74 261.75,-74 261.75,0 382.75,0 382.75,-74\"/>\n",
              "<text text-anchor=\"middle\" x=\"322.25\" y=\"-56.7\" font-family=\"Helvetica,sans-Serif\" font-size=\"14.00\">gini = 0.006</text>\n",
              "<text text-anchor=\"middle\" x=\"322.25\" y=\"-40.2\" font-family=\"Helvetica,sans-Serif\" font-size=\"14.00\">samples = 2149</text>\n",
              "<text text-anchor=\"middle\" x=\"322.25\" y=\"-23.7\" font-family=\"Helvetica,sans-Serif\" font-size=\"14.00\">value = [7, 2142]</text>\n",
              "<text text-anchor=\"middle\" x=\"322.25\" y=\"-7.2\" font-family=\"Helvetica,sans-Serif\" font-size=\"14.00\">class = 1</text>\n",
              "</g>\n",
              "<!-- 5&#45;&gt;6 -->\n",
              "<g id=\"edge6\" class=\"edge\">\n",
              "<title>5&#45;&gt;6</title>\n",
              "<path fill=\"none\" stroke=\"black\" d=\"M354.91,-109.64C351.13,-101.35 347.18,-92.68 343.38,-84.34\"/>\n",
              "<polygon fill=\"black\" stroke=\"black\" points=\"346.18,-83.04 338.84,-75.39 339.81,-85.94 346.18,-83.04\"/>\n",
              "</g>\n",
              "<!-- 7 -->\n",
              "<g id=\"node8\" class=\"node\">\n",
              "<title>7</title>\n",
              "<polygon fill=\"#e58139\" stroke=\"black\" points=\"505.5,-74 401,-74 401,0 505.5,0 505.5,-74\"/>\n",
              "<text text-anchor=\"middle\" x=\"453.25\" y=\"-56.7\" font-family=\"Helvetica,sans-Serif\" font-size=\"14.00\">gini = 0.0</text>\n",
              "<text text-anchor=\"middle\" x=\"453.25\" y=\"-40.2\" font-family=\"Helvetica,sans-Serif\" font-size=\"14.00\">samples = 23</text>\n",
              "<text text-anchor=\"middle\" x=\"453.25\" y=\"-23.7\" font-family=\"Helvetica,sans-Serif\" font-size=\"14.00\">value = [23, 0]</text>\n",
              "<text text-anchor=\"middle\" x=\"453.25\" y=\"-7.2\" font-family=\"Helvetica,sans-Serif\" font-size=\"14.00\">class = 0</text>\n",
              "</g>\n",
              "<!-- 5&#45;&gt;7 -->\n",
              "<g id=\"edge7\" class=\"edge\">\n",
              "<title>5&#45;&gt;7</title>\n",
              "<path fill=\"none\" stroke=\"black\" d=\"M405.18,-109.64C410.93,-101.08 416.95,-92.11 422.71,-83.52\"/>\n",
              "<polygon fill=\"black\" stroke=\"black\" points=\"426.17,-85.65 428.83,-75.39 420.35,-81.75 426.17,-85.65\"/>\n",
              "</g>\n",
              "<!-- 9 -->\n",
              "<g id=\"node10\" class=\"node\">\n",
              "<title>9</title>\n",
              "<polygon fill=\"#53aae8\" stroke=\"black\" points=\"697.75,-200.5 576.75,-200.5 576.75,-110 697.75,-110 697.75,-200.5\"/>\n",
              "<text text-anchor=\"middle\" x=\"637.25\" y=\"-183.2\" font-family=\"Helvetica,sans-Serif\" font-size=\"14.00\">X[4] &lt;= 3.5</text>\n",
              "<text text-anchor=\"middle\" x=\"637.25\" y=\"-166.7\" font-family=\"Helvetica,sans-Serif\" font-size=\"14.00\">gini = 0.206</text>\n",
              "<text text-anchor=\"middle\" x=\"637.25\" y=\"-150.2\" font-family=\"Helvetica,sans-Serif\" font-size=\"14.00\">samples = 582</text>\n",
              "<text text-anchor=\"middle\" x=\"637.25\" y=\"-133.7\" font-family=\"Helvetica,sans-Serif\" font-size=\"14.00\">value = [68, 514]</text>\n",
              "<text text-anchor=\"middle\" x=\"637.25\" y=\"-117.2\" font-family=\"Helvetica,sans-Serif\" font-size=\"14.00\">class = 1</text>\n",
              "</g>\n",
              "<!-- 8&#45;&gt;9 -->\n",
              "<g id=\"edge9\" class=\"edge\">\n",
              "<title>8&#45;&gt;9</title>\n",
              "<path fill=\"none\" stroke=\"black\" d=\"M637.25,-236.15C637.25,-228.29 637.25,-220.01 637.25,-211.89\"/>\n",
              "<polygon fill=\"black\" stroke=\"black\" points=\"640.75,-211.95 637.25,-201.95 633.75,-211.95 640.75,-211.95\"/>\n",
              "</g>\n",
              "<!-- 12 -->\n",
              "<g id=\"node13\" class=\"node\">\n",
              "<title>12</title>\n",
              "<polygon fill=\"#e99356\" stroke=\"black\" points=\"911,-200.5 773.5,-200.5 773.5,-110 911,-110 911,-200.5\"/>\n",
              "<text text-anchor=\"middle\" x=\"842.25\" y=\"-183.2\" font-family=\"Helvetica,sans-Serif\" font-size=\"14.00\">X[7] &lt;= 0.5</text>\n",
              "<text text-anchor=\"middle\" x=\"842.25\" y=\"-166.7\" font-family=\"Helvetica,sans-Serif\" font-size=\"14.00\">gini = 0.223</text>\n",
              "<text text-anchor=\"middle\" x=\"842.25\" y=\"-150.2\" font-family=\"Helvetica,sans-Serif\" font-size=\"14.00\">samples = 3270</text>\n",
              "<text text-anchor=\"middle\" x=\"842.25\" y=\"-133.7\" font-family=\"Helvetica,sans-Serif\" font-size=\"14.00\">value = [2853, 417]</text>\n",
              "<text text-anchor=\"middle\" x=\"842.25\" y=\"-117.2\" font-family=\"Helvetica,sans-Serif\" font-size=\"14.00\">class = 0</text>\n",
              "</g>\n",
              "<!-- 8&#45;&gt;12 -->\n",
              "<g id=\"edge12\" class=\"edge\">\n",
              "<title>8&#45;&gt;12</title>\n",
              "<path fill=\"none\" stroke=\"black\" d=\"M706.37,-238.77C724.85,-227.55 744.95,-215.34 763.89,-203.84\"/>\n",
              "<polygon fill=\"black\" stroke=\"black\" points=\"765.35,-206.44 772.08,-198.26 761.72,-200.46 765.35,-206.44\"/>\n",
              "</g>\n",
              "<!-- 10 -->\n",
              "<g id=\"node11\" class=\"node\">\n",
              "<title>10</title>\n",
              "<polygon fill=\"#399de5\" stroke=\"black\" points=\"636.62,-74 523.88,-74 523.88,0 636.62,0 636.62,-74\"/>\n",
              "<text text-anchor=\"middle\" x=\"580.25\" y=\"-56.7\" font-family=\"Helvetica,sans-Serif\" font-size=\"14.00\">gini = 0.0</text>\n",
              "<text text-anchor=\"middle\" x=\"580.25\" y=\"-40.2\" font-family=\"Helvetica,sans-Serif\" font-size=\"14.00\">samples = 514</text>\n",
              "<text text-anchor=\"middle\" x=\"580.25\" y=\"-23.7\" font-family=\"Helvetica,sans-Serif\" font-size=\"14.00\">value = [0, 514]</text>\n",
              "<text text-anchor=\"middle\" x=\"580.25\" y=\"-7.2\" font-family=\"Helvetica,sans-Serif\" font-size=\"14.00\">class = 1</text>\n",
              "</g>\n",
              "<!-- 9&#45;&gt;10 -->\n",
              "<g id=\"edge10\" class=\"edge\">\n",
              "<title>9&#45;&gt;10</title>\n",
              "<path fill=\"none\" stroke=\"black\" d=\"M615.38,-109.64C611.27,-101.26 606.97,-92.49 602.84,-84.07\"/>\n",
              "<polygon fill=\"black\" stroke=\"black\" points=\"605.64,-82.83 598.09,-75.39 599.35,-85.91 605.64,-82.83\"/>\n",
              "</g>\n",
              "<!-- 11 -->\n",
              "<g id=\"node12\" class=\"node\">\n",
              "<title>11</title>\n",
              "<polygon fill=\"#e58139\" stroke=\"black\" points=\"759.5,-74 655,-74 655,0 759.5,0 759.5,-74\"/>\n",
              "<text text-anchor=\"middle\" x=\"707.25\" y=\"-56.7\" font-family=\"Helvetica,sans-Serif\" font-size=\"14.00\">gini = 0.0</text>\n",
              "<text text-anchor=\"middle\" x=\"707.25\" y=\"-40.2\" font-family=\"Helvetica,sans-Serif\" font-size=\"14.00\">samples = 68</text>\n",
              "<text text-anchor=\"middle\" x=\"707.25\" y=\"-23.7\" font-family=\"Helvetica,sans-Serif\" font-size=\"14.00\">value = [68, 0]</text>\n",
              "<text text-anchor=\"middle\" x=\"707.25\" y=\"-7.2\" font-family=\"Helvetica,sans-Serif\" font-size=\"14.00\">class = 0</text>\n",
              "</g>\n",
              "<!-- 9&#45;&gt;11 -->\n",
              "<g id=\"edge11\" class=\"edge\">\n",
              "<title>9&#45;&gt;11</title>\n",
              "<path fill=\"none\" stroke=\"black\" d=\"M664.11,-109.64C669.21,-101.17 674.55,-92.3 679.67,-83.8\"/>\n",
              "<polygon fill=\"black\" stroke=\"black\" points=\"683.18,-85.77 685.34,-75.39 677.18,-82.15 683.18,-85.77\"/>\n",
              "</g>\n",
              "<!-- 13 -->\n",
              "<g id=\"node14\" class=\"node\">\n",
              "<title>13</title>\n",
              "<polygon fill=\"#e6843d\" stroke=\"black\" points=\"906.88,-74 777.62,-74 777.62,0 906.88,0 906.88,-74\"/>\n",
              "<text text-anchor=\"middle\" x=\"842.25\" y=\"-56.7\" font-family=\"Helvetica,sans-Serif\" font-size=\"14.00\">gini = 0.043</text>\n",
              "<text text-anchor=\"middle\" x=\"842.25\" y=\"-40.2\" font-family=\"Helvetica,sans-Serif\" font-size=\"14.00\">samples = 2743</text>\n",
              "<text text-anchor=\"middle\" x=\"842.25\" y=\"-23.7\" font-family=\"Helvetica,sans-Serif\" font-size=\"14.00\">value = [2683, 60]</text>\n",
              "<text text-anchor=\"middle\" x=\"842.25\" y=\"-7.2\" font-family=\"Helvetica,sans-Serif\" font-size=\"14.00\">class = 0</text>\n",
              "</g>\n",
              "<!-- 12&#45;&gt;13 -->\n",
              "<g id=\"edge13\" class=\"edge\">\n",
              "<title>12&#45;&gt;13</title>\n",
              "<path fill=\"none\" stroke=\"black\" d=\"M842.25,-109.64C842.25,-101.63 842.25,-93.25 842.25,-85.17\"/>\n",
              "<polygon fill=\"black\" stroke=\"black\" points=\"845.75,-85.39 842.25,-75.39 838.75,-85.39 845.75,-85.39\"/>\n",
              "</g>\n",
              "<!-- 14 -->\n",
              "<g id=\"node15\" class=\"node\">\n",
              "<title>14</title>\n",
              "<polygon fill=\"#97ccf1\" stroke=\"black\" points=\"1053.88,-74 924.62,-74 924.62,0 1053.88,0 1053.88,-74\"/>\n",
              "<text text-anchor=\"middle\" x=\"989.25\" y=\"-56.7\" font-family=\"Helvetica,sans-Serif\" font-size=\"14.00\">gini = 0.437</text>\n",
              "<text text-anchor=\"middle\" x=\"989.25\" y=\"-40.2\" font-family=\"Helvetica,sans-Serif\" font-size=\"14.00\">samples = 527</text>\n",
              "<text text-anchor=\"middle\" x=\"989.25\" y=\"-23.7\" font-family=\"Helvetica,sans-Serif\" font-size=\"14.00\">value = [170, 357]</text>\n",
              "<text text-anchor=\"middle\" x=\"989.25\" y=\"-7.2\" font-family=\"Helvetica,sans-Serif\" font-size=\"14.00\">class = 1</text>\n",
              "</g>\n",
              "<!-- 12&#45;&gt;14 -->\n",
              "<g id=\"edge14\" class=\"edge\">\n",
              "<title>12&#45;&gt;14</title>\n",
              "<path fill=\"none\" stroke=\"black\" d=\"M898.66,-109.64C910.52,-100.26 923.01,-90.39 934.79,-81.07\"/>\n",
              "<polygon fill=\"black\" stroke=\"black\" points=\"936.56,-83.34 942.23,-74.39 932.21,-77.85 936.56,-83.34\"/>\n",
              "</g>\n",
              "</g>\n",
              "</svg>\n"
            ],
            "text/plain": [
              "<graphviz.sources.Source at 0x12ede51b8b0>"
            ]
          },
          "metadata": {},
          "output_type": "display_data"
        }
      ],
      "source": [
        "import os\n",
        "import graphviz\n",
        "from IPython.display import display\n",
        "with open(r'tree_dot.dot', encoding='utf-8') as f:\n",
        "    dot_graph = f.read()\n",
        "display(graphviz.Source(dot_graph))"
      ]
    },
    {
      "cell_type": "code",
      "execution_count": 50,
      "metadata": {},
      "outputs": [
        {
          "data": {
            "text/plain": [
              "GridSearchCV(cv=5,\n",
              "             estimator=DecisionTreeClassifier(max_depth=3, random_state=10),\n",
              "             param_grid={'max_depth': [2, 3, 4, 5, 6, 7],\n",
              "                         'min_samples_split': [2, 3, 4, 5, 6, 7, 8, 9, 10, 11,\n",
              "                                               12, 13, 14, 15, 16, 17, 18,\n",
              "                                               19]})"
            ]
          },
          "execution_count": 50,
          "metadata": {},
          "output_type": "execute_result"
        }
      ],
      "source": [
        "from sklearn.model_selection import GridSearchCV\n",
        "\n",
        "#테스트하고자 하는 파라미터 값들을 사전타입으로 정의\n",
        "#max_depth 와 min_samples_split라는 parameter에 대해 범위 지정\n",
        "hyperparams = {'max_depth': list(range(2, 8)),\n",
        "                  'min_samples_split': list(range(2, 20))}\n",
        "\n",
        "GridCV = GridSearchCV(estimator = tree,\n",
        "                      param_grid = hyperparams,\n",
        "                      cv = 5)\n",
        "\n",
        "GridCV.fit(X_train, y_train)"
      ]
    },
    {
      "cell_type": "code",
      "execution_count": 51,
      "metadata": {},
      "outputs": [
        {
          "data": {
            "text/plain": [
              "{'max_depth': 7, 'min_samples_split': 2}"
            ]
          },
          "execution_count": 51,
          "metadata": {},
          "output_type": "execute_result"
        }
      ],
      "source": [
        "#가장 좋은 성능을 보였을 때의 parameter\n",
        "GridCV.best_params_"
      ]
    },
    {
      "cell_type": "code",
      "execution_count": 52,
      "metadata": {},
      "outputs": [
        {
          "data": {
            "text/plain": [
              "1.0"
            ]
          },
          "execution_count": 52,
          "metadata": {},
          "output_type": "execute_result"
        }
      ],
      "source": [
        "#위 파라미터로 했을 때 성능(평균 정확도)\n",
        "GridCV.best_score_"
      ]
    },
    {
      "cell_type": "code",
      "execution_count": 53,
      "metadata": {},
      "outputs": [],
      "source": [
        "#위 파라미터 값들로 모델을 훈련시켜보자\n",
        "tree_new = DecisionTreeClassifier(max_depth = 5,\n",
        "                                  min_samples_split = 2,\n",
        "                                  random_state = 10)\n",
        "tree_new.fit(X_train, y_train)\n",
        "tree_new_pred = tree_new.predict(X_test)"
      ]
    },
    {
      "cell_type": "code",
      "execution_count": 54,
      "metadata": {},
      "outputs": [
        {
          "name": "stdout",
          "output_type": "stream",
          "text": [
            "Decision Tree accuracy: 0.953\n",
            "Decision Tree f1 score: 0.952\n"
          ]
        }
      ],
      "source": [
        "#원래의 트리 성능\n",
        "\n",
        "print(\"Decision Tree accuracy: {:.3f}\".format(metrics.accuracy_score(y_test, y_pred)))\n",
        "print(\"Decision Tree f1 score: {:.3f}\".format(metrics.f1_score(y_test, y_pred)))"
      ]
    },
    {
      "cell_type": "code",
      "execution_count": 55,
      "metadata": {},
      "outputs": [
        {
          "name": "stdout",
          "output_type": "stream",
          "text": [
            "New Decision Tree accuracy: 0.980\n",
            "New Decision Tree f1 score: 0.979\n"
          ]
        }
      ],
      "source": [
        "#새로운 트리 성능\n",
        "\n",
        "print(\"New Decision Tree accuracy: {:.3f}\".format(metrics.accuracy_score(y_test, tree_new_pred)))\n",
        "print(\"New Decision Tree f1 score: {:.3f}\".format(metrics.f1_score(y_test, tree_new_pred)))"
      ]
    },
    {
      "cell_type": "code",
      "execution_count": 61,
      "metadata": {},
      "outputs": [
        {
          "name": "stdout",
          "output_type": "stream",
          "text": [
            "RandomForest accuracy:0.914\n"
          ]
        }
      ],
      "source": [
        "\n",
        "forest = RandomForestClassifier(criterion = 'entropy',\n",
        "                                n_estimators = 3,\n",
        "                                max_depth = 2,\n",
        "                                random_state = 10)\n",
        "#n_estimaotrs는 데이터 샘플을 몇 개까지 만들 것이냐는 의미이다.\n",
        "#의사결정트리를 5개 만드는 것\n",
        "forest.fit(X_train, y_train)\n",
        "forest_pred = forest.predict(X_test)\n",
        "print('RandomForest accuracy:{:.3f}'.format(metrics.accuracy_score(y_test, forest_pred)))"
      ]
    },
    {
      "cell_type": "code",
      "execution_count": 57,
      "metadata": {},
      "outputs": [
        {
          "name": "stdout",
          "output_type": "stream",
          "text": [
            "RandomForest2 accuracy:1.000\n"
          ]
        }
      ],
      "source": [
        "#트리의 개수를 50개로 늘릴 경우\n",
        "forest2 = RandomForestClassifier(criterion = 'gini',\n",
        "                                 n_estimators = 50,\n",
        "                                random_state = 10)\n",
        "forest2.fit(X_train, y_train)\n",
        "forest2_pred = forest2.predict(X_test)\n",
        "print('RandomForest2 accuracy:{:.3f}'.format(metrics.accuracy_score(y_test, forest2_pred)))"
      ]
    },
    {
      "cell_type": "code",
      "execution_count": 63,
      "metadata": {},
      "outputs": [
        {
          "data": {
            "text/plain": [
              "GridSearchCV(cv=5,\n",
              "             estimator=RandomForestClassifier(criterion='entropy', max_depth=2,\n",
              "                                              n_estimators=3, random_state=10),\n",
              "             param_grid={'max_depth': [2, 3, 4, 5, 6, 7],\n",
              "                         'min_samples_split': [2, 3, 4, 5, 6, 7, 8, 9],\n",
              "                         'n_estimators': [10, 100, 500]})"
            ]
          },
          "execution_count": 63,
          "metadata": {},
          "output_type": "execute_result"
        }
      ],
      "source": [
        "#GridSearch로 최적의 파라미터 찾기\n",
        "#이번에는 n_estimators까지 범위를 지정하는 것으로 hyperparameter를 수정해준다.\n",
        "hyperparams2 = {'n_estimators': [10, 100, 500],\n",
        "                'max_depth': list(range(2, 8)),\n",
        "                'min_samples_split': list(range(2, 10))}\n",
        "\n",
        "grid_forest = GridSearchCV(estimator = forest,\n",
        "                      param_grid = hyperparams2,\n",
        "                      cv = 5)\n",
        "grid_forest.fit(X_train, y_train)"
      ]
    },
    {
      "cell_type": "code",
      "execution_count": 64,
      "metadata": {},
      "outputs": [
        {
          "data": {
            "text/plain": [
              "{'max_depth': 7, 'min_samples_split': 2, 'n_estimators': 100}"
            ]
          },
          "execution_count": 64,
          "metadata": {},
          "output_type": "execute_result"
        }
      ],
      "source": [
        "grid_forest.best_params_"
      ]
    },
    {
      "cell_type": "code",
      "execution_count": 65,
      "metadata": {},
      "outputs": [
        {
          "data": {
            "text/plain": [
              "0.99846142002724"
            ]
          },
          "execution_count": 65,
          "metadata": {},
          "output_type": "execute_result"
        }
      ],
      "source": [
        "grid_forest.best_score_"
      ]
    },
    {
      "cell_type": "code",
      "execution_count": 72,
      "metadata": {},
      "outputs": [
        {
          "data": {
            "image/png": "[encoded data removed]",
            "text/plain": [
              "<Figure size 800x600 with 1 Axes>"
            ]
          },
          "metadata": {},
          "output_type": "display_data"
        }
      ],
      "source": [
        "import matplotlib.pyplot as plt\n",
        "import seaborn as sns\n",
        "%matplotlib inline\n",
        "ftr_importances_values = forest.feature_importances_\n",
        "ftr_importances = pd.Series(ftr_importances_values, index = df.drop([\"class\"], axis=1).columns)\n",
        "ftr_top20 = ftr_importances.sort_values(ascending=False)[:20]\n",
        "\n",
        "plt.figure(figsize=(8,6))\n",
        "plt.title('Top 20 Feature Importances')\n",
        "sns.barplot(x = ftr_top20, y = ftr_top20.index)\n",
        "plt.show()"
      ]
    },
    {
      "cell_type": "code",
      "execution_count": 75,
      "metadata": {},
      "outputs": [
        {
          "name": "stdout",
          "output_type": "stream",
          "text": [
            "Adaboost accuracy:0.845\n",
            "Adaboost f1 score:0.847\n"
          ]
        }
      ],
      "source": [
        "from sklearn.ensemble import AdaBoostClassifier\n",
        "\n",
        "adaboost = AdaBoostClassifier(n_estimators = 5,\n",
        "                              learning_rate = 0.1)\n",
        "\n",
        "adaboost.fit(X_train, y_train)\n",
        "adaboost_pred = adaboost.predict(X_test)\n",
        "print('Adaboost accuracy:{:.3f}'.format(metrics.accuracy_score(y_test, adaboost_pred)))\n",
        "print('Adaboost f1 score:{:.3f}'.format(metrics.f1_score(y_test, adaboost_pred)))"
      ]
    },
    {
      "cell_type": "code",
      "execution_count": 76,
      "metadata": {},
      "outputs": [
        {
          "name": "stdout",
          "output_type": "stream",
          "text": [
            "Adaboost2 accuracy:0.971\n",
            "Adaboost2 f1 score:0.969\n"
          ]
        }
      ],
      "source": [
        "from sklearn.ensemble import AdaBoostClassifier\n",
        "\n",
        "adaboost2 = AdaBoostClassifier(n_estimators = 50,\n",
        "                              learning_rate = 0.1)\n",
        "\n",
        "adaboost2.fit(X_train, y_train)\n",
        "adaboost2_pred = adaboost2.predict(X_test)\n",
        "print('Adaboost2 accuracy:{:.3f}'.format(metrics.accuracy_score(y_test, adaboost2_pred)))\n",
        "print('Adaboost2 f1 score:{:.3f}'.format(metrics.f1_score(y_test, adaboost2_pred)))"
      ]
    },
    {
      "cell_type": "code",
      "execution_count": 77,
      "metadata": {},
      "outputs": [
        {
          "data": {
            "text/plain": [
              "GridSearchCV(cv=5,\n",
              "             estimator=AdaBoostClassifier(learning_rate=0.1, n_estimators=5),\n",
              "             param_grid={'learning_rate': [0.01, 0.1, 1],\n",
              "                         'n_estimators': [5, 10, 100]})"
            ]
          },
          "execution_count": 77,
          "metadata": {},
          "output_type": "execute_result"
        }
      ],
      "source": [
        "hyperparams3 = {'n_estimators': [5, 10, 100],\n",
        "                'learning_rate': [0.01, 0.1, 1]}\n",
        "\n",
        "grid_adaboost = GridSearchCV(adaboost,\n",
        "                             param_grid = hyperparams3,\n",
        "                             cv = 5)\n",
        "grid_adaboost.fit(X_train, y_train)"
      ]
    },
    {
      "cell_type": "code",
      "execution_count": 78,
      "metadata": {},
      "outputs": [
        {
          "data": {
            "text/plain": [
              "{'learning_rate': 1, 'n_estimators': 100}"
            ]
          },
          "execution_count": 78,
          "metadata": {},
          "output_type": "execute_result"
        }
      ],
      "source": [
        "grid_adaboost.best_params_"
      ]
    },
    {
      "cell_type": "code",
      "execution_count": 79,
      "metadata": {},
      "outputs": [
        {
          "data": {
            "text/plain": [
              "1.0"
            ]
          },
          "execution_count": 79,
          "metadata": {},
          "output_type": "execute_result"
        }
      ],
      "source": [
        "grid_adaboost.best_score_"
      ]
    },
    {
      "cell_type": "code",
      "execution_count": 80,
      "metadata": {},
      "outputs": [
        {
          "name": "stdout",
          "output_type": "stream",
          "text": [
            "GBM accuracy:0.518\n",
            "GBM f1 score:0.000\n"
          ]
        }
      ],
      "source": [
        "from sklearn.ensemble import GradientBoostingClassifier\n",
        "\n",
        "gbm = GradientBoostingClassifier(max_depth = 2, min_samples_split = 11, learning_rate = 0.0001)\n",
        "gbm.fit(X_train, y_train)\n",
        "gbm_pred = gbm.predict(X_test)\n",
        "\n",
        "print('GBM accuracy:{:.3f}'.format(metrics.accuracy_score(y_test,gbm_pred)))\n",
        "print('GBM f1 score:{:.3f}'.format(metrics.f1_score(y_test,gbm_pred)))"
      ]
    },
    {
      "cell_type": "code",
      "execution_count": 82,
      "metadata": {},
      "outputs": [
        {
          "data": {
            "text/plain": [
              "GridSearchCV(cv=5,\n",
              "             estimator=GradientBoostingClassifier(learning_rate=0.0001,\n",
              "                                                  max_depth=2,\n",
              "                                                  min_samples_split=11),\n",
              "             param_grid={'max_depth': [2, 3, 4, 5, 6, 7],\n",
              "                         'min_samples_split': [2, 3, 4, 5, 6, 7, 8, 9],\n",
              "                         'n_estimators': [5, 10, 100]})"
            ]
          },
          "execution_count": 82,
          "metadata": {},
          "output_type": "execute_result"
        }
      ],
      "source": [
        "hyperparams4 = {'n_estimators': [5, 10, 100],\n",
        "                'max_depth': list(range(2, 8)),\n",
        "                'min_samples_split': list(range(2, 10))}\n",
        "\n",
        "grid_gbm = GridSearchCV(gbm,\n",
        "                      param_grid = hyperparams4,\n",
        "                      cv = 5)\n",
        "grid_gbm.fit(X_train, y_train)"
      ]
    },
    {
      "cell_type": "code",
      "execution_count": 83,
      "metadata": {},
      "outputs": [
        {
          "data": {
            "text/plain": [
              "{'max_depth': 2, 'min_samples_split': 2, 'n_estimators': 5}"
            ]
          },
          "execution_count": 83,
          "metadata": {},
          "output_type": "execute_result"
        }
      ],
      "source": [
        "grid_gbm.best_params_"
      ]
    },
    {
      "cell_type": "code",
      "execution_count": 84,
      "metadata": {},
      "outputs": [
        {
          "data": {
            "text/plain": [
              "0.5179258601290935"
            ]
          },
          "execution_count": 84,
          "metadata": {},
          "output_type": "execute_result"
        }
      ],
      "source": [
        "grid_gbm.best_score_"
      ]
    },
    {
      "cell_type": "code",
      "execution_count": 86,
      "metadata": {},
      "outputs": [
        {
          "data": {
            "image/png": "[encoded data removed]",
            "text/plain": [
              "<Figure size 500x500 with 2 Axes>"
            ]
          },
          "metadata": {},
          "output_type": "display_data"
        }
      ],
      "source": [
        "from sklearn.metrics import confusion_matrix\n",
        "#Logistic Regression\n",
        "y_true = y_test\n",
        "gbm_cm = confusion_matrix(y_true, gbm_pred)\n",
        "f, ax = plt.subplots(figsize =(5,5))\n",
        "sns.heatmap(gbm_cm, annot = True, linewidths = 0.5, linecolor = \"red\", fmt = \".0f\", ax = ax)\n",
        "plt.xlabel(\"gbm_pred\")\n",
        "plt.ylabel(\"y_true\")\n",
        "plt.show()"
      ]
    },
    {
      "cell_type": "code",
      "execution_count": 87,
      "metadata": {},
      "outputs": [
        {
          "data": {
            "image/png": "[encoded data removed]",
            "text/plain": [
              "<Figure size 500x500 with 2 Axes>"
            ]
          },
          "metadata": {},
          "output_type": "display_data"
        }
      ],
      "source": [
        "#Random Forest\n",
        "y_true = y_test\n",
        "forest_cm = confusion_matrix(y_true, forest_pred)\n",
        "f, ax = plt.subplots(figsize =(5,5))\n",
        "sns.heatmap(forest_cm, annot = True, linewidths = 0.5, linecolor = \"red\", fmt = \".0f\", ax = ax)\n",
        "plt.xlabel(\"forest_pred\")\n",
        "plt.ylabel(\"y_true\")\n",
        "plt.show()"
      ]
    }
  ],
  "metadata": {
    "colab": {
      "collapsed_sections": [
        "Rjv-lBZ4Yaf1",
        "W8UyoLOmrzYv",
        "6C4ngOSqzAYv"
      ],
      "provenance": []
    },
    "kernelspec": {
      "display_name": "Python 3",
      "name": "python3"
    },
    "language_info": {
      "codemirror_mode": {
        "name": "ipython",
        "version": 3
      },
      "file_extension": ".py",
      "mimetype": "text/x-python",
      "name": "python",
      "nbconvert_exporter": "python",
      "pygments_lexer": "ipython3",
      "version": "3.9.13"
    }
  },
  "nbformat": 4,
  "nbformat_minor": 0
}
